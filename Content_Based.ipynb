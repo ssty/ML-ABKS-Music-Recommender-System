{
 "cells": [
  {
   "cell_type": "code",
   "execution_count": 1,
   "id": "9a503b14",
   "metadata": {
    "scrolled": true
   },
   "outputs": [],
   "source": [
    "from sklearn.feature_extraction.text import TfidfVectorizer\n",
    "from sklearn.metrics.pairwise import linear_kernel\n",
    "import pandas as pd\n",
    "import os\n",
    "import numpy as np"
   ]
  },
  {
   "cell_type": "code",
   "execution_count": 2,
   "id": "1df4983f",
   "metadata": {},
   "outputs": [
    {
     "data": {
      "text/plain": "'/Users/bipinkarki/Desktop/ML-ABKS-Music-Recommender-System'"
     },
     "execution_count": 2,
     "metadata": {},
     "output_type": "execute_result"
    }
   ],
   "source": [
    "os.getcwd()"
   ]
  },
  {
   "cell_type": "code",
   "execution_count": 3,
   "id": "a6060b8e",
   "metadata": {},
   "outputs": [],
   "source": [
    "tracks = pd.read_csv(r\"Notebooks/datasets/tracks.csv\")"
   ]
  },
  {
   "cell_type": "code",
   "execution_count": 4,
   "id": "073fdbcb",
   "metadata": {},
   "outputs": [
    {
     "data": {
      "text/plain": "      track-id   track-name       genre  artist-id artist-name    rating  \\\n9970      9971   Track 9971        Rock        806  Artist 806  1.666964   \n9971      9972   Track 9972       Latin        685  Artist 685  2.773753   \n9972      9973   Track 9973        Jazz        123  Artist 123  1.541703   \n9973      9974   Track 9974         Pop        890  Artist 890  2.597888   \n9974      9975   Track 9975     Country        316  Artist 316  0.945645   \n9975      9976   Track 9976   Classical        804  Artist 804  0.954592   \n9976      9977   Track 9977     Hip Hop        523  Artist 523  4.699004   \n9977      9978   Track 9978        Jazz        534  Artist 534  3.383778   \n9978      9979   Track 9979         Pop        871  Artist 871  2.776193   \n9979      9980   Track 9980         Pop        580  Artist 580  4.152910   \n9980      9981   Track 9981       Blues        381  Artist 381  1.388871   \n9981      9982   Track 9982       Blues        650  Artist 650  2.125311   \n9982      9983   Track 9983        Rock        989  Artist 989  4.875531   \n9983      9984   Track 9984     Hip Hop        646  Artist 646  1.159533   \n9984      9985   Track 9985       Blues        596  Artist 596  2.773176   \n9985      9986   Track 9986   Classical         27   Artist 27  3.943073   \n9986      9987   Track 9987       Blues        585  Artist 585  1.903290   \n9987      9988   Track 9988        Rock        414  Artist 414  1.764545   \n9988      9989   Track 9989  Electronic        424  Artist 424  4.967147   \n9989      9990   Track 9990        Rock        689  Artist 689  1.196513   \n9990      9991   Track 9991        Jazz        505  Artist 505  3.915370   \n9991      9992   Track 9992       Latin        175  Artist 175  2.554241   \n9992      9993   Track 9993     Hip Hop        332  Artist 332  0.113970   \n9993      9994   Track 9994         Pop        134  Artist 134  0.350125   \n9994      9995   Track 9995     Hip Hop        370  Artist 370  1.418784   \n9995      9996   Track 9996   Classical        313  Artist 313  1.660654   \n9996      9997   Track 9997       Blues        558  Artist 558  2.807437   \n9997      9998   Track 9998       Latin        673  Artist 673  1.575468   \n9998      9999   Track 9999     Hip Hop        106  Artist 106  0.490193   \n9999     10000  Track 10000   Classical        423  Artist 423  4.105675   \n\n      popularity                                        instruments  \n9970           8                     ['Guitar', 'Violin', 'Vocals']  \n9971           6                   ['Saxophone', 'Cello', 'Guitar']  \n9972           6  ['Guitar', 'Violin', 'Saxophone', 'Vocals', 'B...  \n9973           6  ['Trumpet', 'Guitar', 'Piano', 'Vocals', 'Saxo...  \n9974           3  ['Trumpet', 'Piano', 'Bass', 'Cello', 'Saxopho...  \n9975           6  ['Trumpet', 'Bass', 'Drums', 'Saxophone', 'Cel...  \n9976           2                                          ['Drums']  \n9977           1             ['Piano', 'Cello', 'Vocals', 'Violin']  \n9978           2                 ['Saxophone', 'Guitar', 'Trumpet']  \n9979           1           ['Vocals', 'Piano', 'Trumpet', 'Guitar']  \n9980           6                                          ['Piano']  \n9981           4                                         ['Vocals']  \n9982           1    ['Violin', 'Bass', 'Guitar', 'Vocals', 'Drums']  \n9983           2                                ['Piano', 'Violin']  \n9984          10   ['Piano', 'Cello', 'Violin', 'Vocals', 'Guitar']  \n9985           1                                      ['Saxophone']  \n9986           8                                        ['Trumpet']  \n9987          10  ['Piano', 'Bass', 'Cello', 'Saxophone', 'Guita...  \n9988           6                   ['Guitar', 'Cello', 'Saxophone']  \n9989           8  ['Guitar', 'Piano', 'Saxophone', 'Vocals', 'Vi...  \n9990           4                     ['Guitar', 'Piano', 'Trumpet']  \n9991          10  ['Guitar', 'Piano', 'Bass', 'Violin', 'Cello',...  \n9992           5                      ['Vocals', 'Cello', 'Guitar']  \n9993           2                 ['Trumpet', 'Violin', 'Saxophone']  \n9994           8  ['Piano', 'Bass', 'Guitar', 'Vocals', 'Trumpet...  \n9995           6  ['Trumpet', 'Bass', 'Guitar', 'Drums', 'Cello'...  \n9996           3         ['Vocals', 'Guitar', 'Saxophone', 'Piano']  \n9997           9  ['Drums', 'Guitar', 'Saxophone', 'Violin', 'Pi...  \n9998           2  ['Piano', 'Guitar', 'Drums', 'Violin', 'Trumpe...  \n9999           0               ['Guitar', 'Drums', 'Piano', 'Bass']  ",
      "text/html": "<div>\n<style scoped>\n    .dataframe tbody tr th:only-of-type {\n        vertical-align: middle;\n    }\n\n    .dataframe tbody tr th {\n        vertical-align: top;\n    }\n\n    .dataframe thead th {\n        text-align: right;\n    }\n</style>\n<table border=\"1\" class=\"dataframe\">\n  <thead>\n    <tr style=\"text-align: right;\">\n      <th></th>\n      <th>track-id</th>\n      <th>track-name</th>\n      <th>genre</th>\n      <th>artist-id</th>\n      <th>artist-name</th>\n      <th>rating</th>\n      <th>popularity</th>\n      <th>instruments</th>\n    </tr>\n  </thead>\n  <tbody>\n    <tr>\n      <th>9970</th>\n      <td>9971</td>\n      <td>Track 9971</td>\n      <td>Rock</td>\n      <td>806</td>\n      <td>Artist 806</td>\n      <td>1.666964</td>\n      <td>8</td>\n      <td>['Guitar', 'Violin', 'Vocals']</td>\n    </tr>\n    <tr>\n      <th>9971</th>\n      <td>9972</td>\n      <td>Track 9972</td>\n      <td>Latin</td>\n      <td>685</td>\n      <td>Artist 685</td>\n      <td>2.773753</td>\n      <td>6</td>\n      <td>['Saxophone', 'Cello', 'Guitar']</td>\n    </tr>\n    <tr>\n      <th>9972</th>\n      <td>9973</td>\n      <td>Track 9973</td>\n      <td>Jazz</td>\n      <td>123</td>\n      <td>Artist 123</td>\n      <td>1.541703</td>\n      <td>6</td>\n      <td>['Guitar', 'Violin', 'Saxophone', 'Vocals', 'B...</td>\n    </tr>\n    <tr>\n      <th>9973</th>\n      <td>9974</td>\n      <td>Track 9974</td>\n      <td>Pop</td>\n      <td>890</td>\n      <td>Artist 890</td>\n      <td>2.597888</td>\n      <td>6</td>\n      <td>['Trumpet', 'Guitar', 'Piano', 'Vocals', 'Saxo...</td>\n    </tr>\n    <tr>\n      <th>9974</th>\n      <td>9975</td>\n      <td>Track 9975</td>\n      <td>Country</td>\n      <td>316</td>\n      <td>Artist 316</td>\n      <td>0.945645</td>\n      <td>3</td>\n      <td>['Trumpet', 'Piano', 'Bass', 'Cello', 'Saxopho...</td>\n    </tr>\n    <tr>\n      <th>9975</th>\n      <td>9976</td>\n      <td>Track 9976</td>\n      <td>Classical</td>\n      <td>804</td>\n      <td>Artist 804</td>\n      <td>0.954592</td>\n      <td>6</td>\n      <td>['Trumpet', 'Bass', 'Drums', 'Saxophone', 'Cel...</td>\n    </tr>\n    <tr>\n      <th>9976</th>\n      <td>9977</td>\n      <td>Track 9977</td>\n      <td>Hip Hop</td>\n      <td>523</td>\n      <td>Artist 523</td>\n      <td>4.699004</td>\n      <td>2</td>\n      <td>['Drums']</td>\n    </tr>\n    <tr>\n      <th>9977</th>\n      <td>9978</td>\n      <td>Track 9978</td>\n      <td>Jazz</td>\n      <td>534</td>\n      <td>Artist 534</td>\n      <td>3.383778</td>\n      <td>1</td>\n      <td>['Piano', 'Cello', 'Vocals', 'Violin']</td>\n    </tr>\n    <tr>\n      <th>9978</th>\n      <td>9979</td>\n      <td>Track 9979</td>\n      <td>Pop</td>\n      <td>871</td>\n      <td>Artist 871</td>\n      <td>2.776193</td>\n      <td>2</td>\n      <td>['Saxophone', 'Guitar', 'Trumpet']</td>\n    </tr>\n    <tr>\n      <th>9979</th>\n      <td>9980</td>\n      <td>Track 9980</td>\n      <td>Pop</td>\n      <td>580</td>\n      <td>Artist 580</td>\n      <td>4.152910</td>\n      <td>1</td>\n      <td>['Vocals', 'Piano', 'Trumpet', 'Guitar']</td>\n    </tr>\n    <tr>\n      <th>9980</th>\n      <td>9981</td>\n      <td>Track 9981</td>\n      <td>Blues</td>\n      <td>381</td>\n      <td>Artist 381</td>\n      <td>1.388871</td>\n      <td>6</td>\n      <td>['Piano']</td>\n    </tr>\n    <tr>\n      <th>9981</th>\n      <td>9982</td>\n      <td>Track 9982</td>\n      <td>Blues</td>\n      <td>650</td>\n      <td>Artist 650</td>\n      <td>2.125311</td>\n      <td>4</td>\n      <td>['Vocals']</td>\n    </tr>\n    <tr>\n      <th>9982</th>\n      <td>9983</td>\n      <td>Track 9983</td>\n      <td>Rock</td>\n      <td>989</td>\n      <td>Artist 989</td>\n      <td>4.875531</td>\n      <td>1</td>\n      <td>['Violin', 'Bass', 'Guitar', 'Vocals', 'Drums']</td>\n    </tr>\n    <tr>\n      <th>9983</th>\n      <td>9984</td>\n      <td>Track 9984</td>\n      <td>Hip Hop</td>\n      <td>646</td>\n      <td>Artist 646</td>\n      <td>1.159533</td>\n      <td>2</td>\n      <td>['Piano', 'Violin']</td>\n    </tr>\n    <tr>\n      <th>9984</th>\n      <td>9985</td>\n      <td>Track 9985</td>\n      <td>Blues</td>\n      <td>596</td>\n      <td>Artist 596</td>\n      <td>2.773176</td>\n      <td>10</td>\n      <td>['Piano', 'Cello', 'Violin', 'Vocals', 'Guitar']</td>\n    </tr>\n    <tr>\n      <th>9985</th>\n      <td>9986</td>\n      <td>Track 9986</td>\n      <td>Classical</td>\n      <td>27</td>\n      <td>Artist 27</td>\n      <td>3.943073</td>\n      <td>1</td>\n      <td>['Saxophone']</td>\n    </tr>\n    <tr>\n      <th>9986</th>\n      <td>9987</td>\n      <td>Track 9987</td>\n      <td>Blues</td>\n      <td>585</td>\n      <td>Artist 585</td>\n      <td>1.903290</td>\n      <td>8</td>\n      <td>['Trumpet']</td>\n    </tr>\n    <tr>\n      <th>9987</th>\n      <td>9988</td>\n      <td>Track 9988</td>\n      <td>Rock</td>\n      <td>414</td>\n      <td>Artist 414</td>\n      <td>1.764545</td>\n      <td>10</td>\n      <td>['Piano', 'Bass', 'Cello', 'Saxophone', 'Guita...</td>\n    </tr>\n    <tr>\n      <th>9988</th>\n      <td>9989</td>\n      <td>Track 9989</td>\n      <td>Electronic</td>\n      <td>424</td>\n      <td>Artist 424</td>\n      <td>4.967147</td>\n      <td>6</td>\n      <td>['Guitar', 'Cello', 'Saxophone']</td>\n    </tr>\n    <tr>\n      <th>9989</th>\n      <td>9990</td>\n      <td>Track 9990</td>\n      <td>Rock</td>\n      <td>689</td>\n      <td>Artist 689</td>\n      <td>1.196513</td>\n      <td>8</td>\n      <td>['Guitar', 'Piano', 'Saxophone', 'Vocals', 'Vi...</td>\n    </tr>\n    <tr>\n      <th>9990</th>\n      <td>9991</td>\n      <td>Track 9991</td>\n      <td>Jazz</td>\n      <td>505</td>\n      <td>Artist 505</td>\n      <td>3.915370</td>\n      <td>4</td>\n      <td>['Guitar', 'Piano', 'Trumpet']</td>\n    </tr>\n    <tr>\n      <th>9991</th>\n      <td>9992</td>\n      <td>Track 9992</td>\n      <td>Latin</td>\n      <td>175</td>\n      <td>Artist 175</td>\n      <td>2.554241</td>\n      <td>10</td>\n      <td>['Guitar', 'Piano', 'Bass', 'Violin', 'Cello',...</td>\n    </tr>\n    <tr>\n      <th>9992</th>\n      <td>9993</td>\n      <td>Track 9993</td>\n      <td>Hip Hop</td>\n      <td>332</td>\n      <td>Artist 332</td>\n      <td>0.113970</td>\n      <td>5</td>\n      <td>['Vocals', 'Cello', 'Guitar']</td>\n    </tr>\n    <tr>\n      <th>9993</th>\n      <td>9994</td>\n      <td>Track 9994</td>\n      <td>Pop</td>\n      <td>134</td>\n      <td>Artist 134</td>\n      <td>0.350125</td>\n      <td>2</td>\n      <td>['Trumpet', 'Violin', 'Saxophone']</td>\n    </tr>\n    <tr>\n      <th>9994</th>\n      <td>9995</td>\n      <td>Track 9995</td>\n      <td>Hip Hop</td>\n      <td>370</td>\n      <td>Artist 370</td>\n      <td>1.418784</td>\n      <td>8</td>\n      <td>['Piano', 'Bass', 'Guitar', 'Vocals', 'Trumpet...</td>\n    </tr>\n    <tr>\n      <th>9995</th>\n      <td>9996</td>\n      <td>Track 9996</td>\n      <td>Classical</td>\n      <td>313</td>\n      <td>Artist 313</td>\n      <td>1.660654</td>\n      <td>6</td>\n      <td>['Trumpet', 'Bass', 'Guitar', 'Drums', 'Cello'...</td>\n    </tr>\n    <tr>\n      <th>9996</th>\n      <td>9997</td>\n      <td>Track 9997</td>\n      <td>Blues</td>\n      <td>558</td>\n      <td>Artist 558</td>\n      <td>2.807437</td>\n      <td>3</td>\n      <td>['Vocals', 'Guitar', 'Saxophone', 'Piano']</td>\n    </tr>\n    <tr>\n      <th>9997</th>\n      <td>9998</td>\n      <td>Track 9998</td>\n      <td>Latin</td>\n      <td>673</td>\n      <td>Artist 673</td>\n      <td>1.575468</td>\n      <td>9</td>\n      <td>['Drums', 'Guitar', 'Saxophone', 'Violin', 'Pi...</td>\n    </tr>\n    <tr>\n      <th>9998</th>\n      <td>9999</td>\n      <td>Track 9999</td>\n      <td>Hip Hop</td>\n      <td>106</td>\n      <td>Artist 106</td>\n      <td>0.490193</td>\n      <td>2</td>\n      <td>['Piano', 'Guitar', 'Drums', 'Violin', 'Trumpe...</td>\n    </tr>\n    <tr>\n      <th>9999</th>\n      <td>10000</td>\n      <td>Track 10000</td>\n      <td>Classical</td>\n      <td>423</td>\n      <td>Artist 423</td>\n      <td>4.105675</td>\n      <td>0</td>\n      <td>['Guitar', 'Drums', 'Piano', 'Bass']</td>\n    </tr>\n  </tbody>\n</table>\n</div>"
     },
     "execution_count": 4,
     "metadata": {},
     "output_type": "execute_result"
    }
   ],
   "source": [
    "tracks.tail(30)"
   ]
  },
  {
   "cell_type": "code",
   "execution_count": 5,
   "id": "155d8c1a",
   "metadata": {},
   "outputs": [
    {
     "data": {
      "text/plain": "(10000, 9992)"
     },
     "execution_count": 5,
     "metadata": {},
     "output_type": "execute_result"
    }
   ],
   "source": [
    "tfidf = TfidfVectorizer( stop_words='english')\n",
    "\n",
    "#Replace NaN with an empty string\n",
    "tracks['track-name'] = tracks['track-name'].fillna('')\n",
    "\n",
    "tracks = tracks.head(25000)\n",
    "\n",
    "#Construct the required TF-IDF matrix by fitting and transforming the data\n",
    "tfidf_matrix = tfidf.fit_transform(tracks['track-name'])\n",
    "\n",
    "#Output the shape of tfidf_matrix\n",
    "tfidf_matrix.shape\n"
   ]
  },
  {
   "cell_type": "code",
   "execution_count": 6,
   "id": "bfc948ac",
   "metadata": {},
   "outputs": [],
   "source": [
    "cosine_sim = linear_kernel(tfidf_matrix, tfidf_matrix)"
   ]
  },
  {
   "cell_type": "code",
   "execution_count": 7,
   "id": "70b4012b",
   "metadata": {},
   "outputs": [],
   "source": [
    "\n",
    "indices = pd.Series(tracks.index, index=tracks['track-name']).drop_duplicates()\n"
   ]
  },
  {
   "cell_type": "code",
   "execution_count": 7,
   "outputs": [],
   "source": [],
   "metadata": {
    "collapsed": false
   }
  },
  {
   "cell_type": "code",
   "execution_count": 8,
   "id": "0000645c",
   "metadata": {},
   "outputs": [],
   "source": [
    "def get_recommendations(title, cosine_sim=cosine_sim):\n",
    "    idx = indices[title]\n",
    "\n",
    "    sim_scores = list(enumerate(cosine_sim[idx]))\n",
    "    sim_scores = sorted(sim_scores, key=lambda x: x[1], reverse=True)\n",
    "    sim_scores = sim_scores[1:11]\n",
    "\n",
    "    track_indices = [i[0] for i in sim_scores]\n",
    "    print(tracks[title].iloc[track_indices].tolist())\n",
    "    return tracks['track-id'].iloc[track_indices].tolist()"
   ]
  },
  {
   "cell_type": "code",
   "execution_count": 9,
   "id": "3a3056fb",
   "metadata": {},
   "outputs": [
    {
     "ename": "KeyError",
     "evalue": "'Track 9998'",
     "output_type": "error",
     "traceback": [
      "\u001B[0;31m---------------------------------------------------------------------------\u001B[0m",
      "\u001B[0;31mKeyError\u001B[0m                                  Traceback (most recent call last)",
      "File \u001B[0;32m/opt/homebrew/anaconda3/lib/python3.9/site-packages/pandas/core/indexes/base.py:3621\u001B[0m, in \u001B[0;36mIndex.get_loc\u001B[0;34m(self, key, method, tolerance)\u001B[0m\n\u001B[1;32m   3620\u001B[0m \u001B[38;5;28;01mtry\u001B[39;00m:\n\u001B[0;32m-> 3621\u001B[0m     \u001B[38;5;28;01mreturn\u001B[39;00m \u001B[38;5;28;43mself\u001B[39;49m\u001B[38;5;241;43m.\u001B[39;49m\u001B[43m_engine\u001B[49m\u001B[38;5;241;43m.\u001B[39;49m\u001B[43mget_loc\u001B[49m\u001B[43m(\u001B[49m\u001B[43mcasted_key\u001B[49m\u001B[43m)\u001B[49m\n\u001B[1;32m   3622\u001B[0m \u001B[38;5;28;01mexcept\u001B[39;00m \u001B[38;5;167;01mKeyError\u001B[39;00m \u001B[38;5;28;01mas\u001B[39;00m err:\n",
      "File \u001B[0;32m/opt/homebrew/anaconda3/lib/python3.9/site-packages/pandas/_libs/index.pyx:136\u001B[0m, in \u001B[0;36mpandas._libs.index.IndexEngine.get_loc\u001B[0;34m()\u001B[0m\n",
      "File \u001B[0;32m/opt/homebrew/anaconda3/lib/python3.9/site-packages/pandas/_libs/index.pyx:163\u001B[0m, in \u001B[0;36mpandas._libs.index.IndexEngine.get_loc\u001B[0;34m()\u001B[0m\n",
      "File \u001B[0;32mpandas/_libs/hashtable_class_helper.pxi:5198\u001B[0m, in \u001B[0;36mpandas._libs.hashtable.PyObjectHashTable.get_item\u001B[0;34m()\u001B[0m\n",
      "File \u001B[0;32mpandas/_libs/hashtable_class_helper.pxi:5206\u001B[0m, in \u001B[0;36mpandas._libs.hashtable.PyObjectHashTable.get_item\u001B[0;34m()\u001B[0m\n",
      "\u001B[0;31mKeyError\u001B[0m: 'Track 9998'",
      "\nThe above exception was the direct cause of the following exception:\n",
      "\u001B[0;31mKeyError\u001B[0m                                  Traceback (most recent call last)",
      "Input \u001B[0;32mIn [9]\u001B[0m, in \u001B[0;36m<cell line: 1>\u001B[0;34m()\u001B[0m\n\u001B[0;32m----> 1\u001B[0m \u001B[43mget_recommendations\u001B[49m\u001B[43m(\u001B[49m\u001B[38;5;124;43m\"\u001B[39;49m\u001B[38;5;124;43mTrack 9998\u001B[39;49m\u001B[38;5;124;43m\"\u001B[39;49m\u001B[43m)\u001B[49m\n",
      "Input \u001B[0;32mIn [8]\u001B[0m, in \u001B[0;36mget_recommendations\u001B[0;34m(title, cosine_sim)\u001B[0m\n\u001B[1;32m      6\u001B[0m sim_scores \u001B[38;5;241m=\u001B[39m sim_scores[\u001B[38;5;241m1\u001B[39m:\u001B[38;5;241m11\u001B[39m]\n\u001B[1;32m      8\u001B[0m track_indices \u001B[38;5;241m=\u001B[39m [i[\u001B[38;5;241m0\u001B[39m] \u001B[38;5;28;01mfor\u001B[39;00m i \u001B[38;5;129;01min\u001B[39;00m sim_scores]\n\u001B[0;32m----> 9\u001B[0m \u001B[38;5;28mprint\u001B[39m(\u001B[43mtracks\u001B[49m\u001B[43m[\u001B[49m\u001B[43mtitle\u001B[49m\u001B[43m]\u001B[49m\u001B[38;5;241m.\u001B[39miloc[track_indices]\u001B[38;5;241m.\u001B[39mtolist())\n\u001B[1;32m     10\u001B[0m \u001B[38;5;28;01mreturn\u001B[39;00m tracks[\u001B[38;5;124m'\u001B[39m\u001B[38;5;124mtrack-id\u001B[39m\u001B[38;5;124m'\u001B[39m]\u001B[38;5;241m.\u001B[39miloc[track_indices]\u001B[38;5;241m.\u001B[39mtolist()\n",
      "File \u001B[0;32m/opt/homebrew/anaconda3/lib/python3.9/site-packages/pandas/core/frame.py:3505\u001B[0m, in \u001B[0;36mDataFrame.__getitem__\u001B[0;34m(self, key)\u001B[0m\n\u001B[1;32m   3503\u001B[0m \u001B[38;5;28;01mif\u001B[39;00m \u001B[38;5;28mself\u001B[39m\u001B[38;5;241m.\u001B[39mcolumns\u001B[38;5;241m.\u001B[39mnlevels \u001B[38;5;241m>\u001B[39m \u001B[38;5;241m1\u001B[39m:\n\u001B[1;32m   3504\u001B[0m     \u001B[38;5;28;01mreturn\u001B[39;00m \u001B[38;5;28mself\u001B[39m\u001B[38;5;241m.\u001B[39m_getitem_multilevel(key)\n\u001B[0;32m-> 3505\u001B[0m indexer \u001B[38;5;241m=\u001B[39m \u001B[38;5;28;43mself\u001B[39;49m\u001B[38;5;241;43m.\u001B[39;49m\u001B[43mcolumns\u001B[49m\u001B[38;5;241;43m.\u001B[39;49m\u001B[43mget_loc\u001B[49m\u001B[43m(\u001B[49m\u001B[43mkey\u001B[49m\u001B[43m)\u001B[49m\n\u001B[1;32m   3506\u001B[0m \u001B[38;5;28;01mif\u001B[39;00m is_integer(indexer):\n\u001B[1;32m   3507\u001B[0m     indexer \u001B[38;5;241m=\u001B[39m [indexer]\n",
      "File \u001B[0;32m/opt/homebrew/anaconda3/lib/python3.9/site-packages/pandas/core/indexes/base.py:3623\u001B[0m, in \u001B[0;36mIndex.get_loc\u001B[0;34m(self, key, method, tolerance)\u001B[0m\n\u001B[1;32m   3621\u001B[0m     \u001B[38;5;28;01mreturn\u001B[39;00m \u001B[38;5;28mself\u001B[39m\u001B[38;5;241m.\u001B[39m_engine\u001B[38;5;241m.\u001B[39mget_loc(casted_key)\n\u001B[1;32m   3622\u001B[0m \u001B[38;5;28;01mexcept\u001B[39;00m \u001B[38;5;167;01mKeyError\u001B[39;00m \u001B[38;5;28;01mas\u001B[39;00m err:\n\u001B[0;32m-> 3623\u001B[0m     \u001B[38;5;28;01mraise\u001B[39;00m \u001B[38;5;167;01mKeyError\u001B[39;00m(key) \u001B[38;5;28;01mfrom\u001B[39;00m \u001B[38;5;21;01merr\u001B[39;00m\n\u001B[1;32m   3624\u001B[0m \u001B[38;5;28;01mexcept\u001B[39;00m \u001B[38;5;167;01mTypeError\u001B[39;00m:\n\u001B[1;32m   3625\u001B[0m     \u001B[38;5;66;03m# If we have a listlike key, _check_indexing_error will raise\u001B[39;00m\n\u001B[1;32m   3626\u001B[0m     \u001B[38;5;66;03m#  InvalidIndexError. Otherwise we fall through and re-raise\u001B[39;00m\n\u001B[1;32m   3627\u001B[0m     \u001B[38;5;66;03m#  the TypeError.\u001B[39;00m\n\u001B[1;32m   3628\u001B[0m     \u001B[38;5;28mself\u001B[39m\u001B[38;5;241m.\u001B[39m_check_indexing_error(key)\n",
      "\u001B[0;31mKeyError\u001B[0m: 'Track 9998'"
     ]
    }
   ],
   "source": [
    "get_recommendations(\"Track 9998\")"
   ]
  },
  {
   "cell_type": "code",
   "execution_count": null,
   "id": "57981fd5",
   "metadata": {},
   "outputs": [],
   "source": [
    "# Returns the list top 3 elements or entire list; whichever is more.\n",
    "def get_list(x):\n",
    "    if isinstance(x, list):\n",
    "        names = [i['track-name'] for i in x]\n",
    "        #Check if more than 3 elements exist. If yes, return only first three. If no, return entire list.\n",
    "        if len(names) > 3:\n",
    "            names = names[:3]\n",
    "        return names\n",
    "\n",
    "    #Return empty list in case of missing/malformed data\n",
    "    return []\n"
   ]
  },
  {
   "cell_type": "code",
   "execution_count": null,
   "id": "440106e7",
   "metadata": {},
   "outputs": [],
   "source": [
    "def clean_data(x):\n",
    "    if isinstance(x, list):\n",
    "        return [str.lower(i.replace(\" \", \"\")) for i in x]\n",
    "    else:\n",
    "        #Check if director exists. If not, return empty string\n",
    "        if isinstance(x, str):\n",
    "            return str.lower(x.replace(\" \", \"\"))\n",
    "        else:\n",
    "            return ''"
   ]
  },
  {
   "cell_type": "code",
   "execution_count": null,
   "id": "9aafbb65",
   "metadata": {},
   "outputs": [],
   "source": [
    "features = ['artist-name','popularity', 'genre', 'instruments']\n",
    "#features = ['artists']\n",
    "for feature in features:\n",
    "    tracks[feature] = tracks[feature].apply(clean_data)\n",
    "#     tracks[feature] = tracks[feature].apply(eval)"
   ]
  },
  {
   "cell_type": "code",
   "execution_count": null,
   "id": "554a852f",
   "metadata": {},
   "outputs": [],
   "source": [
    "tracks.head(3)"
   ]
  },
  {
   "cell_type": "code",
   "execution_count": null,
   "id": "68a27260",
   "metadata": {},
   "outputs": [],
   "source": [
    "def cos_sim(a,b):\n",
    "    dot_product = np.dot(a,b)\n",
    "    norm_a = linalg.norm(a)\n",
    "    norm_b = linalg.norm(b)\n",
    "    return dot_product/(norm_a*norm_b)"
   ]
  },
  {
   "cell_type": "code",
   "execution_count": null,
   "id": "232eafcb",
   "metadata": {},
   "outputs": [],
   "source": [
    "https://towardsdatascience.com/how-to-build-an-amazing-music-recommendation-system-4cce2719a572"
   ]
  },
  {
   "cell_type": "code",
   "execution_count": null,
   "id": "9ca70d5e",
   "metadata": {},
   "outputs": [],
   "source": [
    "from collections import defaultdict\n",
    "from scipy.spatial.distance import cdist\n",
    "import difflib\n",
    "from sklearn.pipeline import Pipeline \n",
    "from sklearn.preprocessing import StandardScaler\n",
    "from sklearn.cluster import KMeans"
   ]
  },
  {
   "cell_type": "code",
   "execution_count": null,
   "id": "13d0bc79",
   "metadata": {},
   "outputs": [],
   "source": [
    "song_cluster_pipeline = Pipeline([('scaler', StandardScaler()), \n",
    "                                  ('kmeans', KMeans(n_clusters=20, \n",
    "                                   verbose=2))],verbose=True)\n",
    "X = tracks.select_dtypes(np.number)\n",
    "number_cols = list(X.columns)\n",
    "song_cluster_pipeline.fit(X)\n",
    "song_cluster_labels = song_cluster_pipeline.predict(X)\n",
    "tracks['cluster_label'] = song_cluster_labels"
   ]
  },
  {
   "cell_type": "code",
   "execution_count": null,
   "id": "e4f75471",
   "metadata": {},
   "outputs": [],
   "source": [
    "tracks.to_csv('tracks_with_cluster.csv')"
   ]
  },
  {
   "cell_type": "code",
   "execution_count": null,
   "id": "0c6dbbc3",
   "metadata": {},
   "outputs": [],
   "source": [
    "tracks.head()"
   ]
  },
  {
   "cell_type": "code",
   "execution_count": null,
   "id": "7dd0a596",
   "metadata": {},
   "outputs": [],
   "source": [
    "from sklearn.decomposition import PCA\n",
    "\n",
    "pca_pipeline = Pipeline([('scaler', StandardScaler()), ('PCA', PCA(n_components=2))])\n",
    "song_embedding = pca_pipeline.fit_transform(X)\n",
    "projection = pd.DataFrame(columns=['x', 'y'], data=song_embedding)\n",
    "projection['title'] = tracks['track-name']\n",
    "projection['cluster'] = tracks['cluster_label']"
   ]
  },
  {
   "cell_type": "code",
   "execution_count": null,
   "id": "8f2a7016",
   "metadata": {},
   "outputs": [],
   "source": [
    "import plotly.express as px\n",
    "fig = px.scatter(projection, x='x', y='y', color='cluster', hover_data=['x', 'y', 'title'])\n",
    "fig.show()"
   ]
  },
  {
   "cell_type": "code",
   "execution_count": null,
   "id": "edb5b5f2",
   "metadata": {},
   "outputs": [],
   "source": [
    "number_cols = ['time_signature','duration_ms','popularity','valence', 'acousticness', 'danceability',  'energy', 'instrumentalness', 'explicit','key', 'liveness', 'loudness', 'mode', 'speechiness', 'tempo']"
   ]
  },
  {
   "cell_type": "code",
   "execution_count": null,
   "id": "14755ba8",
   "metadata": {},
   "outputs": [],
   "source": [
    "def get_song_data(song, spotify_data):\n",
    "    \n",
    "    \"\"\"\n",
    "    Gets the song data for a specific song. The song argument takes the form of a dictionary with \n",
    "    key-value pairs for the name and release year of the song.\n",
    "    \"\"\"\n",
    "    \n",
    "    try:\n",
    "        song_data = spotify_data[(spotify_data['track-name'] == song['track-name']) ].iloc[0]\n",
    "        return song_data\n",
    "    \n",
    "    except IndexError:\n",
    "        return find_song(song['track-name'])"
   ]
  },
  {
   "cell_type": "code",
   "execution_count": null,
   "id": "767ffd93",
   "metadata": {},
   "outputs": [],
   "source": [
    "def get_mean_vector(song_list, spotify_data):\n",
    "  \n",
    "    \"\"\"\n",
    "    Gets the mean vector for a list of songs.\n",
    "    \"\"\"\n",
    "    \n",
    "    song_vectors = []\n",
    "    \n",
    "    for song in song_list:\n",
    "        song_data = get_song_data(song, spotify_data)\n",
    "        if song_data is None:\n",
    "            print('Warning: {} does not exist in Spotify or in database'.format(song['track-name']))\n",
    "            continue\n",
    "        song_vector = song_data[number_cols].values\n",
    "        song_vectors.append(song_vector)  \n",
    "    \n",
    "    song_matrix = np.array(list(song_vectors))\n",
    "    return np.mean(song_matrix, axis=0)"
   ]
  },
  {
   "cell_type": "code",
   "execution_count": null,
   "id": "69c85895",
   "metadata": {},
   "outputs": [],
   "source": [
    "def flatten_dict_list(dict_list):\n",
    "   \n",
    "    \"\"\"\n",
    "    Utility function for flattening a list of dictionaries.\n",
    "    \"\"\"\n",
    "    \n",
    "    flattened_dict = defaultdict()\n",
    "    for key in dict_list[0].keys():\n",
    "        flattened_dict[key] = []\n",
    "    \n",
    "    for dictionary in dict_list:\n",
    "        for key, value in dictionary.items():\n",
    "            flattened_dict[key].append(value)\n",
    "            \n",
    "    return flattened_dict"
   ]
  },
  {
   "cell_type": "code",
   "execution_count": null,
   "id": "31c9d37d",
   "metadata": {},
   "outputs": [],
   "source": [
    "def recommend_songs(song_id, n_songs=10):\n",
    "  \n",
    "    \"\"\"\n",
    "    Recommends songs based on a list of previous songs that a user has listened to.\n",
    "    \"\"\"\n",
    "    spotify_data = tracks\n",
    "    song_name = tracks.loc[tracks.get(\"track-id\") == song_id, 'track-name']\n",
    "    print(song_name)\n",
    "    song_list = [{'track-name': song_name}]\n",
    "    print(song_list)\n",
    "    song_dict = flatten_dict_list(song_list)\n",
    "    \n",
    "    song_center = get_mean_vector(song_list, spotify_data)\n",
    "    scaler = song_cluster_pipeline.steps[0][1]\n",
    "    print(scaler)\n",
    "    scaled_data = scaler.transform(spotify_data[number_cols])\n",
    "    scaled_song_center = scaler.transform(song_center.reshape(1, -1))\n",
    "    distances = cdist(scaled_song_center, scaled_data, 'cosine')\n",
    "    index = list(np.argsort(distances)[:, :n_songs][0])\n",
    "    \n",
    "    rec_songs = spotify_data.iloc[index]\n",
    "    rec_songs = rec_songs[~rec_songs['track-name'].isin(song_dict['track-name'])]\n",
    "    return rec_songs['id'].tolist()"
   ]
  },
  {
   "cell_type": "code",
   "execution_count": null,
   "id": "9bf28518",
   "metadata": {},
   "outputs": [],
   "source": [
    "recommend_songs('9975')"
   ]
  },
  {
   "cell_type": "code",
   "execution_count": null,
   "id": "69e505ff",
   "metadata": {},
   "outputs": [],
   "source": [
    "df = pd.read_csv(r\"C:/Users/shris/Desktop/profiles.csv\")\n",
    "print(df.gender)\n",
    "df.columns = ['userid', 'gender', 'age', 'country']"
   ]
  },
  {
   "cell_type": "code",
   "execution_count": null,
   "id": "624e1c25",
   "metadata": {},
   "outputs": [],
   "source": [
    "df.head()"
   ]
  },
  {
   "cell_type": "code",
   "execution_count": null,
   "id": "ae1eac35",
   "metadata": {},
   "outputs": [],
   "source": [
    "songs = df.gender.tolist()\n",
    "output = {}\n",
    "outputs = []\n",
    "for song in songs:\n",
    "    k = recommend_songs(song)\n",
    "    output.update( {song : k})\n"
   ]
  },
  {
   "cell_type": "code",
   "execution_count": null,
   "id": "ef0e0490",
   "metadata": {},
   "outputs": [],
   "source": [
    "output"
   ]
  },
  {
   "cell_type": "code",
   "execution_count": null,
   "id": "2ae05994",
   "metadata": {},
   "outputs": [],
   "source": [
    "df1 = pd.DataFrame.from_dict(output, orient='index')"
   ]
  },
  {
   "cell_type": "code",
   "execution_count": null,
   "id": "7f41756e",
   "metadata": {},
   "outputs": [],
   "source": [
    "df1.to_csv('content_based.csv')"
   ]
  },
  {
   "cell_type": "code",
   "execution_count": null,
   "id": "05cb09ba",
   "metadata": {},
   "outputs": [],
   "source": []
  }
 ],
 "metadata": {
  "kernelspec": {
   "display_name": "Python 3 (ipykernel)",
   "language": "python",
   "name": "python3"
  },
  "language_info": {
   "codemirror_mode": {
    "name": "ipython",
    "version": 3
   },
   "file_extension": ".py",
   "mimetype": "text/x-python",
   "name": "python",
   "nbconvert_exporter": "python",
   "pygments_lexer": "ipython3",
   "version": "3.9.13"
  }
 },
 "nbformat": 4,
 "nbformat_minor": 5
}
