{
 "cells": [
  {
   "cell_type": "code",
   "execution_count": 11,
   "id": "103de7af",
   "metadata": {},
   "outputs": [],
   "source": [
    "\n",
    "import pandas as pd\n",
    "%matplotlib inline\n",
    "from sklearn.preprocessing import StandardScaler\n",
    "from sklearn.pipeline import Pipeline\n",
    "from scipy.spatial.distance import cdist\n",
    "import warnings\n",
    "warnings.simplefilter(action='ignore', category=FutureWarning)\n",
    "import random\n",
    "import warnings\n",
    "warnings.filterwarnings(\"ignore\")\n",
    "%matplotlib inline"
   ]
  },
  {
   "cell_type": "code",
   "execution_count": 12,
   "id": "9a503b14",
   "metadata": {
    "scrolled": true
   },
   "outputs": [
    {
     "data": {
      "text/plain": "   mode  count  acousticness  \\\n0     1      9      0.590111   \n1     1     26      0.862538   \n2     1      7      0.856571   \n3     1     27      0.884926   \n4     1      7      0.510714   \n\n                                             artists  danceability  \\\n0                   \"Cats\" 1981 Original London Cast      0.467222   \n1                          \"Cats\" 1983 Broadway Cast      0.441731   \n2        \"Fiddler On The Roof” Motion Picture Chorus      0.348286   \n3     \"Fiddler On The Roof” Motion Picture Orchestra      0.425074   \n4  \"Joseph And The Amazing Technicolor Dreamcoat\"...      0.467143   \n\n     duration_ms    energy  instrumentalness  liveness   loudness  \\\n0  250318.555556  0.394003          0.011400  0.290833 -14.448000   \n1  287280.000000  0.406808          0.081158  0.315215 -10.690000   \n2  328920.000000  0.286571          0.024593  0.325786 -15.230714   \n3  262890.962963  0.245770          0.073587  0.275481 -15.639370   \n4  270436.142857  0.488286          0.009400  0.195000 -10.236714   \n\n   speechiness       tempo   valence  popularity  key  \n0     0.210389  117.518111  0.389500   38.333333    5  \n1     0.176212  103.044154  0.268865   30.576923    5  \n2     0.118514   77.375857  0.354857   34.857143    0  \n3     0.123200   88.667630  0.372030   34.851852    0  \n4     0.098543  122.835857  0.482286   43.000000    5  ",
      "text/html": "<div>\n<style scoped>\n    .dataframe tbody tr th:only-of-type {\n        vertical-align: middle;\n    }\n\n    .dataframe tbody tr th {\n        vertical-align: top;\n    }\n\n    .dataframe thead th {\n        text-align: right;\n    }\n</style>\n<table border=\"1\" class=\"dataframe\">\n  <thead>\n    <tr style=\"text-align: right;\">\n      <th></th>\n      <th>mode</th>\n      <th>count</th>\n      <th>acousticness</th>\n      <th>artists</th>\n      <th>danceability</th>\n      <th>duration_ms</th>\n      <th>energy</th>\n      <th>instrumentalness</th>\n      <th>liveness</th>\n      <th>loudness</th>\n      <th>speechiness</th>\n      <th>tempo</th>\n      <th>valence</th>\n      <th>popularity</th>\n      <th>key</th>\n    </tr>\n  </thead>\n  <tbody>\n    <tr>\n      <th>0</th>\n      <td>1</td>\n      <td>9</td>\n      <td>0.590111</td>\n      <td>\"Cats\" 1981 Original London Cast</td>\n      <td>0.467222</td>\n      <td>250318.555556</td>\n      <td>0.394003</td>\n      <td>0.011400</td>\n      <td>0.290833</td>\n      <td>-14.448000</td>\n      <td>0.210389</td>\n      <td>117.518111</td>\n      <td>0.389500</td>\n      <td>38.333333</td>\n      <td>5</td>\n    </tr>\n    <tr>\n      <th>1</th>\n      <td>1</td>\n      <td>26</td>\n      <td>0.862538</td>\n      <td>\"Cats\" 1983 Broadway Cast</td>\n      <td>0.441731</td>\n      <td>287280.000000</td>\n      <td>0.406808</td>\n      <td>0.081158</td>\n      <td>0.315215</td>\n      <td>-10.690000</td>\n      <td>0.176212</td>\n      <td>103.044154</td>\n      <td>0.268865</td>\n      <td>30.576923</td>\n      <td>5</td>\n    </tr>\n    <tr>\n      <th>2</th>\n      <td>1</td>\n      <td>7</td>\n      <td>0.856571</td>\n      <td>\"Fiddler On The Roof” Motion Picture Chorus</td>\n      <td>0.348286</td>\n      <td>328920.000000</td>\n      <td>0.286571</td>\n      <td>0.024593</td>\n      <td>0.325786</td>\n      <td>-15.230714</td>\n      <td>0.118514</td>\n      <td>77.375857</td>\n      <td>0.354857</td>\n      <td>34.857143</td>\n      <td>0</td>\n    </tr>\n    <tr>\n      <th>3</th>\n      <td>1</td>\n      <td>27</td>\n      <td>0.884926</td>\n      <td>\"Fiddler On The Roof” Motion Picture Orchestra</td>\n      <td>0.425074</td>\n      <td>262890.962963</td>\n      <td>0.245770</td>\n      <td>0.073587</td>\n      <td>0.275481</td>\n      <td>-15.639370</td>\n      <td>0.123200</td>\n      <td>88.667630</td>\n      <td>0.372030</td>\n      <td>34.851852</td>\n      <td>0</td>\n    </tr>\n    <tr>\n      <th>4</th>\n      <td>1</td>\n      <td>7</td>\n      <td>0.510714</td>\n      <td>\"Joseph And The Amazing Technicolor Dreamcoat\"...</td>\n      <td>0.467143</td>\n      <td>270436.142857</td>\n      <td>0.488286</td>\n      <td>0.009400</td>\n      <td>0.195000</td>\n      <td>-10.236714</td>\n      <td>0.098543</td>\n      <td>122.835857</td>\n      <td>0.482286</td>\n      <td>43.000000</td>\n      <td>5</td>\n    </tr>\n  </tbody>\n</table>\n</div>"
     },
     "execution_count": 12,
     "metadata": {},
     "output_type": "execute_result"
    }
   ],
   "source": [
    "data = pd.read_csv(r\"datasets/data_by_artist.csv\")\n",
    "data.head()"
   ]
  },
  {
   "cell_type": "code",
   "execution_count": 13,
   "id": "2fa51f47",
   "metadata": {},
   "outputs": [],
   "source": [
    "artist_data = data[['valence','artists','count','popularity']]\n",
    "artist_data.to_csv('artist_data.csv')"
   ]
  },
  {
   "cell_type": "code",
   "execution_count": 14,
   "id": "0174d9d0",
   "metadata": {},
   "outputs": [],
   "source": [
    "def PCA_algorithm(data):\n",
    "    num_datatypes = data.select_dtypes(np.number)      \n",
    "\n",
    "    pca_pipeline = Pipeline([('scaler', StandardScaler()), ('PCA', PCA(n_components=2))])\n",
    "    song_embedding = pca_pipeline.fit_transform(num_datatypes)\n",
    "    return song_embedding"
   ]
  },
  {
   "cell_type": "code",
   "execution_count": 15,
   "id": "5587f820",
   "metadata": {},
   "outputs": [],
   "source": [
    "def KMeans_with_PCA_algorithm(song_embedding):\n",
    "    kmeans_pca = KMeans(n_clusters = 20, init = 'k-means++', random_state=42)     \n",
    "    label = kmeans_pca.fit(song_embedding)\n",
    "    centroids = kmeans_pca.cluster_centers_\n",
    "    return label,centroids"
   ]
  },
  {
   "cell_type": "code",
   "execution_count": 16,
   "id": "9240a840",
   "metadata": {},
   "outputs": [],
   "source": [
    "def filter_based_on_segment(df_segm_pca_kmeans,segment_val):    \n",
    "    #get list of songs with above song id\n",
    "    #print(df_segm_pca_kmeans[df_segm_pca_kmeans['Segment K-means PCA']==segment_val].values)\n",
    "    \n",
    "    filtered_data_per_segment = df_segm_pca_kmeans[df_segm_pca_kmeans['Segment K-means PCA']==segment_val][['artists', 'valence','com1','com2','Segment K-means PCA']]\n",
    "\n",
    "    #save to csv file\n",
    "    filtered_data_per_segment.to_csv('filtered_data_per_segment_for_artists.csv')\n",
    "    return filtered_data_per_segment"
   ]
  },
  {
   "cell_type": "code",
   "execution_count": 17,
   "id": "eaea36dc",
   "metadata": {},
   "outputs": [],
   "source": [
    "def filter_based_on_cluster_centroid(kmeans_pca,filtered_data_per_segment,segment_val,tracks):\n",
    "    #calculate distance based on cluster centroid\n",
    "    scaled_data = kmeans_pca.transform( filtered_data_per_segment[['com1','com2']])\n",
    "    scaled_song_center = kmeans_pca.transform(kmeans_pca.cluster_centers_[segment_val].reshape(1, -1))\n",
    "    distances = cdist(scaled_song_center, scaled_data, 'cosine')\n",
    "\n",
    "    #sort based on distance\n",
    "    index = list(np.argsort(distances)[0])\n",
    "    rec_songs = filtered_data_per_segment.iloc[index]\n",
    "    \n",
    "    #recommend based on segment data\n",
    "    # rec_songs = rec_songs[~rec_songs['name'].isin(filtered_data_per_segment['name'])]\n",
    "    return rec_songs"
   ]
  },
  {
   "cell_type": "code",
   "execution_count": 17,
   "id": "f63da5f0",
   "metadata": {},
   "outputs": [],
   "source": []
  },
  {
   "cell_type": "code",
   "execution_count": 18,
   "id": "cd274961",
   "metadata": {},
   "outputs": [
    {
     "data": {
      "text/plain": "<Figure size 432x288 with 1 Axes>",
      "image/png": "[encoded data removed]"
     },
     "metadata": {
      "needs_background": "light"
     },
     "output_type": "display_data"
    }
   ],
   "source": [
    "#Importing required modules\n",
    "import matplotlib.pyplot as plt\n",
    "from sklearn.decomposition import PCA\n",
    "from sklearn.cluster import KMeans\n",
    "import numpy as np\n",
    "\n",
    "\n",
    "df = PCA_algorithm(artist_data)\n",
    "label,centroids = KMeans_with_PCA_algorithm(df)\n",
    "\n",
    "#num_datatypes = data.select_dtypes(np.number)   \n",
    "#pca = Pipeline([('scaler', StandardScaler()), ('PCA', PCA(n_components=2))])\n",
    "#df = pca.fit_transform(num_datatypes)\n",
    "\n",
    "#kmeans = KMeans(n_clusters = 10, init = 'k-means++', random_state=42) \n",
    "\n",
    "#label = kmeans.fit_predict(df)\n",
    "#centroids = kmeans.cluster_centers_\n",
    " \n",
    "#Getting unique labels\n",
    "u_labels = np.unique(label)\n",
    " \n",
    "#plotting the results:\n",
    "for i in u_labels:\n",
    "     plt.scatter(df[label == i , 0] , df[label == i , 1] , label = i)\n",
    "plt.scatter(centroids[:,0] , centroids[:,1] , s = 10)\n",
    "plt.legend()\n",
    "plt.show()"
   ]
  },
  {
   "cell_type": "code",
   "execution_count": 19,
   "id": "fff8d84a",
   "metadata": {},
   "outputs": [
    {
     "name": "stdout",
     "output_type": "stream",
     "text": [
      "                           artists   valence       com1      com2  \\\n",
      "12170        Johann Sebastian Bach  0.549525  12.976715  0.938996   \n",
      "27610      Wolfgang Amadeus Mozart  0.324705  12.814141  0.000345   \n",
      "3004                     Bob Dylan  0.549650  12.605713  0.941866   \n",
      "4307                        Charlo  0.742842  12.924716  1.705046   \n",
      "7426                 Elvis Presley  0.617856  13.338832  1.272733   \n",
      "25487           The Rolling Stones  0.659161  12.373888  1.382649   \n",
      "15380         Ludwig van Beethoven  0.256824  12.472344 -0.305528   \n",
      "24342               The Beach Boys  0.629986  12.221201  1.240854   \n",
      "14179              Lata Mangeshkar  0.647905  12.090485  1.271457   \n",
      "7353               Ella Fitzgerald  0.397493  12.016990  0.270276   \n",
      "18056        New York Philharmonic  0.220258  14.051841 -0.353598   \n",
      "6010                   Dean Martin  0.474576  11.815525  0.570274   \n",
      "12378                  Johnny Cash  0.672277  14.057666  1.529870   \n",
      "8638               Frédéric Chopin  0.204719  14.220865 -0.408960   \n",
      "8211                 Fleetwood Mac  0.608338  11.338152  1.110276   \n",
      "10898                 Irina Salkow  0.317073  11.339550 -0.137533   \n",
      "2707                Billie Holiday  0.498693  14.960682  0.859730   \n",
      "17130                  Miles Davis  0.418548  11.236580  0.305113   \n",
      "9375                   Glenn Gould  0.637116  10.858393  1.172743   \n",
      "20119                        Queen  0.432180  10.697562  0.343160   \n",
      "4944   Columbia Symphony Orchestra  0.218310  10.715544 -0.576064   \n",
      "1682              Arturo Toscanini  0.283423  16.085824  0.022725   \n",
      "10722              Igor Stravinsky  0.243116  10.447646 -0.497322   \n",
      "27109            Vladimir Horowitz  0.224994  16.700412 -0.172413   \n",
      "24346                  The Beatles  0.619537  10.196099  1.102007   \n",
      "10714              Ignacio Corsini  0.638670  17.492605  1.566647   \n",
      "14261                   Lead Belly  0.734498   9.721382  1.473374   \n",
      "8434                 Frank Sinatra  0.364991  19.317160  0.605703   \n",
      "\n",
      "       Segment K-means PCA  \n",
      "12170                    5  \n",
      "27610                    5  \n",
      "3004                     5  \n",
      "4307                     5  \n",
      "7426                     5  \n",
      "25487                    5  \n",
      "15380                    5  \n",
      "24342                    5  \n",
      "14179                    5  \n",
      "7353                     5  \n",
      "18056                    5  \n",
      "6010                     5  \n",
      "12378                    5  \n",
      "8638                     5  \n",
      "8211                     5  \n",
      "10898                    5  \n",
      "2707                     5  \n",
      "17130                    5  \n",
      "9375                     5  \n",
      "20119                    5  \n",
      "4944                     5  \n",
      "1682                     5  \n",
      "10722                    5  \n",
      "27109                    5  \n",
      "24346                    5  \n",
      "10714                    5  \n",
      "14261                    5  \n",
      "8434                     5  \n"
     ]
    }
   ],
   "source": [
    "song_embedding = PCA_algorithm(artist_data)\n",
    "kmeans_pca,centroids = KMeans_with_PCA_algorithm(song_embedding)\n",
    "\n",
    "df_segm_pca_kmeans = pd.concat([artist_data.reset_index(drop=True), pd.DataFrame(song_embedding)],axis=1)\n",
    "df_segm_pca_kmeans.columns.values[-2:] = ['com1','com2']\n",
    "df_segm_pca_kmeans['Segment K-means PCA'] = kmeans_pca.labels_\n",
    "\n",
    "#get segment value of artist\n",
    "artist = 'Frank Sinatra'\n",
    "segment_val = df_segm_pca_kmeans[df_segm_pca_kmeans['artists'] == artist]['Segment K-means PCA'].values[0]\n",
    "\n",
    "filtered_data_per_segment = filter_based_on_segment(df_segm_pca_kmeans,segment_val)   \n",
    "\n",
    "rec_songs = filter_based_on_cluster_centroid(kmeans_pca,filtered_data_per_segment,segment_val,artist_data)\n",
    "\n",
    "print(rec_songs)"
   ]
  },
  {
   "cell_type": "code",
   "execution_count": 20,
   "id": "7c6e4717",
   "metadata": {},
   "outputs": [
    {
     "data": {
      "text/plain": "                            user_id  \\\n0  07f0fc3be95dcd878966b1f9572ff670   \n1  07f0fc3be95dcd878966b1f9572ff670   \n2  07f0fc3be95dcd878966b1f9572ff670   \n3  07f0fc3be95dcd878966b1f9572ff670   \n4  07f0fc3be95dcd878966b1f9572ff670   \n\n                                      \"artistname\"  \\\n0  Marian Pivka & The Budapest Symphonic Orchestra   \n1                                        Daft Punk   \n2                                        Daft Punk   \n3                                        Daft Punk   \n4                                        Daft Punk   \n\n                                   \"trackname\"  \"playlistname\"  \n0                        Ride of the Valkyries       Classique  \n1                                      Da Funk      Daft Punk   \n2                         Robot Rock / Oh Yeah      Daft Punk   \n3  Superheroes / Human After All / Rock'n Roll      Daft Punk   \n4   Television Rules The Nation / Crescendolls      Daft Punk   ",
      "text/html": "<div>\n<style scoped>\n    .dataframe tbody tr th:only-of-type {\n        vertical-align: middle;\n    }\n\n    .dataframe tbody tr th {\n        vertical-align: top;\n    }\n\n    .dataframe thead th {\n        text-align: right;\n    }\n</style>\n<table border=\"1\" class=\"dataframe\">\n  <thead>\n    <tr style=\"text-align: right;\">\n      <th></th>\n      <th>user_id</th>\n      <th>\"artistname\"</th>\n      <th>\"trackname\"</th>\n      <th>\"playlistname\"</th>\n    </tr>\n  </thead>\n  <tbody>\n    <tr>\n      <th>0</th>\n      <td>07f0fc3be95dcd878966b1f9572ff670</td>\n      <td>Marian Pivka &amp; The Budapest Symphonic Orchestra</td>\n      <td>Ride of the Valkyries</td>\n      <td>Classique</td>\n    </tr>\n    <tr>\n      <th>1</th>\n      <td>07f0fc3be95dcd878966b1f9572ff670</td>\n      <td>Daft Punk</td>\n      <td>Da Funk</td>\n      <td>Daft Punk</td>\n    </tr>\n    <tr>\n      <th>2</th>\n      <td>07f0fc3be95dcd878966b1f9572ff670</td>\n      <td>Daft Punk</td>\n      <td>Robot Rock / Oh Yeah</td>\n      <td>Daft Punk</td>\n    </tr>\n    <tr>\n      <th>3</th>\n      <td>07f0fc3be95dcd878966b1f9572ff670</td>\n      <td>Daft Punk</td>\n      <td>Superheroes / Human After All / Rock'n Roll</td>\n      <td>Daft Punk</td>\n    </tr>\n    <tr>\n      <th>4</th>\n      <td>07f0fc3be95dcd878966b1f9572ff670</td>\n      <td>Daft Punk</td>\n      <td>Television Rules The Nation / Crescendolls</td>\n      <td>Daft Punk</td>\n    </tr>\n  </tbody>\n</table>\n</div>"
     },
     "execution_count": 20,
     "metadata": {},
     "output_type": "execute_result"
    }
   ],
   "source": [
    "p = 0.02  # to randomly select 1% of the rows\n",
    "df_playlist = pd.read_csv(r\"datasets/spotify_dataset.csv\", error_bad_lines=False, warn_bad_lines=False, skiprows=lambda i: i>0 and random.random() > p)\n",
    "df_playlist.head()"
   ]
  },
  {
   "cell_type": "code",
   "execution_count": 21,
   "id": "ed7b9ab7",
   "metadata": {},
   "outputs": [
    {
     "data": {
      "text/plain": "Index(['user_id', 'artist', 'track', 'playlist'], dtype='object')"
     },
     "execution_count": 21,
     "metadata": {},
     "output_type": "execute_result"
    }
   ],
   "source": [
    "df_playlist.columns = df_playlist.columns.str.replace('\"', '')\n",
    "df_playlist.columns = df_playlist.columns.str.replace('name', '')\n",
    "df_playlist.columns = df_playlist.columns.str.replace(' ', '')\n",
    "df_playlist.columns"
   ]
  },
  {
   "cell_type": "code",
   "execution_count": 22,
   "id": "a525f8e1",
   "metadata": {},
   "outputs": [
    {
     "name": "stdout",
     "output_type": "stream",
     "text": [
      "                                 user_id               artist  \\\n",
      "1       07f0fc3be95dcd878966b1f9572ff670            Daft Punk   \n",
      "2       07f0fc3be95dcd878966b1f9572ff670            Daft Punk   \n",
      "3       07f0fc3be95dcd878966b1f9572ff670            Daft Punk   \n",
      "4       07f0fc3be95dcd878966b1f9572ff670            Daft Punk   \n",
      "5       07f0fc3be95dcd878966b1f9572ff670      Crystal Castles   \n",
      "...                                  ...                  ...   \n",
      "257406  488ead471813ae982119153f792e4a3e    Foster The People   \n",
      "257412  488ead471813ae982119153f792e4a3e                Lorde   \n",
      "257413  488ead471813ae982119153f792e4a3e             deadmau5   \n",
      "257418  2302bf9c64dc63d88a750215ed187f2c  Stone Temple Pilots   \n",
      "257419  2302bf9c64dc63d88a750215ed187f2c            Metallica   \n",
      "\n",
      "                                              track    playlist  \n",
      "1                                           Da Funk  Daft Punk   \n",
      "2                              Robot Rock / Oh Yeah  Daft Punk   \n",
      "3       Superheroes / Human After All / Rock'n Roll  Daft Punk   \n",
      "4        Television Rules The Nation / Crescendolls  Daft Punk   \n",
      "5                                        Untrust Us     Electro  \n",
      "...                                             ...         ...  \n",
      "257406              Don't Stop (Color on the Walls)     Starred  \n",
      "257412                                         Team     Starred  \n",
      "257413   The Veldt - feat. Chris James - Radio Edit     Starred  \n",
      "257418                                Wicked Garden     Shuffle  \n",
      "257419                                Fade To Black      iPhone  \n",
      "\n",
      "[103619 rows x 4 columns]\n"
     ]
    }
   ],
   "source": [
    "df_playlist = df_playlist.groupby('artist').filter(lambda x : len(x)>=50)\n",
    "print(df_playlist)"
   ]
  },
  {
   "cell_type": "code",
   "execution_count": 23,
   "id": "e0199844",
   "metadata": {},
   "outputs": [
    {
     "name": "stdout",
     "output_type": "stream",
     "text": [
      "                                 user_id           artist  \\\n",
      "1       07f0fc3be95dcd878966b1f9572ff670        Daft Punk   \n",
      "2       07f0fc3be95dcd878966b1f9572ff670        Daft Punk   \n",
      "3       07f0fc3be95dcd878966b1f9572ff670        Daft Punk   \n",
      "4       07f0fc3be95dcd878966b1f9572ff670        Daft Punk   \n",
      "5       07f0fc3be95dcd878966b1f9572ff670  Crystal Castles   \n",
      "...                                  ...              ...   \n",
      "257276  aedf684d88f71c448add86ee4873278e         Coldplay   \n",
      "257279  aedf684d88f71c448add86ee4873278e         Anberlin   \n",
      "257280  aedf684d88f71c448add86ee4873278e    NEEDTOBREATHE   \n",
      "257281  aedf684d88f71c448add86ee4873278e   Alabama Shakes   \n",
      "257282  aedf684d88f71c448add86ee4873278e   Alabama Shakes   \n",
      "\n",
      "                                              track               playlist  \n",
      "1                                           Da Funk             Daft Punk   \n",
      "2                              Robot Rock / Oh Yeah             Daft Punk   \n",
      "3       Superheroes / Human After All / Rock'n Roll             Daft Punk   \n",
      "4        Television Rules The Nation / Crescendolls             Daft Punk   \n",
      "5                                        Untrust Us                Electro  \n",
      "...                                             ...                    ...  \n",
      "257276               God Put A Smile Upon Your Face                 jammin  \n",
      "257279                               The Resistance                 jammin  \n",
      "257280                            We Could Run Away                 jammin  \n",
      "257281                             I Ain't the Same  stuff hayden shows me  \n",
      "257282                                  I Found You  stuff hayden shows me  \n",
      "\n",
      "[61773 rows x 4 columns]\n"
     ]
    }
   ],
   "source": [
    "df_playlist = df_playlist[df_playlist.groupby('user_id').artist.transform('nunique') >= 10]\n",
    "print(df_playlist)"
   ]
  },
  {
   "cell_type": "code",
   "execution_count": 24,
   "id": "168ab2de",
   "metadata": {},
   "outputs": [
    {
     "data": {
      "text/plain": "                                user_id                   artist  freq\n11097  414050deadb38aafd8d4ad22ca634055   Vitamin String Quartet    67\n6808   26b51e580277e131f87e4c7ee4c0887a   Vitamin String Quartet    67\n357    014e695cc6df96011b90a5beb3206012              Ilaiyaraaja    57\n30733  b1d4116e7cf150ae7d77413620f5f571  Wolfgang Amadeus Mozart    52\n43270  fa849dabeb14a2800ad5130907fc5018                Peggy Lee    44",
      "text/html": "<div>\n<style scoped>\n    .dataframe tbody tr th:only-of-type {\n        vertical-align: middle;\n    }\n\n    .dataframe tbody tr th {\n        vertical-align: top;\n    }\n\n    .dataframe thead th {\n        text-align: right;\n    }\n</style>\n<table border=\"1\" class=\"dataframe\">\n  <thead>\n    <tr style=\"text-align: right;\">\n      <th></th>\n      <th>user_id</th>\n      <th>artist</th>\n      <th>freq</th>\n    </tr>\n  </thead>\n  <tbody>\n    <tr>\n      <th>11097</th>\n      <td>414050deadb38aafd8d4ad22ca634055</td>\n      <td>Vitamin String Quartet</td>\n      <td>67</td>\n    </tr>\n    <tr>\n      <th>6808</th>\n      <td>26b51e580277e131f87e4c7ee4c0887a</td>\n      <td>Vitamin String Quartet</td>\n      <td>67</td>\n    </tr>\n    <tr>\n      <th>357</th>\n      <td>014e695cc6df96011b90a5beb3206012</td>\n      <td>Ilaiyaraaja</td>\n      <td>57</td>\n    </tr>\n    <tr>\n      <th>30733</th>\n      <td>b1d4116e7cf150ae7d77413620f5f571</td>\n      <td>Wolfgang Amadeus Mozart</td>\n      <td>52</td>\n    </tr>\n    <tr>\n      <th>43270</th>\n      <td>fa849dabeb14a2800ad5130907fc5018</td>\n      <td>Peggy Lee</td>\n      <td>44</td>\n    </tr>\n  </tbody>\n</table>\n</div>"
     },
     "execution_count": 24,
     "metadata": {},
     "output_type": "execute_result"
    }
   ],
   "source": [
    "size = lambda x: len(x)\n",
    "df_freq = df_playlist.groupby(['user_id', 'artist']).agg('size').reset_index().rename(columns={0:'freq'})[['user_id', 'artist', 'freq']].sort_values(['freq'], ascending=False)\n",
    "df_freq.head()"
   ]
  },
  {
   "cell_type": "code",
   "execution_count": 25,
   "id": "a38ce2c8",
   "metadata": {},
   "outputs": [
    {
     "data": {
      "text/plain": "   artist_id                   artist\n0          0   Vitamin String Quartet\n1          1              Ilaiyaraaja\n2          2  Wolfgang Amadeus Mozart\n3          3                Peggy Lee\n4          4          Ella Fitzgerald",
      "text/html": "<div>\n<style scoped>\n    .dataframe tbody tr th:only-of-type {\n        vertical-align: middle;\n    }\n\n    .dataframe tbody tr th {\n        vertical-align: top;\n    }\n\n    .dataframe thead th {\n        text-align: right;\n    }\n</style>\n<table border=\"1\" class=\"dataframe\">\n  <thead>\n    <tr style=\"text-align: right;\">\n      <th></th>\n      <th>artist_id</th>\n      <th>artist</th>\n    </tr>\n  </thead>\n  <tbody>\n    <tr>\n      <th>0</th>\n      <td>0</td>\n      <td>Vitamin String Quartet</td>\n    </tr>\n    <tr>\n      <th>1</th>\n      <td>1</td>\n      <td>Ilaiyaraaja</td>\n    </tr>\n    <tr>\n      <th>2</th>\n      <td>2</td>\n      <td>Wolfgang Amadeus Mozart</td>\n    </tr>\n    <tr>\n      <th>3</th>\n      <td>3</td>\n      <td>Peggy Lee</td>\n    </tr>\n    <tr>\n      <th>4</th>\n      <td>4</td>\n      <td>Ella Fitzgerald</td>\n    </tr>\n  </tbody>\n</table>\n</div>"
     },
     "execution_count": 25,
     "metadata": {},
     "output_type": "execute_result"
    }
   ],
   "source": [
    "df_artist = pd.DataFrame(df_freq[\"artist\"].unique())\n",
    "df_artist = df_artist.reset_index()\n",
    "df_artist = df_artist.rename(columns={'index':'artist_id', 0:'artist'})\n",
    "df_artist.head()"
   ]
  },
  {
   "cell_type": "code",
   "execution_count": 26,
   "id": "8a8f40ef",
   "metadata": {},
   "outputs": [],
   "source": [
    "def GetInPut(user):\n",
    "    inputArtist = pd.DataFrame(user)\n",
    "    #Filtering out the movies by title\n",
    "    Id = df_artist[df_artist['artist'].isin(inputArtist['artist'].tolist())]\n",
    "    #Then merging it so we can get the movieId. It's implicitly merging it by title.\n",
    "    inputArtist = pd.merge(Id, inputArtist)\n",
    "    #Dropping information we won't use from the input dataframe\n",
    "    #inputArtist = inputArtist.drop('year', 1)\n",
    "    return inputArtist"
   ]
  },
  {
   "cell_type": "code",
   "execution_count": 27,
   "id": "85bd723d",
   "metadata": {},
   "outputs": [],
   "source": [
    "user = [\n",
    "            {'artist':'Ella Fitzgerald', 'freq':40},\n",
    "            {'artist':'Frank Sinatra', 'freq':10},\n",
    "            {'artist':'Lil Wayne', 'freq':3},\n",
    "            {'artist':\"The Rolling Stones\", 'freq':5},\n",
    "            {'artist':'Louis Armstrong', 'freq':5}\n",
    "         ] "
   ]
  },
  {
   "cell_type": "code",
   "execution_count": 28,
   "id": "9ec357fe",
   "metadata": {},
   "outputs": [
    {
     "name": "stdout",
     "output_type": "stream",
     "text": [
      "   artist_id              artist  freq\n",
      "0          4     Ella Fitzgerald    40\n",
      "1          5       Frank Sinatra    10\n",
      "2          8  The Rolling Stones     5\n",
      "3         11     Louis Armstrong     5\n",
      "4         17           Lil Wayne     3\n"
     ]
    }
   ],
   "source": [
    "inputArtist = GetInPut(user).sort_values('freq',ascending=False)\n",
    "print(inputArtist)"
   ]
  },
  {
   "cell_type": "code",
   "execution_count": 29,
   "id": "94ed1700",
   "metadata": {},
   "outputs": [
    {
     "name": "stdout",
     "output_type": "stream",
     "text": [
      "Ella Fitzgerald\n"
     ]
    }
   ],
   "source": [
    "print(inputArtist['artist'][0])"
   ]
  }
 ],
 "metadata": {
  "kernelspec": {
   "display_name": "Python 3 (ipykernel)",
   "language": "python",
   "name": "python3"
  },
  "language_info": {
   "codemirror_mode": {
    "name": "ipython",
    "version": 3
   },
   "file_extension": ".py",
   "mimetype": "text/x-python",
   "name": "python",
   "nbconvert_exporter": "python",
   "pygments_lexer": "ipython3",
   "version": "3.9.13"
  }
 },
 "nbformat": 4,
 "nbformat_minor": 5
}
