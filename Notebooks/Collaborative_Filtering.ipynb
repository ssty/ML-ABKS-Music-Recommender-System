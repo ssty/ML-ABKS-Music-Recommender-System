{
 "cells": [
  {
   "cell_type": "code",
   "execution_count": 31,
   "metadata": {},
   "outputs": [],
   "source": [
    "import pandas as pd\n",
    "\n",
    "artist_data = pd.read_csv('datasets/ydata-ymusic-user-artist-rating.csv')\n",
    "artist_name_data = pd.read_csv('datasets/ydata-ymusic-artist-names.csv')\n"
   ]
  },
  {
   "cell_type": "code",
   "execution_count": 32,
   "metadata": {},
   "outputs": [],
   "source": [
    "#Data preprocessing\n",
    "def data_preprocessing(artist_data):\n",
    "    \n",
    "    #to show popular artist\n",
    "    avg_rating = pd.DataFrame(artist_data.groupby('artist_id')['rating'].mean().reset_index())\n",
    "    avg_rating.sort_values('rating', ascending = False).head(20)\n",
    "    \n",
    "    #creating pivot table\n",
    "    user_rating = pd.pivot_table(data=artist_data, values='rating', index='user_id', columns='artist_id')\n",
    "    \n",
    "    return user_rating"
   ]
  },
  {
   "cell_type": "code",
   "execution_count": 33,
   "metadata": {},
   "outputs": [],
   "source": [
    "def data_cleaning(recommended_artist):\n",
    "    \n",
    "     #data cleaning and sorting\n",
    "    recommended_artist_corr = pd.DataFrame(recommended_artist, columns=['Correlation'])\n",
    "    recommended_artist_corr.dropna(inplace=True)\n",
    "    recommended_artist_corr = recommended_artist_corr.sort_values('Correlation', ascending=False).reset_index()\n",
    "    \n",
    "    return recommended_artist_corr"
   ]
  },
  {
   "cell_type": "code",
   "execution_count": 34,
   "metadata": {},
   "outputs": [],
   "source": [
    "def get_top_n_artist(recommended_artist_corr, n):\n",
    "    \n",
    "    #get top n artist list and artist names\n",
    "    artist_list = recommended_artist_corr.head(n)['artist_id'].tolist()\n",
    "    artist_names = artist_name_data[artist_name_data['artist_id'].isin(artist_list)]\n",
    "    \n",
    "    return artist_names"
   ]
  },
  {
   "cell_type": "code",
   "execution_count": 35,
   "outputs": [],
   "source": [
    "def collaborative_filtering(artist_id, n = 5):\n",
    "    \n",
    "    #calling data preprocessing\n",
    "    user_rating = data_preprocessing(artist_data)\n",
    "    \n",
    "    #artist_id \n",
    "    #see artists rated by user\n",
    "    artist_user_rating = user_rating[artist_id]\n",
    "    \n",
    "    #applying correlation for the entire user rating dataframe\n",
    "    #Collaborative Filtering Song Recommendation\n",
    "    #Pearson Correlation\n",
    "    recommended_artist = user_rating.corrwith(artist_user_rating)\n",
    "    \n",
    "    #data cleaning and sorting\n",
    "    recommended_artist_corr = data_cleaning(recommended_artist)\n",
    "    \n",
    "    #get top n artist list and artist names\n",
    "    artist_names = get_top_n_artist(recommended_artist_corr, n)\n",
    "    \n",
    "    return artist_names"
   ],
   "metadata": {
    "collapsed": false
   }
  },
  {
   "cell_type": "code",
   "execution_count": 36,
   "metadata": {},
   "outputs": [
    {
     "name": "stderr",
     "output_type": "stream",
     "text": [
      "/opt/homebrew/anaconda3/lib/python3.9/site-packages/numpy/lib/function_base.py:2683: RuntimeWarning: Degrees of freedom <= 0 for slice\n",
      "  c = cov(x, y, rowvar, dtype=dtype)\n",
      "/opt/homebrew/anaconda3/lib/python3.9/site-packages/numpy/lib/function_base.py:2542: RuntimeWarning: divide by zero encountered in true_divide\n",
      "  c *= np.true_divide(1, fact)\n"
     ]
    },
    {
     "data": {
      "text/plain": "       artist_id                    artist\n15486    1015911             Lords Of Acid\n17287    1017742                   Melvins\n34356    1035342                 Borknagar\n39172    1040238  Mindless Self Indulgence\n39633    1040701             Speak No Evil",
      "text/html": "<div>\n<style scoped>\n    .dataframe tbody tr th:only-of-type {\n        vertical-align: middle;\n    }\n\n    .dataframe tbody tr th {\n        vertical-align: top;\n    }\n\n    .dataframe thead th {\n        text-align: right;\n    }\n</style>\n<table border=\"1\" class=\"dataframe\">\n  <thead>\n    <tr style=\"text-align: right;\">\n      <th></th>\n      <th>artist_id</th>\n      <th>artist</th>\n    </tr>\n  </thead>\n  <tbody>\n    <tr>\n      <th>15486</th>\n      <td>1015911</td>\n      <td>Lords Of Acid</td>\n    </tr>\n    <tr>\n      <th>17287</th>\n      <td>1017742</td>\n      <td>Melvins</td>\n    </tr>\n    <tr>\n      <th>34356</th>\n      <td>1035342</td>\n      <td>Borknagar</td>\n    </tr>\n    <tr>\n      <th>39172</th>\n      <td>1040238</td>\n      <td>Mindless Self Indulgence</td>\n    </tr>\n    <tr>\n      <th>39633</th>\n      <td>1040701</td>\n      <td>Speak No Evil</td>\n    </tr>\n  </tbody>\n</table>\n</div>"
     },
     "execution_count": 36,
     "metadata": {},
     "output_type": "execute_result"
    }
   ],
   "source": [
    "recommended_artist_name = collaborative_filtering(1058037, 5)\n",
    "recommended_artist_name"
   ]
  },
  {
   "cell_type": "code",
   "execution_count": 36,
   "metadata": {},
   "outputs": [],
   "source": []
  }
 ],
 "metadata": {
  "kernelspec": {
   "display_name": "Python 3",
   "language": "python",
   "name": "python3"
  },
  "language_info": {
   "codemirror_mode": {
    "name": "ipython",
    "version": 3
   },
   "file_extension": ".py",
   "mimetype": "text/x-python",
   "name": "python",
   "nbconvert_exporter": "python",
   "pygments_lexer": "ipython3",
   "version": "3.7.4"
  }
 },
 "nbformat": 4,
 "nbformat_minor": 2
}
