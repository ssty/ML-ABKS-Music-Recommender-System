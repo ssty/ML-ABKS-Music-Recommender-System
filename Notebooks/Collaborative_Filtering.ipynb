{
 "cells": [
  {
   "cell_type": "markdown",
   "metadata": {},
   "source": [
    "# Importing Libraries"
   ]
  },
  {
   "cell_type": "code",
   "execution_count": 1,
   "metadata": {},
   "outputs": [],
   "source": [
    "import pandas as pd\n",
    "import numpy as np"
   ]
  },
  {
   "cell_type": "markdown",
   "metadata": {},
   "source": [
    "# Reading data: artist_data, songs_data and artist_data with name"
   ]
  },
  {
   "cell_type": "code",
   "execution_count": 2,
   "metadata": {},
   "outputs": [],
   "source": [
    "artist_data = pd.read_csv('datasets/ydata-ymusic-user-artist-rating.csv')\n",
    "songs_data = pd.read_csv('datasets/ydata-ymusic-user-song-rating.csv')\n",
    "artist_name_data = pd.read_csv('datasets/ydata-ymusic-artist-names.csv')"
   ]
  },
  {
   "cell_type": "markdown",
   "metadata": {},
   "source": [
    "# calculate avg_rating  and pivot table\n",
    "- avg_rating is used to see popular items \n",
    "- create pivot table to get a new table where the rows represent the user_id, the columns represent the artist_id/song_id and the cells contain the ratings"
   ]
  },
  {
   "cell_type": "code",
   "execution_count": 3,
   "metadata": {},
   "outputs": [],
   "source": [
    "#Data preprocessing\n",
    "def data_preprocessing(data, groupByVar, indexId):\n",
    "    \n",
    "    #to show popular artist\n",
    "    avg_rating = pd.DataFrame(data.groupby(groupByVar)['rating'].mean().reset_index())\n",
    "    avg_rating.sort_values('rating', ascending = False).head(20)\n",
    "    \n",
    "    #creating pivot table\n",
    "    rated_bygroup_by_var = pd.pivot_table(data=data, values='rating', index=indexId, columns=groupByVar)\n",
    "    \n",
    "    return rated_bygroup_by_var"
   ]
  },
  {
   "cell_type": "markdown",
   "metadata": {},
   "source": [
    "# Dropping nan values and sort the data with highest correlation"
   ]
  },
  {
   "cell_type": "code",
   "execution_count": 4,
   "metadata": {},
   "outputs": [],
   "source": [
    "def data_cleaning(recommended_data):\n",
    "    \n",
    "     #data cleaning and sorting\n",
    "        \n",
    "    recommended_corr = pd.DataFrame(recommended_data, columns=['Correlation'])\n",
    "    recommended_corr.dropna(inplace=True)\n",
    "    recommended_corr = recommended_corr.sort_values('Correlation', ascending=False).reset_index()\n",
    "    \n",
    "    return recommended_corr"
   ]
  },
  {
   "cell_type": "markdown",
   "metadata": {},
   "source": [
    "# Filter top n songs based on correlation"
   ]
  },
  {
   "cell_type": "code",
   "execution_count": 5,
   "metadata": {},
   "outputs": [],
   "source": [
    "def get_top_n_artist(recommended_corr, groupByVar, n, filteringFrom):\n",
    "    \n",
    "    #get top n artist list and artist names\n",
    "    recommended_list = recommended_corr.head(n)[groupByVar].tolist()\n",
    "    filter_names = filteringFrom[filteringFrom[groupByVar].isin(recommended_list)]\n",
    "    \n",
    "    return filter_names"
   ]
  },
  {
   "cell_type": "markdown",
   "metadata": {},
   "source": [
    "# Item to item based collaborative filtering\n",
    "\n",
    "This method looks at the ratings of similar items and recommends items that are similar to the ones a user has liked. It is based on the idea that items that are similar to each other will be liked by similar users. This method can be used to make recommendations for all users.\n",
    "\n",
    "# recommend artist_id and song_id based on rating's correlation\n",
    "\n",
    "# pearson correlation\n",
    "pearson correlation coefficient (PCC) is a measure of the linear correlation between two variables. It is also known as Pearson's r or Pearson's correlation coefficient. It ranges between -1 and 1, where -1 represents a perfect negative correlation, 0 represents no correlation, and 1 represents a perfect positive correlation.\n",
    "\n",
    "The formula for the PCC is:\n",
    "\n",
    "r = ( ∑(x_i - x̄)(y_i - ȳ) ) / ( √(∑(x_i - x̄)^2) √(∑(y_i - ȳ)^2) )\n",
    "\n",
    "where:\n",
    "\n",
    "x_i and y_i represent the values of the two variables for a given data point\n",
    "x̄ and ȳ represent the mean of the two variables respectively\n",
    "∑ represents the summation\n",
    "(x_i - x̄) and (y_i - ȳ) represent the deviations of the values from the mean"
   ]
  },
  {
   "cell_type": "code",
   "execution_count": 6,
   "metadata": {},
   "outputs": [],
   "source": [
    "def collaborative_filtering(data, groupByVar, indexId, Id, n, filteringFrom):\n",
    "    \n",
    "    #calling data preprocessing\n",
    "    rating = data_preprocessing(data, groupByVar, indexId)\n",
    "    \n",
    "    #artist_id \n",
    "    #see groupByVar rated by indexId\n",
    "    group_by_var_index_id_rating = rating[Id]\n",
    "    \n",
    "    #applying correlation for the entire user rating dataframe\n",
    "    #Collaborative Filtering Song Recommendation\n",
    "    #Pearson Correlation\n",
    "    recommended_data = rating.corrwith(group_by_var_index_id_rating)\n",
    "    \n",
    "    #data cleaning and sorting\n",
    "    recommended_corr = data_cleaning(recommended_data)\n",
    "    \n",
    "    #get top n artist list and artist names\n",
    "    if filteringFrom is None:\n",
    "        recommended_items = recommended_corr.head(n)[groupByVar].tolist()\n",
    "    else:\n",
    "        recommended_items = get_top_n_artist(recommended_corr, groupByVar, n, filteringFrom)\n",
    "    \n",
    "    return recommended_items"
   ]
  },
  {
   "cell_type": "markdown",
   "metadata": {},
   "source": [
    "# Finds similar artist names based on the selected artist_id \n",
    "Recommends Top N song(s). In our case, we have recommended top n artist names"
   ]
  },
  {
   "cell_type": "code",
   "execution_count": 7,
   "metadata": {},
   "outputs": [
    {
     "name": "stderr",
     "output_type": "stream",
     "text": [
      "/opt/homebrew/anaconda3/lib/python3.9/site-packages/numpy/lib/function_base.py:2683: RuntimeWarning: Degrees of freedom <= 0 for slice\n",
      "  c = cov(x, y, rowvar, dtype=dtype)\n",
      "/opt/homebrew/anaconda3/lib/python3.9/site-packages/numpy/lib/function_base.py:2542: RuntimeWarning: divide by zero encountered in true_divide\n",
      "  c *= np.true_divide(1, fact)\n"
     ]
    },
    {
     "data": {
      "text/plain": "       artist_id                    artist\n15486    1015911             Lords Of Acid\n17287    1017742                   Melvins\n34356    1035342                 Borknagar\n39172    1040238  Mindless Self Indulgence\n39633    1040701             Speak No Evil",
      "text/html": "<div>\n<style scoped>\n    .dataframe tbody tr th:only-of-type {\n        vertical-align: middle;\n    }\n\n    .dataframe tbody tr th {\n        vertical-align: top;\n    }\n\n    .dataframe thead th {\n        text-align: right;\n    }\n</style>\n<table border=\"1\" class=\"dataframe\">\n  <thead>\n    <tr style=\"text-align: right;\">\n      <th></th>\n      <th>artist_id</th>\n      <th>artist</th>\n    </tr>\n  </thead>\n  <tbody>\n    <tr>\n      <th>15486</th>\n      <td>1015911</td>\n      <td>Lords Of Acid</td>\n    </tr>\n    <tr>\n      <th>17287</th>\n      <td>1017742</td>\n      <td>Melvins</td>\n    </tr>\n    <tr>\n      <th>34356</th>\n      <td>1035342</td>\n      <td>Borknagar</td>\n    </tr>\n    <tr>\n      <th>39172</th>\n      <td>1040238</td>\n      <td>Mindless Self Indulgence</td>\n    </tr>\n    <tr>\n      <th>39633</th>\n      <td>1040701</td>\n      <td>Speak No Evil</td>\n    </tr>\n  </tbody>\n</table>\n</div>"
     },
     "execution_count": 7,
     "metadata": {},
     "output_type": "execute_result"
    }
   ],
   "source": [
    "recommended_artist_names = collaborative_filtering(artist_data,'artist_id', 'user_id', 1058037, 5, artist_name_data)\n",
    "recommended_artist_names"
   ]
  },
  {
   "cell_type": "markdown",
   "metadata": {},
   "source": [
    "# Finds similar song names based on the selected song_id \n",
    "Recommends Top N song(s). In our case, we have recommended top n songs id"
   ]
  },
  {
   "cell_type": "code",
   "execution_count": 8,
   "metadata": {},
   "outputs": [
    {
     "name": "stderr",
     "output_type": "stream",
     "text": [
      "/opt/homebrew/anaconda3/lib/python3.9/site-packages/numpy/lib/function_base.py:2683: RuntimeWarning: Degrees of freedom <= 0 for slice\n",
      "  c = cov(x, y, rowvar, dtype=dtype)\n",
      "/opt/homebrew/anaconda3/lib/python3.9/site-packages/numpy/lib/function_base.py:2542: RuntimeWarning: divide by zero encountered in true_divide\n",
      "  c *= np.true_divide(1, fact)\n"
     ]
    },
    {
     "data": {
      "text/plain": "[44204, 45036, 36829, 21306, 92419]"
     },
     "execution_count": 8,
     "metadata": {},
     "output_type": "execute_result"
    }
   ],
   "source": [
    "recommended_songs_Ids = collaborative_filtering(songs_data, 'song_id', 'user_id', 90134, 5, None)\n",
    "recommended_songs_Ids"
   ]
  },
  {
   "cell_type": "markdown",
   "metadata": {},
   "source": [
    "### calculate the Pearson correlation coefficient (r) and the p-value for the correlation between the 'rating' and 'artist_id' columns."
   ]
  },
  {
   "cell_type": "code",
   "execution_count": 9,
   "metadata": {},
   "outputs": [
    {
     "name": "stdout",
     "output_type": "stream",
     "text": [
      "-0.019666189536321082 3.2872475852084366e-90\n"
     ]
    }
   ],
   "source": [
    "import pandas as pd\n",
    "from scipy.stats import pearsonr\n",
    "\n",
    "# calculate the Pearson correlation coefficient\n",
    "rating = artist_data[\"rating\"]\n",
    "artist_id = artist_data[\"artist_id\"]\n",
    "corr, p_value = pearsonr(rating, artist_id)\n",
    "\n",
    "print(corr, p_value)"
   ]
  },
  {
   "cell_type": "markdown",
   "metadata": {},
   "source": [
    "### calculate the Pearson correlation coefficient (r) and the p-value for the correlation between the 'rating' and 'song_id' columns."
   ]
  },
  {
   "cell_type": "code",
   "execution_count": 10,
   "metadata": {},
   "outputs": [
    {
     "name": "stdout",
     "output_type": "stream",
     "text": [
      "-0.00045459220224183735 0.6415722463057583\n"
     ]
    }
   ],
   "source": [
    "import pandas as pd\n",
    "from scipy.stats import pearsonr\n",
    "\n",
    "# calculate the Pearson correlation coefficient\n",
    "rating = songs_data[\"rating\"]\n",
    "song_id = songs_data[\"song_id\"]\n",
    "corr, p_value = pearsonr(rating, song_id)\n",
    "\n",
    "print(corr, p_value)"
   ]
  },
  {
   "cell_type": "markdown",
   "metadata": {},
   "source": [
    "# visualization of the Pearson correlation between artist ratings and accuracy "
   ]
  },
  {
   "cell_type": "code",
   "execution_count": 11,
   "metadata": {},
   "outputs": [
    {
     "data": {
      "text/plain": "<Figure size 432x288 with 2 Axes>",
      "image/png": "[encoded data removed]"
     },
     "metadata": {},
     "output_type": "display_data"
    }
   ],
   "source": [
    "import pandas as pd\n",
    "import seaborn as sns\n",
    "import matplotlib.pyplot as plt\n",
    "\n",
    "\n",
    "# Calculate the Pearson correlation between artist ratings and accuracy\n",
    "corr = artist_data.corr(method='pearson')\n",
    "\n",
    "# Create a heatmap of the correlation values\n",
    "sns.heatmap(corr, \n",
    "            xticklabels=corr.columns,\n",
    "            yticklabels=corr.columns,\n",
    "            cmap='RdBu_r')\n",
    "\n",
    "# Show the plot\n",
    "plt.show()"
   ]
  },
  {
   "cell_type": "markdown",
   "metadata": {},
   "source": [
    "# visualization of the Pearson correlation between song ratings and accuracy "
   ]
  },
  {
   "cell_type": "code",
   "execution_count": 12,
   "metadata": {},
   "outputs": [
    {
     "data": {
      "text/plain": "<Figure size 432x288 with 2 Axes>",
      "image/png": "[encoded data removed]"
     },
     "metadata": {},
     "output_type": "display_data"
    }
   ],
   "source": [
    "import pandas as pd\n",
    "import seaborn as sns\n",
    "import matplotlib.pyplot as plt\n",
    "\n",
    "\n",
    "# Calculate the Pearson correlation between artist ratings and accuracy\n",
    "corr = songs_data.corr(method='pearson')\n",
    "\n",
    "# Create a heatmap of the correlation values\n",
    "sns.heatmap(corr, \n",
    "            xticklabels=corr.columns,\n",
    "            yticklabels=corr.columns,\n",
    "            cmap='RdBu_r')\n",
    "\n",
    "# Show the plot\n",
    "plt.show()"
   ]
  }
 ],
 "metadata": {
  "kernelspec": {
   "display_name": "Python 3",
   "language": "python",
   "name": "python3"
  },
  "language_info": {
   "codemirror_mode": {
    "name": "ipython",
    "version": 3
   },
   "file_extension": ".py",
   "mimetype": "text/x-python",
   "name": "python",
   "nbconvert_exporter": "python",
   "pygments_lexer": "ipython3",
   "version": "3.7.4"
  }
 },
 "nbformat": 4,
 "nbformat_minor": 2
}
