{
 "cells": [
  {
   "cell_type": "code",
   "execution_count": 41,
   "metadata": {},
   "outputs": [],
   "source": [
    "import pandas as pd\n",
    "import numpy as np\n",
    "\n",
    "artist_data = pd.read_csv('datasets/ydata-ymusic-user-artist-rating.csv')\n",
    "songs_data = pd.read_csv('datasets/ydata-ymusic-user-song-rating.csv')\n",
    "artist_name_data = pd.read_csv('datasets/ydata-ymusic-artist-names.csv')"
   ]
  },
  {
   "cell_type": "code",
   "execution_count": 42,
   "metadata": {},
   "outputs": [],
   "source": [
    "#Data preprocessing\n",
    "def data_preprocessing(artist_data, groupByVar, indexId):\n",
    "    \n",
    "    #to show popular artist\n",
    "    avg_rating = pd.DataFrame(artist_data.groupby(groupByVar)['rating'].mean().reset_index())\n",
    "    avg_rating.sort_values('rating', ascending = False).head(20)\n",
    "    \n",
    "    #creating pivot table\n",
    "    ratedBygroupByVar = pd.pivot_table(data=artist_data, values='rating', index=indexId, columns=groupByVar)\n",
    "    \n",
    "    return ratedBygroupByVar"
   ]
  },
  {
   "cell_type": "code",
   "execution_count": 43,
   "metadata": {},
   "outputs": [],
   "source": [
    "def data_cleaning(recommended_data):\n",
    "    \n",
    "     #data cleaning and sorting\n",
    "        \n",
    "    recommended_corr = pd.DataFrame(recommended_data, columns=['Correlation'])\n",
    "    recommended_corr.dropna(inplace=True)\n",
    "    recommended_corr = recommended_corr.sort_values('Correlation', ascending=False).reset_index()\n",
    "    \n",
    "    return recommended_corr"
   ]
  },
  {
   "cell_type": "code",
   "execution_count": 44,
   "metadata": {},
   "outputs": [],
   "source": [
    "def get_top_n_artist(recommended_corr, groupByVar, n, filteringFrom):\n",
    "    \n",
    "    #get top n artist list and artist names\n",
    "    recommended_list = recommended_corr.head(n)[groupByVar].tolist()\n",
    "    filter_names = filteringFrom[filteringFrom[groupByVar].isin(recommended_list)]\n",
    "    \n",
    "    return filter_names"
   ]
  },
  {
   "cell_type": "code",
   "execution_count": 45,
   "metadata": {},
   "outputs": [],
   "source": [
    "def collaborative_filtering(data, groupByVar, indexId, Id, n, filteringFrom):\n",
    "    \n",
    "    #calling data preprocessing\n",
    "    rating = data_preprocessing(data, groupByVar, indexId)\n",
    "    \n",
    "    #artist_id \n",
    "    #see groupByVar rated by indexId\n",
    "    groupByVar_indexId_rating = rating[Id]\n",
    "    \n",
    "    #applying correlation for the entire user rating dataframe\n",
    "    #Collaborative Filtering Song Recommendation\n",
    "    #Pearson Correlation\n",
    "    recommended_data = rating.corrwith(groupByVar_indexId_rating)\n",
    "    \n",
    "    #data cleaning and sorting\n",
    "    recommended_corr = data_cleaning(recommended_data)\n",
    "    \n",
    "    #get top n artist list and artist names\n",
    "    if(filteringFrom is None):\n",
    "        recommended_items = recommended_corr.head(n)[groupByVar].tolist()\n",
    "    else:\n",
    "        recommended_items = get_top_n_artist(recommended_corr, groupByVar, n, filteringFrom)\n",
    "    \n",
    "    return recommended_items"
   ]
  },
  {
   "cell_type": "code",
   "execution_count": 46,
   "metadata": {},
   "outputs": [
    {
     "name": "stderr",
     "output_type": "stream",
     "text": [
      "/opt/homebrew/anaconda3/lib/python3.9/site-packages/numpy/lib/function_base.py:2683: RuntimeWarning: Degrees of freedom <= 0 for slice\n",
      "  c = cov(x, y, rowvar, dtype=dtype)\n",
      "/opt/homebrew/anaconda3/lib/python3.9/site-packages/numpy/lib/function_base.py:2542: RuntimeWarning: divide by zero encountered in true_divide\n",
      "  c *= np.true_divide(1, fact)\n"
     ]
    },
    {
     "data": {
      "text/plain": "       artist_id                    artist\n15486    1015911             Lords Of Acid\n17287    1017742                   Melvins\n34356    1035342                 Borknagar\n39172    1040238  Mindless Self Indulgence\n39633    1040701             Speak No Evil",
      "text/html": "<div>\n<style scoped>\n    .dataframe tbody tr th:only-of-type {\n        vertical-align: middle;\n    }\n\n    .dataframe tbody tr th {\n        vertical-align: top;\n    }\n\n    .dataframe thead th {\n        text-align: right;\n    }\n</style>\n<table border=\"1\" class=\"dataframe\">\n  <thead>\n    <tr style=\"text-align: right;\">\n      <th></th>\n      <th>artist_id</th>\n      <th>artist</th>\n    </tr>\n  </thead>\n  <tbody>\n    <tr>\n      <th>15486</th>\n      <td>1015911</td>\n      <td>Lords Of Acid</td>\n    </tr>\n    <tr>\n      <th>17287</th>\n      <td>1017742</td>\n      <td>Melvins</td>\n    </tr>\n    <tr>\n      <th>34356</th>\n      <td>1035342</td>\n      <td>Borknagar</td>\n    </tr>\n    <tr>\n      <th>39172</th>\n      <td>1040238</td>\n      <td>Mindless Self Indulgence</td>\n    </tr>\n    <tr>\n      <th>39633</th>\n      <td>1040701</td>\n      <td>Speak No Evil</td>\n    </tr>\n  </tbody>\n</table>\n</div>"
     },
     "execution_count": 46,
     "metadata": {},
     "output_type": "execute_result"
    }
   ],
   "source": [
    "recommended_artist_names = collaborative_filtering(artist_data,'artist_id', 'user_id', 1058037, 5, artist_name_data)\n",
    "recommended_artist_names"
   ]
  },
  {
   "cell_type": "code",
   "execution_count": null,
   "metadata": {
    "pycharm": {
     "is_executing": true
    }
   },
   "outputs": [
    {
     "name": "stderr",
     "output_type": "stream",
     "text": [
      "/opt/homebrew/anaconda3/lib/python3.9/site-packages/numpy/lib/function_base.py:2683: RuntimeWarning: Degrees of freedom <= 0 for slice\n",
      "  c = cov(x, y, rowvar, dtype=dtype)\n",
      "/opt/homebrew/anaconda3/lib/python3.9/site-packages/numpy/lib/function_base.py:2542: RuntimeWarning: divide by zero encountered in true_divide\n",
      "  c *= np.true_divide(1, fact)\n"
     ]
    }
   ],
   "source": [
    "recommended_songs_Ids = collaborative_filtering(songs_data, 'song_id', 'user_id', 90134, 5, None)"
   ]
  },
  {
   "cell_type": "code",
   "execution_count": null,
   "metadata": {
    "pycharm": {
     "is_executing": true
    }
   },
   "outputs": [],
   "source": [
    "recommended_songs_Ids"
   ]
  },
  {
   "cell_type": "code",
   "execution_count": null,
   "metadata": {
    "pycharm": {
     "is_executing": true
    }
   },
   "outputs": [],
   "source": [
    "import pandas as pd\n",
    "import matplotlib.pyplot as plt\n",
    "\n",
    "\n",
    "# calculate the correlation matrix\n",
    "corr_matrix = artist_data.pivot_table(index='user_id', columns='artist_id', values='rating').corr()\n",
    "\n",
    "# visualize the correlation matrix using a heatmap\n",
    "plt.figure(figsize=(15,15))\n",
    "plt.imshow(corr_matrix, cmap='coolwarm')\n",
    "plt.colorbar()\n",
    "plt.show()"
   ]
  },
  {
   "cell_type": "code",
   "execution_count": null,
   "metadata": {
    "pycharm": {
     "is_executing": true
    }
   },
   "outputs": [],
   "source": []
  }
 ],
 "metadata": {
  "kernelspec": {
   "display_name": "Python 3",
   "language": "python",
   "name": "python3"
  },
  "language_info": {
   "codemirror_mode": {
    "name": "ipython",
    "version": 3
   },
   "file_extension": ".py",
   "mimetype": "text/x-python",
   "name": "python",
   "nbconvert_exporter": "python",
   "pygments_lexer": "ipython3",
   "version": "3.7.4"
  }
 },
 "nbformat": 4,
 "nbformat_minor": 2
}
