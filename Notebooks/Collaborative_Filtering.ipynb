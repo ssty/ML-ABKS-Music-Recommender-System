{
 "cells": [
  {
   "cell_type": "code",
   "execution_count": 1,
   "metadata": {},
   "outputs": [
    {
     "data": {
      "text/plain": "         user_id  artist_id  rating\n1048574    17484    1010722     100\n263778      4346    1043477     100\n446869      7519    1006971     100\n100111      1675    1012152     100\n446870      7519    1007098     100\n...          ...        ...     ...\n839286     14081    1004599       0\n608438     10439    1024496       0\n839284     14081    1004561       0\n839283     14081    1004546       0\n389810      6636    1027046       0\n\n[1046332 rows x 3 columns]",
      "text/html": "<div>\n<style scoped>\n    .dataframe tbody tr th:only-of-type {\n        vertical-align: middle;\n    }\n\n    .dataframe tbody tr th {\n        vertical-align: top;\n    }\n\n    .dataframe thead th {\n        text-align: right;\n    }\n</style>\n<table border=\"1\" class=\"dataframe\">\n  <thead>\n    <tr style=\"text-align: right;\">\n      <th></th>\n      <th>user_id</th>\n      <th>artist_id</th>\n      <th>rating</th>\n    </tr>\n  </thead>\n  <tbody>\n    <tr>\n      <th>1048574</th>\n      <td>17484</td>\n      <td>1010722</td>\n      <td>100</td>\n    </tr>\n    <tr>\n      <th>263778</th>\n      <td>4346</td>\n      <td>1043477</td>\n      <td>100</td>\n    </tr>\n    <tr>\n      <th>446869</th>\n      <td>7519</td>\n      <td>1006971</td>\n      <td>100</td>\n    </tr>\n    <tr>\n      <th>100111</th>\n      <td>1675</td>\n      <td>1012152</td>\n      <td>100</td>\n    </tr>\n    <tr>\n      <th>446870</th>\n      <td>7519</td>\n      <td>1007098</td>\n      <td>100</td>\n    </tr>\n    <tr>\n      <th>...</th>\n      <td>...</td>\n      <td>...</td>\n      <td>...</td>\n    </tr>\n    <tr>\n      <th>839286</th>\n      <td>14081</td>\n      <td>1004599</td>\n      <td>0</td>\n    </tr>\n    <tr>\n      <th>608438</th>\n      <td>10439</td>\n      <td>1024496</td>\n      <td>0</td>\n    </tr>\n    <tr>\n      <th>839284</th>\n      <td>14081</td>\n      <td>1004561</td>\n      <td>0</td>\n    </tr>\n    <tr>\n      <th>839283</th>\n      <td>14081</td>\n      <td>1004546</td>\n      <td>0</td>\n    </tr>\n    <tr>\n      <th>389810</th>\n      <td>6636</td>\n      <td>1027046</td>\n      <td>0</td>\n    </tr>\n  </tbody>\n</table>\n<p>1046332 rows × 3 columns</p>\n</div>"
     },
     "execution_count": 1,
     "metadata": {},
     "output_type": "execute_result"
    }
   ],
   "source": [
    "import pandas as pd\n",
    "import numpy as np\n",
    "\n",
    "artist_data = pd.read_csv('datasets/ydata-ymusic-user-artist-rating.csv')\n",
    "artist_data = artist_data.loc[artist_data['rating'] <= 100]\n",
    "artist_data.sort_values('rating', ascending=False)"
   ]
  },
  {
   "cell_type": "code",
   "execution_count": 2,
   "metadata": {},
   "outputs": [
    {
     "data": {
      "text/plain": "artist_id  24538    1000004  1000006  1000010  1000012  1000015  1000016  \\\nuser_id                                                                    \n1              NaN      NaN      NaN      NaN      NaN      NaN      NaN   \n2              NaN      NaN      NaN      NaN      NaN      NaN      NaN   \n3              NaN      NaN      NaN      NaN      NaN      NaN      NaN   \n4              NaN      NaN      NaN      NaN      NaN      NaN      NaN   \n5              NaN      NaN      NaN      NaN      NaN      NaN      NaN   \n\nartist_id  1000018  1000021  1000023  ...  1101383  1101399  1101400  1101401  \\\nuser_id                               ...                                       \n1              NaN      NaN      NaN  ...      NaN      NaN      NaN      NaN   \n2              NaN      NaN      NaN  ...      NaN      NaN      NaN      NaN   \n3              NaN      NaN      NaN  ...      NaN      NaN      NaN      NaN   \n4              NaN      NaN      NaN  ...      NaN      NaN      NaN      NaN   \n5              NaN      NaN      NaN  ...      NaN      NaN      NaN      NaN   \n\nartist_id  1101416  1101471  1101613  1101630  1101671  1101719  \nuser_id                                                          \n1              NaN      NaN      NaN      NaN      NaN      NaN  \n2              NaN      NaN      NaN      NaN      NaN      NaN  \n3              NaN      NaN      NaN      NaN      NaN      NaN  \n4              NaN      NaN      NaN      NaN      NaN      NaN  \n5              NaN      NaN      NaN      NaN      NaN      NaN  \n\n[5 rows x 14147 columns]",
      "text/html": "<div>\n<style scoped>\n    .dataframe tbody tr th:only-of-type {\n        vertical-align: middle;\n    }\n\n    .dataframe tbody tr th {\n        vertical-align: top;\n    }\n\n    .dataframe thead th {\n        text-align: right;\n    }\n</style>\n<table border=\"1\" class=\"dataframe\">\n  <thead>\n    <tr style=\"text-align: right;\">\n      <th>artist_id</th>\n      <th>24538</th>\n      <th>1000004</th>\n      <th>1000006</th>\n      <th>1000010</th>\n      <th>1000012</th>\n      <th>1000015</th>\n      <th>1000016</th>\n      <th>1000018</th>\n      <th>1000021</th>\n      <th>1000023</th>\n      <th>...</th>\n      <th>1101383</th>\n      <th>1101399</th>\n      <th>1101400</th>\n      <th>1101401</th>\n      <th>1101416</th>\n      <th>1101471</th>\n      <th>1101613</th>\n      <th>1101630</th>\n      <th>1101671</th>\n      <th>1101719</th>\n    </tr>\n    <tr>\n      <th>user_id</th>\n      <th></th>\n      <th></th>\n      <th></th>\n      <th></th>\n      <th></th>\n      <th></th>\n      <th></th>\n      <th></th>\n      <th></th>\n      <th></th>\n      <th></th>\n      <th></th>\n      <th></th>\n      <th></th>\n      <th></th>\n      <th></th>\n      <th></th>\n      <th></th>\n      <th></th>\n      <th></th>\n      <th></th>\n    </tr>\n  </thead>\n  <tbody>\n    <tr>\n      <th>1</th>\n      <td>NaN</td>\n      <td>NaN</td>\n      <td>NaN</td>\n      <td>NaN</td>\n      <td>NaN</td>\n      <td>NaN</td>\n      <td>NaN</td>\n      <td>NaN</td>\n      <td>NaN</td>\n      <td>NaN</td>\n      <td>...</td>\n      <td>NaN</td>\n      <td>NaN</td>\n      <td>NaN</td>\n      <td>NaN</td>\n      <td>NaN</td>\n      <td>NaN</td>\n      <td>NaN</td>\n      <td>NaN</td>\n      <td>NaN</td>\n      <td>NaN</td>\n    </tr>\n    <tr>\n      <th>2</th>\n      <td>NaN</td>\n      <td>NaN</td>\n      <td>NaN</td>\n      <td>NaN</td>\n      <td>NaN</td>\n      <td>NaN</td>\n      <td>NaN</td>\n      <td>NaN</td>\n      <td>NaN</td>\n      <td>NaN</td>\n      <td>...</td>\n      <td>NaN</td>\n      <td>NaN</td>\n      <td>NaN</td>\n      <td>NaN</td>\n      <td>NaN</td>\n      <td>NaN</td>\n      <td>NaN</td>\n      <td>NaN</td>\n      <td>NaN</td>\n      <td>NaN</td>\n    </tr>\n    <tr>\n      <th>3</th>\n      <td>NaN</td>\n      <td>NaN</td>\n      <td>NaN</td>\n      <td>NaN</td>\n      <td>NaN</td>\n      <td>NaN</td>\n      <td>NaN</td>\n      <td>NaN</td>\n      <td>NaN</td>\n      <td>NaN</td>\n      <td>...</td>\n      <td>NaN</td>\n      <td>NaN</td>\n      <td>NaN</td>\n      <td>NaN</td>\n      <td>NaN</td>\n      <td>NaN</td>\n      <td>NaN</td>\n      <td>NaN</td>\n      <td>NaN</td>\n      <td>NaN</td>\n    </tr>\n    <tr>\n      <th>4</th>\n      <td>NaN</td>\n      <td>NaN</td>\n      <td>NaN</td>\n      <td>NaN</td>\n      <td>NaN</td>\n      <td>NaN</td>\n      <td>NaN</td>\n      <td>NaN</td>\n      <td>NaN</td>\n      <td>NaN</td>\n      <td>...</td>\n      <td>NaN</td>\n      <td>NaN</td>\n      <td>NaN</td>\n      <td>NaN</td>\n      <td>NaN</td>\n      <td>NaN</td>\n      <td>NaN</td>\n      <td>NaN</td>\n      <td>NaN</td>\n      <td>NaN</td>\n    </tr>\n    <tr>\n      <th>5</th>\n      <td>NaN</td>\n      <td>NaN</td>\n      <td>NaN</td>\n      <td>NaN</td>\n      <td>NaN</td>\n      <td>NaN</td>\n      <td>NaN</td>\n      <td>NaN</td>\n      <td>NaN</td>\n      <td>NaN</td>\n      <td>...</td>\n      <td>NaN</td>\n      <td>NaN</td>\n      <td>NaN</td>\n      <td>NaN</td>\n      <td>NaN</td>\n      <td>NaN</td>\n      <td>NaN</td>\n      <td>NaN</td>\n      <td>NaN</td>\n      <td>NaN</td>\n    </tr>\n  </tbody>\n</table>\n<p>5 rows × 14147 columns</p>\n</div>"
     },
     "execution_count": 2,
     "metadata": {},
     "output_type": "execute_result"
    }
   ],
   "source": [
    "#preparing data table for analysis\n",
    "user_rating = pd.pivot_table(data=artist_data, values='rating', index='user_id', columns='artist_id')\n",
    "user_rating.head()"
   ]
  },
  {
   "cell_type": "code",
   "execution_count": 3,
   "metadata": {},
   "outputs": [
    {
     "data": {
      "text/plain": "              rating\nartist_id           \n24538      90.000000\n1000004    44.731183\n1000006    56.207692\n1000010    52.000000\n1000012    43.884956\n...              ...\n1101471     5.555556\n1101613    90.000000\n1101630     7.454545\n1101671    68.292683\n1101719    27.777778\n\n[14147 rows x 1 columns]",
      "text/html": "<div>\n<style scoped>\n    .dataframe tbody tr th:only-of-type {\n        vertical-align: middle;\n    }\n\n    .dataframe tbody tr th {\n        vertical-align: top;\n    }\n\n    .dataframe thead th {\n        text-align: right;\n    }\n</style>\n<table border=\"1\" class=\"dataframe\">\n  <thead>\n    <tr style=\"text-align: right;\">\n      <th></th>\n      <th>rating</th>\n    </tr>\n    <tr>\n      <th>artist_id</th>\n      <th></th>\n    </tr>\n  </thead>\n  <tbody>\n    <tr>\n      <th>24538</th>\n      <td>90.000000</td>\n    </tr>\n    <tr>\n      <th>1000004</th>\n      <td>44.731183</td>\n    </tr>\n    <tr>\n      <th>1000006</th>\n      <td>56.207692</td>\n    </tr>\n    <tr>\n      <th>1000010</th>\n      <td>52.000000</td>\n    </tr>\n    <tr>\n      <th>1000012</th>\n      <td>43.884956</td>\n    </tr>\n    <tr>\n      <th>...</th>\n      <td>...</td>\n    </tr>\n    <tr>\n      <th>1101471</th>\n      <td>5.555556</td>\n    </tr>\n    <tr>\n      <th>1101613</th>\n      <td>90.000000</td>\n    </tr>\n    <tr>\n      <th>1101630</th>\n      <td>7.454545</td>\n    </tr>\n    <tr>\n      <th>1101671</th>\n      <td>68.292683</td>\n    </tr>\n    <tr>\n      <th>1101719</th>\n      <td>27.777778</td>\n    </tr>\n  </tbody>\n</table>\n<p>14147 rows × 1 columns</p>\n</div>"
     },
     "execution_count": 3,
     "metadata": {},
     "output_type": "execute_result"
    }
   ],
   "source": [
    "#calculating mean for every artist\n",
    "avg_rating = pd.DataFrame(artist_data.groupby('artist_id')['rating'].mean())\n",
    "avg_rating"
   ]
  },
  {
   "cell_type": "code",
   "execution_count": 4,
   "metadata": {},
   "outputs": [
    {
     "data": {
      "text/plain": "           rating\nartist_id        \n1069861     100.0\n1054044     100.0\n1031121     100.0\n1009432     100.0\n1054050     100.0\n1017988     100.0\n1098250     100.0\n1009455     100.0\n1031090     100.0\n1038802     100.0\n1017853     100.0\n1017950     100.0\n1038927     100.0\n1054007     100.0\n1098298     100.0\n1009565     100.0\n1022994     100.0\n1023002     100.0\n1009406     100.0\n1031137     100.0",
      "text/html": "<div>\n<style scoped>\n    .dataframe tbody tr th:only-of-type {\n        vertical-align: middle;\n    }\n\n    .dataframe tbody tr th {\n        vertical-align: top;\n    }\n\n    .dataframe thead th {\n        text-align: right;\n    }\n</style>\n<table border=\"1\" class=\"dataframe\">\n  <thead>\n    <tr style=\"text-align: right;\">\n      <th></th>\n      <th>rating</th>\n    </tr>\n    <tr>\n      <th>artist_id</th>\n      <th></th>\n    </tr>\n  </thead>\n  <tbody>\n    <tr>\n      <th>1069861</th>\n      <td>100.0</td>\n    </tr>\n    <tr>\n      <th>1054044</th>\n      <td>100.0</td>\n    </tr>\n    <tr>\n      <th>1031121</th>\n      <td>100.0</td>\n    </tr>\n    <tr>\n      <th>1009432</th>\n      <td>100.0</td>\n    </tr>\n    <tr>\n      <th>1054050</th>\n      <td>100.0</td>\n    </tr>\n    <tr>\n      <th>1017988</th>\n      <td>100.0</td>\n    </tr>\n    <tr>\n      <th>1098250</th>\n      <td>100.0</td>\n    </tr>\n    <tr>\n      <th>1009455</th>\n      <td>100.0</td>\n    </tr>\n    <tr>\n      <th>1031090</th>\n      <td>100.0</td>\n    </tr>\n    <tr>\n      <th>1038802</th>\n      <td>100.0</td>\n    </tr>\n    <tr>\n      <th>1017853</th>\n      <td>100.0</td>\n    </tr>\n    <tr>\n      <th>1017950</th>\n      <td>100.0</td>\n    </tr>\n    <tr>\n      <th>1038927</th>\n      <td>100.0</td>\n    </tr>\n    <tr>\n      <th>1054007</th>\n      <td>100.0</td>\n    </tr>\n    <tr>\n      <th>1098298</th>\n      <td>100.0</td>\n    </tr>\n    <tr>\n      <th>1009565</th>\n      <td>100.0</td>\n    </tr>\n    <tr>\n      <th>1022994</th>\n      <td>100.0</td>\n    </tr>\n    <tr>\n      <th>1023002</th>\n      <td>100.0</td>\n    </tr>\n    <tr>\n      <th>1009406</th>\n      <td>100.0</td>\n    </tr>\n    <tr>\n      <th>1031137</th>\n      <td>100.0</td>\n    </tr>\n  </tbody>\n</table>\n</div>"
     },
     "execution_count": 4,
     "metadata": {},
     "output_type": "execute_result"
    }
   ],
   "source": [
    "avg_rating.sort_values('rating', ascending = False).head(20)"
   ]
  },
  {
   "cell_type": "code",
   "execution_count": 5,
   "metadata": {
    "scrolled": true
   },
   "outputs": [
    {
     "data": {
      "text/plain": "user_id\n1   NaN\n2   NaN\n3   NaN\n4   NaN\n5   NaN\nName: 1058037, dtype: float64"
     },
     "execution_count": 5,
     "metadata": {},
     "output_type": "execute_result"
    }
   ],
   "source": [
    "#artist_id = 1005698\n",
    "#see artist 1058037 rated by user\n",
    "artist = 1058037\n",
    "artist_user_rating = user_rating[artist]\n",
    "artist_user_rating.head()"
   ]
  },
  {
   "cell_type": "code",
   "execution_count": 6,
   "metadata": {},
   "outputs": [
    {
     "name": "stderr",
     "output_type": "stream",
     "text": [
      "/opt/homebrew/anaconda3/lib/python3.9/site-packages/numpy/lib/function_base.py:2683: RuntimeWarning: Degrees of freedom <= 0 for slice\n",
      "  c = cov(x, y, rowvar, dtype=dtype)\n",
      "/opt/homebrew/anaconda3/lib/python3.9/site-packages/numpy/lib/function_base.py:2542: RuntimeWarning: divide by zero encountered in true_divide\n",
      "  c *= np.true_divide(1, fact)\n"
     ]
    },
    {
     "data": {
      "text/plain": "artist_id\n24538     NaN\n1000004   NaN\n1000006   NaN\n1000010   NaN\n1000012   NaN\n           ..\n1101471   NaN\n1101613   NaN\n1101630   NaN\n1101671   NaN\n1101719   NaN\nLength: 14147, dtype: float64"
     },
     "execution_count": 6,
     "metadata": {},
     "output_type": "execute_result"
    }
   ],
   "source": [
    "#applying correlation for the entire user rating dataframe\n",
    "#Collaborative Filtering Song Recommendation\n",
    "#Pearson Correlation\n",
    "recommended_artist = user_rating.corrwith(artist_user_rating)\n",
    "recommended_artist"
   ]
  },
  {
   "cell_type": "code",
   "execution_count": 7,
   "metadata": {},
   "outputs": [],
   "source": [
    "#removing nan values\n",
    "recommended_artist_corr = pd.DataFrame(recommended_artist, columns=['Correlation'])\n",
    "recommended_artist_corr.dropna(inplace=True)"
   ]
  },
  {
   "cell_type": "code",
   "execution_count": 8,
   "metadata": {},
   "outputs": [
    {
     "data": {
      "text/plain": "           Correlation\nartist_id             \n1000264           -1.0\n1000362           -1.0\n1001077           -1.0\n1002815           -1.0\n1003380           -1.0\n...                ...\n1058037            1.0\n1059036            1.0\n1083194           -1.0\n1098033            1.0\n1098306            1.0\n\n[77 rows x 1 columns]",
      "text/html": "<div>\n<style scoped>\n    .dataframe tbody tr th:only-of-type {\n        vertical-align: middle;\n    }\n\n    .dataframe tbody tr th {\n        vertical-align: top;\n    }\n\n    .dataframe thead th {\n        text-align: right;\n    }\n</style>\n<table border=\"1\" class=\"dataframe\">\n  <thead>\n    <tr style=\"text-align: right;\">\n      <th></th>\n      <th>Correlation</th>\n    </tr>\n    <tr>\n      <th>artist_id</th>\n      <th></th>\n    </tr>\n  </thead>\n  <tbody>\n    <tr>\n      <th>1000264</th>\n      <td>-1.0</td>\n    </tr>\n    <tr>\n      <th>1000362</th>\n      <td>-1.0</td>\n    </tr>\n    <tr>\n      <th>1001077</th>\n      <td>-1.0</td>\n    </tr>\n    <tr>\n      <th>1002815</th>\n      <td>-1.0</td>\n    </tr>\n    <tr>\n      <th>1003380</th>\n      <td>-1.0</td>\n    </tr>\n    <tr>\n      <th>...</th>\n      <td>...</td>\n    </tr>\n    <tr>\n      <th>1058037</th>\n      <td>1.0</td>\n    </tr>\n    <tr>\n      <th>1059036</th>\n      <td>1.0</td>\n    </tr>\n    <tr>\n      <th>1083194</th>\n      <td>-1.0</td>\n    </tr>\n    <tr>\n      <th>1098033</th>\n      <td>1.0</td>\n    </tr>\n    <tr>\n      <th>1098306</th>\n      <td>1.0</td>\n    </tr>\n  </tbody>\n</table>\n<p>77 rows × 1 columns</p>\n</div>"
     },
     "execution_count": 8,
     "metadata": {},
     "output_type": "execute_result"
    }
   ],
   "source": [
    "recommended_artist_corr"
   ]
  },
  {
   "cell_type": "code",
   "execution_count": 9,
   "metadata": {},
   "outputs": [
    {
     "data": {
      "text/plain": "           Correlation\nartist_id             \n1098306            1.0\n1008776            1.0\n1098033            1.0\n1019053            1.0\n1059036            1.0\n...                ...\n1000362           -1.0\n1021623           -1.0\n1021815           -1.0\n1021912           -1.0\n1021578           -1.0\n\n[77 rows x 1 columns]",
      "text/html": "<div>\n<style scoped>\n    .dataframe tbody tr th:only-of-type {\n        vertical-align: middle;\n    }\n\n    .dataframe tbody tr th {\n        vertical-align: top;\n    }\n\n    .dataframe thead th {\n        text-align: right;\n    }\n</style>\n<table border=\"1\" class=\"dataframe\">\n  <thead>\n    <tr style=\"text-align: right;\">\n      <th></th>\n      <th>Correlation</th>\n    </tr>\n    <tr>\n      <th>artist_id</th>\n      <th></th>\n    </tr>\n  </thead>\n  <tbody>\n    <tr>\n      <th>1098306</th>\n      <td>1.0</td>\n    </tr>\n    <tr>\n      <th>1008776</th>\n      <td>1.0</td>\n    </tr>\n    <tr>\n      <th>1098033</th>\n      <td>1.0</td>\n    </tr>\n    <tr>\n      <th>1019053</th>\n      <td>1.0</td>\n    </tr>\n    <tr>\n      <th>1059036</th>\n      <td>1.0</td>\n    </tr>\n    <tr>\n      <th>...</th>\n      <td>...</td>\n    </tr>\n    <tr>\n      <th>1000362</th>\n      <td>-1.0</td>\n    </tr>\n    <tr>\n      <th>1021623</th>\n      <td>-1.0</td>\n    </tr>\n    <tr>\n      <th>1021815</th>\n      <td>-1.0</td>\n    </tr>\n    <tr>\n      <th>1021912</th>\n      <td>-1.0</td>\n    </tr>\n    <tr>\n      <th>1021578</th>\n      <td>-1.0</td>\n    </tr>\n  </tbody>\n</table>\n<p>77 rows × 1 columns</p>\n</div>"
     },
     "execution_count": 9,
     "metadata": {},
     "output_type": "execute_result"
    }
   ],
   "source": [
    "#sort the recommended artist correlation\n",
    "recommended_artist_corr=recommended_artist_corr.sort_values('Correlation', ascending=False)\n",
    "recommended_artist_corr"
   ]
  },
  {
   "cell_type": "code",
   "execution_count": 11,
   "metadata": {},
   "outputs": [
    {
     "data": {
      "text/plain": "Index(['Correlation'], dtype='object')"
     },
     "execution_count": 11,
     "metadata": {},
     "output_type": "execute_result"
    }
   ],
   "source": [
    "recommended_artist_corr.columns"
   ]
  },
  {
   "cell_type": "code",
   "execution_count": null,
   "metadata": {},
   "outputs": [],
   "source": [
    "# TODO:\n",
    "#filtering still need to be done\n",
    "# print artist names\n",
    "# use same concept for user/song/rating\n",
    "# refactor and cleanup"
   ]
  }
 ],
 "metadata": {
  "kernelspec": {
   "display_name": "Python 3",
   "language": "python",
   "name": "python3"
  },
  "language_info": {
   "codemirror_mode": {
    "name": "ipython",
    "version": 3
   },
   "file_extension": ".py",
   "mimetype": "text/x-python",
   "name": "python",
   "nbconvert_exporter": "python",
   "pygments_lexer": "ipython3",
   "version": "3.7.4"
  }
 },
 "nbformat": 4,
 "nbformat_minor": 2
}
