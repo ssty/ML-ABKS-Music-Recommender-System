{
 "cells": [
  {
   "cell_type": "code",
   "execution_count": 56,
   "metadata": {},
   "outputs": [],
   "source": [
    "import pandas as pd\n",
    "import numpy as np\n",
    "\n",
    "artist_data = pd.read_csv('datasets/ydata-ymusic-user-artist-rating.csv')\n",
    "songs_data = pd.read_csv('datasets/ydata-ymusic-user-song-rating.csv')\n",
    "artist_name_data = pd.read_csv('datasets/ydata-ymusic-artist-names.csv')"
   ]
  },
  {
   "cell_type": "code",
   "execution_count": 57,
   "metadata": {},
   "outputs": [],
   "source": [
    "#Data preprocessing\n",
    "def data_preprocessing(artist_data, groupByVar, indexId):\n",
    "    \n",
    "    #to show popular artist\n",
    "    avg_rating = pd.DataFrame(artist_data.groupby(groupByVar)['rating'].mean().reset_index())\n",
    "    avg_rating.sort_values('rating', ascending = False).head(20)\n",
    "    \n",
    "    #creating pivot table\n",
    "    ratedBygroupByVar = pd.pivot_table(data=artist_data, values='rating', index=indexId, columns=groupByVar)\n",
    "    \n",
    "    return ratedBygroupByVar"
   ]
  },
  {
   "cell_type": "code",
   "execution_count": 58,
   "metadata": {},
   "outputs": [],
   "source": [
    "def data_cleaning(recommended_data):\n",
    "    \n",
    "     #data cleaning and sorting\n",
    "        \n",
    "    recommended_corr = pd.DataFrame(recommended_data, columns=['Correlation'])\n",
    "    recommended_corr.dropna(inplace=True)\n",
    "    recommended_corr = recommended_corr.sort_values('Correlation', ascending=False).reset_index()\n",
    "    \n",
    "    return recommended_corr"
   ]
  },
  {
   "cell_type": "code",
   "execution_count": 64,
   "metadata": {},
   "outputs": [],
   "source": [
    "def get_top_n_artist(recommended_corr, groupByVar, n, filteringFrom):\n",
    "    \n",
    "    #get top n artist list and artist names\n",
    "    recommended_list = recommended_corr.head(n)[groupByVar].tolist()\n",
    "    filter_names = filteringFrom[filteringFrom[groupByVar].isin(recommended_list)]\n",
    "    \n",
    "    return filter_names"
   ]
  },
  {
   "cell_type": "code",
   "execution_count": 69,
   "metadata": {},
   "outputs": [],
   "source": [
    "def collaborative_filtering(data, groupByVar, indexId, Id, n, filteringFrom):\n",
    "    \n",
    "    #calling data preprocessing\n",
    "    rating = data_preprocessing_general(data, groupByVar, indexId)\n",
    "    \n",
    "    #artist_id \n",
    "    #see groupByVar rated by indexId\n",
    "    groupByVar_indexId_rating = rating[Id]\n",
    "    \n",
    "    #applying correlation for the entire user rating dataframe\n",
    "    #Collaborative Filtering Song Recommendation\n",
    "    #Pearson Correlation\n",
    "    recommended_data = rating.corrwith(groupByVar_indexId_rating)\n",
    "    \n",
    "    #data cleaning and sorting\n",
    "    recommended_corr = data_cleaning_general(recommended_data)\n",
    "    \n",
    "    #get top n artist list and artist names\n",
    "    if(filteringFrom is None):\n",
    "        recommended_items = recommended_corr.head(n)[groupByVar].tolist()\n",
    "    else:\n",
    "        recommended_items = get_top_n_artist_general(recommended_corr, groupByVar, n, filteringFrom)\n",
    "    \n",
    "    return recommended_items"
   ]
  },
  {
   "cell_type": "code",
   "execution_count": 70,
   "metadata": {},
   "outputs": [
    {
     "ename": "IndexError",
     "evalue": "Inconsistent shape between the condition and the input (got (14158, 1) and (14158,))",
     "output_type": "error",
     "traceback": [
      "\u001B[0;31m---------------------------------------------------------------------------\u001B[0m",
      "\u001B[0;31mIndexError\u001B[0m                                Traceback (most recent call last)",
      "\u001B[0;32m<ipython-input-70-490dc168a6bc>\u001B[0m in \u001B[0;36m<module>\u001B[0;34m\u001B[0m\n\u001B[0;32m----> 1\u001B[0;31m \u001B[0mrecommended_artist_names\u001B[0m \u001B[0;34m=\u001B[0m \u001B[0mcollaborative_filtering\u001B[0m\u001B[0;34m(\u001B[0m\u001B[0martist_data\u001B[0m\u001B[0;34m,\u001B[0m\u001B[0;34m'artist_id'\u001B[0m\u001B[0;34m,\u001B[0m \u001B[0;34m'user_id'\u001B[0m\u001B[0;34m,\u001B[0m \u001B[0;36m1058037\u001B[0m\u001B[0;34m,\u001B[0m \u001B[0;36m5\u001B[0m\u001B[0;34m,\u001B[0m \u001B[0martist_name_data\u001B[0m\u001B[0;34m)\u001B[0m\u001B[0;34m\u001B[0m\u001B[0;34m\u001B[0m\u001B[0m\n\u001B[0m\u001B[1;32m      2\u001B[0m \u001B[0mrecommended_artist_names\u001B[0m\u001B[0;34m\u001B[0m\u001B[0;34m\u001B[0m\u001B[0m\n",
      "\u001B[0;32m<ipython-input-69-8fcf3896d9d0>\u001B[0m in \u001B[0;36mcollaborative_filtering\u001B[0;34m(data, groupByVar, indexId, Id, n, filteringFrom)\u001B[0m\n\u001B[1;32m     16\u001B[0m     \u001B[0;32mimport\u001B[0m \u001B[0mseaborn\u001B[0m \u001B[0;32mas\u001B[0m \u001B[0msns\u001B[0m\u001B[0;34m\u001B[0m\u001B[0;34m\u001B[0m\u001B[0m\n\u001B[1;32m     17\u001B[0m     \u001B[0;32mimport\u001B[0m \u001B[0mmatplotlib\u001B[0m\u001B[0;34m.\u001B[0m\u001B[0mpyplot\u001B[0m \u001B[0;32mas\u001B[0m \u001B[0mplt\u001B[0m\u001B[0;34m\u001B[0m\u001B[0;34m\u001B[0m\u001B[0m\n\u001B[0;32m---> 18\u001B[0;31m     \u001B[0msns\u001B[0m\u001B[0;34m.\u001B[0m\u001B[0mheatmap\u001B[0m\u001B[0;34m(\u001B[0m\u001B[0mrecommended_data\u001B[0m\u001B[0;34m)\u001B[0m\u001B[0;34m\u001B[0m\u001B[0;34m\u001B[0m\u001B[0m\n\u001B[0m\u001B[1;32m     19\u001B[0m     \u001B[0mplt\u001B[0m\u001B[0;34m.\u001B[0m\u001B[0mshow\u001B[0m\u001B[0;34m(\u001B[0m\u001B[0;34m)\u001B[0m\u001B[0;34m\u001B[0m\u001B[0;34m\u001B[0m\u001B[0m\n\u001B[1;32m     20\u001B[0m \u001B[0;34m\u001B[0m\u001B[0m\n",
      "\u001B[0;32m~/opt/anaconda3/lib/python3.7/site-packages/seaborn/matrix.py\u001B[0m in \u001B[0;36mheatmap\u001B[0;34m(data, vmin, vmax, cmap, center, robust, annot, fmt, annot_kws, linewidths, linecolor, cbar, cbar_kws, cbar_ax, square, xticklabels, yticklabels, mask, ax, **kwargs)\u001B[0m\n\u001B[1;32m    515\u001B[0m     plotter = _HeatMapper(data, vmin, vmax, cmap, center, robust, annot, fmt,\n\u001B[1;32m    516\u001B[0m                           \u001B[0mannot_kws\u001B[0m\u001B[0;34m,\u001B[0m \u001B[0mcbar\u001B[0m\u001B[0;34m,\u001B[0m \u001B[0mcbar_kws\u001B[0m\u001B[0;34m,\u001B[0m \u001B[0mxticklabels\u001B[0m\u001B[0;34m,\u001B[0m\u001B[0;34m\u001B[0m\u001B[0;34m\u001B[0m\u001B[0m\n\u001B[0;32m--> 517\u001B[0;31m                           yticklabels, mask)\n\u001B[0m\u001B[1;32m    518\u001B[0m \u001B[0;34m\u001B[0m\u001B[0m\n\u001B[1;32m    519\u001B[0m     \u001B[0;31m# Add the pcolormesh kwargs here\u001B[0m\u001B[0;34m\u001B[0m\u001B[0;34m\u001B[0m\u001B[0;34m\u001B[0m\u001B[0m\n",
      "\u001B[0;32m~/opt/anaconda3/lib/python3.7/site-packages/seaborn/matrix.py\u001B[0m in \u001B[0;36m__init__\u001B[0;34m(self, data, vmin, vmax, cmap, center, robust, annot, fmt, annot_kws, cbar, cbar_kws, xticklabels, yticklabels, mask)\u001B[0m\n\u001B[1;32m    113\u001B[0m         \u001B[0mmask\u001B[0m \u001B[0;34m=\u001B[0m \u001B[0m_matrix_mask\u001B[0m\u001B[0;34m(\u001B[0m\u001B[0mdata\u001B[0m\u001B[0;34m,\u001B[0m \u001B[0mmask\u001B[0m\u001B[0;34m)\u001B[0m\u001B[0;34m\u001B[0m\u001B[0;34m\u001B[0m\u001B[0m\n\u001B[1;32m    114\u001B[0m \u001B[0;34m\u001B[0m\u001B[0m\n\u001B[0;32m--> 115\u001B[0;31m         \u001B[0mplot_data\u001B[0m \u001B[0;34m=\u001B[0m \u001B[0mnp\u001B[0m\u001B[0;34m.\u001B[0m\u001B[0mma\u001B[0m\u001B[0;34m.\u001B[0m\u001B[0mmasked_where\u001B[0m\u001B[0;34m(\u001B[0m\u001B[0mnp\u001B[0m\u001B[0;34m.\u001B[0m\u001B[0masarray\u001B[0m\u001B[0;34m(\u001B[0m\u001B[0mmask\u001B[0m\u001B[0;34m)\u001B[0m\u001B[0;34m,\u001B[0m \u001B[0mplot_data\u001B[0m\u001B[0;34m)\u001B[0m\u001B[0;34m\u001B[0m\u001B[0;34m\u001B[0m\u001B[0m\n\u001B[0m\u001B[1;32m    116\u001B[0m \u001B[0;34m\u001B[0m\u001B[0m\n\u001B[1;32m    117\u001B[0m         \u001B[0;31m# Get good names for the rows and columns\u001B[0m\u001B[0;34m\u001B[0m\u001B[0;34m\u001B[0m\u001B[0;34m\u001B[0m\u001B[0m\n",
      "\u001B[0;32m~/opt/anaconda3/lib/python3.7/site-packages/numpy/ma/core.py\u001B[0m in \u001B[0;36mmasked_where\u001B[0;34m(condition, a, copy)\u001B[0m\n\u001B[1;32m   1940\u001B[0m     \u001B[0;32mif\u001B[0m \u001B[0mcshape\u001B[0m \u001B[0;32mand\u001B[0m \u001B[0mcshape\u001B[0m \u001B[0;34m!=\u001B[0m \u001B[0mashape\u001B[0m\u001B[0;34m:\u001B[0m\u001B[0;34m\u001B[0m\u001B[0;34m\u001B[0m\u001B[0m\n\u001B[1;32m   1941\u001B[0m         raise IndexError(\"Inconsistent shape between the condition and the input\"\n\u001B[0;32m-> 1942\u001B[0;31m                          \" (got %s and %s)\" % (cshape, ashape))\n\u001B[0m\u001B[1;32m   1943\u001B[0m     \u001B[0;32mif\u001B[0m \u001B[0mhasattr\u001B[0m\u001B[0;34m(\u001B[0m\u001B[0ma\u001B[0m\u001B[0;34m,\u001B[0m \u001B[0;34m'_mask'\u001B[0m\u001B[0;34m)\u001B[0m\u001B[0;34m:\u001B[0m\u001B[0;34m\u001B[0m\u001B[0;34m\u001B[0m\u001B[0m\n\u001B[1;32m   1944\u001B[0m         \u001B[0mcond\u001B[0m \u001B[0;34m=\u001B[0m \u001B[0mmask_or\u001B[0m\u001B[0;34m(\u001B[0m\u001B[0mcond\u001B[0m\u001B[0;34m,\u001B[0m \u001B[0ma\u001B[0m\u001B[0;34m.\u001B[0m\u001B[0m_mask\u001B[0m\u001B[0;34m)\u001B[0m\u001B[0;34m\u001B[0m\u001B[0;34m\u001B[0m\u001B[0m\n",
      "\u001B[0;31mIndexError\u001B[0m: Inconsistent shape between the condition and the input (got (14158, 1) and (14158,))"
     ]
    }
   ],
   "source": [
    "recommended_artist_names = collaborative_filtering(artist_data,'artist_id', 'user_id', 1058037, 5, artist_name_data)\n",
    "recommended_artist_names"
   ]
  },
  {
   "cell_type": "code",
   "execution_count": 62,
   "metadata": {},
   "outputs": [],
   "source": [
    "recommended_songs_Ids = collaborative_filtering(songs_data, 'song_id', 'user_id', 90134, 5, None)"
   ]
  },
  {
   "cell_type": "code",
   "execution_count": 63,
   "metadata": {},
   "outputs": [
    {
     "data": {
      "text/plain": [
       "[44204, 45036, 36829, 21306, 92419]"
      ]
     },
     "execution_count": 63,
     "metadata": {},
     "output_type": "execute_result"
    }
   ],
   "source": [
    "recommended_songs_Ids"
   ]
  },
  {
   "cell_type": "code",
   "execution_count": null,
   "metadata": {},
   "outputs": [],
   "source": [
    "import pandas as pd\n",
    "import matplotlib.pyplot as plt\n",
    "\n",
    "\n",
    "# calculate the correlation matrix\n",
    "corr_matrix = artist_data.pivot_table(index='user_id', columns='artist_id', values='rating').corr()\n",
    "\n",
    "# visualize the correlation matrix using a heatmap\n",
    "plt.figure(figsize=(15,15))\n",
    "plt.imshow(corr_matrix, cmap='coolwarm')\n",
    "plt.colorbar()\n",
    "plt.show()"
   ]
  },
  {
   "cell_type": "code",
   "execution_count": null,
   "metadata": {},
   "outputs": [],
   "source": []
  }
 ],
 "metadata": {
  "kernelspec": {
   "display_name": "Python 3",
   "language": "python",
   "name": "python3"
  },
  "language_info": {
   "codemirror_mode": {
    "name": "ipython",
    "version": 3
   },
   "file_extension": ".py",
   "mimetype": "text/x-python",
   "name": "python",
   "nbconvert_exporter": "python",
   "pygments_lexer": "ipython3",
   "version": "3.7.4"
  }
 },
 "nbformat": 4,
 "nbformat_minor": 2
}
