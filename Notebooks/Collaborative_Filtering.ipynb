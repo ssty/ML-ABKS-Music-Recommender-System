{
 "cells": [
  {
   "cell_type": "code",
   "execution_count": 5,
   "metadata": {},
   "outputs": [],
   "source": [
    "import pandas as pd\n",
    "import numpy as np\n",
    "\n",
    "artist_data = pd.read_csv('datasets/ydata-ymusic-user-artist-rating.csv')\n",
    "artist_name_data = pd.read_csv('datasets/ydata-ymusic-artist-names.csv')\n"
   ]
  },
  {
   "cell_type": "code",
   "execution_count": 6,
   "metadata": {},
   "outputs": [],
   "source": [
    "#Data preprocessing\n",
    "def data_preprocessing(artist_data):\n",
    "    \n",
    "    #to show popular artist\n",
    "    avg_rating = pd.DataFrame(artist_data.groupby('artist_id')['rating'].mean().reset_index())\n",
    "    avg_rating.sort_values('rating', ascending = False).head(20)\n",
    "    \n",
    "    #creating pivot table\n",
    "    user_rating = pd.pivot_table(data=artist_data, values='rating', index='user_id', columns='artist_id')\n",
    "    \n",
    "    return user_rating"
   ]
  },
  {
   "cell_type": "code",
   "execution_count": 7,
   "metadata": {},
   "outputs": [],
   "source": [
    "def data_cleaning(recommended_artist):\n",
    "    \n",
    "     #data cleaning and sorting\n",
    "    recommended_artist_corr = pd.DataFrame(recommended_artist, columns=['Correlation'])\n",
    "    recommended_artist_corr.dropna(inplace=True)\n",
    "    recommended_artist_corr = recommended_artist_corr.sort_values('Correlation', ascending=False).reset_index()\n",
    "    \n",
    "    return recommended_artist_corr"
   ]
  },
  {
   "cell_type": "code",
   "execution_count": 11,
   "metadata": {},
   "outputs": [],
   "source": [
    "def get_top_n_artist(recommended_artist_corr, n):\n",
    "    \n",
    "    #get top n artist list and artist names\n",
    "    artist_list = recommended_artist_corr.head(n)['artist_id'].tolist()\n",
    "    artist_names = artist_name_data[artist_name_data['artist_id'].isin(artist_list)]\n",
    "    \n",
    "    return artist_names"
   ]
  },
  {
   "cell_type": "code",
   "execution_count": 12,
   "metadata": {},
   "outputs": [],
   "source": [
    "def collaborative_filtering(artist_data, artist_id, n):\n",
    "    \n",
    "    #calling data preprocessing\n",
    "    user_rating = data_preprocessing(artist_data)\n",
    "    \n",
    "    #artist_id \n",
    "    #see artists rated by user\n",
    "    artist_user_rating = user_rating[artist_id]\n",
    "    \n",
    "    #applying correlation for the entire user rating dataframe\n",
    "    #Collaborative Filtering Song Recommendation\n",
    "    #Pearson Correlation\n",
    "    recommended_artist = user_rating.corrwith(artist_user_rating)\n",
    "    \n",
    "    #data cleaning and sorting\n",
    "    recommended_artist_corr = data_cleaning(recommended_artist)\n",
    "    \n",
    "    #get top n artist list and artist names\n",
    "    artist_names = get_top_n_artist(recommended_artist_corr, n)\n",
    "    \n",
    "    return artist_names"
   ]
  },
  {
   "cell_type": "code",
   "execution_count": 13,
   "metadata": {},
   "outputs": [
    {
     "data": {
      "text/html": [
       "<div>\n",
       "<style scoped>\n",
       "    .dataframe tbody tr th:only-of-type {\n",
       "        vertical-align: middle;\n",
       "    }\n",
       "\n",
       "    .dataframe tbody tr th {\n",
       "        vertical-align: top;\n",
       "    }\n",
       "\n",
       "    .dataframe thead th {\n",
       "        text-align: right;\n",
       "    }\n",
       "</style>\n",
       "<table border=\"1\" class=\"dataframe\">\n",
       "  <thead>\n",
       "    <tr style=\"text-align: right;\">\n",
       "      <th></th>\n",
       "      <th>artist_id</th>\n",
       "      <th>artist</th>\n",
       "    </tr>\n",
       "  </thead>\n",
       "  <tbody>\n",
       "    <tr>\n",
       "      <th>15486</th>\n",
       "      <td>1015911</td>\n",
       "      <td>Lords Of Acid</td>\n",
       "    </tr>\n",
       "    <tr>\n",
       "      <th>17287</th>\n",
       "      <td>1017742</td>\n",
       "      <td>Melvins</td>\n",
       "    </tr>\n",
       "    <tr>\n",
       "      <th>34356</th>\n",
       "      <td>1035342</td>\n",
       "      <td>Borknagar</td>\n",
       "    </tr>\n",
       "    <tr>\n",
       "      <th>39172</th>\n",
       "      <td>1040238</td>\n",
       "      <td>Mindless Self Indulgence</td>\n",
       "    </tr>\n",
       "    <tr>\n",
       "      <th>39633</th>\n",
       "      <td>1040701</td>\n",
       "      <td>Speak No Evil</td>\n",
       "    </tr>\n",
       "  </tbody>\n",
       "</table>\n",
       "</div>"
      ],
      "text/plain": [
       "       artist_id                    artist\n",
       "15486    1015911             Lords Of Acid\n",
       "17287    1017742                   Melvins\n",
       "34356    1035342                 Borknagar\n",
       "39172    1040238  Mindless Self Indulgence\n",
       "39633    1040701             Speak No Evil"
      ]
     },
     "execution_count": 13,
     "metadata": {},
     "output_type": "execute_result"
    }
   ],
   "source": [
    "recommended_artist_name = collaborative_filtering(artist_data,1058037, 5)\n",
    "recommended_artist_name"
   ]
  },
  {
   "cell_type": "code",
   "execution_count": null,
   "metadata": {},
   "outputs": [],
   "source": []
  }
 ],
 "metadata": {
  "kernelspec": {
   "display_name": "Python 3",
   "language": "python",
   "name": "python3"
  },
  "language_info": {
   "codemirror_mode": {
    "name": "ipython",
    "version": 3
   },
   "file_extension": ".py",
   "mimetype": "text/x-python",
   "name": "python",
   "nbconvert_exporter": "python",
   "pygments_lexer": "ipython3",
   "version": "3.7.4"
  }
 },
 "nbformat": 4,
 "nbformat_minor": 2
}
