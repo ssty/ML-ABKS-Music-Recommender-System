{
 "cells": [
  {
   "cell_type": "code",
   "execution_count": 1,
   "id": "9a503b14",
   "metadata": {
    "scrolled": true
   },
   "outputs": [],
   "source": [
    "from sklearn.feature_extraction.text import TfidfVectorizer\n",
    "from sklearn.metrics.pairwise import linear_kernel\n",
    "import pandas as pd\n",
    "import os\n",
    "import numpy as np"
   ]
  },
  {
   "cell_type": "code",
   "execution_count": 2,
   "id": "1df4983f",
   "metadata": {},
   "outputs": [
    {
     "data": {
      "text/plain": "'/Users/bipinkarki/Desktop/ML-ABKS-Music-Recommender-System/Notebooks'"
     },
     "execution_count": 2,
     "metadata": {},
     "output_type": "execute_result"
    }
   ],
   "source": [
    "os.getcwd()"
   ]
  },
  {
   "cell_type": "code",
   "execution_count": 5,
   "id": "a6060b8e",
   "metadata": {},
   "outputs": [],
   "source": [
    "tracks = pd.read_csv(r\"datasets/tracks.csv\")"
   ]
  },
  {
   "cell_type": "code",
   "execution_count": 16,
   "id": "073fdbcb",
   "metadata": {},
   "outputs": [
    {
     "data": {
      "text/plain": "      track-id   track-name      genre  artist-id artist-name    rating  \\\n9995      9996   Track 9996  Classical        313  Artist 313  1.660654   \n9996      9997   Track 9997      Blues        558  Artist 558  2.807437   \n9997      9998   Track 9998      Latin        673  Artist 673  1.575468   \n9998      9999   Track 9999    Hip Hop        106  Artist 106  0.490193   \n9999     10000  Track 10000  Classical        423  Artist 423  4.105675   \n\n      popularity                                        instruments  \n9995           6  ['Trumpet', 'Bass', 'Guitar', 'Drums', 'Cello'...  \n9996           3         ['Vocals', 'Guitar', 'Saxophone', 'Piano']  \n9997           9  ['Drums', 'Guitar', 'Saxophone', 'Violin', 'Pi...  \n9998           2  ['Piano', 'Guitar', 'Drums', 'Violin', 'Trumpe...  \n9999           0               ['Guitar', 'Drums', 'Piano', 'Bass']  ",
      "text/html": "<div>\n<style scoped>\n    .dataframe tbody tr th:only-of-type {\n        vertical-align: middle;\n    }\n\n    .dataframe tbody tr th {\n        vertical-align: top;\n    }\n\n    .dataframe thead th {\n        text-align: right;\n    }\n</style>\n<table border=\"1\" class=\"dataframe\">\n  <thead>\n    <tr style=\"text-align: right;\">\n      <th></th>\n      <th>track-id</th>\n      <th>track-name</th>\n      <th>genre</th>\n      <th>artist-id</th>\n      <th>artist-name</th>\n      <th>rating</th>\n      <th>popularity</th>\n      <th>instruments</th>\n    </tr>\n  </thead>\n  <tbody>\n    <tr>\n      <th>9995</th>\n      <td>9996</td>\n      <td>Track 9996</td>\n      <td>Classical</td>\n      <td>313</td>\n      <td>Artist 313</td>\n      <td>1.660654</td>\n      <td>6</td>\n      <td>['Trumpet', 'Bass', 'Guitar', 'Drums', 'Cello'...</td>\n    </tr>\n    <tr>\n      <th>9996</th>\n      <td>9997</td>\n      <td>Track 9997</td>\n      <td>Blues</td>\n      <td>558</td>\n      <td>Artist 558</td>\n      <td>2.807437</td>\n      <td>3</td>\n      <td>['Vocals', 'Guitar', 'Saxophone', 'Piano']</td>\n    </tr>\n    <tr>\n      <th>9997</th>\n      <td>9998</td>\n      <td>Track 9998</td>\n      <td>Latin</td>\n      <td>673</td>\n      <td>Artist 673</td>\n      <td>1.575468</td>\n      <td>9</td>\n      <td>['Drums', 'Guitar', 'Saxophone', 'Violin', 'Pi...</td>\n    </tr>\n    <tr>\n      <th>9998</th>\n      <td>9999</td>\n      <td>Track 9999</td>\n      <td>Hip Hop</td>\n      <td>106</td>\n      <td>Artist 106</td>\n      <td>0.490193</td>\n      <td>2</td>\n      <td>['Piano', 'Guitar', 'Drums', 'Violin', 'Trumpe...</td>\n    </tr>\n    <tr>\n      <th>9999</th>\n      <td>10000</td>\n      <td>Track 10000</td>\n      <td>Classical</td>\n      <td>423</td>\n      <td>Artist 423</td>\n      <td>4.105675</td>\n      <td>0</td>\n      <td>['Guitar', 'Drums', 'Piano', 'Bass']</td>\n    </tr>\n  </tbody>\n</table>\n</div>"
     },
     "execution_count": 16,
     "metadata": {},
     "output_type": "execute_result"
    }
   ],
   "source": [
    "tracks.tail(5)"
   ]
  },
  {
   "cell_type": "code",
   "execution_count": 7,
   "id": "155d8c1a",
   "metadata": {},
   "outputs": [
    {
     "data": {
      "text/plain": "(10000, 9992)"
     },
     "execution_count": 7,
     "metadata": {},
     "output_type": "execute_result"
    }
   ],
   "source": [
    "tfidf = TfidfVectorizer(stop_words='english')\n",
    "\n",
    "#Replace NaN with an empty string\n",
    "tracks['track-name'] = tracks['track-name'].fillna('')\n",
    "\n",
    "tracks = tracks.head(25000)\n",
    "\n",
    "#Construct the required TF-IDF matrix by fitting and transforming the data\n",
    "tfidf_matrix = tfidf.fit_transform(tracks['track-name'])\n",
    "\n",
    "#Output the shape of tfidf_matrix\n",
    "tfidf_matrix.shape\n"
   ]
  }
 ],
 "metadata": {
  "kernelspec": {
   "display_name": "Python 3 (ipykernel)",
   "language": "python",
   "name": "python3"
  },
  "language_info": {
   "codemirror_mode": {
    "name": "ipython",
    "version": 3
   },
   "file_extension": ".py",
   "mimetype": "text/x-python",
   "name": "python",
   "nbconvert_exporter": "python",
   "pygments_lexer": "ipython3",
   "version": "3.9.12"
  }
 },
 "nbformat": 4,
 "nbformat_minor": 5
}
