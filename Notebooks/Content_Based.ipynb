{
 "cells": [
  {
   "cell_type": "code",
   "execution_count": 4,
   "id": "9a503b14",
   "metadata": {
    "scrolled": true
   },
   "outputs": [],
   "source": [
    "from sklearn.feature_extraction.text import TfidfVectorizer\n",
    "from sklearn.metrics.pairwise import linear_kernel\n",
    "import pandas as pd\n",
    "import os\n",
    "import numpy as np"
   ]
  },
  {
   "cell_type": "code",
   "execution_count": 5,
   "id": "1df4983f",
   "metadata": {},
   "outputs": [
    {
     "data": {
      "text/plain": "'/Users/bipinkarki/Desktop/ML-ABKS-Music-Recommender-System/Notebooks'"
     },
     "execution_count": 5,
     "metadata": {},
     "output_type": "execute_result"
    }
   ],
   "source": [
    "os.getcwd()"
   ]
  },
  {
   "cell_type": "code",
   "execution_count": 6,
   "id": "a6060b8e",
   "metadata": {},
   "outputs": [],
   "source": [
    "tracks = pd.read_csv(r\"datasets/data.csv\")"
   ]
  },
  {
   "cell_type": "code",
   "execution_count": 7,
   "id": "073fdbcb",
   "metadata": {},
   "outputs": [
    {
     "data": {
      "text/plain": "        valence  year  acousticness  \\\n170623   0.5580  2020      0.175000   \n170624   0.6970  2020      0.052900   \n170625   0.7700  2020      0.035800   \n170626   0.1550  2020      0.062700   \n170627   0.6290  2020      0.410000   \n170628   0.3230  2020      0.000206   \n170629   0.6910  2020      0.040600   \n170630   0.6590  2020      0.002480   \n170631   0.3270  2020      0.217000   \n170632   0.7380  2020      0.160000   \n170633   0.3520  2020      0.886000   \n170634   0.5450  2020      0.082900   \n170635   0.1580  2020      0.541000   \n170636   0.3940  2020      0.201000   \n170637   0.3290  2020      0.109000   \n170638   0.2100  2020      0.968000   \n170639   0.5220  2020      0.008610   \n170640   0.6940  2020      0.069900   \n170641   0.1870  2020      0.574000   \n170642   0.2400  2020      0.815000   \n170643   0.9070  2020      0.009520   \n170644   0.4660  2020      0.310000   \n170645   0.1690  2020      0.994000   \n170646   0.5220  2020      0.204000   \n170647   0.0838  2020      0.974000   \n170648   0.6080  2020      0.084600   \n170649   0.7340  2020      0.206000   \n170650   0.6370  2020      0.101000   \n170651   0.1950  2020      0.009980   \n170652   0.6420  2020      0.132000   \n\n                                                  artists  danceability  \\\n170623                                   ['Brent Faiyaz']         0.743   \n170624                                          ['Ozuna']         0.735   \n170625                            ['Quinn XCII', 'Logic']         0.822   \n170626                                 ['Cookiee Kawaii']         0.778   \n170627  ['Rauw Alejandro', 'Myke Towers', 'Sky Rompien...         0.809   \n170628                                    ['Miley Cyrus']         0.407   \n170629                       ['Rauw Alejandro', 'Camilo']         0.721   \n170630                            ['DVBBS', 'Quinn XCII']         0.714   \n170631                     ['YoungBoy Never Broke Again']         0.485   \n170632  ['Rauw Alejandro', 'Dalex', 'Lenny Tavárez', '...         0.788   \n170633                                     ['Tate McRae']         0.569   \n170634                                         ['Polo G']         0.796   \n170635                                  ['Chris Renzema']         0.292   \n170636               ['Myke Towers', 'Maluma', 'Farruko']         0.775   \n170637                                      ['LPB Poody']         0.903   \n170638                                   ['Lana Del Rey']         0.234   \n170639                                   ['Pooh Shiesty']         0.819   \n170640    ['Loud Luxury', 'Frank Walker', 'Stephen Puth']         0.759   \n170641                                          ['Bazzi']         0.445   \n170642                                  ['Bryson Tiller']         0.467   \n170643  ['DJ Scheme', 'Cordae', 'Ski Mask The Slump Go...         0.917   \n170644                                    ['Fleet Foxes']         0.562   \n170645                                 ['Ólafur Arnalds']         0.281   \n170646                                          ['Gunna']         0.598   \n170647                                   ['Najma Wallin']         0.175   \n170648  ['Anuel AA', 'Daddy Yankee', 'KAROL G', 'Ozuna...         0.786   \n170649                                       ['Ashnikko']         0.717   \n170650                                        ['MAMAMOO']         0.634   \n170651                                         ['Eminem']         0.671   \n170652                              ['KEVVO', 'J Balvin']         0.856   \n\n        duration_ms   energy  explicit                      id  \\\n170623       215058  0.54800         0  0dJhXJKZTpiaxTUc7uItIN   \n170624       217240  0.79100         0  5Jm4w8jmPEBTLjI9vH4fXo   \n170625       212013  0.83400         1  73681b7Hc0THHGZrSzl75y   \n170626        84000  0.57600         1  4ZAQiu61otvHVveuTsPAUr   \n170627       184817  0.62400         1  10u2iOS0r6plfb9GknD7g4   \n170628       290768  0.87200         0  6IsiCdn42x5fGWTUqkyDwj   \n170629       222680  0.63700         0  4G3PTss3mU33Tau7t4KbwE   \n170630       150819  0.79800         0  4fCE1SCDulouoac9Q8XroU   \n170631       156077  0.81400         1  3qHgGyJY4GpXNOK4WL4NSo   \n170632       325692  0.62900         1  3oCghu20Kto5Xcu8Pg0cit   \n170633       190652  0.27100         0  2GSLoT7abyYGchSSDCpWEI   \n170634       176543  0.61200         1  6V1Jx3o0S2MtBI9yIDXsJS   \n170635       254107  0.35500         0  5XBbvUfLSFAT5Rh8eudY8G   \n170636       250333  0.63300         1  70zg99pT51vB4wlMS7e4q7   \n170637       146688  0.61100         1  1FgPyHX7HruKDL4Tx4MeZB   \n170638       186000  0.11400         0  25Mld9UGdMqXYDU2x8l3ld   \n170639       177110  0.65100         1  7w77k7yCaDOMe25fYxnzit   \n170640       176389  0.84500         0  5seWZTjT0U8a7cy3Y5NJQ9   \n170641       176250  0.33000         0  0PUkanqCGTb6qseXPKOw1F   \n170642       179188  0.42900         0  6Iw6fQVKZi0fWtEQBrTFcP   \n170643       228333  0.56900         1  3C9D1X8NkG2Ak1RaGpRnnQ   \n170644       253613  0.68600         0  308prODCCD0O660tIktbUi   \n170645       190500  0.03330         0  13MOQ6oQqkrZEDkZOHukCw   \n170646       230600  0.47200         1  2f8y4CuG57UJEmkG3ujd0D   \n170647       133500  0.00759         0  6RuFOroO9VO0aMGEzirLHk   \n170648       301714  0.80800         0  0KkIkfsLEJbrcIhYsCL7L5   \n170649       150654  0.75300         0  0OStKKAuXlxA0fMH54Qs6E   \n170650       211280  0.85800         0  4BZXVFYCb76Q0Klojq4piV   \n170651       337147  0.62300         1  5SiZJoLXp3WOl3J4C8IK0d   \n170652       189507  0.72100         1  7HmnJHfs0BkFzX4x8j0hkl   \n\n        instrumentalness  key  liveness  loudness  mode  \\\n170623          0.000180    6    0.0880    -6.545     0   \n170624          0.000146    6    0.1450    -4.462     1   \n170625          0.000000    6    0.0461    -2.879     0   \n170626          0.004400   10    0.1160    -8.698     1   \n170627          0.000000    8    0.1080    -4.963     0   \n170628          0.045100    7    0.1270    -5.001     1   \n170629          0.000000    9    0.0525    -5.134     1   \n170630          0.000678    5    0.1030    -4.239     0   \n170631          0.000000    9    0.1120    -3.907     1   \n170632          0.000828    0    0.0598    -4.727     1   \n170633          0.000000   10    0.1030   -10.969     1   \n170634          0.000000    1    0.0607    -6.994     1   \n170635          0.000000    5    0.0931    -7.225     1   \n170636          0.000000   10    0.2190    -3.332     0   \n170637          0.000199   10    0.0904    -8.006     0   \n170638          0.003910   11    0.1030   -19.136     0   \n170639          0.000000   10    0.3780    -5.859     0   \n170640          0.000087    6    0.2150    -6.794     0   \n170641          0.000000    9    0.1020    -8.121     1   \n170642          0.000052    6    0.1770    -8.689     0   \n170643          0.000000    7    0.0774   -10.456     1   \n170644          0.022500    7    0.1250    -8.480     1   \n170645          0.959000    6    0.0995   -31.460     1   \n170646          0.000015    0    0.1080   -10.991     1   \n170647          0.925000    7    0.1130   -35.072     1   \n170648          0.000289    7    0.0822    -3.702     1   \n170649          0.000000    7    0.1010    -6.020     1   \n170650          0.000009    4    0.2580    -2.226     0   \n170651          0.000008    2    0.6430    -7.161     1   \n170652          0.004710    7    0.1820    -4.928     1   \n\n                                                     name  popularity  \\\n170623                                        Let Me Know          65   \n170624                                           Caramelo          80   \n170625          A Letter To My Younger Self (feat. Logic)          65   \n170626                             Vibe (If I Back It Up)          68   \n170627                                       Ponte Pa' Mi          74   \n170628  Zombie (Live from the NIVA Save Our Stages Fes...          71   \n170629                         Tattoo - Remix with Camilo          71   \n170630                      West Coast (feat. Quinn XCII)          67   \n170631                                            Red Eye          63   \n170632  Elegí (feat. Farruko, Anuel AA, Sech, Dímelo F...          75   \n170633                          Heather - Spotify Singles          64   \n170634                              Trials & Tribulations          65   \n170635                                         Springtime          63   \n170636                                   La Playa - Remix          74   \n170637                                         Address It          68   \n170638                    Summertime The Gershwin Version          57   \n170639                                           7.62 God          62   \n170640                                          Like Gold          69   \n170641                             I Don't Think I'm Okay          69   \n170642                                 Timeless Interlude          65   \n170643                        Soda (feat. Take A Daytrip)          66   \n170644                                           Sunblind          66   \n170645                  We Contain Multitudes (from home)          70   \n170646                             NASTY GIRL / ON CAMERA          66   \n170647                                    Med slutna ögon          70   \n170648                                              China          72   \n170649                        Halloweenie III: Seven Days          68   \n170650                                                AYA          76   \n170651                                           Darkness          70   \n170652                    Billetes Azules (with J Balvin)          74   \n\n       release_date  speechiness    tempo  \n170623   2020-02-07       0.0947   85.017  \n170624   2020-09-04       0.0679  168.087  \n170625   2020-07-10       0.0663  115.006  \n170626   2020-08-28       0.3010   80.027  \n170627   2020-04-16       0.1550   85.011  \n170628   2020-10-23       0.0354  164.000  \n170629   2020-11-13       0.2860  193.922  \n170630   2020-10-16       0.0612  119.017  \n170631   2020-02-21       0.1380  159.894  \n170632   2020-08-28       0.0883  172.044  \n170633   2020-11-11       0.0271   91.888  \n170634   2020-05-15       0.4330   87.542  \n170635   2020-04-24       0.0294   71.041  \n170636   2020-01-03       0.1330  140.008  \n170637   2020-05-05       0.2680   94.525  \n170638   2020-11-19       0.0366  189.986  \n170639   2020-07-03       0.2910   77.013  \n170640   2020-10-30       0.0421  124.000  \n170641   2020-07-09       0.0429  128.025  \n170642   2020-10-02       0.0964  148.530  \n170643   2020-11-13       0.2790  144.014  \n170644   2020-09-22       0.0249  103.054  \n170645   2020-08-26       0.0348   90.250  \n170646   2020-05-22       0.2580  120.080  \n170647   2020-02-21       0.0454   70.872  \n170648   2020-05-29       0.0881  105.029  \n170649   2020-10-23       0.0605  137.936  \n170650   2020-11-03       0.0809   91.688  \n170651   2020-01-17       0.3080   75.055  \n170652   2020-10-16       0.1080   94.991  ",
      "text/html": "<div>\n<style scoped>\n    .dataframe tbody tr th:only-of-type {\n        vertical-align: middle;\n    }\n\n    .dataframe tbody tr th {\n        vertical-align: top;\n    }\n\n    .dataframe thead th {\n        text-align: right;\n    }\n</style>\n<table border=\"1\" class=\"dataframe\">\n  <thead>\n    <tr style=\"text-align: right;\">\n      <th></th>\n      <th>valence</th>\n      <th>year</th>\n      <th>acousticness</th>\n      <th>artists</th>\n      <th>danceability</th>\n      <th>duration_ms</th>\n      <th>energy</th>\n      <th>explicit</th>\n      <th>id</th>\n      <th>instrumentalness</th>\n      <th>key</th>\n      <th>liveness</th>\n      <th>loudness</th>\n      <th>mode</th>\n      <th>name</th>\n      <th>popularity</th>\n      <th>release_date</th>\n      <th>speechiness</th>\n      <th>tempo</th>\n    </tr>\n  </thead>\n  <tbody>\n    <tr>\n      <th>170623</th>\n      <td>0.5580</td>\n      <td>2020</td>\n      <td>0.175000</td>\n      <td>['Brent Faiyaz']</td>\n      <td>0.743</td>\n      <td>215058</td>\n      <td>0.54800</td>\n      <td>0</td>\n      <td>0dJhXJKZTpiaxTUc7uItIN</td>\n      <td>0.000180</td>\n      <td>6</td>\n      <td>0.0880</td>\n      <td>-6.545</td>\n      <td>0</td>\n      <td>Let Me Know</td>\n      <td>65</td>\n      <td>2020-02-07</td>\n      <td>0.0947</td>\n      <td>85.017</td>\n    </tr>\n    <tr>\n      <th>170624</th>\n      <td>0.6970</td>\n      <td>2020</td>\n      <td>0.052900</td>\n      <td>['Ozuna']</td>\n      <td>0.735</td>\n      <td>217240</td>\n      <td>0.79100</td>\n      <td>0</td>\n      <td>5Jm4w8jmPEBTLjI9vH4fXo</td>\n      <td>0.000146</td>\n      <td>6</td>\n      <td>0.1450</td>\n      <td>-4.462</td>\n      <td>1</td>\n      <td>Caramelo</td>\n      <td>80</td>\n      <td>2020-09-04</td>\n      <td>0.0679</td>\n      <td>168.087</td>\n    </tr>\n    <tr>\n      <th>170625</th>\n      <td>0.7700</td>\n      <td>2020</td>\n      <td>0.035800</td>\n      <td>['Quinn XCII', 'Logic']</td>\n      <td>0.822</td>\n      <td>212013</td>\n      <td>0.83400</td>\n      <td>1</td>\n      <td>73681b7Hc0THHGZrSzl75y</td>\n      <td>0.000000</td>\n      <td>6</td>\n      <td>0.0461</td>\n      <td>-2.879</td>\n      <td>0</td>\n      <td>A Letter To My Younger Self (feat. Logic)</td>\n      <td>65</td>\n      <td>2020-07-10</td>\n      <td>0.0663</td>\n      <td>115.006</td>\n    </tr>\n    <tr>\n      <th>170626</th>\n      <td>0.1550</td>\n      <td>2020</td>\n      <td>0.062700</td>\n      <td>['Cookiee Kawaii']</td>\n      <td>0.778</td>\n      <td>84000</td>\n      <td>0.57600</td>\n      <td>1</td>\n      <td>4ZAQiu61otvHVveuTsPAUr</td>\n      <td>0.004400</td>\n      <td>10</td>\n      <td>0.1160</td>\n      <td>-8.698</td>\n      <td>1</td>\n      <td>Vibe (If I Back It Up)</td>\n      <td>68</td>\n      <td>2020-08-28</td>\n      <td>0.3010</td>\n      <td>80.027</td>\n    </tr>\n    <tr>\n      <th>170627</th>\n      <td>0.6290</td>\n      <td>2020</td>\n      <td>0.410000</td>\n      <td>['Rauw Alejandro', 'Myke Towers', 'Sky Rompien...</td>\n      <td>0.809</td>\n      <td>184817</td>\n      <td>0.62400</td>\n      <td>1</td>\n      <td>10u2iOS0r6plfb9GknD7g4</td>\n      <td>0.000000</td>\n      <td>8</td>\n      <td>0.1080</td>\n      <td>-4.963</td>\n      <td>0</td>\n      <td>Ponte Pa' Mi</td>\n      <td>74</td>\n      <td>2020-04-16</td>\n      <td>0.1550</td>\n      <td>85.011</td>\n    </tr>\n    <tr>\n      <th>170628</th>\n      <td>0.3230</td>\n      <td>2020</td>\n      <td>0.000206</td>\n      <td>['Miley Cyrus']</td>\n      <td>0.407</td>\n      <td>290768</td>\n      <td>0.87200</td>\n      <td>0</td>\n      <td>6IsiCdn42x5fGWTUqkyDwj</td>\n      <td>0.045100</td>\n      <td>7</td>\n      <td>0.1270</td>\n      <td>-5.001</td>\n      <td>1</td>\n      <td>Zombie (Live from the NIVA Save Our Stages Fes...</td>\n      <td>71</td>\n      <td>2020-10-23</td>\n      <td>0.0354</td>\n      <td>164.000</td>\n    </tr>\n    <tr>\n      <th>170629</th>\n      <td>0.6910</td>\n      <td>2020</td>\n      <td>0.040600</td>\n      <td>['Rauw Alejandro', 'Camilo']</td>\n      <td>0.721</td>\n      <td>222680</td>\n      <td>0.63700</td>\n      <td>0</td>\n      <td>4G3PTss3mU33Tau7t4KbwE</td>\n      <td>0.000000</td>\n      <td>9</td>\n      <td>0.0525</td>\n      <td>-5.134</td>\n      <td>1</td>\n      <td>Tattoo - Remix with Camilo</td>\n      <td>71</td>\n      <td>2020-11-13</td>\n      <td>0.2860</td>\n      <td>193.922</td>\n    </tr>\n    <tr>\n      <th>170630</th>\n      <td>0.6590</td>\n      <td>2020</td>\n      <td>0.002480</td>\n      <td>['DVBBS', 'Quinn XCII']</td>\n      <td>0.714</td>\n      <td>150819</td>\n      <td>0.79800</td>\n      <td>0</td>\n      <td>4fCE1SCDulouoac9Q8XroU</td>\n      <td>0.000678</td>\n      <td>5</td>\n      <td>0.1030</td>\n      <td>-4.239</td>\n      <td>0</td>\n      <td>West Coast (feat. Quinn XCII)</td>\n      <td>67</td>\n      <td>2020-10-16</td>\n      <td>0.0612</td>\n      <td>119.017</td>\n    </tr>\n    <tr>\n      <th>170631</th>\n      <td>0.3270</td>\n      <td>2020</td>\n      <td>0.217000</td>\n      <td>['YoungBoy Never Broke Again']</td>\n      <td>0.485</td>\n      <td>156077</td>\n      <td>0.81400</td>\n      <td>1</td>\n      <td>3qHgGyJY4GpXNOK4WL4NSo</td>\n      <td>0.000000</td>\n      <td>9</td>\n      <td>0.1120</td>\n      <td>-3.907</td>\n      <td>1</td>\n      <td>Red Eye</td>\n      <td>63</td>\n      <td>2020-02-21</td>\n      <td>0.1380</td>\n      <td>159.894</td>\n    </tr>\n    <tr>\n      <th>170632</th>\n      <td>0.7380</td>\n      <td>2020</td>\n      <td>0.160000</td>\n      <td>['Rauw Alejandro', 'Dalex', 'Lenny Tavárez', '...</td>\n      <td>0.788</td>\n      <td>325692</td>\n      <td>0.62900</td>\n      <td>1</td>\n      <td>3oCghu20Kto5Xcu8Pg0cit</td>\n      <td>0.000828</td>\n      <td>0</td>\n      <td>0.0598</td>\n      <td>-4.727</td>\n      <td>1</td>\n      <td>Elegí (feat. Farruko, Anuel AA, Sech, Dímelo F...</td>\n      <td>75</td>\n      <td>2020-08-28</td>\n      <td>0.0883</td>\n      <td>172.044</td>\n    </tr>\n    <tr>\n      <th>170633</th>\n      <td>0.3520</td>\n      <td>2020</td>\n      <td>0.886000</td>\n      <td>['Tate McRae']</td>\n      <td>0.569</td>\n      <td>190652</td>\n      <td>0.27100</td>\n      <td>0</td>\n      <td>2GSLoT7abyYGchSSDCpWEI</td>\n      <td>0.000000</td>\n      <td>10</td>\n      <td>0.1030</td>\n      <td>-10.969</td>\n      <td>1</td>\n      <td>Heather - Spotify Singles</td>\n      <td>64</td>\n      <td>2020-11-11</td>\n      <td>0.0271</td>\n      <td>91.888</td>\n    </tr>\n    <tr>\n      <th>170634</th>\n      <td>0.5450</td>\n      <td>2020</td>\n      <td>0.082900</td>\n      <td>['Polo G']</td>\n      <td>0.796</td>\n      <td>176543</td>\n      <td>0.61200</td>\n      <td>1</td>\n      <td>6V1Jx3o0S2MtBI9yIDXsJS</td>\n      <td>0.000000</td>\n      <td>1</td>\n      <td>0.0607</td>\n      <td>-6.994</td>\n      <td>1</td>\n      <td>Trials &amp; Tribulations</td>\n      <td>65</td>\n      <td>2020-05-15</td>\n      <td>0.4330</td>\n      <td>87.542</td>\n    </tr>\n    <tr>\n      <th>170635</th>\n      <td>0.1580</td>\n      <td>2020</td>\n      <td>0.541000</td>\n      <td>['Chris Renzema']</td>\n      <td>0.292</td>\n      <td>254107</td>\n      <td>0.35500</td>\n      <td>0</td>\n      <td>5XBbvUfLSFAT5Rh8eudY8G</td>\n      <td>0.000000</td>\n      <td>5</td>\n      <td>0.0931</td>\n      <td>-7.225</td>\n      <td>1</td>\n      <td>Springtime</td>\n      <td>63</td>\n      <td>2020-04-24</td>\n      <td>0.0294</td>\n      <td>71.041</td>\n    </tr>\n    <tr>\n      <th>170636</th>\n      <td>0.3940</td>\n      <td>2020</td>\n      <td>0.201000</td>\n      <td>['Myke Towers', 'Maluma', 'Farruko']</td>\n      <td>0.775</td>\n      <td>250333</td>\n      <td>0.63300</td>\n      <td>1</td>\n      <td>70zg99pT51vB4wlMS7e4q7</td>\n      <td>0.000000</td>\n      <td>10</td>\n      <td>0.2190</td>\n      <td>-3.332</td>\n      <td>0</td>\n      <td>La Playa - Remix</td>\n      <td>74</td>\n      <td>2020-01-03</td>\n      <td>0.1330</td>\n      <td>140.008</td>\n    </tr>\n    <tr>\n      <th>170637</th>\n      <td>0.3290</td>\n      <td>2020</td>\n      <td>0.109000</td>\n      <td>['LPB Poody']</td>\n      <td>0.903</td>\n      <td>146688</td>\n      <td>0.61100</td>\n      <td>1</td>\n      <td>1FgPyHX7HruKDL4Tx4MeZB</td>\n      <td>0.000199</td>\n      <td>10</td>\n      <td>0.0904</td>\n      <td>-8.006</td>\n      <td>0</td>\n      <td>Address It</td>\n      <td>68</td>\n      <td>2020-05-05</td>\n      <td>0.2680</td>\n      <td>94.525</td>\n    </tr>\n    <tr>\n      <th>170638</th>\n      <td>0.2100</td>\n      <td>2020</td>\n      <td>0.968000</td>\n      <td>['Lana Del Rey']</td>\n      <td>0.234</td>\n      <td>186000</td>\n      <td>0.11400</td>\n      <td>0</td>\n      <td>25Mld9UGdMqXYDU2x8l3ld</td>\n      <td>0.003910</td>\n      <td>11</td>\n      <td>0.1030</td>\n      <td>-19.136</td>\n      <td>0</td>\n      <td>Summertime The Gershwin Version</td>\n      <td>57</td>\n      <td>2020-11-19</td>\n      <td>0.0366</td>\n      <td>189.986</td>\n    </tr>\n    <tr>\n      <th>170639</th>\n      <td>0.5220</td>\n      <td>2020</td>\n      <td>0.008610</td>\n      <td>['Pooh Shiesty']</td>\n      <td>0.819</td>\n      <td>177110</td>\n      <td>0.65100</td>\n      <td>1</td>\n      <td>7w77k7yCaDOMe25fYxnzit</td>\n      <td>0.000000</td>\n      <td>10</td>\n      <td>0.3780</td>\n      <td>-5.859</td>\n      <td>0</td>\n      <td>7.62 God</td>\n      <td>62</td>\n      <td>2020-07-03</td>\n      <td>0.2910</td>\n      <td>77.013</td>\n    </tr>\n    <tr>\n      <th>170640</th>\n      <td>0.6940</td>\n      <td>2020</td>\n      <td>0.069900</td>\n      <td>['Loud Luxury', 'Frank Walker', 'Stephen Puth']</td>\n      <td>0.759</td>\n      <td>176389</td>\n      <td>0.84500</td>\n      <td>0</td>\n      <td>5seWZTjT0U8a7cy3Y5NJQ9</td>\n      <td>0.000087</td>\n      <td>6</td>\n      <td>0.2150</td>\n      <td>-6.794</td>\n      <td>0</td>\n      <td>Like Gold</td>\n      <td>69</td>\n      <td>2020-10-30</td>\n      <td>0.0421</td>\n      <td>124.000</td>\n    </tr>\n    <tr>\n      <th>170641</th>\n      <td>0.1870</td>\n      <td>2020</td>\n      <td>0.574000</td>\n      <td>['Bazzi']</td>\n      <td>0.445</td>\n      <td>176250</td>\n      <td>0.33000</td>\n      <td>0</td>\n      <td>0PUkanqCGTb6qseXPKOw1F</td>\n      <td>0.000000</td>\n      <td>9</td>\n      <td>0.1020</td>\n      <td>-8.121</td>\n      <td>1</td>\n      <td>I Don't Think I'm Okay</td>\n      <td>69</td>\n      <td>2020-07-09</td>\n      <td>0.0429</td>\n      <td>128.025</td>\n    </tr>\n    <tr>\n      <th>170642</th>\n      <td>0.2400</td>\n      <td>2020</td>\n      <td>0.815000</td>\n      <td>['Bryson Tiller']</td>\n      <td>0.467</td>\n      <td>179188</td>\n      <td>0.42900</td>\n      <td>0</td>\n      <td>6Iw6fQVKZi0fWtEQBrTFcP</td>\n      <td>0.000052</td>\n      <td>6</td>\n      <td>0.1770</td>\n      <td>-8.689</td>\n      <td>0</td>\n      <td>Timeless Interlude</td>\n      <td>65</td>\n      <td>2020-10-02</td>\n      <td>0.0964</td>\n      <td>148.530</td>\n    </tr>\n    <tr>\n      <th>170643</th>\n      <td>0.9070</td>\n      <td>2020</td>\n      <td>0.009520</td>\n      <td>['DJ Scheme', 'Cordae', 'Ski Mask The Slump Go...</td>\n      <td>0.917</td>\n      <td>228333</td>\n      <td>0.56900</td>\n      <td>1</td>\n      <td>3C9D1X8NkG2Ak1RaGpRnnQ</td>\n      <td>0.000000</td>\n      <td>7</td>\n      <td>0.0774</td>\n      <td>-10.456</td>\n      <td>1</td>\n      <td>Soda (feat. Take A Daytrip)</td>\n      <td>66</td>\n      <td>2020-11-13</td>\n      <td>0.2790</td>\n      <td>144.014</td>\n    </tr>\n    <tr>\n      <th>170644</th>\n      <td>0.4660</td>\n      <td>2020</td>\n      <td>0.310000</td>\n      <td>['Fleet Foxes']</td>\n      <td>0.562</td>\n      <td>253613</td>\n      <td>0.68600</td>\n      <td>0</td>\n      <td>308prODCCD0O660tIktbUi</td>\n      <td>0.022500</td>\n      <td>7</td>\n      <td>0.1250</td>\n      <td>-8.480</td>\n      <td>1</td>\n      <td>Sunblind</td>\n      <td>66</td>\n      <td>2020-09-22</td>\n      <td>0.0249</td>\n      <td>103.054</td>\n    </tr>\n    <tr>\n      <th>170645</th>\n      <td>0.1690</td>\n      <td>2020</td>\n      <td>0.994000</td>\n      <td>['Ólafur Arnalds']</td>\n      <td>0.281</td>\n      <td>190500</td>\n      <td>0.03330</td>\n      <td>0</td>\n      <td>13MOQ6oQqkrZEDkZOHukCw</td>\n      <td>0.959000</td>\n      <td>6</td>\n      <td>0.0995</td>\n      <td>-31.460</td>\n      <td>1</td>\n      <td>We Contain Multitudes (from home)</td>\n      <td>70</td>\n      <td>2020-08-26</td>\n      <td>0.0348</td>\n      <td>90.250</td>\n    </tr>\n    <tr>\n      <th>170646</th>\n      <td>0.5220</td>\n      <td>2020</td>\n      <td>0.204000</td>\n      <td>['Gunna']</td>\n      <td>0.598</td>\n      <td>230600</td>\n      <td>0.47200</td>\n      <td>1</td>\n      <td>2f8y4CuG57UJEmkG3ujd0D</td>\n      <td>0.000015</td>\n      <td>0</td>\n      <td>0.1080</td>\n      <td>-10.991</td>\n      <td>1</td>\n      <td>NASTY GIRL / ON CAMERA</td>\n      <td>66</td>\n      <td>2020-05-22</td>\n      <td>0.2580</td>\n      <td>120.080</td>\n    </tr>\n    <tr>\n      <th>170647</th>\n      <td>0.0838</td>\n      <td>2020</td>\n      <td>0.974000</td>\n      <td>['Najma Wallin']</td>\n      <td>0.175</td>\n      <td>133500</td>\n      <td>0.00759</td>\n      <td>0</td>\n      <td>6RuFOroO9VO0aMGEzirLHk</td>\n      <td>0.925000</td>\n      <td>7</td>\n      <td>0.1130</td>\n      <td>-35.072</td>\n      <td>1</td>\n      <td>Med slutna ögon</td>\n      <td>70</td>\n      <td>2020-02-21</td>\n      <td>0.0454</td>\n      <td>70.872</td>\n    </tr>\n    <tr>\n      <th>170648</th>\n      <td>0.6080</td>\n      <td>2020</td>\n      <td>0.084600</td>\n      <td>['Anuel AA', 'Daddy Yankee', 'KAROL G', 'Ozuna...</td>\n      <td>0.786</td>\n      <td>301714</td>\n      <td>0.80800</td>\n      <td>0</td>\n      <td>0KkIkfsLEJbrcIhYsCL7L5</td>\n      <td>0.000289</td>\n      <td>7</td>\n      <td>0.0822</td>\n      <td>-3.702</td>\n      <td>1</td>\n      <td>China</td>\n      <td>72</td>\n      <td>2020-05-29</td>\n      <td>0.0881</td>\n      <td>105.029</td>\n    </tr>\n    <tr>\n      <th>170649</th>\n      <td>0.7340</td>\n      <td>2020</td>\n      <td>0.206000</td>\n      <td>['Ashnikko']</td>\n      <td>0.717</td>\n      <td>150654</td>\n      <td>0.75300</td>\n      <td>0</td>\n      <td>0OStKKAuXlxA0fMH54Qs6E</td>\n      <td>0.000000</td>\n      <td>7</td>\n      <td>0.1010</td>\n      <td>-6.020</td>\n      <td>1</td>\n      <td>Halloweenie III: Seven Days</td>\n      <td>68</td>\n      <td>2020-10-23</td>\n      <td>0.0605</td>\n      <td>137.936</td>\n    </tr>\n    <tr>\n      <th>170650</th>\n      <td>0.6370</td>\n      <td>2020</td>\n      <td>0.101000</td>\n      <td>['MAMAMOO']</td>\n      <td>0.634</td>\n      <td>211280</td>\n      <td>0.85800</td>\n      <td>0</td>\n      <td>4BZXVFYCb76Q0Klojq4piV</td>\n      <td>0.000009</td>\n      <td>4</td>\n      <td>0.2580</td>\n      <td>-2.226</td>\n      <td>0</td>\n      <td>AYA</td>\n      <td>76</td>\n      <td>2020-11-03</td>\n      <td>0.0809</td>\n      <td>91.688</td>\n    </tr>\n    <tr>\n      <th>170651</th>\n      <td>0.1950</td>\n      <td>2020</td>\n      <td>0.009980</td>\n      <td>['Eminem']</td>\n      <td>0.671</td>\n      <td>337147</td>\n      <td>0.62300</td>\n      <td>1</td>\n      <td>5SiZJoLXp3WOl3J4C8IK0d</td>\n      <td>0.000008</td>\n      <td>2</td>\n      <td>0.6430</td>\n      <td>-7.161</td>\n      <td>1</td>\n      <td>Darkness</td>\n      <td>70</td>\n      <td>2020-01-17</td>\n      <td>0.3080</td>\n      <td>75.055</td>\n    </tr>\n    <tr>\n      <th>170652</th>\n      <td>0.6420</td>\n      <td>2020</td>\n      <td>0.132000</td>\n      <td>['KEVVO', 'J Balvin']</td>\n      <td>0.856</td>\n      <td>189507</td>\n      <td>0.72100</td>\n      <td>1</td>\n      <td>7HmnJHfs0BkFzX4x8j0hkl</td>\n      <td>0.004710</td>\n      <td>7</td>\n      <td>0.1820</td>\n      <td>-4.928</td>\n      <td>1</td>\n      <td>Billetes Azules (with J Balvin)</td>\n      <td>74</td>\n      <td>2020-10-16</td>\n      <td>0.1080</td>\n      <td>94.991</td>\n    </tr>\n  </tbody>\n</table>\n</div>"
     },
     "execution_count": 7,
     "metadata": {},
     "output_type": "execute_result"
    }
   ],
   "source": [
    "tracks.tail(30)"
   ]
  },
  {
   "cell_type": "code",
   "execution_count": 8,
   "id": "155d8c1a",
   "metadata": {},
   "outputs": [
    {
     "data": {
      "text/plain": "(25000, 15701)"
     },
     "execution_count": 8,
     "metadata": {},
     "output_type": "execute_result"
    }
   ],
   "source": [
    "tfidf = TfidfVectorizer( stop_words='english')\n",
    "\n",
    "#Replace NaN with an empty string\n",
    "tracks['name'] = tracks['name'].fillna('')\n",
    "\n",
    "tracks = tracks.head(25000)\n",
    "\n",
    "#Construct the required TF-IDF matrix by fitting and transforming the data\n",
    "tfidf_matrix = tfidf.fit_transform(tracks['name'])\n",
    "\n",
    "#Output the shape of tfidf_matrix\n",
    "tfidf_matrix.shape\n"
   ]
  },
  {
   "cell_type": "code",
   "execution_count": 9,
   "id": "bfc948ac",
   "metadata": {},
   "outputs": [],
   "source": [
    "cosine_sim = linear_kernel(tfidf_matrix, tfidf_matrix)"
   ]
  },
  {
   "cell_type": "code",
   "execution_count": 10,
   "id": "70b4012b",
   "metadata": {},
   "outputs": [],
   "source": [
    "\n",
    "indices = pd.Series(tracks.index, index=tracks['name']).drop_duplicates()\n"
   ]
  },
  {
   "cell_type": "code",
   "execution_count": 11,
   "id": "0000645c",
   "metadata": {},
   "outputs": [],
   "source": [
    "def get_recommendations(title, cosine_sim=cosine_sim):\n",
    "    idx = indices[title]\n",
    "\n",
    "    sim_scores = list(enumerate(cosine_sim[idx]))\n",
    "    sim_scores = sorted(sim_scores, key=lambda x: x[1], reverse=True)\n",
    "    sim_scores = sim_scores[1:11]\n",
    "\n",
    "    track_indices = [i[0] for i in sim_scores]\n",
    "    print(tracks['name'].iloc[track_indices].tolist())\n",
    "    return tracks['id'].iloc[track_indices].tolist()"
   ]
  },
  {
   "cell_type": "code",
   "execution_count": 12,
   "id": "3a3056fb",
   "metadata": {},
   "outputs": [
    {
     "name": "stdout",
     "output_type": "stream",
     "text": [
      "['Fall Back Down', 'Fall For You', 'I Might Fall Back On You', 'When I Fall In Love', 'When I Fall In Love', 'When I Fall In Love', 'When I Fall In Love', 'If I Ever Fall In Love', 'If I Ever Fall In Love', 'I Could Fall In Love']\n"
     ]
    },
    {
     "data": {
      "text/plain": "['3pdHJCTk85ls2SGGXIJ7XH',\n '7lWF2mVr1KKbVnaT2nSlPo',\n '6MMF38qO03XJ7puIxVl8Gg',\n '6s6h2XK7Nl8lEcTzr7ezeB',\n '0w7mhiHnM0rhdu3l5mDDYl',\n '1Ame30MZ6yKnqaWFAch1m7',\n '1gMMY095TNREZ8ZZYsfM5L',\n '1jCsCYgzQQHk3bDJDuFbNi',\n '0uOPGU4CbYxzFxn6T7sblW',\n '3ACQkIMv6nGYHRpPGyS4BK']"
     },
     "execution_count": 12,
     "metadata": {},
     "output_type": "execute_result"
    }
   ],
   "source": [
    "get_recommendations(\"I Might Fall Back On You\")"
   ]
  },
  {
   "cell_type": "code",
   "execution_count": 13,
   "id": "57981fd5",
   "metadata": {},
   "outputs": [],
   "source": [
    "# Returns the list top 3 elements or entire list; whichever is more.\n",
    "def get_list(x):\n",
    "    if isinstance(x, list):\n",
    "        names = [i['name'] for i in x]\n",
    "        #Check if more than 3 elements exist. If yes, return only first three. If no, return entire list.\n",
    "        if len(names) > 3:\n",
    "            names = names[:3]\n",
    "        return names\n",
    "\n",
    "    #Return empty list in case of missing/malformed data\n",
    "    return []\n"
   ]
  },
  {
   "cell_type": "code",
   "execution_count": 14,
   "id": "440106e7",
   "metadata": {},
   "outputs": [],
   "source": [
    "def clean_data(x):\n",
    "    if isinstance(x, list):\n",
    "        return [str.lower(i.replace(\" \", \"\")) for i in x]\n",
    "    else:\n",
    "        #Check if director exists. If not, return empty string\n",
    "        if isinstance(x, str):\n",
    "            return str.lower(x.replace(\" \", \"\"))\n",
    "        else:\n",
    "            return ''"
   ]
  },
  {
   "cell_type": "code",
   "execution_count": 15,
   "id": "9aafbb65",
   "metadata": {},
   "outputs": [
    {
     "ename": "KeyError",
     "evalue": "'artist-name'",
     "output_type": "error",
     "traceback": [
      "\u001B[0;31m---------------------------------------------------------------------------\u001B[0m",
      "\u001B[0;31mKeyError\u001B[0m                                  Traceback (most recent call last)",
      "File \u001B[0;32m/opt/homebrew/anaconda3/lib/python3.9/site-packages/pandas/core/indexes/base.py:3621\u001B[0m, in \u001B[0;36mIndex.get_loc\u001B[0;34m(self, key, method, tolerance)\u001B[0m\n\u001B[1;32m   3620\u001B[0m \u001B[38;5;28;01mtry\u001B[39;00m:\n\u001B[0;32m-> 3621\u001B[0m     \u001B[38;5;28;01mreturn\u001B[39;00m \u001B[38;5;28;43mself\u001B[39;49m\u001B[38;5;241;43m.\u001B[39;49m\u001B[43m_engine\u001B[49m\u001B[38;5;241;43m.\u001B[39;49m\u001B[43mget_loc\u001B[49m\u001B[43m(\u001B[49m\u001B[43mcasted_key\u001B[49m\u001B[43m)\u001B[49m\n\u001B[1;32m   3622\u001B[0m \u001B[38;5;28;01mexcept\u001B[39;00m \u001B[38;5;167;01mKeyError\u001B[39;00m \u001B[38;5;28;01mas\u001B[39;00m err:\n",
      "File \u001B[0;32m/opt/homebrew/anaconda3/lib/python3.9/site-packages/pandas/_libs/index.pyx:136\u001B[0m, in \u001B[0;36mpandas._libs.index.IndexEngine.get_loc\u001B[0;34m()\u001B[0m\n",
      "File \u001B[0;32m/opt/homebrew/anaconda3/lib/python3.9/site-packages/pandas/_libs/index.pyx:163\u001B[0m, in \u001B[0;36mpandas._libs.index.IndexEngine.get_loc\u001B[0;34m()\u001B[0m\n",
      "File \u001B[0;32mpandas/_libs/hashtable_class_helper.pxi:5198\u001B[0m, in \u001B[0;36mpandas._libs.hashtable.PyObjectHashTable.get_item\u001B[0;34m()\u001B[0m\n",
      "File \u001B[0;32mpandas/_libs/hashtable_class_helper.pxi:5206\u001B[0m, in \u001B[0;36mpandas._libs.hashtable.PyObjectHashTable.get_item\u001B[0;34m()\u001B[0m\n",
      "\u001B[0;31mKeyError\u001B[0m: 'artist-name'",
      "\nThe above exception was the direct cause of the following exception:\n",
      "\u001B[0;31mKeyError\u001B[0m                                  Traceback (most recent call last)",
      "Input \u001B[0;32mIn [15]\u001B[0m, in \u001B[0;36m<cell line: 3>\u001B[0;34m()\u001B[0m\n\u001B[1;32m      2\u001B[0m \u001B[38;5;66;03m#features = ['artists']\u001B[39;00m\n\u001B[1;32m      3\u001B[0m \u001B[38;5;28;01mfor\u001B[39;00m feature \u001B[38;5;129;01min\u001B[39;00m features:\n\u001B[0;32m----> 4\u001B[0m     tracks[feature] \u001B[38;5;241m=\u001B[39m \u001B[43mtracks\u001B[49m\u001B[43m[\u001B[49m\u001B[43mfeature\u001B[49m\u001B[43m]\u001B[49m\u001B[38;5;241m.\u001B[39mapply(clean_data)\n",
      "File \u001B[0;32m/opt/homebrew/anaconda3/lib/python3.9/site-packages/pandas/core/frame.py:3505\u001B[0m, in \u001B[0;36mDataFrame.__getitem__\u001B[0;34m(self, key)\u001B[0m\n\u001B[1;32m   3503\u001B[0m \u001B[38;5;28;01mif\u001B[39;00m \u001B[38;5;28mself\u001B[39m\u001B[38;5;241m.\u001B[39mcolumns\u001B[38;5;241m.\u001B[39mnlevels \u001B[38;5;241m>\u001B[39m \u001B[38;5;241m1\u001B[39m:\n\u001B[1;32m   3504\u001B[0m     \u001B[38;5;28;01mreturn\u001B[39;00m \u001B[38;5;28mself\u001B[39m\u001B[38;5;241m.\u001B[39m_getitem_multilevel(key)\n\u001B[0;32m-> 3505\u001B[0m indexer \u001B[38;5;241m=\u001B[39m \u001B[38;5;28;43mself\u001B[39;49m\u001B[38;5;241;43m.\u001B[39;49m\u001B[43mcolumns\u001B[49m\u001B[38;5;241;43m.\u001B[39;49m\u001B[43mget_loc\u001B[49m\u001B[43m(\u001B[49m\u001B[43mkey\u001B[49m\u001B[43m)\u001B[49m\n\u001B[1;32m   3506\u001B[0m \u001B[38;5;28;01mif\u001B[39;00m is_integer(indexer):\n\u001B[1;32m   3507\u001B[0m     indexer \u001B[38;5;241m=\u001B[39m [indexer]\n",
      "File \u001B[0;32m/opt/homebrew/anaconda3/lib/python3.9/site-packages/pandas/core/indexes/base.py:3623\u001B[0m, in \u001B[0;36mIndex.get_loc\u001B[0;34m(self, key, method, tolerance)\u001B[0m\n\u001B[1;32m   3621\u001B[0m     \u001B[38;5;28;01mreturn\u001B[39;00m \u001B[38;5;28mself\u001B[39m\u001B[38;5;241m.\u001B[39m_engine\u001B[38;5;241m.\u001B[39mget_loc(casted_key)\n\u001B[1;32m   3622\u001B[0m \u001B[38;5;28;01mexcept\u001B[39;00m \u001B[38;5;167;01mKeyError\u001B[39;00m \u001B[38;5;28;01mas\u001B[39;00m err:\n\u001B[0;32m-> 3623\u001B[0m     \u001B[38;5;28;01mraise\u001B[39;00m \u001B[38;5;167;01mKeyError\u001B[39;00m(key) \u001B[38;5;28;01mfrom\u001B[39;00m \u001B[38;5;21;01merr\u001B[39;00m\n\u001B[1;32m   3624\u001B[0m \u001B[38;5;28;01mexcept\u001B[39;00m \u001B[38;5;167;01mTypeError\u001B[39;00m:\n\u001B[1;32m   3625\u001B[0m     \u001B[38;5;66;03m# If we have a listlike key, _check_indexing_error will raise\u001B[39;00m\n\u001B[1;32m   3626\u001B[0m     \u001B[38;5;66;03m#  InvalidIndexError. Otherwise we fall through and re-raise\u001B[39;00m\n\u001B[1;32m   3627\u001B[0m     \u001B[38;5;66;03m#  the TypeError.\u001B[39;00m\n\u001B[1;32m   3628\u001B[0m     \u001B[38;5;28mself\u001B[39m\u001B[38;5;241m.\u001B[39m_check_indexing_error(key)\n",
      "\u001B[0;31mKeyError\u001B[0m: 'artist-name'"
     ]
    }
   ],
   "source": [
    "features = ['artist-name','popularity', 'genre', 'instruments']\n",
    "#features = ['artists']\n",
    "for feature in features:\n",
    "    tracks[feature] = tracks[feature].apply(clean_data)\n",
    "#     tracks[feature] = tracks[feature].apply(eval)"
   ]
  },
  {
   "cell_type": "code",
   "execution_count": null,
   "id": "554a852f",
   "metadata": {},
   "outputs": [],
   "source": [
    "tracks.head(3)"
   ]
  },
  {
   "cell_type": "code",
   "execution_count": null,
   "id": "68a27260",
   "metadata": {},
   "outputs": [],
   "source": [
    "def cos_sim(a,b):\n",
    "    dot_product = np.dot(a,b)\n",
    "    norm_a = linalg.norm(a)\n",
    "    norm_b = linalg.norm(b)\n",
    "    return dot_product/(norm_a*norm_b)"
   ]
  },
  {
   "cell_type": "code",
   "execution_count": null,
   "id": "232eafcb",
   "metadata": {},
   "outputs": [],
   "source": [
    "https://towardsdatascience.com/how-to-build-an-amazing-music-recommendation-system-4cce2719a572"
   ]
  },
  {
   "cell_type": "code",
   "execution_count": null,
   "id": "9ca70d5e",
   "metadata": {},
   "outputs": [],
   "source": [
    "from collections import defaultdict\n",
    "from scipy.spatial.distance import cdist\n",
    "import difflib\n",
    "from sklearn.pipeline import Pipeline \n",
    "from sklearn.preprocessing import StandardScaler\n",
    "from sklearn.cluster import KMeans"
   ]
  },
  {
   "cell_type": "code",
   "execution_count": null,
   "id": "13d0bc79",
   "metadata": {},
   "outputs": [],
   "source": [
    "song_cluster_pipeline = Pipeline([('scaler', StandardScaler()), \n",
    "                                  ('kmeans', KMeans(n_clusters=20, \n",
    "                                   verbose=2))],verbose=True)\n",
    "X = tracks.select_dtypes(np.number)\n",
    "number_cols = list(X.columns)\n",
    "song_cluster_pipeline.fit(X)\n",
    "song_cluster_labels = song_cluster_pipeline.predict(X)\n",
    "tracks['cluster_label'] = song_cluster_labels"
   ]
  },
  {
   "cell_type": "code",
   "execution_count": null,
   "id": "e4f75471",
   "metadata": {},
   "outputs": [],
   "source": [
    "tracks.to_csv('tracks_with_cluster.csv')"
   ]
  },
  {
   "cell_type": "code",
   "execution_count": null,
   "id": "0c6dbbc3",
   "metadata": {},
   "outputs": [],
   "source": [
    "tracks.head()"
   ]
  },
  {
   "cell_type": "code",
   "execution_count": null,
   "id": "7dd0a596",
   "metadata": {},
   "outputs": [],
   "source": [
    "from sklearn.decomposition import PCA\n",
    "\n",
    "pca_pipeline = Pipeline([('scaler', StandardScaler()), ('PCA', PCA(n_components=2))])\n",
    "song_embedding = pca_pipeline.fit_transform(X)\n",
    "projection = pd.DataFrame(columns=['x', 'y'], data=song_embedding)\n",
    "projection['title'] = tracks['name']\n",
    "projection['cluster'] = tracks['cluster_label']"
   ]
  },
  {
   "cell_type": "code",
   "execution_count": null,
   "id": "8f2a7016",
   "metadata": {},
   "outputs": [],
   "source": [
    "import plotly.express as px\n",
    "fig = px.scatter(projection, x='x', y='y', color='cluster', hover_data=['x', 'y', 'title'])\n",
    "fig.show()"
   ]
  },
  {
   "cell_type": "code",
   "execution_count": null,
   "id": "edb5b5f2",
   "metadata": {},
   "outputs": [],
   "source": [
    "number_cols = ['time_signature','duration_ms','popularity','valence', 'acousticness', 'danceability',  'energy', 'instrumentalness', 'explicit','key', 'liveness', 'loudness', 'mode', 'speechiness', 'tempo']"
   ]
  },
  {
   "cell_type": "code",
   "execution_count": null,
   "id": "14755ba8",
   "metadata": {},
   "outputs": [],
   "source": [
    "def get_song_data(song, spotify_data):\n",
    "    \n",
    "    \"\"\"\n",
    "    Gets the song data for a specific song. The song argument takes the form of a dictionary with \n",
    "    key-value pairs for the name and release year of the song.\n",
    "    \"\"\"\n",
    "    \n",
    "    try:\n",
    "        song_data = spotify_data[(spotify_data['name'] == song['name']) ].iloc[0]\n",
    "        return song_data\n",
    "    \n",
    "    except IndexError:\n",
    "        return find_song(song['name'])"
   ]
  },
  {
   "cell_type": "code",
   "execution_count": null,
   "id": "767ffd93",
   "metadata": {},
   "outputs": [],
   "source": [
    "def get_mean_vector(song_list, spotify_data):\n",
    "  \n",
    "    \"\"\"\n",
    "    Gets the mean vector for a list of songs.\n",
    "    \"\"\"\n",
    "    \n",
    "    song_vectors = []\n",
    "    \n",
    "    for song in song_list:\n",
    "        song_data = get_song_data(song, spotify_data)\n",
    "        if song_data is None:\n",
    "            print('Warning: {} does not exist in Spotify or in database'.format(song['name']))\n",
    "            continue\n",
    "        song_vector = song_data[number_cols].values\n",
    "        song_vectors.append(song_vector)  \n",
    "    \n",
    "    song_matrix = np.array(list(song_vectors))\n",
    "    return np.mean(song_matrix, axis=0)"
   ]
  },
  {
   "cell_type": "code",
   "execution_count": null,
   "id": "69c85895",
   "metadata": {},
   "outputs": [],
   "source": [
    "def flatten_dict_list(dict_list):\n",
    "   \n",
    "    \"\"\"\n",
    "    Utility function for flattening a list of dictionaries.\n",
    "    \"\"\"\n",
    "    \n",
    "    flattened_dict = defaultdict()\n",
    "    for key in dict_list[0].keys():\n",
    "        flattened_dict[key] = []\n",
    "    \n",
    "    for dictionary in dict_list:\n",
    "        for key, value in dictionary.items():\n",
    "            flattened_dict[key].append(value)\n",
    "            \n",
    "    return flattened_dict"
   ]
  },
  {
   "cell_type": "code",
   "execution_count": null,
   "id": "31c9d37d",
   "metadata": {},
   "outputs": [],
   "source": [
    "def recommend_songs(song_id, n_songs=10):\n",
    "  \n",
    "    \"\"\"\n",
    "    Recommends songs based on a list of previous songs that a user has listened to.\n",
    "    \"\"\"\n",
    "    spotify_data = tracks\n",
    "    song_name = tracks.loc[tracks.get(\"track-id\") == song_id, 'name']\n",
    "    print(song_name)\n",
    "    song_list = [{'name': song_name}]\n",
    "    print(song_list)\n",
    "    song_dict = flatten_dict_list(song_list)\n",
    "    \n",
    "    song_center = get_mean_vector(song_list, spotify_data)\n",
    "    scaler = song_cluster_pipeline.steps[0][1]\n",
    "    print(scaler)\n",
    "    scaled_data = scaler.transform(spotify_data[number_cols])\n",
    "    scaled_song_center = scaler.transform(song_center.reshape(1, -1))\n",
    "    distances = cdist(scaled_song_center, scaled_data, 'cosine')\n",
    "    index = list(np.argsort(distances)[:, :n_songs][0])\n",
    "    \n",
    "    rec_songs = spotify_data.iloc[index]\n",
    "    rec_songs = rec_songs[~rec_songs['name'].isin(song_dict['name'])]\n",
    "    return rec_songs['id'].tolist()"
   ]
  },
  {
   "cell_type": "code",
   "execution_count": null,
   "id": "9bf28518",
   "metadata": {},
   "outputs": [],
   "source": [
    "recommend_songs('9975')"
   ]
  },
  {
   "cell_type": "code",
   "execution_count": null,
   "id": "69e505ff",
   "metadata": {},
   "outputs": [],
   "source": [
    "df = pd.read_csv(r\"C:/Users/shris/Desktop/profiles.csv\")\n",
    "print(df.gender)\n",
    "df.columns = ['userid', 'gender', 'age', 'country']"
   ]
  },
  {
   "cell_type": "code",
   "execution_count": null,
   "id": "624e1c25",
   "metadata": {},
   "outputs": [],
   "source": [
    "df.head()"
   ]
  },
  {
   "cell_type": "code",
   "execution_count": null,
   "id": "ae1eac35",
   "metadata": {},
   "outputs": [],
   "source": [
    "songs = df.gender.tolist()\n",
    "output = {}\n",
    "outputs = []\n",
    "for song in songs:\n",
    "    k = recommend_songs(song)\n",
    "    output.update( {song : k})\n"
   ]
  },
  {
   "cell_type": "code",
   "execution_count": null,
   "id": "ef0e0490",
   "metadata": {},
   "outputs": [],
   "source": [
    "output"
   ]
  },
  {
   "cell_type": "code",
   "execution_count": null,
   "id": "2ae05994",
   "metadata": {},
   "outputs": [],
   "source": [
    "df1 = pd.DataFrame.from_dict(output, orient='index')"
   ]
  },
  {
   "cell_type": "code",
   "execution_count": null,
   "id": "7f41756e",
   "metadata": {},
   "outputs": [],
   "source": [
    "df1.to_csv('content_based.csv')"
   ]
  },
  {
   "cell_type": "code",
   "execution_count": null,
   "id": "05cb09ba",
   "metadata": {},
   "outputs": [],
   "source": []
  }
 ],
 "metadata": {
  "kernelspec": {
   "display_name": "Python 3 (ipykernel)",
   "language": "python",
   "name": "python3"
  },
  "language_info": {
   "codemirror_mode": {
    "name": "ipython",
    "version": 3
   },
   "file_extension": ".py",
   "mimetype": "text/x-python",
   "name": "python",
   "nbconvert_exporter": "python",
   "pygments_lexer": "ipython3",
   "version": "3.9.13"
  }
 },
 "nbformat": 4,
 "nbformat_minor": 5
}
