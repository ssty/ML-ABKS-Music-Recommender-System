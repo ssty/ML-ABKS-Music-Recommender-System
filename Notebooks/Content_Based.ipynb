{
 "cells": [
  {
   "cell_type": "code",
   "execution_count": 1,
   "id": "9a503b14",
   "metadata": {
    "scrolled": true
   },
   "outputs": [],
   "source": [
    "from sklearn.feature_extraction.text import TfidfVectorizer\n",
    "from sklearn.metrics.pairwise import linear_kernel\n",
    "import pandas as pd\n",
    "import os\n",
    "import numpy as np"
   ]
  },
  {
   "cell_type": "code",
   "execution_count": 2,
   "id": "a6060b8e",
   "metadata": {},
   "outputs": [],
   "source": [
    "tracks = pd.read_csv(r\"datasets/data.csv\")"
   ]
  },
  {
   "cell_type": "code",
   "execution_count": 3,
   "id": "155d8c1a",
   "metadata": {},
   "outputs": [
    {
     "data": {
      "text/plain": [
       "(25000, 15701)"
      ]
     },
     "execution_count": 3,
     "metadata": {},
     "output_type": "execute_result"
    }
   ],
   "source": [
    "tfidf = TfidfVectorizer( stop_words='english')\n",
    "\n",
    "#Replace NaN with an empty string\n",
    "tracks['name'] = tracks['name'].fillna('')\n",
    "\n",
    "tracks = tracks.head(25000)\n",
    "\n",
    "#Construct the required TF-IDF matrix by fitting and transforming the data\n",
    "tfidf_matrix = tfidf.fit_transform(tracks['name'])\n",
    "\n",
    "#Output the shape of tfidf_matrix\n",
    "tfidf_matrix.shape\n"
   ]
  },
  {
   "cell_type": "code",
   "execution_count": 4,
   "id": "bfc948ac",
   "metadata": {},
   "outputs": [],
   "source": [
    "cosine_sim = linear_kernel(tfidf_matrix, tfidf_matrix)"
   ]
  },
  {
   "cell_type": "code",
   "execution_count": 5,
   "id": "70b4012b",
   "metadata": {},
   "outputs": [],
   "source": [
    "\n",
    "indices = pd.Series(tracks.index, index=tracks['name']).drop_duplicates()\n"
   ]
  },
  {
   "cell_type": "code",
   "execution_count": 6,
   "id": "0000645c",
   "metadata": {},
   "outputs": [],
   "source": [
    "def get_recommendations(title, cosine_sim=cosine_sim):\n",
    "    idx = indices[title]\n",
    "\n",
    "    sim_scores = list(enumerate(cosine_sim[idx]))\n",
    "    sim_scores = sorted(sim_scores, key=lambda x: x[1], reverse=True)\n",
    "    sim_scores = sim_scores[1:11]\n",
    "\n",
    "    track_indices = [i[0] for i in sim_scores]\n",
    "    return tracks['name'].iloc[track_indices].tolist()"
   ]
  },
  {
   "cell_type": "code",
   "execution_count": 7,
   "id": "3a3056fb",
   "metadata": {},
   "outputs": [
    {
     "data": {
      "text/plain": [
       "['Fall Back Down',\n",
       " 'Fall For You',\n",
       " 'I Might Fall Back On You',\n",
       " 'When I Fall In Love',\n",
       " 'When I Fall In Love',\n",
       " 'When I Fall In Love',\n",
       " 'When I Fall In Love',\n",
       " 'If I Ever Fall In Love',\n",
       " 'If I Ever Fall In Love',\n",
       " 'I Could Fall In Love']"
      ]
     },
     "execution_count": 7,
     "metadata": {},
     "output_type": "execute_result"
    }
   ],
   "source": [
    "get_recommendations(\"I Might Fall Back On You\")"
   ]
  },
  {
   "cell_type": "code",
   "execution_count": 8,
   "id": "9ca70d5e",
   "metadata": {},
   "outputs": [],
   "source": [
    "from collections import defaultdict\n",
    "from scipy.spatial.distance import cdist\n",
    "import difflib\n",
    "from sklearn.pipeline import Pipeline \n",
    "from sklearn.preprocessing import StandardScaler\n",
    "from sklearn.cluster import KMeans"
   ]
  },
  {
   "cell_type": "code",
   "execution_count": 9,
   "id": "e4f75471",
   "metadata": {},
   "outputs": [],
   "source": [
    "tracks.to_csv('tracks_with_cluster.csv')"
   ]
  },
  {
   "cell_type": "code",
   "execution_count": 10,
   "id": "914a74d7",
   "metadata": {},
   "outputs": [],
   "source": [
    "import spotipy\n",
    "from spotipy.oauth2 import SpotifyClientCredentials\n",
    "from collections import defaultdict\n",
    "\n",
    "sp = spotipy.Spotify(auth_manager=SpotifyClientCredentials(client_id=\"677a46ed628944af94b5cdb96e3e25ee\",\n",
    "                                                           client_secret=\"dfc3a58da7e34b009001ff1794592060\"))\n",
    "\n",
    "def find_song(name):\n",
    "    song_data = defaultdict()\n",
    "    results = sp.search(q= 'track: {}'.format(name), limit=1)\n",
    "    if results['tracks']['items'] == []:\n",
    "        return None\n",
    "\n",
    "    results = results['tracks']['items'][0]\n",
    "    track_id = results['id']\n",
    "    audio_features = sp.audio_features(track_id)[0]\n",
    "\n",
    "    song_data['name'] = [name]\n",
    "    song_data['explicit'] = [int(results['explicit'])]\n",
    "    song_data['duration_ms'] = [results['duration_ms']]\n",
    "    song_data['popularity'] = [results['popularity']]\n",
    "\n",
    "    for key, value in audio_features.items():\n",
    "        song_data[key] = value\n",
    "\n",
    "    return pd.DataFrame(song_data)\n"
   ]
  },
  {
   "cell_type": "code",
   "execution_count": 11,
   "id": "14755ba8",
   "metadata": {},
   "outputs": [],
   "source": [
    "def get_song_data(song, spotify_data):\n",
    "    \n",
    "    \"\"\"\n",
    "    Gets the song data for a specific song. The song argument takes the form of a dictionary with \n",
    "    key-value pairs for the name and release year of the song.\n",
    "    \"\"\"\n",
    "    \n",
    "    try:\n",
    "        song_data = spotify_data[(spotify_data['name'] == song['name']) ].iloc[0]\n",
    "        return song_data\n",
    "    \n",
    "    except IndexError:\n",
    "        return find_song(song['name'])"
   ]
  },
  {
   "cell_type": "code",
   "execution_count": 12,
   "id": "a719fdab",
   "metadata": {},
   "outputs": [],
   "source": [
    "def PCA_algorithm(tracks):\n",
    "    num_datatypes = tracks.select_dtypes(np.number)      \n",
    "\n",
    "    pca_pipeline = Pipeline([('scaler', StandardScaler()), ('PCA', PCA(n_components=2))])\n",
    "    song_embedding = pca_pipeline.fit_transform(num_datatypes)\n",
    "    return song_embedding"
   ]
  },
  {
   "cell_type": "code",
   "execution_count": 13,
   "id": "0e85dfb2",
   "metadata": {},
   "outputs": [],
   "source": [
    "def KMeans_with_PCA_algorithm(song_embedding):\n",
    "    kmeans_pca = KMeans(n_clusters = 3, init = 'k-means++', random_state=42)    \n",
    "    return kmeans_pca.fit(song_embedding)"
   ]
  },
  {
   "cell_type": "code",
   "execution_count": 14,
   "id": "c780518e",
   "metadata": {},
   "outputs": [],
   "source": [
    "def filter_based_on_segment(df_segm_pca_kmeans,segment_val):    \n",
    "    #get list of songs with above song id\n",
    "    #print(df_segm_pca_kmeans[df_segm_pca_kmeans['Segment K-means PCA']==segment_val].values)\n",
    "    \n",
    "    filtered_data_per_segment = df_segm_pca_kmeans[df_segm_pca_kmeans['Segment K-means PCA']==segment_val][['id', 'name','com1','com2','Segment K-means PCA']]\n",
    "\n",
    "    #save to csv file\n",
    "    filtered_data_per_segment.to_csv('filtered_data_per_segment.csv')\n",
    "    return filtered_data_per_segment"
   ]
  },
  {
   "cell_type": "code",
   "execution_count": 15,
   "id": "e2745264",
   "metadata": {},
   "outputs": [],
   "source": [
    "def filter_based_on_cluster_centroid(kmeans_pca,filtered_data_per_segment,segment_val,tracks):\n",
    "    #calculate distance based on cluster centroid\n",
    "    scaled_data = kmeans_pca.transform( filtered_data_per_segment[['com1','com2']])\n",
    "    scaled_song_center = kmeans_pca.transform(kmeans_pca.cluster_centers_[segment_val].reshape(1, -1))\n",
    "    distances = cdist(scaled_song_center, scaled_data, 'cosine')\n",
    "\n",
    "    #sort based on distance\n",
    "    index = list(np.argsort(distances)[0])\n",
    "    rec_songs = tracks.iloc[index]\n",
    "    \n",
    "    #recommend based on segment data\n",
    "    rec_songs = rec_songs[~rec_songs['name'].isin(filtered_data_per_segment['name'])]\n",
    "    return rec_songs"
   ]
  },
  {
   "cell_type": "code",
   "execution_count": 16,
   "id": "5ea8b99d",
   "metadata": {},
   "outputs": [],
   "source": [
    "from sklearn.decomposition import PCA\n",
    "\n",
    "def recommend_songs(song_id, n_songs=10):\n",
    "  \n",
    "    \"\"\"\n",
    "    Recommends songs based on a list of previous songs that a user has listened to.\n",
    "    \"\"\"\n",
    "    song_embedding = PCA_algorithm(tracks)\n",
    "    \n",
    "    kmeans_pca = KMeans_with_PCA_algorithm(song_embedding)\n",
    "\n",
    "    #get Segment K-means PCA from song_id argument\n",
    "    df_segm_pca_kmeans = pd.concat([tracks.reset_index(drop=True), pd.DataFrame(song_embedding)],axis=1)\n",
    "    df_segm_pca_kmeans.columns.values[-2:] = ['com1','com2']\n",
    "    df_segm_pca_kmeans['Segment K-means PCA'] = kmeans_pca.labels_\n",
    "\n",
    "    #get segment value of song_id\n",
    "    segment_val = df_segm_pca_kmeans[df_segm_pca_kmeans['id'] == song_id]['Segment K-means PCA'].values[0]\n",
    "    \n",
    "    filtered_data_per_segment = filter_based_on_segment(df_segm_pca_kmeans,segment_val)   \n",
    "\n",
    "    rec_songs = filter_based_on_cluster_centroid(kmeans_pca,filtered_data_per_segment,segment_val,tracks)\n",
    "\n",
    "    #recommend top n songs\n",
    "    return rec_songs.head(n_songs)['name'].tolist()"
   ]
  },
  {
   "cell_type": "code",
   "execution_count": 17,
   "id": "9bf28518",
   "metadata": {},
   "outputs": [
    {
     "name": "stderr",
     "output_type": "stream",
     "text": [
      "C:\\Users\\shris\\anaconda3\\lib\\site-packages\\sklearn\\base.py:443: UserWarning: X has feature names, but KMeans was fitted without feature names\n",
      "  warnings.warn(\n"
     ]
    },
    {
     "data": {
      "text/plain": [
       "['Danza cubana no.3: Serenata melancolica',\n",
       " 'Lento, ma non troppo',\n",
       " 'Riase - Remasterizado',\n",
       " 'Daahoud',\n",
       " 'Katha Chhilo Aaj Raate',\n",
       " 'If Dreams Come True - Live',\n",
       " \"I've Got A Crush On You\",\n",
       " 'Enta Fakerny',\n",
       " 'Autumn Leaves - 1999 / Digital Remaster',\n",
       " 'Caravan']"
      ]
     },
     "execution_count": 17,
     "metadata": {},
     "output_type": "execute_result"
    }
   ],
   "source": [
    "recommend_songs(\"3w3cxwYuR7ThpE8KVSys5x\")\n"
   ]
  },
  {
   "cell_type": "code",
   "execution_count": null,
   "id": "990773e0",
   "metadata": {},
   "outputs": [],
   "source": [
    "import plotly.express as px\n",
    "fig = px.scatter(projection, x='x', y='y', color='cluster', hover_data=['x', 'y', 'title'])\n",
    "fig.show()"
   ]
  },
  {
   "cell_type": "code",
   "execution_count": 34,
   "id": "69e505ff",
   "metadata": {},
   "outputs": [
    {
     "name": "stdout",
     "output_type": "stream",
     "text": [
      "0         Male\n",
      "1       Female\n",
      "2         Male\n",
      "3       Female\n",
      "4         Male\n",
      "         ...  \n",
      "9995      Male\n",
      "9996    Female\n",
      "9997    Female\n",
      "9998      Male\n",
      "9999      Male\n",
      "Name: gender, Length: 10000, dtype: object\n"
     ]
    }
   ],
   "source": [
    "df = pd.read_csv(r\"C:/Users/shris/Desktop/profiles.csv\")\n",
    "print(df.gender)\n",
    "df.columns = ['userid', 'gender', 'age', 'country']"
   ]
  },
  {
   "cell_type": "code",
   "execution_count": 35,
   "id": "624e1c25",
   "metadata": {},
   "outputs": [
    {
     "data": {
      "text/html": [
       "<div>\n",
       "<style scoped>\n",
       "    .dataframe tbody tr th:only-of-type {\n",
       "        vertical-align: middle;\n",
       "    }\n",
       "\n",
       "    .dataframe tbody tr th {\n",
       "        vertical-align: top;\n",
       "    }\n",
       "\n",
       "    .dataframe thead th {\n",
       "        text-align: right;\n",
       "    }\n",
       "</style>\n",
       "<table border=\"1\" class=\"dataframe\">\n",
       "  <thead>\n",
       "    <tr style=\"text-align: right;\">\n",
       "      <th></th>\n",
       "      <th>userid</th>\n",
       "      <th>gender</th>\n",
       "      <th>age</th>\n",
       "      <th>country</th>\n",
       "    </tr>\n",
       "  </thead>\n",
       "  <tbody>\n",
       "    <tr>\n",
       "      <th>0</th>\n",
       "      <td>1</td>\n",
       "      <td>Male</td>\n",
       "      <td>79</td>\n",
       "      <td>Japan</td>\n",
       "    </tr>\n",
       "    <tr>\n",
       "      <th>1</th>\n",
       "      <td>2</td>\n",
       "      <td>Female</td>\n",
       "      <td>52</td>\n",
       "      <td>Australia</td>\n",
       "    </tr>\n",
       "    <tr>\n",
       "      <th>2</th>\n",
       "      <td>3</td>\n",
       "      <td>Male</td>\n",
       "      <td>69</td>\n",
       "      <td>France</td>\n",
       "    </tr>\n",
       "    <tr>\n",
       "      <th>3</th>\n",
       "      <td>4</td>\n",
       "      <td>Female</td>\n",
       "      <td>64</td>\n",
       "      <td>Germany</td>\n",
       "    </tr>\n",
       "    <tr>\n",
       "      <th>4</th>\n",
       "      <td>5</td>\n",
       "      <td>Male</td>\n",
       "      <td>74</td>\n",
       "      <td>Australia</td>\n",
       "    </tr>\n",
       "  </tbody>\n",
       "</table>\n",
       "</div>"
      ],
      "text/plain": [
       "   userid  gender  age    country\n",
       "0       1    Male   79      Japan\n",
       "1       2  Female   52  Australia\n",
       "2       3    Male   69     France\n",
       "3       4  Female   64    Germany\n",
       "4       5    Male   74  Australia"
      ]
     },
     "execution_count": 35,
     "metadata": {},
     "output_type": "execute_result"
    }
   ],
   "source": [
    "df.head()"
   ]
  },
  {
   "cell_type": "code",
   "execution_count": 36,
   "id": "ae1eac35",
   "metadata": {},
   "outputs": [
    {
     "ename": "IndexError",
     "evalue": "index 0 is out of bounds for axis 0 with size 0",
     "output_type": "error",
     "traceback": [
      "\u001b[1;31m---------------------------------------------------------------------------\u001b[0m",
      "\u001b[1;31mIndexError\u001b[0m                                Traceback (most recent call last)",
      "\u001b[1;32m~\\AppData\\Local\\Temp\\ipykernel_63872\\1502295846.py\u001b[0m in \u001b[0;36m<module>\u001b[1;34m\u001b[0m\n\u001b[0;32m      3\u001b[0m \u001b[0moutputs\u001b[0m \u001b[1;33m=\u001b[0m \u001b[1;33m[\u001b[0m\u001b[1;33m]\u001b[0m\u001b[1;33m\u001b[0m\u001b[1;33m\u001b[0m\u001b[0m\n\u001b[0;32m      4\u001b[0m \u001b[1;32mfor\u001b[0m \u001b[0msong\u001b[0m \u001b[1;32min\u001b[0m \u001b[0msongs\u001b[0m\u001b[1;33m:\u001b[0m\u001b[1;33m\u001b[0m\u001b[1;33m\u001b[0m\u001b[0m\n\u001b[1;32m----> 5\u001b[1;33m     \u001b[0mk\u001b[0m \u001b[1;33m=\u001b[0m \u001b[0mrecommend_songs\u001b[0m\u001b[1;33m(\u001b[0m\u001b[0msong\u001b[0m\u001b[1;33m)\u001b[0m\u001b[1;33m\u001b[0m\u001b[1;33m\u001b[0m\u001b[0m\n\u001b[0m\u001b[0;32m      6\u001b[0m     \u001b[0moutput\u001b[0m\u001b[1;33m.\u001b[0m\u001b[0mupdate\u001b[0m\u001b[1;33m(\u001b[0m \u001b[1;33m{\u001b[0m\u001b[0msong\u001b[0m \u001b[1;33m:\u001b[0m \u001b[0mk\u001b[0m\u001b[1;33m}\u001b[0m\u001b[1;33m)\u001b[0m\u001b[1;33m\u001b[0m\u001b[1;33m\u001b[0m\u001b[0m\n",
      "\u001b[1;32m~\\AppData\\Local\\Temp\\ipykernel_63872\\3836770589.py\u001b[0m in \u001b[0;36mrecommend_songs\u001b[1;34m(song_id, n_songs)\u001b[0m\n\u001b[0;32m      6\u001b[0m     \u001b[0mspotify_data\u001b[0m \u001b[1;33m=\u001b[0m \u001b[0mtracks\u001b[0m\u001b[1;33m\u001b[0m\u001b[1;33m\u001b[0m\u001b[0m\n\u001b[0;32m      7\u001b[0m     \u001b[0msong_name\u001b[0m \u001b[1;33m=\u001b[0m \u001b[0mtracks\u001b[0m\u001b[1;33m.\u001b[0m\u001b[0mloc\u001b[0m\u001b[1;33m[\u001b[0m\u001b[0mtracks\u001b[0m\u001b[1;33m.\u001b[0m\u001b[0mid\u001b[0m \u001b[1;33m==\u001b[0m \u001b[0msong_id\u001b[0m\u001b[1;33m,\u001b[0m \u001b[1;34m'name'\u001b[0m\u001b[1;33m]\u001b[0m\u001b[1;33m\u001b[0m\u001b[1;33m\u001b[0m\u001b[0m\n\u001b[1;32m----> 8\u001b[1;33m     \u001b[0msong_list\u001b[0m \u001b[1;33m=\u001b[0m \u001b[1;33m[\u001b[0m\u001b[1;33m{\u001b[0m\u001b[1;34m'name'\u001b[0m\u001b[1;33m:\u001b[0m \u001b[0msong_name\u001b[0m\u001b[1;33m.\u001b[0m\u001b[0mvalues\u001b[0m\u001b[1;33m[\u001b[0m\u001b[1;36m0\u001b[0m\u001b[1;33m]\u001b[0m\u001b[1;33m}\u001b[0m\u001b[1;33m]\u001b[0m\u001b[1;33m\u001b[0m\u001b[1;33m\u001b[0m\u001b[0m\n\u001b[0m\u001b[0;32m      9\u001b[0m     \u001b[0msong_dict\u001b[0m \u001b[1;33m=\u001b[0m \u001b[0mflatten_dict_list\u001b[0m\u001b[1;33m(\u001b[0m\u001b[0msong_list\u001b[0m\u001b[1;33m)\u001b[0m\u001b[1;33m\u001b[0m\u001b[1;33m\u001b[0m\u001b[0m\n\u001b[0;32m     10\u001b[0m \u001b[1;33m\u001b[0m\u001b[0m\n",
      "\u001b[1;31mIndexError\u001b[0m: index 0 is out of bounds for axis 0 with size 0"
     ]
    }
   ],
   "source": [
    "songs = df.gender.tolist()\n",
    "output = {}\n",
    "outputs = []\n",
    "for song in songs:\n",
    "    k = recommend_songs(song)\n",
    "    output.update( {song : k})\n"
   ]
  },
  {
   "cell_type": "code",
   "execution_count": null,
   "id": "ef0e0490",
   "metadata": {},
   "outputs": [],
   "source": [
    "output"
   ]
  },
  {
   "cell_type": "code",
   "execution_count": null,
   "id": "2ae05994",
   "metadata": {},
   "outputs": [],
   "source": [
    "df1 = pd.DataFrame.from_dict(output, orient='index')"
   ]
  },
  {
   "cell_type": "code",
   "execution_count": null,
   "id": "7f41756e",
   "metadata": {},
   "outputs": [],
   "source": [
    "df1.to_csv('content_based.csv')"
   ]
  },
  {
   "cell_type": "code",
   "execution_count": null,
   "id": "05cb09ba",
   "metadata": {},
   "outputs": [],
   "source": []
  }
 ],
 "metadata": {
  "kernelspec": {
   "display_name": "Python 3 (ipykernel)",
   "language": "python",
   "name": "python3"
  },
  "language_info": {
   "codemirror_mode": {
    "name": "ipython",
    "version": 3
   },
   "file_extension": ".py",
   "mimetype": "text/x-python",
   "name": "python",
   "nbconvert_exporter": "python",
   "pygments_lexer": "ipython3",
   "version": "3.9.13"
  }
 },
 "nbformat": 4,
 "nbformat_minor": 5
}
