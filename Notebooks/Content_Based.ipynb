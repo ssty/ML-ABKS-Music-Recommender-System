{
 "cells": [
  {
   "cell_type": "markdown",
   "id": "bd74590f",
   "metadata": {},
   "source": [
    "# **Import Libraries**"
   ]
  },
  {
   "cell_type": "code",
   "execution_count": 1,
   "id": "9a503b14",
   "metadata": {
    "scrolled": true
   },
   "outputs": [
    {
     "name": "stdout",
     "output_type": "stream",
     "text": [
      "importing Jupyter notebook from Utility.ipynb\n",
      "Requirement already satisfied: import-ipynb in c:\\users\\shris\\anaconda3\\lib\\site-packages (0.1.4)\n",
      "Requirement already satisfied: IPython in c:\\users\\shris\\anaconda3\\lib\\site-packages (from import-ipynb) (7.31.1)\n",
      "Requirement already satisfied: nbformat in c:\\users\\shris\\anaconda3\\lib\\site-packages (from import-ipynb) (5.5.0)\n",
      "Requirement already satisfied: colorama in c:\\users\\shris\\anaconda3\\lib\\site-packages (from IPython->import-ipynb) (0.4.5)\n",
      "Requirement already satisfied: prompt-toolkit!=3.0.0,!=3.0.1,<3.1.0,>=2.0.0 in c:\\users\\shris\\anaconda3\\lib\\site-packages (from IPython->import-ipynb) (3.0.20)\n",
      "Requirement already satisfied: setuptools>=18.5 in c:\\users\\shris\\anaconda3\\lib\\site-packages (from IPython->import-ipynb) (63.4.1)\n",
      "Requirement already satisfied: jedi>=0.16 in c:\\users\\shris\\anaconda3\\lib\\site-packages (from IPython->import-ipynb) (0.18.1)\n",
      "Requirement already satisfied: decorator in c:\\users\\shris\\anaconda3\\lib\\site-packages (from IPython->import-ipynb) (5.1.1)\n",
      "Requirement already satisfied: backcall in c:\\users\\shris\\anaconda3\\lib\\site-packages (from IPython->import-ipynb) (0.2.0)\n",
      "Requirement already satisfied: pickleshare in c:\\users\\shris\\anaconda3\\lib\\site-packages (from IPython->import-ipynb) (0.7.5)\n",
      "Requirement already satisfied: traitlets>=4.2 in c:\\users\\shris\\anaconda3\\lib\\site-packages (from IPython->import-ipynb) (5.1.1)\n",
      "Requirement already satisfied: pygments in c:\\users\\shris\\anaconda3\\lib\\site-packages (from IPython->import-ipynb) (2.11.2)\n",
      "Requirement already satisfied: matplotlib-inline in c:\\users\\shris\\anaconda3\\lib\\site-packages (from IPython->import-ipynb) (0.1.6)\n",
      "Requirement already satisfied: jupyter_core in c:\\users\\shris\\anaconda3\\lib\\site-packages (from nbformat->import-ipynb) (4.11.1)\n",
      "Requirement already satisfied: jsonschema>=2.6 in c:\\users\\shris\\anaconda3\\lib\\site-packages (from nbformat->import-ipynb) (4.16.0)\n",
      "Requirement already satisfied: fastjsonschema in c:\\users\\shris\\anaconda3\\lib\\site-packages (from nbformat->import-ipynb) (2.16.2)\n",
      "Requirement already satisfied: parso<0.9.0,>=0.8.0 in c:\\users\\shris\\anaconda3\\lib\\site-packages (from jedi>=0.16->IPython->import-ipynb) (0.8.3)\n",
      "Requirement already satisfied: attrs>=17.4.0 in c:\\users\\shris\\anaconda3\\lib\\site-packages (from jsonschema>=2.6->nbformat->import-ipynb) (21.4.0)\n",
      "Requirement already satisfied: pyrsistent!=0.17.0,!=0.17.1,!=0.17.2,>=0.14.0 in c:\\users\\shris\\anaconda3\\lib\\site-packages (from jsonschema>=2.6->nbformat->import-ipynb) (0.18.0)\n",
      "Requirement already satisfied: wcwidth in c:\\users\\shris\\anaconda3\\lib\\site-packages (from prompt-toolkit!=3.0.0,!=3.0.1,<3.1.0,>=2.0.0->IPython->import-ipynb) (0.2.5)\n",
      "Requirement already satisfied: pywin32>=1.0 in c:\\users\\shris\\anaconda3\\lib\\site-packages (from jupyter_core->nbformat->import-ipynb) (302)\n"
     ]
    }
   ],
   "source": [
    "import numpy as np\n",
    "import pandas as pd\n",
    "from sklearn.feature_extraction.text import TfidfVectorizer\n",
    "from sklearn.metrics.pairwise import linear_kernel\n",
    "from sklearn.cluster import KMeans\n",
    "import import_ipynb\n",
    "from sklearn.decomposition import PCA\n",
    "from sklearn.pipeline import Pipeline\n",
    "from sklearn.preprocessing import StandardScaler\n",
    "from scipy.spatial.distance import cdist\n",
    "\n",
    "import Utility\n",
    "from Utility import *"
   ]
  },
  {
   "cell_type": "markdown",
   "id": "a12de648",
   "metadata": {},
   "source": [
    " ## Read Music Data"
   ]
  },
  {
   "cell_type": "code",
   "execution_count": 2,
   "id": "a6060b8e",
   "metadata": {},
   "outputs": [],
   "source": [
    "tracks = pd.read_csv(r\"datasets/data.csv\")"
   ]
  },
  {
   "cell_type": "markdown",
   "id": "cc6eb73a",
   "metadata": {},
   "source": [
    "## Content-based Filtering Song Recommendation"
   ]
  },
  {
   "cell_type": "markdown",
   "id": "c5626ea4",
   "metadata": {},
   "source": [
    "\n",
    "Music Recommender based on different KMeans and PCA algorithm\n",
    "\n",
    "1. PCA_algorithm: to reduce the dimensionality (in our case number of components is 2) within a dataset while still retaining as much information as possible.\n",
    "\n",
    "2. KMeans_with_PCA_algorithm: algorithm that tries to partition the dataset into Kpre-defined distinct non-overlapping clusters. \n",
    "    Based on the values of the Within Cluster Sum of Squares (WCSS) and an approach known as the Elbow method, we made a decision about how many clusters we’d like to keep.In our case, we have kept number of cluster as 3.\n",
    "\n",
    "3. we have then created a new data frame df_segm_pca_kmeans. It allows us to add in the values of the separate components to our segmentation data set. The components’ scores are stored in the ‘scores P C A’ variable. Let’s label them com1 and com2.\n",
    "\n",
    "4. filter_based_on_segment: filters songs that belong to particulat cluster segment.\n",
    "\n",
    "5. filter_based_on_cluster_centroid: filters songs based on closet distance of song and centroid\n"
   ]
  },
  {
   "cell_type": "code",
   "execution_count": 10,
   "id": "5ea8b99d",
   "metadata": {},
   "outputs": [],
   "source": [
    "def recommend_songs(song_id, n_songs=10):\n",
    "  \n",
    "    \"\"\"\n",
    "    Recommends songs based on a list of previous songs that a user has listened to.\n",
    "    \"\"\"\n",
    "    song_embedding = PCA_algorithm(tracks)\n",
    "    \n",
    "    kmeans_pca , centroids = KMeans_with_PCA_algorithm(song_embedding,3)\n",
    "\n",
    "    #get Segment K-means PCA from song_id argument\n",
    "    df_segm_pca_kmeans = pd.concat([tracks.reset_index(drop=True), pd.DataFrame(song_embedding)],axis=1)\n",
    "    df_segm_pca_kmeans.columns.values[-2:] = ['com1','com2']\n",
    "    df_segm_pca_kmeans['Segment K-means PCA'] = kmeans_pca.labels_\n",
    "\n",
    "    #get segment value of song_id\n",
    "    segment_val = df_segm_pca_kmeans[df_segm_pca_kmeans['id'] == song_id]['Segment K-means PCA'].values[0]\n",
    "    \n",
    "    filtered_data_per_segment = filter_based_on_segment(df_segm_pca_kmeans,segment_val,'id', 'name')   \n",
    "\n",
    "    rec_songs = filter_based_on_cluster_centroid(kmeans_pca,filtered_data_per_segment,segment_val,tracks)\n",
    "\n",
    "    #recommend top n songs\n",
    "    return rec_songs.head(n_songs)['name'].tolist()"
   ]
  },
  {
   "cell_type": "code",
   "execution_count": null,
   "id": "2504a5c1",
   "metadata": {},
   "outputs": [],
   "source": [
    "Finds similar songs based on the selected song using its song_id \n",
    "Recommends Top N song(s). In  our case, we have recommended top 10 songs"
   ]
  },
  {
   "cell_type": "code",
   "execution_count": 11,
   "id": "9bf28518",
   "metadata": {},
   "outputs": [
    {
     "name": "stderr",
     "output_type": "stream",
     "text": [
      "C:\\Users\\shris\\anaconda3\\lib\\site-packages\\sklearn\\base.py:443: UserWarning: X has feature names, but KMeans was fitted without feature names\n",
      "  warnings.warn(\n"
     ]
    },
    {
     "data": {
      "text/plain": [
       "['If I Were You - Take 1',\n",
       " 'Taxi War Dance (Alternate Take)',\n",
       " 'Kiye Ja Kaam Milenge Daam',\n",
       " 'Hungaria',\n",
       " 'Who Wants Love?',\n",
       " \"Grandpa's Spells (Take 3)\",\n",
       " 'Olvidao - Instrumental (Remasterizado)',\n",
       " 'Taxi War Dance (Alternate Take)',\n",
       " \"Put 'Em Down Blues\",\n",
       " 'Sugar Foot Stomp']"
      ]
     },
     "execution_count": 11,
     "metadata": {},
     "output_type": "execute_result"
    }
   ],
   "source": [
    "recommend_songs(\"3w3cxwYuR7ThpE8KVSys5x\")\n"
   ]
  },
  {
   "cell_type": "code",
   "execution_count": 12,
   "id": "990773e0",
   "metadata": {},
   "outputs": [],
   "source": [
    "# import plotly.express as px\n",
    "# fig = px.scatter(projection, x='x', y='y', color='cluster', hover_data=['x', 'y', 'title'])\n",
    "# fig.show()"
   ]
  },
  {
   "cell_type": "code",
   "execution_count": 13,
   "id": "69e505ff",
   "metadata": {},
   "outputs": [],
   "source": [
    "# df = pd.read_csv(r\"C:/Users/shris/Desktop/profiles.csv\")\n",
    "# print(df.gender)\n",
    "# df.columns = ['userid', 'gender', 'age', 'country']"
   ]
  },
  {
   "cell_type": "code",
   "execution_count": 14,
   "id": "624e1c25",
   "metadata": {},
   "outputs": [],
   "source": [
    "# df.head()"
   ]
  },
  {
   "cell_type": "code",
   "execution_count": 15,
   "id": "ae1eac35",
   "metadata": {},
   "outputs": [],
   "source": [
    "# songs = df.gender.tolist()\n",
    "# output = {}\n",
    "# outputs = []\n",
    "# for song in songs:\n",
    "#     k = recommend_songs(song)\n",
    "#     output.update( {song : k})\n"
   ]
  },
  {
   "cell_type": "code",
   "execution_count": 16,
   "id": "ef0e0490",
   "metadata": {},
   "outputs": [],
   "source": [
    "# output"
   ]
  },
  {
   "cell_type": "code",
   "execution_count": 17,
   "id": "2ae05994",
   "metadata": {},
   "outputs": [],
   "source": [
    "# df1 = pd.DataFrame.from_dict(output, orient='index')"
   ]
  }
 ],
 "metadata": {
  "kernelspec": {
   "display_name": "Python 3 (ipykernel)",
   "language": "python",
   "name": "python3"
  },
  "language_info": {
   "codemirror_mode": {
    "name": "ipython",
    "version": 3
   },
   "file_extension": ".py",
   "mimetype": "text/x-python",
   "name": "python",
   "nbconvert_exporter": "python",
   "pygments_lexer": "ipython3",
   "version": "3.9.13"
  }
 },
 "nbformat": 4,
 "nbformat_minor": 5
}
