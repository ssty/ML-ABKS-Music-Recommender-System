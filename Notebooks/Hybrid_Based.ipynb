{
 "cells": [
  {
   "cell_type": "markdown",
   "id": "dd128db7",
   "metadata": {},
   "source": [
    "# **Import Libraries**"
   ]
  },
  {
   "cell_type": "code",
   "execution_count": 1,
   "id": "103de7af",
   "metadata": {},
   "outputs": [
    {
     "name": "stdout",
     "output_type": "stream",
     "text": [
      "importing Jupyter notebook from Utility.ipynb\n"
     ]
    }
   ],
   "source": [
    "import numpy as np\n",
    "import pandas as pd\n",
    "from sklearn.preprocessing import StandardScaler\n",
    "from sklearn.pipeline import Pipeline\n",
    "from scipy.spatial.distance import cdist\n",
    "import warnings\n",
    "import import_ipynb\n",
    "from Utility import *\n",
    "\n",
    "warnings.simplefilter(action='ignore', category=FutureWarning)\n",
    "import random\n",
    "\n",
    "warnings.filterwarnings(\"ignore\")\n",
    "from sklearn.cluster import KMeans"
   ]
  },
  {
   "cell_type": "markdown",
   "id": "258300c8",
   "metadata": {},
   "source": [
    " ## Read Music Data by artists"
   ]
  },
  {
   "cell_type": "code",
   "execution_count": 2,
   "id": "9a503b14",
   "metadata": {
    "scrolled": false
   },
   "outputs": [
    {
     "data": {
      "text/html": [
       "<div>\n",
       "<style scoped>\n",
       "    .dataframe tbody tr th:only-of-type {\n",
       "        vertical-align: middle;\n",
       "    }\n",
       "\n",
       "    .dataframe tbody tr th {\n",
       "        vertical-align: top;\n",
       "    }\n",
       "\n",
       "    .dataframe thead th {\n",
       "        text-align: right;\n",
       "    }\n",
       "</style>\n",
       "<table border=\"1\" class=\"dataframe\">\n",
       "  <thead>\n",
       "    <tr style=\"text-align: right;\">\n",
       "      <th></th>\n",
       "      <th>mode</th>\n",
       "      <th>count</th>\n",
       "      <th>acousticness</th>\n",
       "      <th>artists</th>\n",
       "      <th>danceability</th>\n",
       "      <th>duration_ms</th>\n",
       "      <th>energy</th>\n",
       "      <th>instrumentalness</th>\n",
       "      <th>liveness</th>\n",
       "      <th>loudness</th>\n",
       "      <th>speechiness</th>\n",
       "      <th>tempo</th>\n",
       "      <th>valence</th>\n",
       "      <th>popularity</th>\n",
       "      <th>key</th>\n",
       "    </tr>\n",
       "  </thead>\n",
       "  <tbody>\n",
       "    <tr>\n",
       "      <th>0</th>\n",
       "      <td>1</td>\n",
       "      <td>9</td>\n",
       "      <td>0.590111</td>\n",
       "      <td>\"Cats\" 1981 Original London Cast</td>\n",
       "      <td>0.467222</td>\n",
       "      <td>250318.555556</td>\n",
       "      <td>0.394003</td>\n",
       "      <td>0.011400</td>\n",
       "      <td>0.290833</td>\n",
       "      <td>-14.448000</td>\n",
       "      <td>0.210389</td>\n",
       "      <td>117.518111</td>\n",
       "      <td>0.389500</td>\n",
       "      <td>38.333333</td>\n",
       "      <td>5</td>\n",
       "    </tr>\n",
       "    <tr>\n",
       "      <th>1</th>\n",
       "      <td>1</td>\n",
       "      <td>26</td>\n",
       "      <td>0.862538</td>\n",
       "      <td>\"Cats\" 1983 Broadway Cast</td>\n",
       "      <td>0.441731</td>\n",
       "      <td>287280.000000</td>\n",
       "      <td>0.406808</td>\n",
       "      <td>0.081158</td>\n",
       "      <td>0.315215</td>\n",
       "      <td>-10.690000</td>\n",
       "      <td>0.176212</td>\n",
       "      <td>103.044154</td>\n",
       "      <td>0.268865</td>\n",
       "      <td>30.576923</td>\n",
       "      <td>5</td>\n",
       "    </tr>\n",
       "    <tr>\n",
       "      <th>2</th>\n",
       "      <td>1</td>\n",
       "      <td>7</td>\n",
       "      <td>0.856571</td>\n",
       "      <td>\"Fiddler On The Roof” Motion Picture Chorus</td>\n",
       "      <td>0.348286</td>\n",
       "      <td>328920.000000</td>\n",
       "      <td>0.286571</td>\n",
       "      <td>0.024593</td>\n",
       "      <td>0.325786</td>\n",
       "      <td>-15.230714</td>\n",
       "      <td>0.118514</td>\n",
       "      <td>77.375857</td>\n",
       "      <td>0.354857</td>\n",
       "      <td>34.857143</td>\n",
       "      <td>0</td>\n",
       "    </tr>\n",
       "    <tr>\n",
       "      <th>3</th>\n",
       "      <td>1</td>\n",
       "      <td>27</td>\n",
       "      <td>0.884926</td>\n",
       "      <td>\"Fiddler On The Roof” Motion Picture Orchestra</td>\n",
       "      <td>0.425074</td>\n",
       "      <td>262890.962963</td>\n",
       "      <td>0.245770</td>\n",
       "      <td>0.073587</td>\n",
       "      <td>0.275481</td>\n",
       "      <td>-15.639370</td>\n",
       "      <td>0.123200</td>\n",
       "      <td>88.667630</td>\n",
       "      <td>0.372030</td>\n",
       "      <td>34.851852</td>\n",
       "      <td>0</td>\n",
       "    </tr>\n",
       "    <tr>\n",
       "      <th>4</th>\n",
       "      <td>1</td>\n",
       "      <td>7</td>\n",
       "      <td>0.510714</td>\n",
       "      <td>\"Joseph And The Amazing Technicolor Dreamcoat\"...</td>\n",
       "      <td>0.467143</td>\n",
       "      <td>270436.142857</td>\n",
       "      <td>0.488286</td>\n",
       "      <td>0.009400</td>\n",
       "      <td>0.195000</td>\n",
       "      <td>-10.236714</td>\n",
       "      <td>0.098543</td>\n",
       "      <td>122.835857</td>\n",
       "      <td>0.482286</td>\n",
       "      <td>43.000000</td>\n",
       "      <td>5</td>\n",
       "    </tr>\n",
       "  </tbody>\n",
       "</table>\n",
       "</div>"
      ],
      "text/plain": [
       "   mode  count  acousticness  \\\n",
       "0     1      9      0.590111   \n",
       "1     1     26      0.862538   \n",
       "2     1      7      0.856571   \n",
       "3     1     27      0.884926   \n",
       "4     1      7      0.510714   \n",
       "\n",
       "                                             artists  danceability  \\\n",
       "0                   \"Cats\" 1981 Original London Cast      0.467222   \n",
       "1                          \"Cats\" 1983 Broadway Cast      0.441731   \n",
       "2        \"Fiddler On The Roof” Motion Picture Chorus      0.348286   \n",
       "3     \"Fiddler On The Roof” Motion Picture Orchestra      0.425074   \n",
       "4  \"Joseph And The Amazing Technicolor Dreamcoat\"...      0.467143   \n",
       "\n",
       "     duration_ms    energy  instrumentalness  liveness   loudness  \\\n",
       "0  250318.555556  0.394003          0.011400  0.290833 -14.448000   \n",
       "1  287280.000000  0.406808          0.081158  0.315215 -10.690000   \n",
       "2  328920.000000  0.286571          0.024593  0.325786 -15.230714   \n",
       "3  262890.962963  0.245770          0.073587  0.275481 -15.639370   \n",
       "4  270436.142857  0.488286          0.009400  0.195000 -10.236714   \n",
       "\n",
       "   speechiness       tempo   valence  popularity  key  \n",
       "0     0.210389  117.518111  0.389500   38.333333    5  \n",
       "1     0.176212  103.044154  0.268865   30.576923    5  \n",
       "2     0.118514   77.375857  0.354857   34.857143    0  \n",
       "3     0.123200   88.667630  0.372030   34.851852    0  \n",
       "4     0.098543  122.835857  0.482286   43.000000    5  "
      ]
     },
     "execution_count": 2,
     "metadata": {},
     "output_type": "execute_result"
    }
   ],
   "source": [
    "data = pd.read_csv(r\"datasets/data_by_artist.csv\")\n",
    "data.head()"
   ]
  },
  {
   "cell_type": "markdown",
   "id": "c4291540",
   "metadata": {},
   "source": [
    "We only need **'valence', 'artists', 'count', 'popularity'** fields from the dataset. Hence, retrieving those fields and saving it in a csv file named as \"artist_data.csv\"\n"
   ]
  },
  {
   "cell_type": "code",
   "execution_count": 3,
   "id": "2fa51f47",
   "metadata": {},
   "outputs": [],
   "source": [
    "artist_data = data[['valence', 'artists', 'count', 'popularity']]\n",
    "artist_data.to_csv('artist_data.csv')"
   ]
  },
  {
   "cell_type": "markdown",
   "id": "8a40ccdf",
   "metadata": {},
   "source": [
    " ## Read Music Data from spotify dataset"
   ]
  },
  {
   "cell_type": "code",
   "execution_count": 4,
   "id": "7c6e4717",
   "metadata": {},
   "outputs": [
    {
     "data": {
      "text/html": [
       "<div>\n",
       "<style scoped>\n",
       "    .dataframe tbody tr th:only-of-type {\n",
       "        vertical-align: middle;\n",
       "    }\n",
       "\n",
       "    .dataframe tbody tr th {\n",
       "        vertical-align: top;\n",
       "    }\n",
       "\n",
       "    .dataframe thead th {\n",
       "        text-align: right;\n",
       "    }\n",
       "</style>\n",
       "<table border=\"1\" class=\"dataframe\">\n",
       "  <thead>\n",
       "    <tr style=\"text-align: right;\">\n",
       "      <th></th>\n",
       "      <th>user_id</th>\n",
       "      <th>\"artistname\"</th>\n",
       "      <th>\"trackname\"</th>\n",
       "      <th>\"playlistname\"</th>\n",
       "    </tr>\n",
       "  </thead>\n",
       "  <tbody>\n",
       "    <tr>\n",
       "      <th>0</th>\n",
       "      <td>07f0fc3be95dcd878966b1f9572ff670</td>\n",
       "      <td>C418</td>\n",
       "      <td>From the Window</td>\n",
       "      <td>C418</td>\n",
       "    </tr>\n",
       "    <tr>\n",
       "      <th>1</th>\n",
       "      <td>07f0fc3be95dcd878966b1f9572ff670</td>\n",
       "      <td>C418</td>\n",
       "      <td>Mice On Venus</td>\n",
       "      <td>C418</td>\n",
       "    </tr>\n",
       "    <tr>\n",
       "      <th>2</th>\n",
       "      <td>07f0fc3be95dcd878966b1f9572ff670</td>\n",
       "      <td>C418</td>\n",
       "      <td>Wet Hands</td>\n",
       "      <td>C418</td>\n",
       "    </tr>\n",
       "    <tr>\n",
       "      <th>3</th>\n",
       "      <td>07f0fc3be95dcd878966b1f9572ff670</td>\n",
       "      <td>Emancipator</td>\n",
       "      <td>Black Lake (Emancipator Remix)</td>\n",
       "      <td>Chill out</td>\n",
       "    </tr>\n",
       "    <tr>\n",
       "      <th>4</th>\n",
       "      <td>07f0fc3be95dcd878966b1f9572ff670</td>\n",
       "      <td>The Glitch Mob</td>\n",
       "      <td>Drive It Like You Stole It</td>\n",
       "      <td>Chill out</td>\n",
       "    </tr>\n",
       "  </tbody>\n",
       "</table>\n",
       "</div>"
      ],
      "text/plain": [
       "                            user_id    \"artistname\"  \\\n",
       "0  07f0fc3be95dcd878966b1f9572ff670            C418   \n",
       "1  07f0fc3be95dcd878966b1f9572ff670            C418   \n",
       "2  07f0fc3be95dcd878966b1f9572ff670            C418   \n",
       "3  07f0fc3be95dcd878966b1f9572ff670     Emancipator   \n",
       "4  07f0fc3be95dcd878966b1f9572ff670  The Glitch Mob   \n",
       "\n",
       "                      \"trackname\"  \"playlistname\"  \n",
       "0                 From the Window            C418  \n",
       "1                   Mice On Venus            C418  \n",
       "2                       Wet Hands            C418  \n",
       "3  Black Lake (Emancipator Remix)       Chill out  \n",
       "4      Drive It Like You Stole It       Chill out  "
      ]
     },
     "execution_count": 4,
     "metadata": {},
     "output_type": "execute_result"
    }
   ],
   "source": [
    "p = 0.02  # to randomly select 1% of the rows\n",
    "df_playlist_spotify = pd.read_csv(r\"datasets/spotify_dataset.csv\", error_bad_lines=False, warn_bad_lines=False,\n",
    "                                  skiprows=lambda i: i > 0 and random.random() > p)\n",
    "df_playlist_spotify.head()"
   ]
  },
  {
   "cell_type": "markdown",
   "id": "64729737",
   "metadata": {},
   "source": [
    "### Clean up column names\n",
    "1. remove extra quotes **'\n",
    "2. update column names by removing **name** from column name\n",
    "3. remove extra white spaces"
   ]
  },
  {
   "cell_type": "code",
   "execution_count": 5,
   "id": "ed7b9ab7",
   "metadata": {},
   "outputs": [
    {
     "data": {
      "text/plain": [
       "Index(['user_id', 'artist', 'track', 'playlist'], dtype='object')"
      ]
     },
     "execution_count": 5,
     "metadata": {},
     "output_type": "execute_result"
    }
   ],
   "source": [
    "df_playlist_spotify.columns = df_playlist_spotify.columns.str.replace('\"', '')\n",
    "df_playlist_spotify.columns = df_playlist_spotify.columns.str.replace('name', '')\n",
    "df_playlist_spotify.columns = df_playlist_spotify.columns.str.replace(' ', '')\n",
    "df_playlist_spotify.columns"
   ]
  },
  {
   "cell_type": "markdown",
   "id": "bd91f265",
   "metadata": {},
   "source": [
    "### For recommender system, we are only keeping the artists with frequency higher than 50"
   ]
  },
  {
   "cell_type": "code",
   "execution_count": 6,
   "id": "a525f8e1",
   "metadata": {},
   "outputs": [
    {
     "name": "stdout",
     "output_type": "stream",
     "text": [
      "                                 user_id          artist  \\\n",
      "4       07f0fc3be95dcd878966b1f9572ff670  The Glitch Mob   \n",
      "5       07f0fc3be95dcd878966b1f9572ff670       Daft Punk   \n",
      "6       07f0fc3be95dcd878966b1f9572ff670         Ratatat   \n",
      "7       07f0fc3be95dcd878966b1f9572ff670         Ratatat   \n",
      "10      07f0fc3be95dcd878966b1f9572ff670     Linkin Park   \n",
      "...                                  ...             ...   \n",
      "258370  488ead471813ae982119153f792e4a3e       Icona Pop   \n",
      "258372  488ead471813ae982119153f792e4a3e   Avril Lavigne   \n",
      "258374  2302bf9c64dc63d88a750215ed187f2c       Pearl Jam   \n",
      "258375  2302bf9c64dc63d88a750215ed187f2c       Pearl Jam   \n",
      "258376  2302bf9c64dc63d88a750215ed187f2c    Eddie Vedder   \n",
      "\n",
      "                                       track    playlist  \n",
      "4                 Drive It Like You Stole It   Chill out  \n",
      "5                              Short Circuit  Daft Punk   \n",
      "6                                 Gettysburg     Electro  \n",
      "7                                   Mi Viejo     Electro  \n",
      "10                              The Catalyst      Soirée  \n",
      "...                                      ...         ...  \n",
      "258370  Just Another Night - DubVision Remix     Starred  \n",
      "258372                    Wish You Were Here     Starred  \n",
      "258374                                  Once     Shuffle  \n",
      "258375                             Dissident      iPhone  \n",
      "258376                       Hard Sun (Main)      iPhone  \n",
      "\n",
      "[104830 rows x 4 columns]\n"
     ]
    }
   ],
   "source": [
    "df_playlist = df_playlist_spotify.groupby('artist').filter(lambda x: len(x) >= 50)\n",
    "print(df_playlist)"
   ]
  },
  {
   "cell_type": "code",
   "execution_count": 7,
   "id": "e0199844",
   "metadata": {},
   "outputs": [
    {
     "name": "stdout",
     "output_type": "stream",
     "text": [
      "                                 user_id                   artist  \\\n",
      "4       07f0fc3be95dcd878966b1f9572ff670           The Glitch Mob   \n",
      "5       07f0fc3be95dcd878966b1f9572ff670                Daft Punk   \n",
      "6       07f0fc3be95dcd878966b1f9572ff670                  Ratatat   \n",
      "7       07f0fc3be95dcd878966b1f9572ff670                  Ratatat   \n",
      "10      07f0fc3be95dcd878966b1f9572ff670              Linkin Park   \n",
      "...                                  ...                      ...   \n",
      "258309  8e430be89a7c972611c503bb23fbc3f7  Queens Of The Stone Age   \n",
      "258317  8e430be89a7c972611c503bb23fbc3f7              Jon Hopkins   \n",
      "258320  8e430be89a7c972611c503bb23fbc3f7                Metronomy   \n",
      "258321  8e430be89a7c972611c503bb23fbc3f7                 Deftones   \n",
      "258326  8e430be89a7c972611c503bb23fbc3f7              Sonic Youth   \n",
      "\n",
      "                              track                              playlist  \n",
      "4        Drive It Like You Stole It                             Chill out  \n",
      "5                     Short Circuit                            Daft Punk   \n",
      "6                        Gettysburg                               Electro  \n",
      "7                          Mi Viejo                               Electro  \n",
      "10                     The Catalyst                                Soirée  \n",
      "...                             ...                                   ...  \n",
      "258309            Song For The Dead       Concert Octobre - Novembre 2013  \n",
      "258317                      Elegiac                      Liked from Radio  \n",
      "258320  The Most Immaculate Haircut          Metronomy @Ancienne Belgique  \n",
      "258321                   Goon Squad  Pukkelpop 2013 what did you expect ?  \n",
      "258326          Bull In The Heather                               Starred  \n",
      "\n",
      "[62983 rows x 4 columns]\n"
     ]
    }
   ],
   "source": [
    "df_playlist = df_playlist[df_playlist.groupby('user_id').artist.transform('nunique') >= 10]\n",
    "print(df_playlist)"
   ]
  },
  {
   "cell_type": "code",
   "execution_count": 8,
   "id": "168ab2de",
   "metadata": {},
   "outputs": [
    {
     "data": {
      "text/html": [
       "<div>\n",
       "<style scoped>\n",
       "    .dataframe tbody tr th:only-of-type {\n",
       "        vertical-align: middle;\n",
       "    }\n",
       "\n",
       "    .dataframe tbody tr th {\n",
       "        vertical-align: top;\n",
       "    }\n",
       "\n",
       "    .dataframe thead th {\n",
       "        text-align: right;\n",
       "    }\n",
       "</style>\n",
       "<table border=\"1\" class=\"dataframe\">\n",
       "  <thead>\n",
       "    <tr style=\"text-align: right;\">\n",
       "      <th></th>\n",
       "      <th>user_id</th>\n",
       "      <th>artist</th>\n",
       "      <th>freq</th>\n",
       "    </tr>\n",
       "  </thead>\n",
       "  <tbody>\n",
       "    <tr>\n",
       "      <th>7090</th>\n",
       "      <td>26b51e580277e131f87e4c7ee4c0887a</td>\n",
       "      <td>Vitamin String Quartet</td>\n",
       "      <td>71</td>\n",
       "    </tr>\n",
       "    <tr>\n",
       "      <th>369</th>\n",
       "      <td>014e695cc6df96011b90a5beb3206012</td>\n",
       "      <td>Ilaiyaraaja</td>\n",
       "      <td>56</td>\n",
       "    </tr>\n",
       "    <tr>\n",
       "      <th>22239</th>\n",
       "      <td>7ee2b92c5bcf6133b8132363e5bda960</td>\n",
       "      <td>Jamey Aebersold Play-A-Long</td>\n",
       "      <td>47</td>\n",
       "    </tr>\n",
       "    <tr>\n",
       "      <th>31093</th>\n",
       "      <td>b1d4116e7cf150ae7d77413620f5f571</td>\n",
       "      <td>Wolfgang Amadeus Mozart</td>\n",
       "      <td>47</td>\n",
       "    </tr>\n",
       "    <tr>\n",
       "      <th>11627</th>\n",
       "      <td>414050deadb38aafd8d4ad22ca634055</td>\n",
       "      <td>Vitamin String Quartet</td>\n",
       "      <td>47</td>\n",
       "    </tr>\n",
       "  </tbody>\n",
       "</table>\n",
       "</div>"
      ],
      "text/plain": [
       "                                user_id                       artist  freq\n",
       "7090   26b51e580277e131f87e4c7ee4c0887a       Vitamin String Quartet    71\n",
       "369    014e695cc6df96011b90a5beb3206012                  Ilaiyaraaja    56\n",
       "22239  7ee2b92c5bcf6133b8132363e5bda960  Jamey Aebersold Play-A-Long    47\n",
       "31093  b1d4116e7cf150ae7d77413620f5f571      Wolfgang Amadeus Mozart    47\n",
       "11627  414050deadb38aafd8d4ad22ca634055       Vitamin String Quartet    47"
      ]
     },
     "execution_count": 8,
     "metadata": {},
     "output_type": "execute_result"
    }
   ],
   "source": [
    "size = lambda x: len(x)\n",
    "df_freq = df_playlist.groupby(['user_id', 'artist']).agg('size').reset_index().rename(columns={0: 'freq'})[\n",
    "    ['user_id', 'artist', 'freq']].sort_values(['freq'], ascending=False)\n",
    "df_freq.head()"
   ]
  },
  {
   "cell_type": "code",
   "execution_count": 9,
   "id": "a38ce2c8",
   "metadata": {
    "scrolled": false
   },
   "outputs": [
    {
     "data": {
      "text/html": [
       "<div>\n",
       "<style scoped>\n",
       "    .dataframe tbody tr th:only-of-type {\n",
       "        vertical-align: middle;\n",
       "    }\n",
       "\n",
       "    .dataframe tbody tr th {\n",
       "        vertical-align: top;\n",
       "    }\n",
       "\n",
       "    .dataframe thead th {\n",
       "        text-align: right;\n",
       "    }\n",
       "</style>\n",
       "<table border=\"1\" class=\"dataframe\">\n",
       "  <thead>\n",
       "    <tr style=\"text-align: right;\">\n",
       "      <th></th>\n",
       "      <th>artist_id</th>\n",
       "      <th>artist</th>\n",
       "    </tr>\n",
       "  </thead>\n",
       "  <tbody>\n",
       "    <tr>\n",
       "      <th>0</th>\n",
       "      <td>0</td>\n",
       "      <td>Vitamin String Quartet</td>\n",
       "    </tr>\n",
       "    <tr>\n",
       "      <th>1</th>\n",
       "      <td>1</td>\n",
       "      <td>Ilaiyaraaja</td>\n",
       "    </tr>\n",
       "    <tr>\n",
       "      <th>2</th>\n",
       "      <td>2</td>\n",
       "      <td>Jamey Aebersold Play-A-Long</td>\n",
       "    </tr>\n",
       "    <tr>\n",
       "      <th>3</th>\n",
       "      <td>3</td>\n",
       "      <td>Wolfgang Amadeus Mozart</td>\n",
       "    </tr>\n",
       "    <tr>\n",
       "      <th>4</th>\n",
       "      <td>4</td>\n",
       "      <td>Frank Sinatra</td>\n",
       "    </tr>\n",
       "  </tbody>\n",
       "</table>\n",
       "</div>"
      ],
      "text/plain": [
       "   artist_id                       artist\n",
       "0          0       Vitamin String Quartet\n",
       "1          1                  Ilaiyaraaja\n",
       "2          2  Jamey Aebersold Play-A-Long\n",
       "3          3      Wolfgang Amadeus Mozart\n",
       "4          4                Frank Sinatra"
      ]
     },
     "execution_count": 9,
     "metadata": {},
     "output_type": "execute_result"
    }
   ],
   "source": [
    "df_artist = pd.DataFrame(df_freq[\"artist\"].unique())\n",
    "df_artist = df_artist.reset_index()\n",
    "df_artist = df_artist.rename(columns={'index': 'artist_id', 0: 'artist'})\n",
    "df_artist.head()"
   ]
  },
  {
   "cell_type": "code",
   "execution_count": 10,
   "id": "83014aad",
   "metadata": {},
   "outputs": [],
   "source": [
    "def recommend_artists(artist,  n=10):    \n",
    "    \"\"\"\n",
    "    Recommends songs based on a list of previous songs that a user has listened to.\n",
    "    \"\"\"\n",
    "    song_embedding = PCA_algorithm(artist_data)\n",
    "    kmeans_pca, centroids = KMeans_with_PCA_algorithm(song_embedding,50)\n",
    "\n",
    "    df_segm_pca_kmeans = pd.concat([artist_data.reset_index(drop=True), pd.DataFrame(song_embedding)], axis=1)\n",
    "    df_segm_pca_kmeans.columns.values[-2:] = ['com1', 'com2']\n",
    "    df_segm_pca_kmeans['Segment K-means PCA'] = kmeans_pca.labels_\n",
    "\n",
    "    #get segment value of artist\n",
    "    # artist = 'Frank Sinatra'\n",
    "    segment_val = df_segm_pca_kmeans[df_segm_pca_kmeans['artists'] == artist]['Segment K-means PCA'].values[0]\n",
    "\n",
    "    filtered_data_per_segment = filter_based_on_segment(df_segm_pca_kmeans, segment_val,'artists', 'valence')\n",
    "\n",
    "    rec_artists = filter_based_on_cluster_centroid(kmeans_pca, filtered_data_per_segment, segment_val, artist_data)\n",
    "    # print(rec_artists)\n",
    "\n",
    "    #recommend top n artists\n",
    "    return rec_artists.head(n)['artists'].tolist()"
   ]
  },
  {
   "cell_type": "code",
   "execution_count": 11,
   "id": "f2dec306",
   "metadata": {},
   "outputs": [],
   "source": [
    "def recommend_artist_and_songs(artist, n_songs=10):\n",
    "    # get recommended artists\n",
    "    recommended_artists = pd.DataFrame({\n",
    "            'artist' : recommend_artists(artist, n_songs)\n",
    "        })\n",
    "    # print(recommended_artists)\n",
    "    recommend_songs_list = pd.DataFrame(columns = ['artist', 'songs'])\n",
    "    # artist_count = len(recommended_artists)\n",
    "    # song_per_artist = n_songs > artist_count and (n_songs/artist_count) or 1\n",
    "\n",
    "    # get songs per artist\n",
    "    for i in range(len(recommended_artists)):\n",
    "        artist = recommended_artists.loc[i, \"artist\"]\n",
    "        recommend_song = pd.DataFrame({\n",
    "            'artist' : artist,\n",
    "            'songs' :get_song_from_artist(artist, 1)\n",
    "        })\n",
    "        recommend_songs_list = recommend_songs_list.append(recommend_song, ignore_index = True)\n",
    "    return  recommend_songs_list"
   ]
  },
  {
   "cell_type": "code",
   "execution_count": 12,
   "id": "523a872b",
   "metadata": {},
   "outputs": [
    {
     "name": "stdout",
     "output_type": "stream",
     "text": [
      "                    artist                                              songs\n",
      "0          Ella Fitzgerald                                         'Deed I Do\n",
      "1          Lata Mangeshkar                                  Aa Ab Laut Chalen\n",
      "2              Dean Martin                                    'Til I Find You\n",
      "3           The Beach Boys  \"Cassius\" Love Vs. \"Sonny\" Wilson - Remastered...\n",
      "4       The Rolling Stones  (I Can't Get No) Satisfaction - (Original Sing...\n",
      "5     Ludwig van Beethoven  12 Variations on \"Ein Mädchen oder Weibchen\", ...\n",
      "6                Bob Dylan  (Quinn the Eskimo) The Mighty Quinn - Live at ...\n",
      "7            Fleetwood Mac                            Albatross - 2018 Master\n",
      "8  Wolfgang Amadeus Mozart                                          Adagio II\n",
      "9             Irina Salkow              Kapitel 1 - Der Page und die Herzogin\n"
     ]
    }
   ],
   "source": [
    "# pass favorite artist name and no of recommended artist/song you want to listen\n",
    "recommended_artist_and_songs = recommend_artist_and_songs('Ella Fitzgerald',10)\n",
    "# this list contains n recommended artist with 1 songs per artist\n",
    "print(recommended_artist_and_songs)"
   ]
  },
  {
   "cell_type": "code",
   "execution_count": 13,
   "id": "7837dc60",
   "metadata": {},
   "outputs": [],
   "source": [
    "#TODO: refactor and cleanup"
   ]
  }
 ],
 "metadata": {
  "kernelspec": {
   "display_name": "Python 3 (ipykernel)",
   "language": "python",
   "name": "python3"
  },
  "language_info": {
   "codemirror_mode": {
    "name": "ipython",
    "version": 3
   },
   "file_extension": ".py",
   "mimetype": "text/x-python",
   "name": "python",
   "nbconvert_exporter": "python",
   "pygments_lexer": "ipython3",
   "version": "3.9.13"
  }
 },
 "nbformat": 4,
 "nbformat_minor": 5
}
