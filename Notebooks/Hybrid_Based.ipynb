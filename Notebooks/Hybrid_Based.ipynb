{
 "cells": [
  {
   "cell_type": "markdown",
   "id": "e78d123f",
   "metadata": {},
   "source": [
    "## Import Libraries"
   ]
  },
  {
   "cell_type": "code",
   "execution_count": 38,
   "id": "103de7af",
   "metadata": {},
   "outputs": [],
   "source": [
    "import numpy as np\n",
    "import pandas as pd\n",
    "from sklearn.preprocessing import StandardScaler\n",
    "from sklearn.pipeline import Pipeline\n",
    "from scipy.spatial.distance import cdist\n",
    "import warnings\n",
    "import import_ipynb\n",
    "from Utility import *\n",
    "from Collaborative_filtering import *\n",
    "\n",
    "warnings.simplefilter(action='ignore', category=FutureWarning)\n",
    "import random\n",
    "\n",
    "warnings.filterwarnings(\"ignore\")\n",
    "from sklearn.cluster import KMeans"
   ]
  },
  {
   "cell_type": "markdown",
   "id": "f53d5834",
   "metadata": {},
   "source": [
    " ### Read Music Data by artists"
   ]
  },
  {
   "cell_type": "code",
   "execution_count": 39,
   "id": "9a503b14",
   "metadata": {
    "scrolled": false
   },
   "outputs": [
    {
     "data": {
      "text/plain": "   mode  count  acousticness  \\\n0     1      9      0.590111   \n1     1     26      0.862538   \n2     1      7      0.856571   \n3     1     27      0.884926   \n4     1      7      0.510714   \n\n                                             artists  danceability  \\\n0                   \"Cats\" 1981 Original London Cast      0.467222   \n1                          \"Cats\" 1983 Broadway Cast      0.441731   \n2        \"Fiddler On The Roof” Motion Picture Chorus      0.348286   \n3     \"Fiddler On The Roof” Motion Picture Orchestra      0.425074   \n4  \"Joseph And The Amazing Technicolor Dreamcoat\"...      0.467143   \n\n     duration_ms    energy  instrumentalness  liveness   loudness  \\\n0  250318.555556  0.394003          0.011400  0.290833 -14.448000   \n1  287280.000000  0.406808          0.081158  0.315215 -10.690000   \n2  328920.000000  0.286571          0.024593  0.325786 -15.230714   \n3  262890.962963  0.245770          0.073587  0.275481 -15.639370   \n4  270436.142857  0.488286          0.009400  0.195000 -10.236714   \n\n   speechiness       tempo   valence  popularity  key  \n0     0.210389  117.518111  0.389500   38.333333    5  \n1     0.176212  103.044154  0.268865   30.576923    5  \n2     0.118514   77.375857  0.354857   34.857143    0  \n3     0.123200   88.667630  0.372030   34.851852    0  \n4     0.098543  122.835857  0.482286   43.000000    5  ",
      "text/html": "<div>\n<style scoped>\n    .dataframe tbody tr th:only-of-type {\n        vertical-align: middle;\n    }\n\n    .dataframe tbody tr th {\n        vertical-align: top;\n    }\n\n    .dataframe thead th {\n        text-align: right;\n    }\n</style>\n<table border=\"1\" class=\"dataframe\">\n  <thead>\n    <tr style=\"text-align: right;\">\n      <th></th>\n      <th>mode</th>\n      <th>count</th>\n      <th>acousticness</th>\n      <th>artists</th>\n      <th>danceability</th>\n      <th>duration_ms</th>\n      <th>energy</th>\n      <th>instrumentalness</th>\n      <th>liveness</th>\n      <th>loudness</th>\n      <th>speechiness</th>\n      <th>tempo</th>\n      <th>valence</th>\n      <th>popularity</th>\n      <th>key</th>\n    </tr>\n  </thead>\n  <tbody>\n    <tr>\n      <th>0</th>\n      <td>1</td>\n      <td>9</td>\n      <td>0.590111</td>\n      <td>\"Cats\" 1981 Original London Cast</td>\n      <td>0.467222</td>\n      <td>250318.555556</td>\n      <td>0.394003</td>\n      <td>0.011400</td>\n      <td>0.290833</td>\n      <td>-14.448000</td>\n      <td>0.210389</td>\n      <td>117.518111</td>\n      <td>0.389500</td>\n      <td>38.333333</td>\n      <td>5</td>\n    </tr>\n    <tr>\n      <th>1</th>\n      <td>1</td>\n      <td>26</td>\n      <td>0.862538</td>\n      <td>\"Cats\" 1983 Broadway Cast</td>\n      <td>0.441731</td>\n      <td>287280.000000</td>\n      <td>0.406808</td>\n      <td>0.081158</td>\n      <td>0.315215</td>\n      <td>-10.690000</td>\n      <td>0.176212</td>\n      <td>103.044154</td>\n      <td>0.268865</td>\n      <td>30.576923</td>\n      <td>5</td>\n    </tr>\n    <tr>\n      <th>2</th>\n      <td>1</td>\n      <td>7</td>\n      <td>0.856571</td>\n      <td>\"Fiddler On The Roof” Motion Picture Chorus</td>\n      <td>0.348286</td>\n      <td>328920.000000</td>\n      <td>0.286571</td>\n      <td>0.024593</td>\n      <td>0.325786</td>\n      <td>-15.230714</td>\n      <td>0.118514</td>\n      <td>77.375857</td>\n      <td>0.354857</td>\n      <td>34.857143</td>\n      <td>0</td>\n    </tr>\n    <tr>\n      <th>3</th>\n      <td>1</td>\n      <td>27</td>\n      <td>0.884926</td>\n      <td>\"Fiddler On The Roof” Motion Picture Orchestra</td>\n      <td>0.425074</td>\n      <td>262890.962963</td>\n      <td>0.245770</td>\n      <td>0.073587</td>\n      <td>0.275481</td>\n      <td>-15.639370</td>\n      <td>0.123200</td>\n      <td>88.667630</td>\n      <td>0.372030</td>\n      <td>34.851852</td>\n      <td>0</td>\n    </tr>\n    <tr>\n      <th>4</th>\n      <td>1</td>\n      <td>7</td>\n      <td>0.510714</td>\n      <td>\"Joseph And The Amazing Technicolor Dreamcoat\"...</td>\n      <td>0.467143</td>\n      <td>270436.142857</td>\n      <td>0.488286</td>\n      <td>0.009400</td>\n      <td>0.195000</td>\n      <td>-10.236714</td>\n      <td>0.098543</td>\n      <td>122.835857</td>\n      <td>0.482286</td>\n      <td>43.000000</td>\n      <td>5</td>\n    </tr>\n  </tbody>\n</table>\n</div>"
     },
     "execution_count": 39,
     "metadata": {},
     "output_type": "execute_result"
    }
   ],
   "source": [
    "data = pd.read_csv(r\"datasets/data_by_artist.csv\")\n",
    "data.head()"
   ]
  },
  {
   "cell_type": "markdown",
   "id": "4d1641eb",
   "metadata": {},
   "source": [
    "We only need **'valence', 'artists', 'count', 'popularity'** fields from the dataset. Hence, retrieving those fields and saving it in a csv file named as \"artist_data.csv\"\n"
   ]
  },
  {
   "cell_type": "code",
   "execution_count": 40,
   "id": "2fa51f47",
   "metadata": {},
   "outputs": [],
   "source": [
    "artist_data = data[['valence', 'artists', 'count', 'popularity']]\n",
    "artist_data.to_csv('datasets/artist_data.csv')"
   ]
  },
  {
   "cell_type": "markdown",
   "id": "10a10521",
   "metadata": {},
   "source": [
    "## Hybrid Song Recommendation "
   ]
  },
  {
   "cell_type": "markdown",
   "id": "c4cca698",
   "metadata": {},
   "source": [
    "It is a recommendation system which is combination of the content and collaborative filtering method.  By using content and collaborative-based methods to generate predictions separately and then combining the prediction, we can generate more accurate recommendations and also reduces the problem of cold start.\n",
    "\n",
    "1. **Collaborative filtering**: \n",
    "\n",
    "2. **Content based filtering**:\n",
    "\n",
    "    a. **PCA_algorithm**: to reduce the dimensionality (in our case number of components is 2) within a dataset while still retaining as much information as possible.\n",
    "\n",
    "     b.**KMeans_with_PCA_algorithm**: algorithm that tries to partition the dataset into Kpre-defined distinct non-overlapping clusters. \n",
    "    Based on the values of the Within Cluster Sum of Squares (WCSS) and an approach known as the Elbow method, we made a decision about how many clusters we’d like to keep.In our case, we have kept number of cluster as 50.\n",
    "\n",
    "     c.we have then created a new data frame df_segm_pca_kmeans. It allows us to add in the values of the separate components to our segmentation data set. The components’ scores are stored in the ‘scores P C A’ variable. Let’s label them com1 and com2.\n",
    "\n",
    "     d.**filter_based_on_segment**: filters songs that belong to particulat cluster segment.\n",
    "\n",
    "     e.**filter_based_on_cluster_centroid**: filters songs based on closet distance of song and centroid\n",
    "\n",
    "3. returns list of top n artists with songs, where n is set as 10 in our case"
   ]
  },
  {
   "cell_type": "code",
   "execution_count": 41,
   "id": "002a0534",
   "metadata": {},
   "outputs": [],
   "source": [
    "def recommend_artists(artist,  n=10):    \n",
    "    \"\"\"\n",
    "    Recommends songs based on a list of previous songs that a user has listened to.\n",
    "    \"\"\"\n",
    "    song_embedding = PCA_algorithm(artist_data)\n",
    "    kmeans_pca, centroids = KMeans_with_PCA_algorithm(song_embedding,50)\n",
    "\n",
    "    df_segm_pca_kmeans = pd.concat([artist_data.reset_index(drop=True), pd.DataFrame(song_embedding)], axis=1)\n",
    "    df_segm_pca_kmeans.columns.values[-2:] = ['com1', 'com2']\n",
    "    df_segm_pca_kmeans['Segment K-means PCA'] = kmeans_pca.labels_\n",
    "\n",
    "    #get segment value of artist\n",
    "    segment_val = df_segm_pca_kmeans[df_segm_pca_kmeans['artists'] == artist]['Segment K-means PCA'].values[0]\n",
    "\n",
    "    filtered_data_per_segment = filter_based_on_segment(df_segm_pca_kmeans, segment_val,'artists', 'valence')\n",
    "\n",
    "    rec_artists = filter_based_on_cluster_centroid(kmeans_pca, filtered_data_per_segment, segment_val, artist_data)\n",
    "\n",
    "    #recommend top n artists\n",
    "    return rec_artists.head(n)['artists'].tolist()"
   ]
  },
  {
   "cell_type": "markdown",
   "id": "0e70aee7",
   "metadata": {},
   "source": [
    "**recommend_artist_and_songs:** Finds list of songs and artists  based on the selected artist name \n",
    "Recommends Top N artist with their song(s). In  our case, we have recommended top 10 songs"
   ]
  },
  {
   "cell_type": "code",
   "execution_count": 42,
   "id": "1bd69f4b",
   "metadata": {},
   "outputs": [],
   "source": [
    "def recommend_artist_and_songs(artist, n_songs=10):\n",
    "    # get recommended artists\n",
    "    recommended_artists = pd.DataFrame({\n",
    "            'artist' : recommend_artists(artist, n_songs)\n",
    "        })\n",
    "    recommend_songs_list = pd.DataFrame(columns = ['artist', 'songs'])\n",
    "\n",
    "    # get songs per artist\n",
    "    for i in range(len(recommended_artists)):\n",
    "        artist = recommended_artists.loc[i, \"artist\"]\n",
    "        recommend_song = pd.DataFrame({\n",
    "            'artist' : artist,\n",
    "            'songs' : get_song_from_artist(artist, 1)\n",
    "        })\n",
    "        recommend_songs_list = recommend_songs_list.append(recommend_song, ignore_index = True)\n",
    "    return  recommend_songs_list"
   ]
  },
  {
   "cell_type": "code",
   "execution_count": 43,
   "id": "a7f4a22e",
   "metadata": {},
   "outputs": [],
   "source": [
    "def hybrid_filtering(artist_id, n_artist = 1):\n",
    "    #collaborative filtering\n",
    "    artist_data1 = pd.read_csv('datasets/ydata-ymusic-user-artist-rating.csv')\n",
    "    artist_name_data1 = pd.read_csv('datasets/ydata-ymusic-artist-names.csv')\n",
    "    recommended_artists_collab = collaborative_filtering(artist_data1,'artist_id', 'user_id', artist_id, n_artist, artist_name_data1)\n",
    "\n",
    "    data1 = pd.read_csv(r\"datasets/data_by_artist.csv\")\n",
    "    data2 = pd.read_csv(r\"datasets/data.csv\")\n",
    "\n",
    "    # kmeans with pca\n",
    "    #used both spotify and yahoo to get song names from spotify while taking advantage of rating from yahoo data\n",
    "    recommended_artist_and_songs_hybrid = {}\n",
    "    # print(recommended_artists_collab)\n",
    "    for val in recommended_artists_collab['artist']:\n",
    "        if val in data1['artists'].values and any(val in s for s in data2['artists']):\n",
    "            recommended_artist_and_songs_hybrid = recommend_artist_and_songs(val,10)\n",
    "            break\n",
    "\n",
    "    return recommended_artist_and_songs_hybrid\n",
    "\n"
   ]
  },
  {
   "cell_type": "code",
   "execution_count": 44,
   "id": "721eab2d",
   "metadata": {},
   "outputs": [
    {
     "data": {
      "text/plain": "                                artist  \\\n0                               L.T.D.   \n1                        Rod Temperton   \n2                               Sandro   \n3                         Leroy Hutson   \n4                    Charlotte Diamond   \n5               Chris \"Tricky\" Stewart   \n6                                N.R.G   \n7                       Wisin & Yandel   \n8                       Vijay Benedict   \n9  Singin' In The Rain - Original Cast   \n\n                                               songs  \n0      (Every Time I Turn Around) Back In Love Again  \n1  Voice-Over Intro / Voice-Over Session from Thr...  \n2                                 Al Abrir La Puerta  \n3                   Classy Lady - Remastered Version  \n4                                    Four Hugs A Day  \n5                                    Don't Be Afraid  \n6                         Instruments of Destruction  \n7                                          Abusadora  \n8                                I Am A Disco Dancer  \n9                                       Good Morning  ",
      "text/html": "<div>\n<style scoped>\n    .dataframe tbody tr th:only-of-type {\n        vertical-align: middle;\n    }\n\n    .dataframe tbody tr th {\n        vertical-align: top;\n    }\n\n    .dataframe thead th {\n        text-align: right;\n    }\n</style>\n<table border=\"1\" class=\"dataframe\">\n  <thead>\n    <tr style=\"text-align: right;\">\n      <th></th>\n      <th>artist</th>\n      <th>songs</th>\n    </tr>\n  </thead>\n  <tbody>\n    <tr>\n      <th>0</th>\n      <td>L.T.D.</td>\n      <td>(Every Time I Turn Around) Back In Love Again</td>\n    </tr>\n    <tr>\n      <th>1</th>\n      <td>Rod Temperton</td>\n      <td>Voice-Over Intro / Voice-Over Session from Thr...</td>\n    </tr>\n    <tr>\n      <th>2</th>\n      <td>Sandro</td>\n      <td>Al Abrir La Puerta</td>\n    </tr>\n    <tr>\n      <th>3</th>\n      <td>Leroy Hutson</td>\n      <td>Classy Lady - Remastered Version</td>\n    </tr>\n    <tr>\n      <th>4</th>\n      <td>Charlotte Diamond</td>\n      <td>Four Hugs A Day</td>\n    </tr>\n    <tr>\n      <th>5</th>\n      <td>Chris \"Tricky\" Stewart</td>\n      <td>Don't Be Afraid</td>\n    </tr>\n    <tr>\n      <th>6</th>\n      <td>N.R.G</td>\n      <td>Instruments of Destruction</td>\n    </tr>\n    <tr>\n      <th>7</th>\n      <td>Wisin &amp; Yandel</td>\n      <td>Abusadora</td>\n    </tr>\n    <tr>\n      <th>8</th>\n      <td>Vijay Benedict</td>\n      <td>I Am A Disco Dancer</td>\n    </tr>\n    <tr>\n      <th>9</th>\n      <td>Singin' In The Rain - Original Cast</td>\n      <td>Good Morning</td>\n    </tr>\n  </tbody>\n</table>\n</div>"
     },
     "metadata": {},
     "output_type": "display_data"
    }
   ],
   "source": [
    "# pass artist_id for hybrid filtering\n",
    "# if id is passed None than it will filter based on avg rating and popularity which solves cold-start problem\n",
    "results_for_new_user = hybrid_filtering(None,5)\n",
    "display(results_for_new_user)\n",
    "\n",
    "# Test IDS:\n",
    "# 1001553\n",
    "# 1058037"
   ]
  },
  {
   "cell_type": "code",
   "execution_count": null,
   "outputs": [],
   "source": [
    "# pass artist_id for hybrid filtering\n",
    "# if id is passed None than it will filter based on avg rating and popularity which solves cold-start problem\n",
    "results_with_artist_id = hybrid_filtering(1001553,1)\n",
    "display(results_with_artist_id)\n",
    "\n",
    "# Test IDS:\n",
    "# 1001553\n",
    "# 1058037"
   ],
   "metadata": {
    "collapsed": false,
    "pycharm": {
     "is_executing": true
    }
   }
  },
  {
   "cell_type": "markdown",
   "id": "5788a9bc",
   "metadata": {},
   "source": [
    "## Circle graph to show recommended songs"
   ]
  },
  {
   "cell_type": "code",
   "execution_count": null,
   "id": "01ee9443",
   "metadata": {
    "pycharm": {
     "is_executing": true
    }
   },
   "outputs": [],
   "source": [
    "circlify_vizualization(results_with_artist_id['songs'])"
   ]
  },
  {
   "cell_type": "markdown",
   "id": "46611cfe",
   "metadata": {},
   "source": [
    "## Circle graph to show recommended Artists"
   ]
  },
  {
   "cell_type": "code",
   "execution_count": null,
   "id": "0d8dfe1f",
   "metadata": {
    "pycharm": {
     "is_executing": true
    }
   },
   "outputs": [],
   "source": [
    "circlify_vizualization(results_with_artist_id['artist'])"
   ]
  },
  {
   "cell_type": "markdown",
   "source": [
    "## Circle graph to show recommended songs for new user"
   ],
   "metadata": {
    "collapsed": false
   }
  },
  {
   "cell_type": "code",
   "execution_count": null,
   "outputs": [],
   "source": [
    "circlify_vizualization(results_for_new_user['songs'])"
   ],
   "metadata": {
    "collapsed": false,
    "pycharm": {
     "is_executing": true
    }
   }
  },
  {
   "cell_type": "code",
   "execution_count": null,
   "outputs": [],
   "source": [
    "circlify_vizualization(results_for_new_user['artist'])"
   ],
   "metadata": {
    "collapsed": false,
    "pycharm": {
     "is_executing": true
    }
   }
  }
 ],
 "metadata": {
  "kernelspec": {
   "display_name": "Python 3 (ipykernel)",
   "language": "python",
   "name": "python3"
  },
  "language_info": {
   "codemirror_mode": {
    "name": "ipython",
    "version": 3
   },
   "file_extension": ".py",
   "mimetype": "text/x-python",
   "name": "python",
   "nbconvert_exporter": "python",
   "pygments_lexer": "ipython3",
   "version": "3.9.13"
  }
 },
 "nbformat": 4,
 "nbformat_minor": 5
}
