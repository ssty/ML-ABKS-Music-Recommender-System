{
 "cells": [
  {
   "cell_type": "markdown",
   "id": "64c1f12f",
   "metadata": {},
   "source": [
    "## **Import Libraries**"
   ]
  },
  {
   "cell_type": "code",
   "execution_count": 91,
   "id": "103de7af",
   "metadata": {},
   "outputs": [],
   "source": [
    "import numpy as np\n",
    "import pandas as pd\n",
    "from sklearn.preprocessing import StandardScaler\n",
    "from sklearn.pipeline import Pipeline\n",
    "from scipy.spatial.distance import cdist\n",
    "import warnings\n",
    "import import_ipynb\n",
    "from Utility import *\n",
    "\n",
    "warnings.simplefilter(action='ignore', category=FutureWarning)\n",
    "import random\n",
    "\n",
    "warnings.filterwarnings(\"ignore\")\n",
    "from sklearn.cluster import KMeans"
   ]
  },
  {
   "cell_type": "markdown",
   "id": "7330ef36",
   "metadata": {},
   "source": [
    " ### Read Music Data by artists"
   ]
  },
  {
   "cell_type": "code",
   "execution_count": 92,
   "id": "9a503b14",
   "metadata": {
    "scrolled": false
   },
   "outputs": [
    {
     "data": {
      "text/plain": "   mode  count  acousticness  \\\n0     1      9      0.590111   \n1     1     26      0.862538   \n2     1      7      0.856571   \n3     1     27      0.884926   \n4     1      7      0.510714   \n\n                                             artists  danceability  \\\n0                   \"Cats\" 1981 Original London Cast      0.467222   \n1                          \"Cats\" 1983 Broadway Cast      0.441731   \n2        \"Fiddler On The Roof” Motion Picture Chorus      0.348286   \n3     \"Fiddler On The Roof” Motion Picture Orchestra      0.425074   \n4  \"Joseph And The Amazing Technicolor Dreamcoat\"...      0.467143   \n\n     duration_ms    energy  instrumentalness  liveness   loudness  \\\n0  250318.555556  0.394003          0.011400  0.290833 -14.448000   \n1  287280.000000  0.406808          0.081158  0.315215 -10.690000   \n2  328920.000000  0.286571          0.024593  0.325786 -15.230714   \n3  262890.962963  0.245770          0.073587  0.275481 -15.639370   \n4  270436.142857  0.488286          0.009400  0.195000 -10.236714   \n\n   speechiness       tempo   valence  popularity  key  \n0     0.210389  117.518111  0.389500   38.333333    5  \n1     0.176212  103.044154  0.268865   30.576923    5  \n2     0.118514   77.375857  0.354857   34.857143    0  \n3     0.123200   88.667630  0.372030   34.851852    0  \n4     0.098543  122.835857  0.482286   43.000000    5  ",
      "text/html": "<div>\n<style scoped>\n    .dataframe tbody tr th:only-of-type {\n        vertical-align: middle;\n    }\n\n    .dataframe tbody tr th {\n        vertical-align: top;\n    }\n\n    .dataframe thead th {\n        text-align: right;\n    }\n</style>\n<table border=\"1\" class=\"dataframe\">\n  <thead>\n    <tr style=\"text-align: right;\">\n      <th></th>\n      <th>mode</th>\n      <th>count</th>\n      <th>acousticness</th>\n      <th>artists</th>\n      <th>danceability</th>\n      <th>duration_ms</th>\n      <th>energy</th>\n      <th>instrumentalness</th>\n      <th>liveness</th>\n      <th>loudness</th>\n      <th>speechiness</th>\n      <th>tempo</th>\n      <th>valence</th>\n      <th>popularity</th>\n      <th>key</th>\n    </tr>\n  </thead>\n  <tbody>\n    <tr>\n      <th>0</th>\n      <td>1</td>\n      <td>9</td>\n      <td>0.590111</td>\n      <td>\"Cats\" 1981 Original London Cast</td>\n      <td>0.467222</td>\n      <td>250318.555556</td>\n      <td>0.394003</td>\n      <td>0.011400</td>\n      <td>0.290833</td>\n      <td>-14.448000</td>\n      <td>0.210389</td>\n      <td>117.518111</td>\n      <td>0.389500</td>\n      <td>38.333333</td>\n      <td>5</td>\n    </tr>\n    <tr>\n      <th>1</th>\n      <td>1</td>\n      <td>26</td>\n      <td>0.862538</td>\n      <td>\"Cats\" 1983 Broadway Cast</td>\n      <td>0.441731</td>\n      <td>287280.000000</td>\n      <td>0.406808</td>\n      <td>0.081158</td>\n      <td>0.315215</td>\n      <td>-10.690000</td>\n      <td>0.176212</td>\n      <td>103.044154</td>\n      <td>0.268865</td>\n      <td>30.576923</td>\n      <td>5</td>\n    </tr>\n    <tr>\n      <th>2</th>\n      <td>1</td>\n      <td>7</td>\n      <td>0.856571</td>\n      <td>\"Fiddler On The Roof” Motion Picture Chorus</td>\n      <td>0.348286</td>\n      <td>328920.000000</td>\n      <td>0.286571</td>\n      <td>0.024593</td>\n      <td>0.325786</td>\n      <td>-15.230714</td>\n      <td>0.118514</td>\n      <td>77.375857</td>\n      <td>0.354857</td>\n      <td>34.857143</td>\n      <td>0</td>\n    </tr>\n    <tr>\n      <th>3</th>\n      <td>1</td>\n      <td>27</td>\n      <td>0.884926</td>\n      <td>\"Fiddler On The Roof” Motion Picture Orchestra</td>\n      <td>0.425074</td>\n      <td>262890.962963</td>\n      <td>0.245770</td>\n      <td>0.073587</td>\n      <td>0.275481</td>\n      <td>-15.639370</td>\n      <td>0.123200</td>\n      <td>88.667630</td>\n      <td>0.372030</td>\n      <td>34.851852</td>\n      <td>0</td>\n    </tr>\n    <tr>\n      <th>4</th>\n      <td>1</td>\n      <td>7</td>\n      <td>0.510714</td>\n      <td>\"Joseph And The Amazing Technicolor Dreamcoat\"...</td>\n      <td>0.467143</td>\n      <td>270436.142857</td>\n      <td>0.488286</td>\n      <td>0.009400</td>\n      <td>0.195000</td>\n      <td>-10.236714</td>\n      <td>0.098543</td>\n      <td>122.835857</td>\n      <td>0.482286</td>\n      <td>43.000000</td>\n      <td>5</td>\n    </tr>\n  </tbody>\n</table>\n</div>"
     },
     "execution_count": 92,
     "metadata": {},
     "output_type": "execute_result"
    }
   ],
   "source": [
    "data = pd.read_csv(r\"datasets/data_by_artist.csv\")\n",
    "data.head()"
   ]
  },
  {
   "cell_type": "markdown",
   "id": "27b792f9",
   "metadata": {},
   "source": [
    "We only need **'valence', 'artists', 'count', 'popularity'** fields from the dataset. Hence, retrieving those fields and saving it in a csv file named as \"artist_data.csv\"\n"
   ]
  },
  {
   "cell_type": "code",
   "execution_count": 93,
   "id": "2fa51f47",
   "metadata": {},
   "outputs": [],
   "source": [
    "artist_data = data[['valence', 'artists', 'count', 'popularity']]\n",
    "artist_data.to_csv('artist_data.csv')"
   ]
  },
  {
   "cell_type": "markdown",
   "id": "6572228c",
   "metadata": {},
   "source": [
    " ### Read Music Data from spotify dataset"
   ]
  },
  {
   "cell_type": "code",
   "execution_count": 94,
   "id": "7c6e4717",
   "metadata": {},
   "outputs": [
    {
     "data": {
      "text/plain": "                            user_id     \"artistname\"  \\\n0  07f0fc3be95dcd878966b1f9572ff670             C418   \n1  07f0fc3be95dcd878966b1f9572ff670   The Glitch Mob   \n2  07f0fc3be95dcd878966b1f9572ff670          Caribou   \n3  07f0fc3be95dcd878966b1f9572ff670           Bonobo   \n4  07f0fc3be95dcd878966b1f9572ff670  Antonio Vivaldi   \n\n                                         \"trackname\"  \"playlistname\"  \n0                                               Door            C418  \n1                         Drive It Like You Stole It       Chill out  \n2                        Melody Day - Four Tet Remix       Chill out  \n3                                       Nothing Owed       Chill out  \n4  The Four Seasons - Spring (Violin Concerto in ...       Classique  ",
      "text/html": "<div>\n<style scoped>\n    .dataframe tbody tr th:only-of-type {\n        vertical-align: middle;\n    }\n\n    .dataframe tbody tr th {\n        vertical-align: top;\n    }\n\n    .dataframe thead th {\n        text-align: right;\n    }\n</style>\n<table border=\"1\" class=\"dataframe\">\n  <thead>\n    <tr style=\"text-align: right;\">\n      <th></th>\n      <th>user_id</th>\n      <th>\"artistname\"</th>\n      <th>\"trackname\"</th>\n      <th>\"playlistname\"</th>\n    </tr>\n  </thead>\n  <tbody>\n    <tr>\n      <th>0</th>\n      <td>07f0fc3be95dcd878966b1f9572ff670</td>\n      <td>C418</td>\n      <td>Door</td>\n      <td>C418</td>\n    </tr>\n    <tr>\n      <th>1</th>\n      <td>07f0fc3be95dcd878966b1f9572ff670</td>\n      <td>The Glitch Mob</td>\n      <td>Drive It Like You Stole It</td>\n      <td>Chill out</td>\n    </tr>\n    <tr>\n      <th>2</th>\n      <td>07f0fc3be95dcd878966b1f9572ff670</td>\n      <td>Caribou</td>\n      <td>Melody Day - Four Tet Remix</td>\n      <td>Chill out</td>\n    </tr>\n    <tr>\n      <th>3</th>\n      <td>07f0fc3be95dcd878966b1f9572ff670</td>\n      <td>Bonobo</td>\n      <td>Nothing Owed</td>\n      <td>Chill out</td>\n    </tr>\n    <tr>\n      <th>4</th>\n      <td>07f0fc3be95dcd878966b1f9572ff670</td>\n      <td>Antonio Vivaldi</td>\n      <td>The Four Seasons - Spring (Violin Concerto in ...</td>\n      <td>Classique</td>\n    </tr>\n  </tbody>\n</table>\n</div>"
     },
     "execution_count": 94,
     "metadata": {},
     "output_type": "execute_result"
    }
   ],
   "source": [
    "p = 0.02  # to randomly select 1% of the rows\n",
    "df_playlist_spotify = pd.read_csv(r\"datasets/spotify_dataset.csv\", error_bad_lines=False, warn_bad_lines=False,\n",
    "                                  skiprows=lambda i: i > 0 and random.random() > p)\n",
    "df_playlist_spotify.head()"
   ]
  },
  {
   "cell_type": "markdown",
   "id": "f2df3942",
   "metadata": {},
   "source": [
    "### Clean up column names\n",
    "1. remove extra quotes \n",
    "2. update column names by removing **name** from column name\n",
    "3. remove extra white spaces"
   ]
  },
  {
   "cell_type": "code",
   "execution_count": 95,
   "id": "ed7b9ab7",
   "metadata": {},
   "outputs": [
    {
     "data": {
      "text/plain": "Index(['user_id', 'artist', 'track', 'playlist'], dtype='object')"
     },
     "execution_count": 95,
     "metadata": {},
     "output_type": "execute_result"
    }
   ],
   "source": [
    "df_playlist_spotify.columns = df_playlist_spotify.columns.str.replace('\"', '')\n",
    "df_playlist_spotify.columns = df_playlist_spotify.columns.str.replace('name', '')\n",
    "df_playlist_spotify.columns = df_playlist_spotify.columns.str.replace(' ', '')\n",
    "df_playlist_spotify.columns"
   ]
  },
  {
   "cell_type": "markdown",
   "id": "e202fbd6",
   "metadata": {},
   "source": [
    "### For recommender system, we are only keeping the artists with frequency higher than 50"
   ]
  },
  {
   "cell_type": "code",
   "execution_count": 96,
   "id": "a525f8e1",
   "metadata": {},
   "outputs": [],
   "source": [
    "df_playlist = df_playlist_spotify.groupby('artist').filter(lambda x: len(x) >= 50)"
   ]
  },
  {
   "cell_type": "markdown",
   "id": "67833e19",
   "metadata": {},
   "source": [
    "### Only keep users with at least 10 unique artists in their playlists in order to reduce the impact of cold start problem"
   ]
  },
  {
   "cell_type": "code",
   "execution_count": 97,
   "id": "e0199844",
   "metadata": {},
   "outputs": [],
   "source": [
    "df_playlist = df_playlist[df_playlist.groupby('user_id').artist.transform('nunique') >= 10]"
   ]
  },
  {
   "cell_type": "markdown",
   "id": "40d52e79",
   "metadata": {},
   "source": [
    "### Group by to get the frequency count for each user and artist (number of times that an artist has appeared in playlists created by a user)"
   ]
  },
  {
   "cell_type": "code",
   "execution_count": 98,
   "id": "168ab2de",
   "metadata": {},
   "outputs": [
    {
     "data": {
      "text/plain": "                                user_id                   artist  freq\n6990   26b51e580277e131f87e4c7ee4c0887a   Vitamin String Quartet    75\n11190  414050deadb38aafd8d4ad22ca634055   Vitamin String Quartet    52\n42489  fa849dabeb14a2800ad5130907fc5018                Peggy Lee    49\n30257  b1d4116e7cf150ae7d77413620f5f571  Wolfgang Amadeus Mozart    38\n15644  5aa1a41ae5c6c4041c14d9d8e6a0e0c4            Grateful Dead    37",
      "text/html": "<div>\n<style scoped>\n    .dataframe tbody tr th:only-of-type {\n        vertical-align: middle;\n    }\n\n    .dataframe tbody tr th {\n        vertical-align: top;\n    }\n\n    .dataframe thead th {\n        text-align: right;\n    }\n</style>\n<table border=\"1\" class=\"dataframe\">\n  <thead>\n    <tr style=\"text-align: right;\">\n      <th></th>\n      <th>user_id</th>\n      <th>artist</th>\n      <th>freq</th>\n    </tr>\n  </thead>\n  <tbody>\n    <tr>\n      <th>6990</th>\n      <td>26b51e580277e131f87e4c7ee4c0887a</td>\n      <td>Vitamin String Quartet</td>\n      <td>75</td>\n    </tr>\n    <tr>\n      <th>11190</th>\n      <td>414050deadb38aafd8d4ad22ca634055</td>\n      <td>Vitamin String Quartet</td>\n      <td>52</td>\n    </tr>\n    <tr>\n      <th>42489</th>\n      <td>fa849dabeb14a2800ad5130907fc5018</td>\n      <td>Peggy Lee</td>\n      <td>49</td>\n    </tr>\n    <tr>\n      <th>30257</th>\n      <td>b1d4116e7cf150ae7d77413620f5f571</td>\n      <td>Wolfgang Amadeus Mozart</td>\n      <td>38</td>\n    </tr>\n    <tr>\n      <th>15644</th>\n      <td>5aa1a41ae5c6c4041c14d9d8e6a0e0c4</td>\n      <td>Grateful Dead</td>\n      <td>37</td>\n    </tr>\n  </tbody>\n</table>\n</div>"
     },
     "execution_count": 98,
     "metadata": {},
     "output_type": "execute_result"
    }
   ],
   "source": [
    "size = lambda x: len(x)\n",
    "df_freq = df_playlist.groupby(['user_id', 'artist']).agg('size').reset_index().rename(columns={0: 'freq'})[\n",
    "    ['user_id', 'artist', 'freq']].sort_values(['freq'], ascending=False)\n",
    "df_freq.head()"
   ]
  },
  {
   "cell_type": "markdown",
   "id": "2e7f1768",
   "metadata": {},
   "source": [
    "### Create a DF for artists and add artist id"
   ]
  },
  {
   "cell_type": "code",
   "execution_count": 99,
   "id": "a38ce2c8",
   "metadata": {
    "scrolled": false
   },
   "outputs": [
    {
     "data": {
      "text/plain": "   artist_id                   artist\n0          0   Vitamin String Quartet\n1          1                Peggy Lee\n2          2  Wolfgang Amadeus Mozart\n3          3            Grateful Dead\n4          4          Ennio Morricone",
      "text/html": "<div>\n<style scoped>\n    .dataframe tbody tr th:only-of-type {\n        vertical-align: middle;\n    }\n\n    .dataframe tbody tr th {\n        vertical-align: top;\n    }\n\n    .dataframe thead th {\n        text-align: right;\n    }\n</style>\n<table border=\"1\" class=\"dataframe\">\n  <thead>\n    <tr style=\"text-align: right;\">\n      <th></th>\n      <th>artist_id</th>\n      <th>artist</th>\n    </tr>\n  </thead>\n  <tbody>\n    <tr>\n      <th>0</th>\n      <td>0</td>\n      <td>Vitamin String Quartet</td>\n    </tr>\n    <tr>\n      <th>1</th>\n      <td>1</td>\n      <td>Peggy Lee</td>\n    </tr>\n    <tr>\n      <th>2</th>\n      <td>2</td>\n      <td>Wolfgang Amadeus Mozart</td>\n    </tr>\n    <tr>\n      <th>3</th>\n      <td>3</td>\n      <td>Grateful Dead</td>\n    </tr>\n    <tr>\n      <th>4</th>\n      <td>4</td>\n      <td>Ennio Morricone</td>\n    </tr>\n  </tbody>\n</table>\n</div>"
     },
     "execution_count": 99,
     "metadata": {},
     "output_type": "execute_result"
    }
   ],
   "source": [
    "df_artist = pd.DataFrame(df_freq[\"artist\"].unique())\n",
    "df_artist = df_artist.reset_index()\n",
    "df_artist = df_artist.rename(columns={'index': 'artist_id', 0: 'artist'})\n",
    "df_artist.head()"
   ]
  },
  {
   "cell_type": "markdown",
   "id": "b2237c00",
   "metadata": {},
   "source": [
    "## Hybrid Song Recommendation "
   ]
  },
  {
   "cell_type": "markdown",
   "id": "944dc455",
   "metadata": {},
   "source": [
    "It is a recommendation system which is combination of the content and collaborative filtering method.  By using content and collaborative-based methods to generate predictions separately and then combining the prediction, we can generate more accurate recommendations and also reduces the problem of cold start.\n",
    "\n",
    "1. **PCA_algorithm**: to reduce the dimensionality (in our case number of components is 2) within a dataset while still retaining as much information as possible.\n",
    "\n",
    "2. **KMeans_with_PCA_algorithm**: algorithm that tries to partition the dataset into Kpre-defined distinct non-overlapping clusters. \n",
    "    Based on the values of the Within Cluster Sum of Squares (WCSS) and an approach known as the Elbow method, we made a decision about how many clusters we’d like to keep.In our case, we have kept number of cluster as 50.\n",
    "\n",
    "3. we have then created a new data frame df_segm_pca_kmeans. It allows us to add in the values of the separate components to our segmentation data set. The components’ scores are stored in the ‘scores P C A’ variable. Let’s label them com1 and com2.\n",
    "\n",
    "4. **filter_based_on_segment**: filters songs that belong to particulat cluster segment.\n",
    "\n",
    "5. **filter_based_on_cluster_centroid**: filters songs based on closet distance of song and centroid\n",
    "\n",
    "6. returns list of top n artists, where n is set as 10 in our case"
   ]
  },
  {
   "cell_type": "code",
   "execution_count": 100,
   "id": "f5b6244d",
   "metadata": {},
   "outputs": [],
   "source": [
    "def recommend_artists(artist,  n=10):    \n",
    "    \"\"\"\n",
    "    Recommends songs based on a list of previous songs that a user has listened to.\n",
    "    \"\"\"\n",
    "    song_embedding = PCA_algorithm(artist_data)\n",
    "    kmeans_pca, centroids = KMeans_with_PCA_algorithm(song_embedding,50)\n",
    "\n",
    "    df_segm_pca_kmeans = pd.concat([artist_data.reset_index(drop=True), pd.DataFrame(song_embedding)], axis=1)\n",
    "    df_segm_pca_kmeans.columns.values[-2:] = ['com1', 'com2']\n",
    "    df_segm_pca_kmeans['Segment K-means PCA'] = kmeans_pca.labels_\n",
    "\n",
    "    #get segment value of artist\n",
    "    segment_val = df_segm_pca_kmeans[df_segm_pca_kmeans['artists'] == artist]['Segment K-means PCA'].values[0]\n",
    "\n",
    "    filtered_data_per_segment = filter_based_on_segment(df_segm_pca_kmeans, segment_val,'artists', 'valence')\n",
    "\n",
    "    rec_artists = filter_based_on_cluster_centroid(kmeans_pca, filtered_data_per_segment, segment_val, artist_data)\n",
    "\n",
    "    #recommend top n artists\n",
    "    return rec_artists.head(n)['artists'].tolist()"
   ]
  },
  {
   "cell_type": "markdown",
   "id": "95b05700",
   "metadata": {},
   "source": [
    "**recommend_artist_and_songs:** Finds list of songs and artists  based on the selected artist name \n",
    "Recommends Top N artist with their song(s). In  our case, we have recommended top 10 songs"
   ]
  },
  {
   "cell_type": "code",
   "execution_count": 101,
   "id": "80b814b5",
   "metadata": {},
   "outputs": [],
   "source": [
    "def recommend_artist_and_songs(artist, n_songs=10):\n",
    "    # get recommended artists\n",
    "    recommended_artists = pd.DataFrame({\n",
    "            'artist' : recommend_artists(artist, n_songs)\n",
    "        })\n",
    "    recommend_songs_list = pd.DataFrame(columns = ['artist', 'songs'])\n",
    "\n",
    "    # get songs per artist\n",
    "    for i in range(len(recommended_artists)):\n",
    "        artist = recommended_artists.loc[i, \"artist\"]\n",
    "        recommend_song = pd.DataFrame({\n",
    "            'artist' : artist,\n",
    "            'songs' :get_song_from_artist(artist, 1)\n",
    "        })\n",
    "        recommend_songs_list = recommend_songs_list.append(recommend_song, ignore_index = True)\n",
    "    return  recommend_songs_list"
   ]
  },
  {
   "cell_type": "markdown",
   "id": "e9f953d0",
   "metadata": {},
   "source": [
    "**pass favorite artist name and no of recommended artist/song you want to listen and it gives you the list with n recommended artist with 1 songs per artist**"
   ]
  },
  {
   "cell_type": "code",
   "execution_count": 102,
   "id": "523a872b",
   "metadata": {},
   "outputs": [
    {
     "name": "stdout",
     "output_type": "stream",
     "text": [
      "                    artist                                              songs\n",
      "0          Ella Fitzgerald                                         'Deed I Do\n",
      "1          Lata Mangeshkar                                  Aa Ab Laut Chalen\n",
      "2              Dean Martin                                    'Til I Find You\n",
      "3           The Beach Boys  \"Cassius\" Love Vs. \"Sonny\" Wilson - Remastered...\n",
      "4       The Rolling Stones  (I Can't Get No) Satisfaction - (Original Sing...\n",
      "5     Ludwig van Beethoven  12 Variations on \"Ein Mädchen oder Weibchen\", ...\n",
      "6                Bob Dylan  (Quinn the Eskimo) The Mighty Quinn - Live at ...\n",
      "7            Fleetwood Mac                            Albatross - 2018 Master\n",
      "8  Wolfgang Amadeus Mozart                                          Adagio II\n",
      "9             Irina Salkow              Kapitel 1 - Der Page und die Herzogin\n"
     ]
    }
   ],
   "source": [
    "recommended_artist_and_songs = recommend_artist_and_songs('Ella Fitzgerald',10)\n",
    "print(recommended_artist_and_songs)"
   ]
  },
  {
   "cell_type": "code",
   "execution_count": 102,
   "outputs": [],
   "source": [],
   "metadata": {
    "collapsed": false
   }
  }
 ],
 "metadata": {
  "kernelspec": {
   "display_name": "Python 3 (ipykernel)",
   "language": "python",
   "name": "python3"
  },
  "language_info": {
   "codemirror_mode": {
    "name": "ipython",
    "version": 3
   },
   "file_extension": ".py",
   "mimetype": "text/x-python",
   "name": "python",
   "nbconvert_exporter": "python",
   "pygments_lexer": "ipython3",
   "version": "3.9.13"
  }
 },
 "nbformat": 4,
 "nbformat_minor": 5
}
