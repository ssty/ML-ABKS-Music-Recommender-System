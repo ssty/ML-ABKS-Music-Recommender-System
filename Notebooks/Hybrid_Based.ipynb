{
 "cells": [
  {
   "cell_type": "code",
   "execution_count": 531,
   "id": "103de7af",
   "metadata": {},
   "outputs": [],
   "source": [
    "import numpy as np\n",
    "import pandas as pd\n",
    "from sklearn.preprocessing import StandardScaler\n",
    "from sklearn.pipeline import Pipeline\n",
    "from scipy.spatial.distance import cdist\n",
    "import warnings\n",
    "\n",
    "warnings.simplefilter(action='ignore', category=FutureWarning)\n",
    "import random\n",
    "\n",
    "warnings.filterwarnings(\"ignore\")\n",
    "from sklearn.cluster import KMeans"
   ]
  },
  {
   "cell_type": "code",
   "execution_count": 532,
   "id": "9a503b14",
   "metadata": {
    "scrolled": true
   },
   "outputs": [
    {
     "data": {
      "text/plain": "   mode  count  acousticness  \\\n0     1      9      0.590111   \n1     1     26      0.862538   \n2     1      7      0.856571   \n3     1     27      0.884926   \n4     1      7      0.510714   \n\n                                             artists  danceability  \\\n0                   \"Cats\" 1981 Original London Cast      0.467222   \n1                          \"Cats\" 1983 Broadway Cast      0.441731   \n2        \"Fiddler On The Roof” Motion Picture Chorus      0.348286   \n3     \"Fiddler On The Roof” Motion Picture Orchestra      0.425074   \n4  \"Joseph And The Amazing Technicolor Dreamcoat\"...      0.467143   \n\n     duration_ms    energy  instrumentalness  liveness   loudness  \\\n0  250318.555556  0.394003          0.011400  0.290833 -14.448000   \n1  287280.000000  0.406808          0.081158  0.315215 -10.690000   \n2  328920.000000  0.286571          0.024593  0.325786 -15.230714   \n3  262890.962963  0.245770          0.073587  0.275481 -15.639370   \n4  270436.142857  0.488286          0.009400  0.195000 -10.236714   \n\n   speechiness       tempo   valence  popularity  key  \n0     0.210389  117.518111  0.389500   38.333333    5  \n1     0.176212  103.044154  0.268865   30.576923    5  \n2     0.118514   77.375857  0.354857   34.857143    0  \n3     0.123200   88.667630  0.372030   34.851852    0  \n4     0.098543  122.835857  0.482286   43.000000    5  ",
      "text/html": "<div>\n<style scoped>\n    .dataframe tbody tr th:only-of-type {\n        vertical-align: middle;\n    }\n\n    .dataframe tbody tr th {\n        vertical-align: top;\n    }\n\n    .dataframe thead th {\n        text-align: right;\n    }\n</style>\n<table border=\"1\" class=\"dataframe\">\n  <thead>\n    <tr style=\"text-align: right;\">\n      <th></th>\n      <th>mode</th>\n      <th>count</th>\n      <th>acousticness</th>\n      <th>artists</th>\n      <th>danceability</th>\n      <th>duration_ms</th>\n      <th>energy</th>\n      <th>instrumentalness</th>\n      <th>liveness</th>\n      <th>loudness</th>\n      <th>speechiness</th>\n      <th>tempo</th>\n      <th>valence</th>\n      <th>popularity</th>\n      <th>key</th>\n    </tr>\n  </thead>\n  <tbody>\n    <tr>\n      <th>0</th>\n      <td>1</td>\n      <td>9</td>\n      <td>0.590111</td>\n      <td>\"Cats\" 1981 Original London Cast</td>\n      <td>0.467222</td>\n      <td>250318.555556</td>\n      <td>0.394003</td>\n      <td>0.011400</td>\n      <td>0.290833</td>\n      <td>-14.448000</td>\n      <td>0.210389</td>\n      <td>117.518111</td>\n      <td>0.389500</td>\n      <td>38.333333</td>\n      <td>5</td>\n    </tr>\n    <tr>\n      <th>1</th>\n      <td>1</td>\n      <td>26</td>\n      <td>0.862538</td>\n      <td>\"Cats\" 1983 Broadway Cast</td>\n      <td>0.441731</td>\n      <td>287280.000000</td>\n      <td>0.406808</td>\n      <td>0.081158</td>\n      <td>0.315215</td>\n      <td>-10.690000</td>\n      <td>0.176212</td>\n      <td>103.044154</td>\n      <td>0.268865</td>\n      <td>30.576923</td>\n      <td>5</td>\n    </tr>\n    <tr>\n      <th>2</th>\n      <td>1</td>\n      <td>7</td>\n      <td>0.856571</td>\n      <td>\"Fiddler On The Roof” Motion Picture Chorus</td>\n      <td>0.348286</td>\n      <td>328920.000000</td>\n      <td>0.286571</td>\n      <td>0.024593</td>\n      <td>0.325786</td>\n      <td>-15.230714</td>\n      <td>0.118514</td>\n      <td>77.375857</td>\n      <td>0.354857</td>\n      <td>34.857143</td>\n      <td>0</td>\n    </tr>\n    <tr>\n      <th>3</th>\n      <td>1</td>\n      <td>27</td>\n      <td>0.884926</td>\n      <td>\"Fiddler On The Roof” Motion Picture Orchestra</td>\n      <td>0.425074</td>\n      <td>262890.962963</td>\n      <td>0.245770</td>\n      <td>0.073587</td>\n      <td>0.275481</td>\n      <td>-15.639370</td>\n      <td>0.123200</td>\n      <td>88.667630</td>\n      <td>0.372030</td>\n      <td>34.851852</td>\n      <td>0</td>\n    </tr>\n    <tr>\n      <th>4</th>\n      <td>1</td>\n      <td>7</td>\n      <td>0.510714</td>\n      <td>\"Joseph And The Amazing Technicolor Dreamcoat\"...</td>\n      <td>0.467143</td>\n      <td>270436.142857</td>\n      <td>0.488286</td>\n      <td>0.009400</td>\n      <td>0.195000</td>\n      <td>-10.236714</td>\n      <td>0.098543</td>\n      <td>122.835857</td>\n      <td>0.482286</td>\n      <td>43.000000</td>\n      <td>5</td>\n    </tr>\n  </tbody>\n</table>\n</div>"
     },
     "execution_count": 532,
     "metadata": {},
     "output_type": "execute_result"
    }
   ],
   "source": [
    "data = pd.read_csv(r\"datasets/data_by_artist.csv\")\n",
    "data.head()"
   ]
  },
  {
   "cell_type": "code",
   "execution_count": 533,
   "id": "e5b14e78",
   "metadata": {},
   "outputs": [
    {
     "data": {
      "text/plain": "   valence  year  acousticness  \\\n0   0.0594  1921         0.982   \n1   0.9630  1921         0.732   \n2   0.0394  1921         0.961   \n3   0.1650  1921         0.967   \n4   0.2530  1921         0.957   \n\n                                             artists  danceability  \\\n0  ['Sergei Rachmaninoff', 'James Levine', 'Berli...         0.279   \n1                                     ['Dennis Day']         0.819   \n2  ['KHP Kridhamardawa Karaton Ngayogyakarta Hadi...         0.328   \n3                                   ['Frank Parker']         0.275   \n4                                     ['Phil Regan']         0.418   \n\n   duration_ms  energy  explicit                      id  instrumentalness  \\\n0       831667   0.211         0  4BJqT0PrAfrxzMOxytFOIz          0.878000   \n1       180533   0.341         0  7xPhfUan2yNtyFG0cUWkt8          0.000000   \n2       500062   0.166         0  1o6I8BglA6ylDMrIELygv1          0.913000   \n3       210000   0.309         0  3ftBPsC5vPBKxYSee08FDH          0.000028   \n4       166693   0.193         0  4d6HGyGT8e121BsdKmw9v6          0.000002   \n\n   key  liveness  loudness  mode  \\\n0   10     0.665   -20.096     1   \n1    7     0.160   -12.441     1   \n2    3     0.101   -14.850     1   \n3    5     0.381    -9.316     1   \n4    3     0.229   -10.096     1   \n\n                                                name  popularity release_date  \\\n0  Piano Concerto No. 3 in D Minor, Op. 30: III. ...           4         1921   \n1                            Clancy Lowered the Boom           5         1921   \n2                                          Gati Bali           5         1921   \n3                                          Danny Boy           3         1921   \n4                        When Irish Eyes Are Smiling           2         1921   \n\n   speechiness    tempo  \n0       0.0366   80.954  \n1       0.4150   60.936  \n2       0.0339  110.339  \n3       0.0354  100.109  \n4       0.0380  101.665  ",
      "text/html": "<div>\n<style scoped>\n    .dataframe tbody tr th:only-of-type {\n        vertical-align: middle;\n    }\n\n    .dataframe tbody tr th {\n        vertical-align: top;\n    }\n\n    .dataframe thead th {\n        text-align: right;\n    }\n</style>\n<table border=\"1\" class=\"dataframe\">\n  <thead>\n    <tr style=\"text-align: right;\">\n      <th></th>\n      <th>valence</th>\n      <th>year</th>\n      <th>acousticness</th>\n      <th>artists</th>\n      <th>danceability</th>\n      <th>duration_ms</th>\n      <th>energy</th>\n      <th>explicit</th>\n      <th>id</th>\n      <th>instrumentalness</th>\n      <th>key</th>\n      <th>liveness</th>\n      <th>loudness</th>\n      <th>mode</th>\n      <th>name</th>\n      <th>popularity</th>\n      <th>release_date</th>\n      <th>speechiness</th>\n      <th>tempo</th>\n    </tr>\n  </thead>\n  <tbody>\n    <tr>\n      <th>0</th>\n      <td>0.0594</td>\n      <td>1921</td>\n      <td>0.982</td>\n      <td>['Sergei Rachmaninoff', 'James Levine', 'Berli...</td>\n      <td>0.279</td>\n      <td>831667</td>\n      <td>0.211</td>\n      <td>0</td>\n      <td>4BJqT0PrAfrxzMOxytFOIz</td>\n      <td>0.878000</td>\n      <td>10</td>\n      <td>0.665</td>\n      <td>-20.096</td>\n      <td>1</td>\n      <td>Piano Concerto No. 3 in D Minor, Op. 30: III. ...</td>\n      <td>4</td>\n      <td>1921</td>\n      <td>0.0366</td>\n      <td>80.954</td>\n    </tr>\n    <tr>\n      <th>1</th>\n      <td>0.9630</td>\n      <td>1921</td>\n      <td>0.732</td>\n      <td>['Dennis Day']</td>\n      <td>0.819</td>\n      <td>180533</td>\n      <td>0.341</td>\n      <td>0</td>\n      <td>7xPhfUan2yNtyFG0cUWkt8</td>\n      <td>0.000000</td>\n      <td>7</td>\n      <td>0.160</td>\n      <td>-12.441</td>\n      <td>1</td>\n      <td>Clancy Lowered the Boom</td>\n      <td>5</td>\n      <td>1921</td>\n      <td>0.4150</td>\n      <td>60.936</td>\n    </tr>\n    <tr>\n      <th>2</th>\n      <td>0.0394</td>\n      <td>1921</td>\n      <td>0.961</td>\n      <td>['KHP Kridhamardawa Karaton Ngayogyakarta Hadi...</td>\n      <td>0.328</td>\n      <td>500062</td>\n      <td>0.166</td>\n      <td>0</td>\n      <td>1o6I8BglA6ylDMrIELygv1</td>\n      <td>0.913000</td>\n      <td>3</td>\n      <td>0.101</td>\n      <td>-14.850</td>\n      <td>1</td>\n      <td>Gati Bali</td>\n      <td>5</td>\n      <td>1921</td>\n      <td>0.0339</td>\n      <td>110.339</td>\n    </tr>\n    <tr>\n      <th>3</th>\n      <td>0.1650</td>\n      <td>1921</td>\n      <td>0.967</td>\n      <td>['Frank Parker']</td>\n      <td>0.275</td>\n      <td>210000</td>\n      <td>0.309</td>\n      <td>0</td>\n      <td>3ftBPsC5vPBKxYSee08FDH</td>\n      <td>0.000028</td>\n      <td>5</td>\n      <td>0.381</td>\n      <td>-9.316</td>\n      <td>1</td>\n      <td>Danny Boy</td>\n      <td>3</td>\n      <td>1921</td>\n      <td>0.0354</td>\n      <td>100.109</td>\n    </tr>\n    <tr>\n      <th>4</th>\n      <td>0.2530</td>\n      <td>1921</td>\n      <td>0.957</td>\n      <td>['Phil Regan']</td>\n      <td>0.418</td>\n      <td>166693</td>\n      <td>0.193</td>\n      <td>0</td>\n      <td>4d6HGyGT8e121BsdKmw9v6</td>\n      <td>0.000002</td>\n      <td>3</td>\n      <td>0.229</td>\n      <td>-10.096</td>\n      <td>1</td>\n      <td>When Irish Eyes Are Smiling</td>\n      <td>2</td>\n      <td>1921</td>\n      <td>0.0380</td>\n      <td>101.665</td>\n    </tr>\n  </tbody>\n</table>\n</div>"
     },
     "execution_count": 533,
     "metadata": {},
     "output_type": "execute_result"
    }
   ],
   "source": [
    "data_for_songs = pd.read_csv(r\"datasets/data.csv\")\n",
    "data_for_songs.head()"
   ]
  },
  {
   "cell_type": "code",
   "execution_count": 534,
   "id": "2fa51f47",
   "metadata": {},
   "outputs": [],
   "source": [
    "artist_data = data[['valence', 'artists', 'count', 'popularity']]\n",
    "artist_data.to_csv('artist_data.csv')"
   ]
  },
  {
   "cell_type": "code",
   "execution_count": 535,
   "id": "0174d9d0",
   "metadata": {},
   "outputs": [],
   "source": [
    "def PCA_algorithm(data):\n",
    "    num_datatypes = data.select_dtypes(np.number)\n",
    "\n",
    "    pca_pipeline = Pipeline([('scaler', StandardScaler()), ('PCA', PCA(n_components=2))])\n",
    "    song_embedding = pca_pipeline.fit_transform(num_datatypes)\n",
    "    return song_embedding"
   ]
  },
  {
   "cell_type": "code",
   "execution_count": 536,
   "id": "5587f820",
   "metadata": {},
   "outputs": [],
   "source": [
    "def KMeans_with_PCA_algorithm(song_embedding):\n",
    "    kmeans_pca = KMeans(n_clusters=50, init='k-means++', random_state=42)\n",
    "    label = kmeans_pca.fit(song_embedding)\n",
    "    centroids = kmeans_pca.cluster_centers_\n",
    "    return label, centroids"
   ]
  },
  {
   "cell_type": "code",
   "execution_count": 537,
   "id": "9240a840",
   "metadata": {},
   "outputs": [],
   "source": [
    "def filter_based_on_segment(df_segm_pca_kmeans, segment_val):\n",
    "    #get list of songs with above song id\n",
    "    #print(df_segm_pca_kmeans[df_segm_pca_kmeans['Segment K-means PCA']==segment_val].values)\n",
    "\n",
    "    filtered_data_per_segment = df_segm_pca_kmeans[df_segm_pca_kmeans['Segment K-means PCA'] == segment_val][\n",
    "        ['artists', 'valence', 'com1', 'com2', 'Segment K-means PCA']]\n",
    "\n",
    "    #save to csv file\n",
    "    filtered_data_per_segment.to_csv('filtered_data_per_segment_for_artists.csv')\n",
    "    return filtered_data_per_segment"
   ]
  },
  {
   "cell_type": "code",
   "execution_count": 538,
   "id": "eaea36dc",
   "metadata": {},
   "outputs": [],
   "source": [
    "def filter_based_on_cluster_centroid(kmeans_pca, filtered_data_per_segment, segment_val, tracks):\n",
    "    #calculate distance based on cluster centroid\n",
    "    scaled_data = kmeans_pca.transform(filtered_data_per_segment[['com1', 'com2']])\n",
    "    scaled_song_center = kmeans_pca.transform(kmeans_pca.cluster_centers_[segment_val].reshape(1, -1))\n",
    "    distances = cdist(scaled_song_center, scaled_data, 'cosine')\n",
    "\n",
    "    #sort based on distance\n",
    "    index = list(np.argsort(distances)[0])\n",
    "    rec_songs = filtered_data_per_segment.iloc[index]\n",
    "\n",
    "    #recommend based on segment data\n",
    "    # rec_songs = rec_songs[~rec_songs['name'].isin(filtered_data_per_segment['name'])]\n",
    "    return rec_songs"
   ]
  },
  {
   "cell_type": "code",
   "execution_count": 539,
   "id": "7c6e4717",
   "metadata": {},
   "outputs": [
    {
     "data": {
      "text/plain": "                            user_id       \"artistname\"           \"trackname\"  \\\n0  9cc0cfd4d7d7885102480dd99e7a90d6  Bruce Springsteen         Wrecking Ball   \n1  07f0fc3be95dcd878966b1f9572ff670               2080  Live Die 5 Continues   \n2  07f0fc3be95dcd878966b1f9572ff670               C418                  Door   \n3  07f0fc3be95dcd878966b1f9572ff670               C418             Haggstrom   \n4  07f0fc3be95dcd878966b1f9572ff670             Bonobo               Animals   \n\n   \"playlistname\"  \n0        IOW 2012  \n1            2080  \n2            C418  \n3            C418  \n4       Chill out  ",
      "text/html": "<div>\n<style scoped>\n    .dataframe tbody tr th:only-of-type {\n        vertical-align: middle;\n    }\n\n    .dataframe tbody tr th {\n        vertical-align: top;\n    }\n\n    .dataframe thead th {\n        text-align: right;\n    }\n</style>\n<table border=\"1\" class=\"dataframe\">\n  <thead>\n    <tr style=\"text-align: right;\">\n      <th></th>\n      <th>user_id</th>\n      <th>\"artistname\"</th>\n      <th>\"trackname\"</th>\n      <th>\"playlistname\"</th>\n    </tr>\n  </thead>\n  <tbody>\n    <tr>\n      <th>0</th>\n      <td>9cc0cfd4d7d7885102480dd99e7a90d6</td>\n      <td>Bruce Springsteen</td>\n      <td>Wrecking Ball</td>\n      <td>IOW 2012</td>\n    </tr>\n    <tr>\n      <th>1</th>\n      <td>07f0fc3be95dcd878966b1f9572ff670</td>\n      <td>2080</td>\n      <td>Live Die 5 Continues</td>\n      <td>2080</td>\n    </tr>\n    <tr>\n      <th>2</th>\n      <td>07f0fc3be95dcd878966b1f9572ff670</td>\n      <td>C418</td>\n      <td>Door</td>\n      <td>C418</td>\n    </tr>\n    <tr>\n      <th>3</th>\n      <td>07f0fc3be95dcd878966b1f9572ff670</td>\n      <td>C418</td>\n      <td>Haggstrom</td>\n      <td>C418</td>\n    </tr>\n    <tr>\n      <th>4</th>\n      <td>07f0fc3be95dcd878966b1f9572ff670</td>\n      <td>Bonobo</td>\n      <td>Animals</td>\n      <td>Chill out</td>\n    </tr>\n  </tbody>\n</table>\n</div>"
     },
     "execution_count": 539,
     "metadata": {},
     "output_type": "execute_result"
    }
   ],
   "source": [
    "p = 0.02  # to randomly select 1% of the rows\n",
    "df_playlist_spotify = pd.read_csv(r\"datasets/spotify_dataset.csv\", error_bad_lines=False, warn_bad_lines=False,\n",
    "                                  skiprows=lambda i: i > 0 and random.random() > p)\n",
    "df_playlist_spotify.head()"
   ]
  },
  {
   "cell_type": "code",
   "execution_count": 540,
   "id": "ed7b9ab7",
   "metadata": {},
   "outputs": [
    {
     "data": {
      "text/plain": "Index(['user_id', 'artist', 'track', 'playlist'], dtype='object')"
     },
     "execution_count": 540,
     "metadata": {},
     "output_type": "execute_result"
    }
   ],
   "source": [
    "df_playlist_spotify.columns = df_playlist_spotify.columns.str.replace('\"', '')\n",
    "df_playlist_spotify.columns = df_playlist_spotify.columns.str.replace('name', '')\n",
    "df_playlist_spotify.columns = df_playlist_spotify.columns.str.replace(' ', '')\n",
    "df_playlist_spotify.columns"
   ]
  },
  {
   "cell_type": "code",
   "execution_count": 541,
   "id": "a525f8e1",
   "metadata": {},
   "outputs": [
    {
     "name": "stdout",
     "output_type": "stream",
     "text": [
      "                                 user_id                artist  \\\n",
      "0       9cc0cfd4d7d7885102480dd99e7a90d6     Bruce Springsteen   \n",
      "4       07f0fc3be95dcd878966b1f9572ff670                Bonobo   \n",
      "6       07f0fc3be95dcd878966b1f9572ff670             Daft Punk   \n",
      "7       07f0fc3be95dcd878966b1f9572ff670             Daft Punk   \n",
      "8       07f0fc3be95dcd878966b1f9572ff670           The Prodigy   \n",
      "...                                  ...                   ...   \n",
      "256654  488ead471813ae982119153f792e4a3e  Two Door Cinema Club   \n",
      "256655  488ead471813ae982119153f792e4a3e           Wiz Khalifa   \n",
      "256656  488ead471813ae982119153f792e4a3e     Foster The People   \n",
      "256663  488ead471813ae982119153f792e4a3e            Katy Perry   \n",
      "256667  2302bf9c64dc63d88a750215ed187f2c            Pink Floyd   \n",
      "\n",
      "                                   track          playlist  \n",
      "0                          Wrecking Ball          IOW 2012  \n",
      "4                                Animals         Chill out  \n",
      "6                                Da Funk        Daft Punk   \n",
      "7                              Rectifier        Daft Punk   \n",
      "8                    Run With The Wolves           Electro  \n",
      "...                                  ...               ...  \n",
      "256654           Something Good Can Work          Love <3   \n",
      "256655        So High (feat. Ghost Loft)     Music for bae  \n",
      "256656   Don't Stop (Color on the Walls)           Starred  \n",
      "256663                              Roar           Starred  \n",
      "256667  Mother - 2011 Remastered Version  Liked from Radio  \n",
      "\n",
      "[103412 rows x 4 columns]\n"
     ]
    }
   ],
   "source": [
    "df_playlist = df_playlist_spotify.groupby('artist').filter(lambda x: len(x) >= 50)\n",
    "print(df_playlist)"
   ]
  },
  {
   "cell_type": "code",
   "execution_count": 542,
   "id": "e0199844",
   "metadata": {},
   "outputs": [
    {
     "name": "stdout",
     "output_type": "stream",
     "text": [
      "                                 user_id           artist  \\\n",
      "4       07f0fc3be95dcd878966b1f9572ff670           Bonobo   \n",
      "6       07f0fc3be95dcd878966b1f9572ff670        Daft Punk   \n",
      "7       07f0fc3be95dcd878966b1f9572ff670        Daft Punk   \n",
      "8       07f0fc3be95dcd878966b1f9572ff670      The Prodigy   \n",
      "9       07f0fc3be95dcd878966b1f9572ff670  Crystal Castles   \n",
      "...                                  ...              ...   \n",
      "256542  aedf684d88f71c448add86ee4873278e          Incubus   \n",
      "256549  aedf684d88f71c448add86ee4873278e    NEEDTOBREATHE   \n",
      "256550  aedf684d88f71c448add86ee4873278e    NEEDTOBREATHE   \n",
      "256551  aedf684d88f71c448add86ee4873278e        Relient K   \n",
      "256554  aedf684d88f71c448add86ee4873278e    NEEDTOBREATHE   \n",
      "\n",
      "                                  track     playlist  \n",
      "4                               Animals    Chill out  \n",
      "6                               Da Funk   Daft Punk   \n",
      "7                             Rectifier   Daft Punk   \n",
      "8                   Run With The Wolves      Electro  \n",
      "9                              Vanished      Electro  \n",
      "...                                 ...          ...  \n",
      "256542  Drive - Orchestral Live Version  New Listens  \n",
      "256549                            Again       jammin  \n",
      "256550             Devil's Been Talkin'       jammin  \n",
      "256551                More Than Useless       jammin  \n",
      "256554                     Tyrant Kings       jammin  \n",
      "\n",
      "[61419 rows x 4 columns]\n"
     ]
    }
   ],
   "source": [
    "df_playlist = df_playlist[df_playlist.groupby('user_id').artist.transform('nunique') >= 10]\n",
    "print(df_playlist)"
   ]
  },
  {
   "cell_type": "code",
   "execution_count": 543,
   "id": "168ab2de",
   "metadata": {},
   "outputs": [
    {
     "data": {
      "text/plain": "                                user_id                   artist  freq\n6748   26b51e580277e131f87e4c7ee4c0887a   Vitamin String Quartet    68\n355    014e695cc6df96011b90a5beb3206012              Ilaiyaraaja    49\n11017  414050deadb38aafd8d4ad22ca634055   Vitamin String Quartet    46\n14544  5711b8cd3a6219fe01728cd9b97be46c              Johnny Cash    40\n30238  b1d4116e7cf150ae7d77413620f5f571  Wolfgang Amadeus Mozart    38",
      "text/html": "<div>\n<style scoped>\n    .dataframe tbody tr th:only-of-type {\n        vertical-align: middle;\n    }\n\n    .dataframe tbody tr th {\n        vertical-align: top;\n    }\n\n    .dataframe thead th {\n        text-align: right;\n    }\n</style>\n<table border=\"1\" class=\"dataframe\">\n  <thead>\n    <tr style=\"text-align: right;\">\n      <th></th>\n      <th>user_id</th>\n      <th>artist</th>\n      <th>freq</th>\n    </tr>\n  </thead>\n  <tbody>\n    <tr>\n      <th>6748</th>\n      <td>26b51e580277e131f87e4c7ee4c0887a</td>\n      <td>Vitamin String Quartet</td>\n      <td>68</td>\n    </tr>\n    <tr>\n      <th>355</th>\n      <td>014e695cc6df96011b90a5beb3206012</td>\n      <td>Ilaiyaraaja</td>\n      <td>49</td>\n    </tr>\n    <tr>\n      <th>11017</th>\n      <td>414050deadb38aafd8d4ad22ca634055</td>\n      <td>Vitamin String Quartet</td>\n      <td>46</td>\n    </tr>\n    <tr>\n      <th>14544</th>\n      <td>5711b8cd3a6219fe01728cd9b97be46c</td>\n      <td>Johnny Cash</td>\n      <td>40</td>\n    </tr>\n    <tr>\n      <th>30238</th>\n      <td>b1d4116e7cf150ae7d77413620f5f571</td>\n      <td>Wolfgang Amadeus Mozart</td>\n      <td>38</td>\n    </tr>\n  </tbody>\n</table>\n</div>"
     },
     "execution_count": 543,
     "metadata": {},
     "output_type": "execute_result"
    }
   ],
   "source": [
    "size = lambda x: len(x)\n",
    "df_freq = df_playlist.groupby(['user_id', 'artist']).agg('size').reset_index().rename(columns={0: 'freq'})[\n",
    "    ['user_id', 'artist', 'freq']].sort_values(['freq'], ascending=False)\n",
    "df_freq.head()"
   ]
  },
  {
   "cell_type": "code",
   "execution_count": 544,
   "id": "a38ce2c8",
   "metadata": {},
   "outputs": [
    {
     "data": {
      "text/plain": "   artist_id                       artist\n0          0       Vitamin String Quartet\n1          1                  Ilaiyaraaja\n2          2                  Johnny Cash\n3          3      Wolfgang Amadeus Mozart\n4          4  Jamey Aebersold Play-A-Long",
      "text/html": "<div>\n<style scoped>\n    .dataframe tbody tr th:only-of-type {\n        vertical-align: middle;\n    }\n\n    .dataframe tbody tr th {\n        vertical-align: top;\n    }\n\n    .dataframe thead th {\n        text-align: right;\n    }\n</style>\n<table border=\"1\" class=\"dataframe\">\n  <thead>\n    <tr style=\"text-align: right;\">\n      <th></th>\n      <th>artist_id</th>\n      <th>artist</th>\n    </tr>\n  </thead>\n  <tbody>\n    <tr>\n      <th>0</th>\n      <td>0</td>\n      <td>Vitamin String Quartet</td>\n    </tr>\n    <tr>\n      <th>1</th>\n      <td>1</td>\n      <td>Ilaiyaraaja</td>\n    </tr>\n    <tr>\n      <th>2</th>\n      <td>2</td>\n      <td>Johnny Cash</td>\n    </tr>\n    <tr>\n      <th>3</th>\n      <td>3</td>\n      <td>Wolfgang Amadeus Mozart</td>\n    </tr>\n    <tr>\n      <th>4</th>\n      <td>4</td>\n      <td>Jamey Aebersold Play-A-Long</td>\n    </tr>\n  </tbody>\n</table>\n</div>"
     },
     "execution_count": 544,
     "metadata": {},
     "output_type": "execute_result"
    }
   ],
   "source": [
    "df_artist = pd.DataFrame(df_freq[\"artist\"].unique())\n",
    "df_artist = df_artist.reset_index()\n",
    "df_artist = df_artist.rename(columns={'index': 'artist_id', 0: 'artist'})\n",
    "df_artist.head()"
   ]
  },
  {
   "cell_type": "code",
   "execution_count": 545,
   "id": "8a8f40ef",
   "metadata": {},
   "outputs": [],
   "source": [
    "def GetInPut(user):\n",
    "    inputArtist = pd.DataFrame(user)\n",
    "    #Filtering out the movies by title\n",
    "    Id = df_artist[df_artist['artist'].isin(inputArtist['artist'].tolist())]\n",
    "    #Then merging it so we can get the movieId. It's implicitly merging it by title.\n",
    "    inputArtist = pd.merge(Id, inputArtist)\n",
    "    #Dropping information we won't use from the input dataframe\n",
    "    #inputArtist = inputArtist.drop('year', 1)\n",
    "    return inputArtist"
   ]
  },
  {
   "cell_type": "code",
   "execution_count": 546,
   "id": "7a5d0526",
   "metadata": {},
   "outputs": [],
   "source": [
    "def get_song_from_artist(artist, n_per_artist= 1):\n",
    "    list_of_artists_songs = []\n",
    "    for i in range(len(data_for_songs)):\n",
    "        if artist in data_for_songs.loc[i, \"artists\"]:\n",
    "            list_of_artists_songs.append(data_for_songs.loc[i, [\"id\", \"artists\", \"name\", \"popularity\"]])\n",
    "\n",
    "    sorted_list_of_artists_songs = sorted(list_of_artists_songs, key=lambda d: d['popularity'], reverse=True)\n",
    "    sorted_list_of_songs_only = np.array(sorted_list_of_artists_songs)\n",
    "    unique_songs = np.unique(sorted_list_of_songs_only[:, 2])\n",
    "    return unique_songs[:n_per_artist]"
   ]
  },
  {
   "cell_type": "code",
   "execution_count": 547,
   "outputs": [],
   "source": [
    "from sklearn.decomposition import PCA\n",
    "\n",
    "def recommend_artists(artist, n=10):\n",
    "    \"\"\"\n",
    "    Recommends songs based on a list of previous songs that a user has listened to.\n",
    "    \"\"\"\n",
    "    song_embedding = PCA_algorithm(artist_data)\n",
    "    kmeans_pca, centroids = KMeans_with_PCA_algorithm(song_embedding)\n",
    "\n",
    "    df_segm_pca_kmeans = pd.concat([artist_data.reset_index(drop=True), pd.DataFrame(song_embedding)], axis=1)\n",
    "    df_segm_pca_kmeans.columns.values[-2:] = ['com1', 'com2']\n",
    "    df_segm_pca_kmeans['Segment K-means PCA'] = kmeans_pca.labels_\n",
    "\n",
    "    #get segment value of artist\n",
    "    # artist = 'Frank Sinatra'\n",
    "    segment_val = df_segm_pca_kmeans[df_segm_pca_kmeans['artists'] == artist]['Segment K-means PCA'].values[0]\n",
    "\n",
    "    filtered_data_per_segment = filter_based_on_segment(df_segm_pca_kmeans, segment_val)\n",
    "\n",
    "    rec_artists = filter_based_on_cluster_centroid(kmeans_pca, filtered_data_per_segment, segment_val, artist_data)\n",
    "    # print(rec_artists)\n",
    "\n",
    "    #recommend top n artists\n",
    "    return rec_artists.head(n)['artists'].tolist()"
   ],
   "metadata": {
    "collapsed": false
   }
  },
  {
   "cell_type": "code",
   "execution_count": 548,
   "outputs": [],
   "source": [
    "def recommend_artist_and_songs(artist, n_songs=10):\n",
    "    # get recommended artists\n",
    "    recommended_artists = pd.DataFrame({\n",
    "            'artist' : recommend_artists(artist, n_songs)\n",
    "        })\n",
    "    # print(recommended_artists)\n",
    "    recommend_songs_list = pd.DataFrame(columns = ['artist', 'songs'])\n",
    "    # artist_count = len(recommended_artists)\n",
    "    # song_per_artist = n_songs > artist_count and (n_songs/artist_count) or 1\n",
    "\n",
    "    # get songs per artist\n",
    "    for i in range(len(recommended_artists)):\n",
    "        artist = recommended_artists.loc[i, \"artist\"]\n",
    "        recommend_song = pd.DataFrame({\n",
    "            'artist' : artist,\n",
    "            'songs' :get_song_from_artist(artist, 1)\n",
    "        })\n",
    "        recommend_songs_list = recommend_songs_list.append(recommend_song, ignore_index = True)\n",
    "    return  recommend_songs_list"
   ],
   "metadata": {
    "collapsed": false
   }
  },
  {
   "cell_type": "code",
   "execution_count": 549,
   "outputs": [],
   "source": [
    "user = [\n",
    "    {'artist': 'Ella Fitzgerald', 'freq': 40},\n",
    "    {'artist': 'Frank Sinatra', 'freq': 10},\n",
    "    {'artist': 'Lil Wayne', 'freq': 3},\n",
    "    {'artist': \"The Rolling Stones\", 'freq': 5},\n",
    "    {'artist': 'Louis Armstrong', 'freq': 5}\n",
    "]"
   ],
   "metadata": {
    "collapsed": false
   }
  },
  {
   "cell_type": "code",
   "execution_count": 550,
   "outputs": [],
   "source": [
    "inputArtist = GetInPut(user).sort_values('freq', ascending=False)\n",
    "# print(inputArtist)"
   ],
   "metadata": {
    "collapsed": false
   }
  },
  {
   "cell_type": "code",
   "execution_count": 551,
   "outputs": [
    {
     "name": "stdout",
     "output_type": "stream",
     "text": [
      "                    artist                                              songs\n",
      "0          Ella Fitzgerald                                         'Deed I Do\n",
      "1          Lata Mangeshkar                                  Aa Ab Laut Chalen\n",
      "2              Dean Martin                                    'Til I Find You\n",
      "3           The Beach Boys  \"Cassius\" Love Vs. \"Sonny\" Wilson - Remastered...\n",
      "4       The Rolling Stones  (I Can't Get No) Satisfaction - (Original Sing...\n",
      "5     Ludwig van Beethoven  12 Variations on \"Ein Mädchen oder Weibchen\", ...\n",
      "6                Bob Dylan  (Quinn the Eskimo) The Mighty Quinn - Live at ...\n",
      "7            Fleetwood Mac                            Albatross - 2018 Master\n",
      "8  Wolfgang Amadeus Mozart                                          Adagio II\n",
      "9             Irina Salkow              Kapitel 1 - Der Page und die Herzogin\n"
     ]
    }
   ],
   "source": [
    "# pass favorite artist name and no of recommended artist/song you want to listen\n",
    "recommended_artist_and_songs = recommend_artist_and_songs('Ella Fitzgerald',10)\n",
    "# this list contains n recommended artist with 1 songs per artist\n",
    "print(recommended_artist_and_songs)"
   ],
   "metadata": {
    "collapsed": false
   }
  },
  {
   "cell_type": "code",
   "execution_count": 551,
   "outputs": [],
   "source": [],
   "metadata": {
    "collapsed": false
   }
  }
 ],
 "metadata": {
  "kernelspec": {
   "display_name": "Python 3 (ipykernel)",
   "language": "python",
   "name": "python3"
  },
  "language_info": {
   "codemirror_mode": {
    "name": "ipython",
    "version": 3
   },
   "file_extension": ".py",
   "mimetype": "text/x-python",
   "name": "python",
   "nbconvert_exporter": "python",
   "pygments_lexer": "ipython3",
   "version": "3.9.13"
  }
 },
 "nbformat": 4,
 "nbformat_minor": 5
}
