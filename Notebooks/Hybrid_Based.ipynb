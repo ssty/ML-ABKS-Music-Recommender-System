{
 "cells": [
  {
   "cell_type": "markdown",
   "id": "e78d123f",
   "metadata": {},
   "source": [
    "## Import Libraries"
   ]
  },
  {
   "cell_type": "code",
   "execution_count": null,
   "id": "103de7af",
   "metadata": {},
   "outputs": [
    {
     "name": "stdout",
     "output_type": "stream",
     "text": [
      "importing Jupyter notebook from Utility.ipynb\n"
     ]
    },
    {
     "name": "stderr",
     "output_type": "stream",
     "text": [
      "C:\\Users\\shris\\anaconda3\\lib\\site-packages\\nbformat\\__init__.py:92: MissingIDFieldWarning: Code cell is missing an id field, this will become a hard error in future nbformat versions. You may want to use `normalize()` on your notebooks before validations (available since nbformat 5.1.4). Previous versions of nbformat are fixing this issue transparently, and will stop doing so in the future.\n",
      "  validate(nb)\n"
     ]
    },
    {
     "name": "stdout",
     "output_type": "stream",
     "text": [
      "Requirement already satisfied: import-ipynb in c:\\users\\shris\\anaconda3\\lib\\site-packages (0.1.4)\n",
      "Requirement already satisfied: IPython in c:\\users\\shris\\anaconda3\\lib\\site-packages (from import-ipynb) (7.31.1)\n",
      "Requirement already satisfied: nbformat in c:\\users\\shris\\anaconda3\\lib\\site-packages (from import-ipynb) (5.5.0)\n",
      "Requirement already satisfied: pickleshare in c:\\users\\shris\\anaconda3\\lib\\site-packages (from IPython->import-ipynb) (0.7.5)\n",
      "Requirement already satisfied: pygments in c:\\users\\shris\\anaconda3\\lib\\site-packages (from IPython->import-ipynb) (2.11.2)\n",
      "Requirement already satisfied: backcall in c:\\users\\shris\\anaconda3\\lib\\site-packages (from IPython->import-ipynb) (0.2.0)\n",
      "Requirement already satisfied: prompt-toolkit!=3.0.0,!=3.0.1,<3.1.0,>=2.0.0 in c:\\users\\shris\\anaconda3\\lib\\site-packages (from IPython->import-ipynb) (3.0.20)\n",
      "Requirement already satisfied: decorator in c:\\users\\shris\\anaconda3\\lib\\site-packages (from IPython->import-ipynb) (5.1.1)\n",
      "Requirement already satisfied: matplotlib-inline in c:\\users\\shris\\anaconda3\\lib\\site-packages (from IPython->import-ipynb) (0.1.6)\n",
      "Requirement already satisfied: jedi>=0.16 in c:\\users\\shris\\anaconda3\\lib\\site-packages (from IPython->import-ipynb) (0.18.1)\n",
      "Requirement already satisfied: setuptools>=18.5 in c:\\users\\shris\\anaconda3\\lib\\site-packages (from IPython->import-ipynb) (63.4.1)\n",
      "Requirement already satisfied: colorama in c:\\users\\shris\\anaconda3\\lib\\site-packages (from IPython->import-ipynb) (0.4.5)\n",
      "Requirement already satisfied: traitlets>=4.2 in c:\\users\\shris\\anaconda3\\lib\\site-packages (from IPython->import-ipynb) (5.1.1)\n",
      "Requirement already satisfied: fastjsonschema in c:\\users\\shris\\anaconda3\\lib\\site-packages (from nbformat->import-ipynb) (2.16.2)\n",
      "Requirement already satisfied: jupyter_core in c:\\users\\shris\\anaconda3\\lib\\site-packages (from nbformat->import-ipynb) (4.11.1)\n",
      "Requirement already satisfied: jsonschema>=2.6 in c:\\users\\shris\\anaconda3\\lib\\site-packages (from nbformat->import-ipynb) (4.16.0)\n",
      "Requirement already satisfied: parso<0.9.0,>=0.8.0 in c:\\users\\shris\\anaconda3\\lib\\site-packages (from jedi>=0.16->IPython->import-ipynb) (0.8.3)\n",
      "Requirement already satisfied: attrs>=17.4.0 in c:\\users\\shris\\anaconda3\\lib\\site-packages (from jsonschema>=2.6->nbformat->import-ipynb) (21.4.0)\n",
      "Requirement already satisfied: pyrsistent!=0.17.0,!=0.17.1,!=0.17.2,>=0.14.0 in c:\\users\\shris\\anaconda3\\lib\\site-packages (from jsonschema>=2.6->nbformat->import-ipynb) (0.18.0)\n",
      "Requirement already satisfied: wcwidth in c:\\users\\shris\\anaconda3\\lib\\site-packages (from prompt-toolkit!=3.0.0,!=3.0.1,<3.1.0,>=2.0.0->IPython->import-ipynb) (0.2.5)\n",
      "Requirement already satisfied: pywin32>=1.0 in c:\\users\\shris\\anaconda3\\lib\\site-packages (from jupyter_core->nbformat->import-ipynb) (302)\n"
     ]
    }
   ],
   "source": [
    "import numpy as np\n",
    "import pandas as pd\n",
    "from sklearn.preprocessing import StandardScaler\n",
    "from sklearn.pipeline import Pipeline\n",
    "from scipy.spatial.distance import cdist\n",
    "import warnings\n",
    "import import_ipynb\n",
    "from Utility import *\n",
    "\n",
    "warnings.simplefilter(action='ignore', category=FutureWarning)\n",
    "import random\n",
    "\n",
    "warnings.filterwarnings(\"ignore\")\n",
    "from sklearn.cluster import KMeans"
   ]
  },
  {
   "cell_type": "markdown",
   "id": "f53d5834",
   "metadata": {},
   "source": [
    " ### Read Music Data by artists"
   ]
  },
  {
   "cell_type": "code",
   "execution_count": null,
   "id": "9a503b14",
   "metadata": {
    "scrolled": false
   },
   "outputs": [],
   "source": [
    "data = pd.read_csv(r\"datasets/data_by_artist.csv\")\n",
    "data.head()"
   ]
  },
  {
   "cell_type": "markdown",
   "id": "4d1641eb",
   "metadata": {},
   "source": [
    "We only need **'valence', 'artists', 'count', 'popularity'** fields from the dataset. Hence, retrieving those fields and saving it in a csv file named as \"artist_data.csv\"\n"
   ]
  },
  {
   "cell_type": "code",
   "execution_count": null,
   "id": "2fa51f47",
   "metadata": {},
   "outputs": [],
   "source": [
    "artist_data = data[['valence', 'artists', 'count', 'popularity']]\n",
    "artist_data.to_csv('datasets/artist_data.csv')"
   ]
  },
  {
   "cell_type": "markdown",
   "id": "ee82b562",
   "metadata": {},
   "source": [
    " ### Read Music Data from spotify dataset"
   ]
  },
  {
   "cell_type": "code",
   "execution_count": null,
   "id": "7c6e4717",
   "metadata": {},
   "outputs": [],
   "source": [
    "p = 0.02  # to randomly select 1% of the rows\n",
    "df_playlist_spotify = pd.read_csv(r\"datasets/spotify_dataset.csv\", error_bad_lines=False, warn_bad_lines=False,\n",
    "                                  skiprows=lambda i: i > 0 and random.random() > p)\n",
    "df_playlist_spotify.head()"
   ]
  },
  {
   "cell_type": "markdown",
   "id": "40b5b851",
   "metadata": {},
   "source": [
    "### Clean up column names\n",
    "1. remove extra quotes \n",
    "2. update column names by removing **name** from column name\n",
    "3. remove extra white spaces"
   ]
  },
  {
   "cell_type": "code",
   "execution_count": null,
   "id": "ed7b9ab7",
   "metadata": {},
   "outputs": [],
   "source": [
    "df_playlist_spotify.columns = df_playlist_spotify.columns.str.replace('\"', '')\n",
    "df_playlist_spotify.columns = df_playlist_spotify.columns.str.replace('name', '')\n",
    "df_playlist_spotify.columns = df_playlist_spotify.columns.str.replace(' ', '')\n",
    "df_playlist_spotify.columns"
   ]
  },
  {
   "cell_type": "markdown",
   "id": "da22e46a",
   "metadata": {},
   "source": [
    "### For recommender system, we are only keeping the artists with frequency higher than 50"
   ]
  },
  {
   "cell_type": "code",
   "execution_count": null,
   "id": "a525f8e1",
   "metadata": {},
   "outputs": [],
   "source": [
    "df_playlist = df_playlist_spotify.groupby('artist').filter(lambda x: len(x) >= 50)"
   ]
  },
  {
   "cell_type": "markdown",
   "id": "07b4b373",
   "metadata": {},
   "source": [
    "### Only keep users with at least 10 unique artists in their playlists in order to reduce the impact of cold start problem"
   ]
  },
  {
   "cell_type": "code",
   "execution_count": null,
   "id": "e0199844",
   "metadata": {},
   "outputs": [],
   "source": [
    "df_playlist = df_playlist[df_playlist.groupby('user_id').artist.transform('nunique') >= 10]"
   ]
  },
  {
   "cell_type": "markdown",
   "id": "8d6eeff2",
   "metadata": {},
   "source": [
    "### Group by to get the frequency count for each user and artist (number of times that an artist has appeared in playlists created by a user)"
   ]
  },
  {
   "cell_type": "code",
   "execution_count": null,
   "id": "168ab2de",
   "metadata": {},
   "outputs": [],
   "source": [
    "size = lambda x: len(x)\n",
    "df_freq = df_playlist.groupby(['user_id', 'artist']).agg('size').reset_index().rename(columns={0: 'freq'})[\n",
    "    ['user_id', 'artist', 'freq']].sort_values(['freq'], ascending=False)\n",
    "df_freq.head()"
   ]
  },
  {
   "cell_type": "markdown",
   "id": "0e42d472",
   "metadata": {},
   "source": [
    "### Create a DF for artists and add artist id"
   ]
  },
  {
   "cell_type": "code",
   "execution_count": null,
   "id": "a38ce2c8",
   "metadata": {
    "scrolled": false
   },
   "outputs": [],
   "source": [
    "df_artist = pd.DataFrame(df_freq[\"artist\"].unique())\n",
    "df_artist = df_artist.reset_index()\n",
    "df_artist = df_artist.rename(columns={'index': 'artist_id', 0: 'artist'})\n",
    "df_artist.head()"
   ]
  },
  {
   "cell_type": "markdown",
   "id": "10a10521",
   "metadata": {},
   "source": [
    "## Hybrid Song Recommendation "
   ]
  },
  {
   "cell_type": "markdown",
   "id": "c4cca698",
   "metadata": {},
   "source": [
    "It is a recommendation system which is combination of the content and collaborative filtering method.  By using content and collaborative-based methods to generate predictions separately and then combining the prediction, we can generate more accurate recommendations and also reduces the problem of cold start.\n",
    "\n",
    "1. **PCA_algorithm**: to reduce the dimensionality (in our case number of components is 2) within a dataset while still retaining as much information as possible.\n",
    "\n",
    "2. **KMeans_with_PCA_algorithm**: algorithm that tries to partition the dataset into Kpre-defined distinct non-overlapping clusters. \n",
    "    Based on the values of the Within Cluster Sum of Squares (WCSS) and an approach known as the Elbow method, we made a decision about how many clusters we’d like to keep.In our case, we have kept number of cluster as 50.\n",
    "\n",
    "3. we have then created a new data frame df_segm_pca_kmeans. It allows us to add in the values of the separate components to our segmentation data set. The components’ scores are stored in the ‘scores P C A’ variable. Let’s label them com1 and com2.\n",
    "\n",
    "4. **filter_based_on_segment**: filters songs that belong to particulat cluster segment.\n",
    "\n",
    "5. **filter_based_on_cluster_centroid**: filters songs based on closet distance of song and centroid\n",
    "\n",
    "6. returns list of top n artists, where n is set as 10 in our case"
   ]
  },
  {
   "cell_type": "code",
   "execution_count": null,
   "id": "002a0534",
   "metadata": {},
   "outputs": [],
   "source": [
    "def recommend_artists(artist,  n=10):    \n",
    "    \"\"\"\n",
    "    Recommends songs based on a list of previous songs that a user has listened to.\n",
    "    \"\"\"\n",
    "    song_embedding = PCA_algorithm(artist_data)\n",
    "    kmeans_pca, centroids = KMeans_with_PCA_algorithm(song_embedding,50)\n",
    "\n",
    "    df_segm_pca_kmeans = pd.concat([artist_data.reset_index(drop=True), pd.DataFrame(song_embedding)], axis=1)\n",
    "    df_segm_pca_kmeans.columns.values[-2:] = ['com1', 'com2']\n",
    "    df_segm_pca_kmeans['Segment K-means PCA'] = kmeans_pca.labels_\n",
    "\n",
    "    #get segment value of artist\n",
    "    segment_val = df_segm_pca_kmeans[df_segm_pca_kmeans['artists'] == artist]['Segment K-means PCA'].values[0]\n",
    "\n",
    "    filtered_data_per_segment = filter_based_on_segment(df_segm_pca_kmeans, segment_val,'artists', 'valence')\n",
    "\n",
    "    rec_artists = filter_based_on_cluster_centroid(kmeans_pca, filtered_data_per_segment, segment_val, artist_data)\n",
    "\n",
    "    #recommend top n artists\n",
    "    return rec_artists.head(n)['artists'].tolist()"
   ]
  },
  {
   "cell_type": "markdown",
   "id": "0e70aee7",
   "metadata": {},
   "source": [
    "**recommend_artist_and_songs:** Finds list of songs and artists  based on the selected artist name \n",
    "Recommends Top N artist with their song(s). In  our case, we have recommended top 10 songs"
   ]
  },
  {
   "cell_type": "code",
   "execution_count": null,
   "id": "1bd69f4b",
   "metadata": {},
   "outputs": [],
   "source": [
    "def recommend_artist_and_songs(artist, n_songs=10):\n",
    "    # get recommended artists\n",
    "    recommended_artists = pd.DataFrame({\n",
    "            'artist' : recommend_artists(artist, n_songs)\n",
    "        })\n",
    "    recommend_songs_list = pd.DataFrame(columns = ['artist', 'songs'])\n",
    "\n",
    "    # get songs per artist\n",
    "    for i in range(len(recommended_artists)):\n",
    "        artist = recommended_artists.loc[i, \"artist\"]\n",
    "        recommend_song = pd.DataFrame({\n",
    "            'artist' : artist,\n",
    "            'songs' :get_song_from_artist(artist, 1)\n",
    "        })\n",
    "        recommend_songs_list = recommend_songs_list.append(recommend_song, ignore_index = True)\n",
    "    return  recommend_songs_list"
   ]
  },
  {
   "cell_type": "markdown",
   "id": "9df0b3e9",
   "metadata": {},
   "source": [
    "**pass favorite artist name and no of recommended artist/song you want to listen and it gives you the list with n recommended artist with 1 songs per artist**"
   ]
  },
  {
   "cell_type": "code",
   "execution_count": null,
   "id": "523a872b",
   "metadata": {},
   "outputs": [],
   "source": [
    "recommended_artist_and_songs = recommend_artist_and_songs('Ella Fitzgerald',10)\n",
    "print(recommended_artist_and_songs)"
   ]
  },
  {
   "cell_type": "markdown",
   "id": "5788a9bc",
   "metadata": {},
   "source": [
    "## Circle graph to show recommended songs"
   ]
  },
  {
   "cell_type": "code",
   "execution_count": null,
   "id": "01ee9443",
   "metadata": {},
   "outputs": [],
   "source": [
    "circlify_vizualization(recommended_artist_and_songs['songs'])"
   ]
  },
  {
   "cell_type": "markdown",
   "id": "46611cfe",
   "metadata": {},
   "source": [
    "## Circle graph to show recommended Artists"
   ]
  },
  {
   "cell_type": "code",
   "execution_count": null,
   "id": "0d8dfe1f",
   "metadata": {},
   "outputs": [],
   "source": [
    "circlify_vizualization(recommended_artist_and_songs['artist'])"
   ]
  }
 ],
 "metadata": {
  "kernelspec": {
   "display_name": "Python 3 (ipykernel)",
   "language": "python",
   "name": "python3"
  },
  "language_info": {
   "codemirror_mode": {
    "name": "ipython",
    "version": 3
   },
   "file_extension": ".py",
   "mimetype": "text/x-python",
   "name": "python",
   "nbconvert_exporter": "python",
   "pygments_lexer": "ipython3",
   "version": "3.9.13"
  }
 },
 "nbformat": 4,
 "nbformat_minor": 5
}
