{
 "cells": [
  {
   "cell_type": "markdown",
   "id": "9c957fa1",
   "metadata": {},
   "source": [
    "# **Import Libraries**"
   ]
  },
  {
   "cell_type": "code",
   "execution_count": 1,
   "id": "103de7af",
   "metadata": {},
   "outputs": [
    {
     "name": "stdout",
     "output_type": "stream",
     "text": [
      "importing Jupyter notebook from Utility.ipynb\n"
     ]
    }
   ],
   "source": [
    "import numpy as np\n",
    "import pandas as pd\n",
    "from sklearn.preprocessing import StandardScaler\n",
    "from sklearn.pipeline import Pipeline\n",
    "from scipy.spatial.distance import cdist\n",
    "import warnings\n",
    "import import_ipynb\n",
    "from Utility import *\n",
    "\n",
    "warnings.simplefilter(action='ignore', category=FutureWarning)\n",
    "import random\n",
    "\n",
    "warnings.filterwarnings(\"ignore\")\n",
    "from sklearn.cluster import KMeans"
   ]
  },
  {
   "cell_type": "markdown",
   "id": "d75a6812",
   "metadata": {},
   "source": [
    " ## Read Music Data by artists"
   ]
  },
  {
   "cell_type": "code",
   "execution_count": 2,
   "id": "9a503b14",
   "metadata": {
    "scrolled": false
   },
   "outputs": [
    {
     "data": {
      "text/html": [
       "<div>\n",
       "<style scoped>\n",
       "    .dataframe tbody tr th:only-of-type {\n",
       "        vertical-align: middle;\n",
       "    }\n",
       "\n",
       "    .dataframe tbody tr th {\n",
       "        vertical-align: top;\n",
       "    }\n",
       "\n",
       "    .dataframe thead th {\n",
       "        text-align: right;\n",
       "    }\n",
       "</style>\n",
       "<table border=\"1\" class=\"dataframe\">\n",
       "  <thead>\n",
       "    <tr style=\"text-align: right;\">\n",
       "      <th></th>\n",
       "      <th>mode</th>\n",
       "      <th>count</th>\n",
       "      <th>acousticness</th>\n",
       "      <th>artists</th>\n",
       "      <th>danceability</th>\n",
       "      <th>duration_ms</th>\n",
       "      <th>energy</th>\n",
       "      <th>instrumentalness</th>\n",
       "      <th>liveness</th>\n",
       "      <th>loudness</th>\n",
       "      <th>speechiness</th>\n",
       "      <th>tempo</th>\n",
       "      <th>valence</th>\n",
       "      <th>popularity</th>\n",
       "      <th>key</th>\n",
       "    </tr>\n",
       "  </thead>\n",
       "  <tbody>\n",
       "    <tr>\n",
       "      <th>0</th>\n",
       "      <td>1</td>\n",
       "      <td>9</td>\n",
       "      <td>0.590111</td>\n",
       "      <td>\"Cats\" 1981 Original London Cast</td>\n",
       "      <td>0.467222</td>\n",
       "      <td>250318.555556</td>\n",
       "      <td>0.394003</td>\n",
       "      <td>0.011400</td>\n",
       "      <td>0.290833</td>\n",
       "      <td>-14.448000</td>\n",
       "      <td>0.210389</td>\n",
       "      <td>117.518111</td>\n",
       "      <td>0.389500</td>\n",
       "      <td>38.333333</td>\n",
       "      <td>5</td>\n",
       "    </tr>\n",
       "    <tr>\n",
       "      <th>1</th>\n",
       "      <td>1</td>\n",
       "      <td>26</td>\n",
       "      <td>0.862538</td>\n",
       "      <td>\"Cats\" 1983 Broadway Cast</td>\n",
       "      <td>0.441731</td>\n",
       "      <td>287280.000000</td>\n",
       "      <td>0.406808</td>\n",
       "      <td>0.081158</td>\n",
       "      <td>0.315215</td>\n",
       "      <td>-10.690000</td>\n",
       "      <td>0.176212</td>\n",
       "      <td>103.044154</td>\n",
       "      <td>0.268865</td>\n",
       "      <td>30.576923</td>\n",
       "      <td>5</td>\n",
       "    </tr>\n",
       "    <tr>\n",
       "      <th>2</th>\n",
       "      <td>1</td>\n",
       "      <td>7</td>\n",
       "      <td>0.856571</td>\n",
       "      <td>\"Fiddler On The Roof” Motion Picture Chorus</td>\n",
       "      <td>0.348286</td>\n",
       "      <td>328920.000000</td>\n",
       "      <td>0.286571</td>\n",
       "      <td>0.024593</td>\n",
       "      <td>0.325786</td>\n",
       "      <td>-15.230714</td>\n",
       "      <td>0.118514</td>\n",
       "      <td>77.375857</td>\n",
       "      <td>0.354857</td>\n",
       "      <td>34.857143</td>\n",
       "      <td>0</td>\n",
       "    </tr>\n",
       "    <tr>\n",
       "      <th>3</th>\n",
       "      <td>1</td>\n",
       "      <td>27</td>\n",
       "      <td>0.884926</td>\n",
       "      <td>\"Fiddler On The Roof” Motion Picture Orchestra</td>\n",
       "      <td>0.425074</td>\n",
       "      <td>262890.962963</td>\n",
       "      <td>0.245770</td>\n",
       "      <td>0.073587</td>\n",
       "      <td>0.275481</td>\n",
       "      <td>-15.639370</td>\n",
       "      <td>0.123200</td>\n",
       "      <td>88.667630</td>\n",
       "      <td>0.372030</td>\n",
       "      <td>34.851852</td>\n",
       "      <td>0</td>\n",
       "    </tr>\n",
       "    <tr>\n",
       "      <th>4</th>\n",
       "      <td>1</td>\n",
       "      <td>7</td>\n",
       "      <td>0.510714</td>\n",
       "      <td>\"Joseph And The Amazing Technicolor Dreamcoat\"...</td>\n",
       "      <td>0.467143</td>\n",
       "      <td>270436.142857</td>\n",
       "      <td>0.488286</td>\n",
       "      <td>0.009400</td>\n",
       "      <td>0.195000</td>\n",
       "      <td>-10.236714</td>\n",
       "      <td>0.098543</td>\n",
       "      <td>122.835857</td>\n",
       "      <td>0.482286</td>\n",
       "      <td>43.000000</td>\n",
       "      <td>5</td>\n",
       "    </tr>\n",
       "  </tbody>\n",
       "</table>\n",
       "</div>"
      ],
      "text/plain": [
       "   mode  count  acousticness  \\\n",
       "0     1      9      0.590111   \n",
       "1     1     26      0.862538   \n",
       "2     1      7      0.856571   \n",
       "3     1     27      0.884926   \n",
       "4     1      7      0.510714   \n",
       "\n",
       "                                             artists  danceability  \\\n",
       "0                   \"Cats\" 1981 Original London Cast      0.467222   \n",
       "1                          \"Cats\" 1983 Broadway Cast      0.441731   \n",
       "2        \"Fiddler On The Roof” Motion Picture Chorus      0.348286   \n",
       "3     \"Fiddler On The Roof” Motion Picture Orchestra      0.425074   \n",
       "4  \"Joseph And The Amazing Technicolor Dreamcoat\"...      0.467143   \n",
       "\n",
       "     duration_ms    energy  instrumentalness  liveness   loudness  \\\n",
       "0  250318.555556  0.394003          0.011400  0.290833 -14.448000   \n",
       "1  287280.000000  0.406808          0.081158  0.315215 -10.690000   \n",
       "2  328920.000000  0.286571          0.024593  0.325786 -15.230714   \n",
       "3  262890.962963  0.245770          0.073587  0.275481 -15.639370   \n",
       "4  270436.142857  0.488286          0.009400  0.195000 -10.236714   \n",
       "\n",
       "   speechiness       tempo   valence  popularity  key  \n",
       "0     0.210389  117.518111  0.389500   38.333333    5  \n",
       "1     0.176212  103.044154  0.268865   30.576923    5  \n",
       "2     0.118514   77.375857  0.354857   34.857143    0  \n",
       "3     0.123200   88.667630  0.372030   34.851852    0  \n",
       "4     0.098543  122.835857  0.482286   43.000000    5  "
      ]
     },
     "execution_count": 2,
     "metadata": {},
     "output_type": "execute_result"
    }
   ],
   "source": [
    "data = pd.read_csv(r\"datasets/data_by_artist.csv\")\n",
    "data.head()"
   ]
  },
  {
   "cell_type": "code",
   "execution_count": null,
   "id": "52cb3e42",
   "metadata": {},
   "outputs": [],
   "source": []
  },
  {
   "cell_type": "code",
   "execution_count": 3,
   "id": "2fa51f47",
   "metadata": {},
   "outputs": [],
   "source": [
    "artist_data = data[['valence', 'artists', 'count', 'popularity']]\n",
    "artist_data.to_csv('artist_data.csv')"
   ]
  },
  {
   "cell_type": "code",
   "execution_count": 4,
   "id": "7c6e4717",
   "metadata": {},
   "outputs": [
    {
     "data": {
      "text/html": [
       "<div>\n",
       "<style scoped>\n",
       "    .dataframe tbody tr th:only-of-type {\n",
       "        vertical-align: middle;\n",
       "    }\n",
       "\n",
       "    .dataframe tbody tr th {\n",
       "        vertical-align: top;\n",
       "    }\n",
       "\n",
       "    .dataframe thead th {\n",
       "        text-align: right;\n",
       "    }\n",
       "</style>\n",
       "<table border=\"1\" class=\"dataframe\">\n",
       "  <thead>\n",
       "    <tr style=\"text-align: right;\">\n",
       "      <th></th>\n",
       "      <th>user_id</th>\n",
       "      <th>\"artistname\"</th>\n",
       "      <th>\"trackname\"</th>\n",
       "      <th>\"playlistname\"</th>\n",
       "    </tr>\n",
       "  </thead>\n",
       "  <tbody>\n",
       "    <tr>\n",
       "      <th>0</th>\n",
       "      <td>9cc0cfd4d7d7885102480dd99e7a90d6</td>\n",
       "      <td>Tiffany Page</td>\n",
       "      <td>7 Years Too Late</td>\n",
       "      <td>HARD ROCK 2010</td>\n",
       "    </tr>\n",
       "    <tr>\n",
       "      <th>1</th>\n",
       "      <td>9cc0cfd4d7d7885102480dd99e7a90d6</td>\n",
       "      <td>Paul McCartney</td>\n",
       "      <td>Live And Let Die</td>\n",
       "      <td>HARD ROCK 2010</td>\n",
       "    </tr>\n",
       "    <tr>\n",
       "      <th>2</th>\n",
       "      <td>9cc0cfd4d7d7885102480dd99e7a90d6</td>\n",
       "      <td>Tom Petty And The Heartbreakers</td>\n",
       "      <td>American Girl</td>\n",
       "      <td>IOW 2012</td>\n",
       "    </tr>\n",
       "    <tr>\n",
       "      <th>3</th>\n",
       "      <td>9cc0cfd4d7d7885102480dd99e7a90d6</td>\n",
       "      <td>Noah And The Whale</td>\n",
       "      <td>L.I.F.E.G.O.E.S.O.N.</td>\n",
       "      <td>IOW 2012</td>\n",
       "    </tr>\n",
       "    <tr>\n",
       "      <th>4</th>\n",
       "      <td>07f0fc3be95dcd878966b1f9572ff670</td>\n",
       "      <td>C418</td>\n",
       "      <td>Thirteen</td>\n",
       "      <td>C418</td>\n",
       "    </tr>\n",
       "  </tbody>\n",
       "</table>\n",
       "</div>"
      ],
      "text/plain": [
       "                            user_id                     \"artistname\"  \\\n",
       "0  9cc0cfd4d7d7885102480dd99e7a90d6                     Tiffany Page   \n",
       "1  9cc0cfd4d7d7885102480dd99e7a90d6                   Paul McCartney   \n",
       "2  9cc0cfd4d7d7885102480dd99e7a90d6  Tom Petty And The Heartbreakers   \n",
       "3  9cc0cfd4d7d7885102480dd99e7a90d6               Noah And The Whale   \n",
       "4  07f0fc3be95dcd878966b1f9572ff670                             C418   \n",
       "\n",
       "            \"trackname\"  \"playlistname\"  \n",
       "0      7 Years Too Late  HARD ROCK 2010  \n",
       "1      Live And Let Die  HARD ROCK 2010  \n",
       "2         American Girl        IOW 2012  \n",
       "3  L.I.F.E.G.O.E.S.O.N.        IOW 2012  \n",
       "4              Thirteen            C418  "
      ]
     },
     "execution_count": 4,
     "metadata": {},
     "output_type": "execute_result"
    }
   ],
   "source": [
    "p = 0.02  # to randomly select 1% of the rows\n",
    "df_playlist_spotify = pd.read_csv(r\"datasets/spotify_dataset.csv\", error_bad_lines=False, warn_bad_lines=False,\n",
    "                                  skiprows=lambda i: i > 0 and random.random() > p)\n",
    "df_playlist_spotify.head()"
   ]
  },
  {
   "cell_type": "code",
   "execution_count": 5,
   "id": "ed7b9ab7",
   "metadata": {},
   "outputs": [
    {
     "data": {
      "text/plain": [
       "Index(['user_id', 'artist', 'track', 'playlist'], dtype='object')"
      ]
     },
     "execution_count": 5,
     "metadata": {},
     "output_type": "execute_result"
    }
   ],
   "source": [
    "df_playlist_spotify.columns = df_playlist_spotify.columns.str.replace('\"', '')\n",
    "df_playlist_spotify.columns = df_playlist_spotify.columns.str.replace('name', '')\n",
    "df_playlist_spotify.columns = df_playlist_spotify.columns.str.replace(' ', '')\n",
    "df_playlist_spotify.columns"
   ]
  },
  {
   "cell_type": "code",
   "execution_count": null,
   "id": "9ca19c19",
   "metadata": {},
   "outputs": [],
   "source": [
    "### For recommender system, we are only keeping the artists with frequency higher than 50"
   ]
  },
  {
   "cell_type": "code",
   "execution_count": 6,
   "id": "a525f8e1",
   "metadata": {},
   "outputs": [
    {
     "name": "stdout",
     "output_type": "stream",
     "text": [
      "                                 user_id                           artist  \\\n",
      "1       9cc0cfd4d7d7885102480dd99e7a90d6                   Paul McCartney   \n",
      "2       9cc0cfd4d7d7885102480dd99e7a90d6  Tom Petty And The Heartbreakers   \n",
      "3       9cc0cfd4d7d7885102480dd99e7a90d6               Noah And The Whale   \n",
      "7       07f0fc3be95dcd878966b1f9572ff670                          Ratatat   \n",
      "10      07f0fc3be95dcd878966b1f9572ff670                Infected Mushroom   \n",
      "...                                  ...                              ...   \n",
      "258306  2302bf9c64dc63d88a750215ed187f2c                            JAY Z   \n",
      "258307  2302bf9c64dc63d88a750215ed187f2c                  Imagine Dragons   \n",
      "258308  2302bf9c64dc63d88a750215ed187f2c                             Bush   \n",
      "258309  2302bf9c64dc63d88a750215ed187f2c               The Rolling Stones   \n",
      "258310  2302bf9c64dc63d88a750215ed187f2c  Tom Petty And The Heartbreakers   \n",
      "\n",
      "                             track          playlist  \n",
      "1                 Live And Let Die    HARD ROCK 2010  \n",
      "2                    American Girl          IOW 2012  \n",
      "3             L.I.F.E.G.O.E.S.O.N.          IOW 2012  \n",
      "7                    Tacobel Canon           Electro  \n",
      "10                     Heavyweight            Soirée  \n",
      "...                            ...               ...  \n",
      "258306       No Church In The Wild          Alt Rock  \n",
      "258307                 Radioactive          Alt Rock  \n",
      "258308         The Sound of Winter          Alt Rock  \n",
      "258309  Can't You Hear Me Knocking      Classic Rock  \n",
      "258310                     Refugee  Liked from Radio  \n",
      "\n",
      "[104740 rows x 4 columns]\n"
     ]
    }
   ],
   "source": [
    "df_playlist = df_playlist_spotify.groupby('artist').filter(lambda x: len(x) >= 50)\n",
    "print(df_playlist)"
   ]
  },
  {
   "cell_type": "code",
   "execution_count": 7,
   "id": "e0199844",
   "metadata": {},
   "outputs": [
    {
     "name": "stdout",
     "output_type": "stream",
     "text": [
      "                                 user_id             artist  \\\n",
      "7       07f0fc3be95dcd878966b1f9572ff670            Ratatat   \n",
      "10      07f0fc3be95dcd878966b1f9572ff670  Infected Mushroom   \n",
      "12      07f0fc3be95dcd878966b1f9572ff670              Flume   \n",
      "14      07f0fc3be95dcd878966b1f9572ff670          In Flames   \n",
      "19      07f0fc3be95dcd878966b1f9572ff670        Murray Gold   \n",
      "...                                  ...                ...   \n",
      "258296  488ead471813ae982119153f792e4a3e              JAY Z   \n",
      "258298  488ead471813ae982119153f792e4a3e            Tove Lo   \n",
      "258299  488ead471813ae982119153f792e4a3e         Katy Perry   \n",
      "258302  488ead471813ae982119153f792e4a3e            Madonna   \n",
      "258303  488ead471813ae982119153f792e4a3e            Shakira   \n",
      "\n",
      "                                                track playlist  \n",
      "7                                       Tacobel Canon  Electro  \n",
      "10                                        Heavyweight   Soirée  \n",
      "12                  Sleepless (feat. Jezzabell Doran)   Soirée  \n",
      "14                                    The Quiet Place   Soirée  \n",
      "19                                           Doomsday  Starred  \n",
      "...                                               ...      ...  \n",
      "258296                          No Church In The Wild  Starred  \n",
      "258298                                   Not On Drugs  Starred  \n",
      "258299                                     Part Of Me  Starred  \n",
      "258302  Turn Up The Radio - Madonna vs. Laidback Luke  Starred  \n",
      "258303                        You Don't Care About Me  Starred  \n",
      "\n",
      "[62578 rows x 4 columns]\n"
     ]
    }
   ],
   "source": [
    "df_playlist = df_playlist[df_playlist.groupby('user_id').artist.transform('nunique') >= 10]\n",
    "print(df_playlist)"
   ]
  },
  {
   "cell_type": "code",
   "execution_count": 8,
   "id": "168ab2de",
   "metadata": {},
   "outputs": [
    {
     "data": {
      "text/html": [
       "<div>\n",
       "<style scoped>\n",
       "    .dataframe tbody tr th:only-of-type {\n",
       "        vertical-align: middle;\n",
       "    }\n",
       "\n",
       "    .dataframe tbody tr th {\n",
       "        vertical-align: top;\n",
       "    }\n",
       "\n",
       "    .dataframe thead th {\n",
       "        text-align: right;\n",
       "    }\n",
       "</style>\n",
       "<table border=\"1\" class=\"dataframe\">\n",
       "  <thead>\n",
       "    <tr style=\"text-align: right;\">\n",
       "      <th></th>\n",
       "      <th>user_id</th>\n",
       "      <th>artist</th>\n",
       "      <th>freq</th>\n",
       "    </tr>\n",
       "  </thead>\n",
       "  <tbody>\n",
       "    <tr>\n",
       "      <th>7152</th>\n",
       "      <td>26b51e580277e131f87e4c7ee4c0887a</td>\n",
       "      <td>Vitamin String Quartet</td>\n",
       "      <td>75</td>\n",
       "    </tr>\n",
       "    <tr>\n",
       "      <th>11609</th>\n",
       "      <td>414050deadb38aafd8d4ad22ca634055</td>\n",
       "      <td>Vitamin String Quartet</td>\n",
       "      <td>49</td>\n",
       "    </tr>\n",
       "    <tr>\n",
       "      <th>43796</th>\n",
       "      <td>fa849dabeb14a2800ad5130907fc5018</td>\n",
       "      <td>Ella Fitzgerald</td>\n",
       "      <td>44</td>\n",
       "    </tr>\n",
       "    <tr>\n",
       "      <th>43841</th>\n",
       "      <td>fa849dabeb14a2800ad5130907fc5018</td>\n",
       "      <td>Peggy Lee</td>\n",
       "      <td>39</td>\n",
       "    </tr>\n",
       "    <tr>\n",
       "      <th>8692</th>\n",
       "      <td>2e221a9fa50e6487e8a3b7c7ac8c806a</td>\n",
       "      <td>Ennio Morricone</td>\n",
       "      <td>37</td>\n",
       "    </tr>\n",
       "  </tbody>\n",
       "</table>\n",
       "</div>"
      ],
      "text/plain": [
       "                                user_id                  artist  freq\n",
       "7152   26b51e580277e131f87e4c7ee4c0887a  Vitamin String Quartet    75\n",
       "11609  414050deadb38aafd8d4ad22ca634055  Vitamin String Quartet    49\n",
       "43796  fa849dabeb14a2800ad5130907fc5018         Ella Fitzgerald    44\n",
       "43841  fa849dabeb14a2800ad5130907fc5018               Peggy Lee    39\n",
       "8692   2e221a9fa50e6487e8a3b7c7ac8c806a         Ennio Morricone    37"
      ]
     },
     "execution_count": 8,
     "metadata": {},
     "output_type": "execute_result"
    }
   ],
   "source": [
    "size = lambda x: len(x)\n",
    "df_freq = df_playlist.groupby(['user_id', 'artist']).agg('size').reset_index().rename(columns={0: 'freq'})[\n",
    "    ['user_id', 'artist', 'freq']].sort_values(['freq'], ascending=False)\n",
    "df_freq.head()"
   ]
  },
  {
   "cell_type": "code",
   "execution_count": 9,
   "id": "a38ce2c8",
   "metadata": {
    "scrolled": false
   },
   "outputs": [
    {
     "data": {
      "text/html": [
       "<div>\n",
       "<style scoped>\n",
       "    .dataframe tbody tr th:only-of-type {\n",
       "        vertical-align: middle;\n",
       "    }\n",
       "\n",
       "    .dataframe tbody tr th {\n",
       "        vertical-align: top;\n",
       "    }\n",
       "\n",
       "    .dataframe thead th {\n",
       "        text-align: right;\n",
       "    }\n",
       "</style>\n",
       "<table border=\"1\" class=\"dataframe\">\n",
       "  <thead>\n",
       "    <tr style=\"text-align: right;\">\n",
       "      <th></th>\n",
       "      <th>artist_id</th>\n",
       "      <th>artist</th>\n",
       "    </tr>\n",
       "  </thead>\n",
       "  <tbody>\n",
       "    <tr>\n",
       "      <th>0</th>\n",
       "      <td>0</td>\n",
       "      <td>Vitamin String Quartet</td>\n",
       "    </tr>\n",
       "    <tr>\n",
       "      <th>1</th>\n",
       "      <td>1</td>\n",
       "      <td>Ella Fitzgerald</td>\n",
       "    </tr>\n",
       "    <tr>\n",
       "      <th>2</th>\n",
       "      <td>2</td>\n",
       "      <td>Peggy Lee</td>\n",
       "    </tr>\n",
       "    <tr>\n",
       "      <th>3</th>\n",
       "      <td>3</td>\n",
       "      <td>Ennio Morricone</td>\n",
       "    </tr>\n",
       "    <tr>\n",
       "      <th>4</th>\n",
       "      <td>4</td>\n",
       "      <td>Frank Sinatra</td>\n",
       "    </tr>\n",
       "  </tbody>\n",
       "</table>\n",
       "</div>"
      ],
      "text/plain": [
       "   artist_id                  artist\n",
       "0          0  Vitamin String Quartet\n",
       "1          1         Ella Fitzgerald\n",
       "2          2               Peggy Lee\n",
       "3          3         Ennio Morricone\n",
       "4          4           Frank Sinatra"
      ]
     },
     "execution_count": 9,
     "metadata": {},
     "output_type": "execute_result"
    }
   ],
   "source": [
    "df_artist = pd.DataFrame(df_freq[\"artist\"].unique())\n",
    "df_artist = df_artist.reset_index()\n",
    "df_artist = df_artist.rename(columns={'index': 'artist_id', 0: 'artist'})\n",
    "df_artist.head()"
   ]
  },
  {
   "cell_type": "code",
   "execution_count": 10,
   "id": "523a872b",
   "metadata": {},
   "outputs": [
    {
     "name": "stdout",
     "output_type": "stream",
     "text": [
      "                 artist                                              songs\n",
      "0       Lata Mangeshkar                                  Aa Ab Laut Chalen\n",
      "1           Dean Martin                                    'Til I Find You\n",
      "2       Ella Fitzgerald                                         'Deed I Do\n",
      "3        The Beach Boys  \"Cassius\" Love Vs. \"Sonny\" Wilson - Remastered...\n",
      "4  Ludwig van Beethoven  12 Variations on \"Ein Mädchen oder Weibchen\", ...\n",
      "5    The Rolling Stones  (I Can't Get No) Satisfaction - (Original Sing...\n",
      "6          Irina Salkow              Kapitel 1 - Der Page und die Herzogin\n",
      "7         Fleetwood Mac                            Albatross - 2018 Master\n",
      "8             Bob Dylan  (Quinn the Eskimo) The Mighty Quinn - Live at ...\n",
      "9           Miles Davis                                    'Round Midnight\n"
     ]
    }
   ],
   "source": [
    "# pass favorite artist name and no of recommended artist/song you want to listen\n",
    "recommended_artist_and_songs = recommend_artist_and_songs('Ella Fitzgerald',10)\n",
    "# this list contains n recommended artist with 1 songs per artist\n",
    "print(recommended_artist_and_songs)"
   ]
  },
  {
   "cell_type": "code",
   "execution_count": 11,
   "id": "7837dc60",
   "metadata": {},
   "outputs": [],
   "source": [
    "#TODO: refactor and cleanup"
   ]
  }
 ],
 "metadata": {
  "kernelspec": {
   "display_name": "Python 3 (ipykernel)",
   "language": "python",
   "name": "python3"
  },
  "language_info": {
   "codemirror_mode": {
    "name": "ipython",
    "version": 3
   },
   "file_extension": ".py",
   "mimetype": "text/x-python",
   "name": "python",
   "nbconvert_exporter": "python",
   "pygments_lexer": "ipython3",
   "version": "3.9.13"
  }
 },
 "nbformat": 4,
 "nbformat_minor": 5
}
