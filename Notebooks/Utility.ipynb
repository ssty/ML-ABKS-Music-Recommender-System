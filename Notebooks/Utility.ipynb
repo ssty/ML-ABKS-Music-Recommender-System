{
 "cells": [
  {
   "cell_type": "code",
   "execution_count": 1,
   "id": "7bf6ad7f",
   "metadata": {
    "scrolled": false
   },
   "outputs": [],
   "source": [
    "import numpy as np\n",
    "import pandas as pd\n",
    "from sklearn.feature_extraction.text import TfidfVectorizer\n",
    "from sklearn.metrics.pairwise import linear_kernel\n",
    "from sklearn.cluster import KMeans\n",
    "from sklearn.decomposition import PCA\n",
    "from sklearn.pipeline import Pipeline\n",
    "from sklearn.preprocessing import StandardScaler\n",
    "from scipy.spatial.distance import cdist"
   ]
  },
  {
   "cell_type": "code",
   "execution_count": 2,
   "id": "bf63e439",
   "metadata": {},
   "outputs": [],
   "source": [
    "def PCA_algorithm(data): \n",
    "    num_datatypes = data.select_dtypes(np.number)\n",
    "\n",
    "    pca_pipeline = Pipeline([('scaler', StandardScaler()), ('PCA', PCA(n_components=2))])\n",
    "    song_embedding = pca_pipeline.fit_transform(num_datatypes)\n",
    "    return song_embedding"
   ]
  },
  {
   "cell_type": "code",
   "execution_count": 3,
   "id": "b89ea3e5",
   "metadata": {},
   "outputs": [],
   "source": [
    "def KMeans_with_PCA_algorithm(song_embedding,n_clusters):\n",
    "    kmeans_pca = KMeans(n_clusters=n_clusters, init='k-means++', random_state=42)\n",
    "    label = kmeans_pca.fit(song_embedding)\n",
    "    centroids = kmeans_pca.cluster_centers_\n",
    "    return label, centroids"
   ]
  },
  {
   "cell_type": "code",
   "execution_count": 4,
   "id": "24eb5b5e",
   "metadata": {},
   "outputs": [],
   "source": [
    "def filter_based_on_segment(df_segm_pca_kmeans,segment_val,field1,field2):    \n",
    "    #get list of songs with above song id\n",
    "    #print(df_segm_pca_kmeans[df_segm_pca_kmeans['Segment K-means PCA']==segment_val].values)\n",
    "    \n",
    "    filtered_data_per_segment = df_segm_pca_kmeans[df_segm_pca_kmeans['Segment K-means PCA']==segment_val][[\n",
    "        field1, field2 ,'com1','com2','Segment K-means PCA']]\n",
    "\n",
    "    #save to csv file\n",
    "    filtered_data_per_segment.to_csv('filtered_data_per_segment.csv')\n",
    "    return filtered_data_per_segment"
   ]
  },
  {
   "cell_type": "code",
   "execution_count": 5,
   "id": "75240de6",
   "metadata": {},
   "outputs": [],
   "source": [
    "def filter_based_on_cluster_centroid(kmeans_pca, filtered_data_per_segment, segment_val, tracks):   \n",
    "    #calculate distance based on cluster centroid\n",
    "    scaled_data = kmeans_pca.transform(filtered_data_per_segment[['com1', 'com2']])\n",
    "    scaled_song_center = kmeans_pca.transform(kmeans_pca.cluster_centers_[segment_val].reshape(1, -1))\n",
    "    distances = cdist(scaled_song_center, scaled_data, 'cosine')\n",
    "\n",
    "    #sort based on distance\n",
    "    index = list(np.argsort(distances)[0])\n",
    "    rec_songs = filtered_data_per_segment.iloc[index]\n",
    "\n",
    "    #recommend based on segment data\n",
    "    # rec_songs = rec_songs[~rec_songs['name'].isin(filtered_data_per_segment['name'])]\n",
    "    return rec_songs"
   ]
  },
  {
   "cell_type": "code",
   "execution_count": 6,
   "id": "fdbd169c",
   "metadata": {},
   "outputs": [],
   "source": [
    "def GetInPut(user):\n",
    "    inputArtist = pd.DataFrame(user)\n",
    "    #Filtering out the movies by title\n",
    "    Id = df_artist[df_artist['artist'].isin(inputArtist['artist'].tolist())]\n",
    "    #Then merging it so we can get the movieId. It's implicitly merging it by title.\n",
    "    inputArtist = pd.merge(Id, inputArtist)\n",
    "    #Dropping information we won't use from the input dataframe\n",
    "    #inputArtist = inputArtist.drop('year', 1)\n",
    "    return inputArtist"
   ]
  },
  {
   "cell_type": "code",
   "execution_count": 7,
   "id": "2e57684d",
   "metadata": {},
   "outputs": [],
   "source": [
    "def get_song_from_artist(artist, n_per_artist= 1):\n",
    "    list_of_artists_songs = []\n",
    "    for i in range(len(data_for_songs)):\n",
    "        if artist in data_for_songs.loc[i, \"artists\"]:\n",
    "            list_of_artists_songs.append(data_for_songs.loc[i, [\"id\", \"artists\", \"name\", \"popularity\"]])\n",
    "\n",
    "    sorted_list_of_artists_songs = sorted(list_of_artists_songs, key=lambda d: d['popularity'], reverse=True)\n",
    "    sorted_list_of_songs_only = np.array(sorted_list_of_artists_songs)\n",
    "    unique_songs = np.unique(sorted_list_of_songs_only[:, 2])\n",
    "    return unique_songs[:n_per_artist]"
   ]
  },
  {
   "cell_type": "code",
   "execution_count": 8,
   "id": "2cb189f0",
   "metadata": {},
   "outputs": [],
   "source": [
    "def recommend_artists(artist, n=10):    \n",
    "    \"\"\"\n",
    "    Recommends songs based on a list of previous songs that a user has listened to.\n",
    "    \"\"\"\n",
    "    song_embedding = PCA_algorithm(artist_data)\n",
    "    kmeans_pca, centroids = KMeans_with_PCA_algorithm(song_embedding,50)\n",
    "\n",
    "    df_segm_pca_kmeans = pd.concat([artist_data.reset_index(drop=True), pd.DataFrame(song_embedding)], axis=1)\n",
    "    df_segm_pca_kmeans.columns.values[-2:] = ['com1', 'com2']\n",
    "    df_segm_pca_kmeans['Segment K-means PCA'] = kmeans_pca.labels_\n",
    "\n",
    "    #get segment value of artist\n",
    "    # artist = 'Frank Sinatra'\n",
    "    segment_val = df_segm_pca_kmeans[df_segm_pca_kmeans['artists'] == artist]['Segment K-means PCA'].values[0]\n",
    "\n",
    "    filtered_data_per_segment = filter_based_on_segment(df_segm_pca_kmeans, segment_val,'artists', 'valence')\n",
    "\n",
    "    rec_artists = filter_based_on_cluster_centroid(kmeans_pca, filtered_data_per_segment, segment_val, artist_data)\n",
    "    # print(rec_artists)\n",
    "\n",
    "    #recommend top n artists\n",
    "    return rec_artists.head(n)['artists'].tolist()"
   ]
  },
  {
   "cell_type": "code",
   "execution_count": 9,
   "id": "1abc736a",
   "metadata": {},
   "outputs": [],
   "source": [
    "def recommend_artist_and_songs(artist, n_songs=10):\n",
    "    # get recommended artists\n",
    "    recommended_artists = pd.DataFrame({\n",
    "            'artist' : recommend_artists(artist, n_songs)\n",
    "        })\n",
    "    # print(recommended_artists)\n",
    "    recommend_songs_list = pd.DataFrame(columns = ['artist', 'songs'])\n",
    "    # artist_count = len(recommended_artists)\n",
    "    # song_per_artist = n_songs > artist_count and (n_songs/artist_count) or 1\n",
    "\n",
    "    # get songs per artist\n",
    "    for i in range(len(recommended_artists)):\n",
    "        artist = recommended_artists.loc[i, \"artist\"]\n",
    "        recommend_song = pd.DataFrame({\n",
    "            'artist' : artist,\n",
    "            'songs' :get_song_from_artist(artist, 1)\n",
    "        })\n",
    "        recommend_songs_list = recommend_songs_list.append(recommend_song, ignore_index = True)\n",
    "    return  recommend_songs_list"
   ]
  },
  {
   "cell_type": "code",
   "execution_count": 10,
   "id": "2d8e96e6",
   "metadata": {},
   "outputs": [],
   "source": [
    "def get_song_data(song, spotify_data):\n",
    "    \n",
    "    \"\"\"\n",
    "    Gets the song data for a specifi song. The song argument takes the form of a dictionary with \n",
    "    key-value pairs for the name and release year of the song.\n",
    "    \"\"\"\n",
    "    \n",
    "    try:\n",
    "        song_data = spotify_data[(spotify_data['name'] == song['name']) ].iloc[0]\n",
    "        return song_data\n",
    "    \n",
    "    except IndexError:\n",
    "        return find_song(song['name'])"
   ]
  }
 ],
 "metadata": {
  "kernelspec": {
   "display_name": "Python 3 (ipykernel)",
   "language": "python",
   "name": "python3"
  },
  "language_info": {
   "codemirror_mode": {
    "name": "ipython",
    "version": 3
   },
   "file_extension": ".py",
   "mimetype": "text/x-python",
   "name": "python",
   "nbconvert_exporter": "python",
   "pygments_lexer": "ipython3",
   "version": "3.9.13"
  }
 },
 "nbformat": 4,
 "nbformat_minor": 5
}
