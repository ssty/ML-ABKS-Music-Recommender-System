{
 "cells": [
  {
   "cell_type": "code",
   "execution_count": 13,
   "id": "0973fe26",
   "metadata": {},
   "outputs": [
    {
     "name": "stdout",
     "output_type": "stream",
     "text": [
      "Requirement already satisfied: import-ipynb in /opt/homebrew/anaconda3/lib/python3.9/site-packages (0.1.4)\r\n",
      "Requirement already satisfied: IPython in /opt/homebrew/anaconda3/lib/python3.9/site-packages (from import-ipynb) (8.3.0)\r\n",
      "Requirement already satisfied: nbformat in /opt/homebrew/anaconda3/lib/python3.9/site-packages (from import-ipynb) (5.3.0)\r\n",
      "Requirement already satisfied: backcall in /opt/homebrew/anaconda3/lib/python3.9/site-packages (from IPython->import-ipynb) (0.2.0)\r\n",
      "Requirement already satisfied: matplotlib-inline in /opt/homebrew/anaconda3/lib/python3.9/site-packages (from IPython->import-ipynb) (0.1.2)\r\n",
      "Requirement already satisfied: pygments>=2.4.0 in /opt/homebrew/anaconda3/lib/python3.9/site-packages (from IPython->import-ipynb) (2.11.2)\r\n",
      "Requirement already satisfied: traitlets>=5 in /opt/homebrew/anaconda3/lib/python3.9/site-packages (from IPython->import-ipynb) (5.1.1)\r\n",
      "Requirement already satisfied: pickleshare in /opt/homebrew/anaconda3/lib/python3.9/site-packages (from IPython->import-ipynb) (0.7.5)\r\n",
      "Requirement already satisfied: jedi>=0.16 in /opt/homebrew/anaconda3/lib/python3.9/site-packages (from IPython->import-ipynb) (0.18.1)\r\n",
      "Requirement already satisfied: decorator in /opt/homebrew/anaconda3/lib/python3.9/site-packages (from IPython->import-ipynb) (5.1.1)\r\n",
      "Requirement already satisfied: stack-data in /opt/homebrew/anaconda3/lib/python3.9/site-packages (from IPython->import-ipynb) (0.2.0)\r\n",
      "Requirement already satisfied: appnope in /opt/homebrew/anaconda3/lib/python3.9/site-packages (from IPython->import-ipynb) (0.1.2)\r\n",
      "Requirement already satisfied: pexpect>4.3 in /opt/homebrew/anaconda3/lib/python3.9/site-packages (from IPython->import-ipynb) (4.8.0)\r\n",
      "Requirement already satisfied: setuptools>=18.5 in /opt/homebrew/anaconda3/lib/python3.9/site-packages (from IPython->import-ipynb) (61.2.0)\r\n",
      "Requirement already satisfied: prompt-toolkit!=3.0.0,!=3.0.1,<3.1.0,>=2.0.0 in /opt/homebrew/anaconda3/lib/python3.9/site-packages (from IPython->import-ipynb) (3.0.20)\r\n",
      "Requirement already satisfied: jsonschema>=2.6 in /opt/homebrew/anaconda3/lib/python3.9/site-packages (from nbformat->import-ipynb) (4.4.0)\r\n",
      "Requirement already satisfied: fastjsonschema in /opt/homebrew/anaconda3/lib/python3.9/site-packages (from nbformat->import-ipynb) (2.15.1)\r\n",
      "Requirement already satisfied: jupyter-core in /opt/homebrew/anaconda3/lib/python3.9/site-packages (from nbformat->import-ipynb) (4.10.0)\r\n",
      "Requirement already satisfied: parso<0.9.0,>=0.8.0 in /opt/homebrew/anaconda3/lib/python3.9/site-packages (from jedi>=0.16->IPython->import-ipynb) (0.8.3)\r\n",
      "Requirement already satisfied: attrs>=17.4.0 in /opt/homebrew/anaconda3/lib/python3.9/site-packages (from jsonschema>=2.6->nbformat->import-ipynb) (21.4.0)\r\n",
      "Requirement already satisfied: pyrsistent!=0.17.0,!=0.17.1,!=0.17.2,>=0.14.0 in /opt/homebrew/anaconda3/lib/python3.9/site-packages (from jsonschema>=2.6->nbformat->import-ipynb) (0.18.0)\r\n",
      "Requirement already satisfied: ptyprocess>=0.5 in /opt/homebrew/anaconda3/lib/python3.9/site-packages (from pexpect>4.3->IPython->import-ipynb) (0.7.0)\r\n",
      "Requirement already satisfied: wcwidth in /opt/homebrew/anaconda3/lib/python3.9/site-packages (from prompt-toolkit!=3.0.0,!=3.0.1,<3.1.0,>=2.0.0->IPython->import-ipynb) (0.2.5)\r\n",
      "Requirement already satisfied: pure-eval in /opt/homebrew/anaconda3/lib/python3.9/site-packages (from stack-data->IPython->import-ipynb) (0.2.2)\r\n",
      "Requirement already satisfied: executing in /opt/homebrew/anaconda3/lib/python3.9/site-packages (from stack-data->IPython->import-ipynb) (0.8.3)\r\n",
      "Requirement already satisfied: asttokens in /opt/homebrew/anaconda3/lib/python3.9/site-packages (from stack-data->IPython->import-ipynb) (2.0.5)\r\n",
      "Requirement already satisfied: six in /opt/homebrew/anaconda3/lib/python3.9/site-packages (from asttokens->stack-data->IPython->import-ipynb) (1.16.0)\r\n"
     ]
    }
   ],
   "source": [
    "!pip install import-ipynb"
   ]
  },
  {
   "cell_type": "code",
   "execution_count": 14,
   "id": "92eb707a",
   "metadata": {
    "scrolled": false
   },
   "outputs": [],
   "source": [
    "import numpy as np\n",
    "import pandas as pd\n",
    "from sklearn.feature_extraction.text import TfidfVectorizer\n",
    "from sklearn.metrics.pairwise import linear_kernel\n",
    "from sklearn.cluster import KMeans\n",
    "from sklearn.decomposition import PCA\n",
    "from sklearn.pipeline import Pipeline\n",
    "from sklearn.preprocessing import StandardScaler\n",
    "from scipy.spatial.distance import cdist"
   ]
  },
  {
   "cell_type": "code",
   "execution_count": 15,
   "id": "17e59e1d",
   "metadata": {},
   "outputs": [],
   "source": [
    "def PCA_algorithm(data): \n",
    "    num_datatypes = data.select_dtypes(np.number)\n",
    "\n",
    "    pca_pipeline = Pipeline([('scaler', StandardScaler()), ('PCA', PCA(n_components=2))])\n",
    "    song_embedding = pca_pipeline.fit_transform(num_datatypes)\n",
    "    return song_embedding"
   ]
  },
  {
   "cell_type": "code",
   "execution_count": 16,
   "id": "29171067",
   "metadata": {},
   "outputs": [],
   "source": [
    "def KMeans_with_PCA_algorithm(song_embedding,n_clusters):\n",
    "    kmeans_pca = KMeans(n_clusters=n_clusters, init='k-means++', random_state=42)\n",
    "    label = kmeans_pca.fit(song_embedding)\n",
    "    centroids = kmeans_pca.cluster_centers_\n",
    "    return label, centroids"
   ]
  },
  {
   "cell_type": "code",
   "execution_count": 17,
   "id": "c8f05c83",
   "metadata": {},
   "outputs": [],
   "source": [
    "def filter_based_on_segment(df_segm_pca_kmeans,segment_val,field1,field2):    \n",
    "    #get list of songs with above song id\n",
    "    #print(df_segm_pca_kmeans[df_segm_pca_kmeans['Segment K-means PCA']==segment_val].values)\n",
    "    \n",
    "    filtered_data_per_segment = df_segm_pca_kmeans[df_segm_pca_kmeans['Segment K-means PCA']==segment_val][[\n",
    "        field1, field2 ,'com1','com2','Segment K-means PCA']]\n",
    "\n",
    "    #save to csv file\n",
    "    filtered_data_per_segment.to_csv('filtered_data_per_segment.csv')\n",
    "    return filtered_data_per_segment"
   ]
  },
  {
   "cell_type": "code",
   "execution_count": 18,
   "id": "715aae84",
   "metadata": {},
   "outputs": [],
   "source": [
    "def filter_based_on_cluster_centroid(kmeans_pca, filtered_data_per_segment, segment_val, tracks):   \n",
    "    #calculate distance based on cluster centroid\n",
    "    scaled_data = kmeans_pca.transform(filtered_data_per_segment[['com1', 'com2']])\n",
    "    scaled_song_center = kmeans_pca.transform(kmeans_pca.cluster_centers_[segment_val].reshape(1, -1))\n",
    "    distances = cdist(scaled_song_center, scaled_data, 'cosine')\n",
    "\n",
    "    #sort based on distance\n",
    "    index = list(np.argsort(distances)[0])\n",
    "    rec_songs = filtered_data_per_segment.iloc[index]\n",
    "\n",
    "    #recommend based on segment data\n",
    "    # rec_songs = rec_songs[~rec_songs['name'].isin(filtered_data_per_segment['name'])]\n",
    "    return rec_songs"
   ]
  },
  {
   "cell_type": "code",
   "execution_count": 19,
   "outputs": [],
   "source": [
    "# import plotly.express as px\n",
    "# fig = px.scatter(projection, x='x', y='y', color='cluster', hover_data=['x', 'y', 'title'])\n",
    "# fig.show()"
   ],
   "metadata": {
    "collapsed": false
   }
  }
 ],
 "metadata": {
  "kernelspec": {
   "display_name": "Python 3 (ipykernel)",
   "language": "python",
   "name": "python3"
  },
  "language_info": {
   "codemirror_mode": {
    "name": "ipython",
    "version": 3
   },
   "file_extension": ".py",
   "mimetype": "text/x-python",
   "name": "python",
   "nbconvert_exporter": "python",
   "pygments_lexer": "ipython3",
   "version": "3.9.13"
  }
 },
 "nbformat": 4,
 "nbformat_minor": 5
}
