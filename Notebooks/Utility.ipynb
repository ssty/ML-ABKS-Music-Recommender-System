{
 "cells": [
  {
   "cell_type": "code",
   "execution_count": 14,
   "id": "385c389a",
   "metadata": {
    "scrolled": true
   },
   "outputs": [
    {
     "name": "stdout",
     "output_type": "stream",
     "text": [
      "Requirement already satisfied: import-ipynb in /opt/homebrew/anaconda3/lib/python3.9/site-packages (0.1.4)\r\n",
      "Requirement already satisfied: IPython in /opt/homebrew/anaconda3/lib/python3.9/site-packages (from import-ipynb) (8.3.0)\r\n",
      "Requirement already satisfied: nbformat in /opt/homebrew/anaconda3/lib/python3.9/site-packages (from import-ipynb) (5.3.0)\r\n",
      "Requirement already satisfied: pexpect>4.3 in /opt/homebrew/anaconda3/lib/python3.9/site-packages (from IPython->import-ipynb) (4.8.0)\r\n",
      "Requirement already satisfied: pygments>=2.4.0 in /opt/homebrew/anaconda3/lib/python3.9/site-packages (from IPython->import-ipynb) (2.11.2)\r\n",
      "Requirement already satisfied: traitlets>=5 in /opt/homebrew/anaconda3/lib/python3.9/site-packages (from IPython->import-ipynb) (5.1.1)\r\n",
      "Requirement already satisfied: jedi>=0.16 in /opt/homebrew/anaconda3/lib/python3.9/site-packages (from IPython->import-ipynb) (0.18.1)\r\n",
      "Requirement already satisfied: prompt-toolkit!=3.0.0,!=3.0.1,<3.1.0,>=2.0.0 in /opt/homebrew/anaconda3/lib/python3.9/site-packages (from IPython->import-ipynb) (3.0.20)\r\n",
      "Requirement already satisfied: stack-data in /opt/homebrew/anaconda3/lib/python3.9/site-packages (from IPython->import-ipynb) (0.2.0)\r\n",
      "Requirement already satisfied: appnope in /opt/homebrew/anaconda3/lib/python3.9/site-packages (from IPython->import-ipynb) (0.1.2)\r\n",
      "Requirement already satisfied: decorator in /opt/homebrew/anaconda3/lib/python3.9/site-packages (from IPython->import-ipynb) (5.1.1)\r\n",
      "Requirement already satisfied: backcall in /opt/homebrew/anaconda3/lib/python3.9/site-packages (from IPython->import-ipynb) (0.2.0)\r\n",
      "Requirement already satisfied: matplotlib-inline in /opt/homebrew/anaconda3/lib/python3.9/site-packages (from IPython->import-ipynb) (0.1.2)\r\n",
      "Requirement already satisfied: pickleshare in /opt/homebrew/anaconda3/lib/python3.9/site-packages (from IPython->import-ipynb) (0.7.5)\r\n",
      "Requirement already satisfied: setuptools>=18.5 in /opt/homebrew/anaconda3/lib/python3.9/site-packages (from IPython->import-ipynb) (61.2.0)\r\n",
      "Requirement already satisfied: fastjsonschema in /opt/homebrew/anaconda3/lib/python3.9/site-packages (from nbformat->import-ipynb) (2.15.1)\r\n",
      "Requirement already satisfied: jupyter-core in /opt/homebrew/anaconda3/lib/python3.9/site-packages (from nbformat->import-ipynb) (4.10.0)\r\n",
      "Requirement already satisfied: jsonschema>=2.6 in /opt/homebrew/anaconda3/lib/python3.9/site-packages (from nbformat->import-ipynb) (4.4.0)\r\n",
      "Requirement already satisfied: parso<0.9.0,>=0.8.0 in /opt/homebrew/anaconda3/lib/python3.9/site-packages (from jedi>=0.16->IPython->import-ipynb) (0.8.3)\r\n",
      "Requirement already satisfied: pyrsistent!=0.17.0,!=0.17.1,!=0.17.2,>=0.14.0 in /opt/homebrew/anaconda3/lib/python3.9/site-packages (from jsonschema>=2.6->nbformat->import-ipynb) (0.18.0)\r\n",
      "Requirement already satisfied: attrs>=17.4.0 in /opt/homebrew/anaconda3/lib/python3.9/site-packages (from jsonschema>=2.6->nbformat->import-ipynb) (21.4.0)\r\n",
      "Requirement already satisfied: ptyprocess>=0.5 in /opt/homebrew/anaconda3/lib/python3.9/site-packages (from pexpect>4.3->IPython->import-ipynb) (0.7.0)\r\n",
      "Requirement already satisfied: wcwidth in /opt/homebrew/anaconda3/lib/python3.9/site-packages (from prompt-toolkit!=3.0.0,!=3.0.1,<3.1.0,>=2.0.0->IPython->import-ipynb) (0.2.5)\r\n",
      "Requirement already satisfied: pure-eval in /opt/homebrew/anaconda3/lib/python3.9/site-packages (from stack-data->IPython->import-ipynb) (0.2.2)\r\n",
      "Requirement already satisfied: executing in /opt/homebrew/anaconda3/lib/python3.9/site-packages (from stack-data->IPython->import-ipynb) (0.8.3)\r\n",
      "Requirement already satisfied: asttokens in /opt/homebrew/anaconda3/lib/python3.9/site-packages (from stack-data->IPython->import-ipynb) (2.0.5)\r\n",
      "Requirement already satisfied: six in /opt/homebrew/anaconda3/lib/python3.9/site-packages (from asttokens->stack-data->IPython->import-ipynb) (1.16.0)\r\n",
      "Requirement already satisfied: seaborn in /opt/homebrew/anaconda3/lib/python3.9/site-packages (0.11.2)\r\n",
      "Requirement already satisfied: matplotlib>=2.2 in /opt/homebrew/anaconda3/lib/python3.9/site-packages (from seaborn) (3.5.1)\r\n",
      "Requirement already satisfied: numpy>=1.15 in /opt/homebrew/anaconda3/lib/python3.9/site-packages (from seaborn) (1.21.5)\r\n",
      "Requirement already satisfied: scipy>=1.0 in /opt/homebrew/anaconda3/lib/python3.9/site-packages (from seaborn) (1.7.3)\r\n",
      "Requirement already satisfied: pandas>=0.23 in /opt/homebrew/anaconda3/lib/python3.9/site-packages (from seaborn) (1.4.2)\r\n",
      "Requirement already satisfied: packaging>=20.0 in /opt/homebrew/anaconda3/lib/python3.9/site-packages (from matplotlib>=2.2->seaborn) (21.3)\r\n",
      "Requirement already satisfied: kiwisolver>=1.0.1 in /opt/homebrew/anaconda3/lib/python3.9/site-packages (from matplotlib>=2.2->seaborn) (1.4.2)\r\n",
      "Requirement already satisfied: cycler>=0.10 in /opt/homebrew/anaconda3/lib/python3.9/site-packages (from matplotlib>=2.2->seaborn) (0.11.0)\r\n",
      "Requirement already satisfied: pyparsing>=2.2.1 in /opt/homebrew/anaconda3/lib/python3.9/site-packages (from matplotlib>=2.2->seaborn) (3.0.4)\r\n",
      "Requirement already satisfied: python-dateutil>=2.7 in /opt/homebrew/anaconda3/lib/python3.9/site-packages (from matplotlib>=2.2->seaborn) (2.8.2)\r\n",
      "Requirement already satisfied: fonttools>=4.22.0 in /opt/homebrew/anaconda3/lib/python3.9/site-packages (from matplotlib>=2.2->seaborn) (4.25.0)\r\n",
      "Requirement already satisfied: pillow>=6.2.0 in /opt/homebrew/anaconda3/lib/python3.9/site-packages (from matplotlib>=2.2->seaborn) (9.0.1)\r\n",
      "Requirement already satisfied: pytz>=2020.1 in /opt/homebrew/anaconda3/lib/python3.9/site-packages (from pandas>=0.23->seaborn) (2021.3)\r\n",
      "Requirement already satisfied: six>=1.5 in /opt/homebrew/anaconda3/lib/python3.9/site-packages (from python-dateutil>=2.7->matplotlib>=2.2->seaborn) (1.16.0)\r\n",
      "Requirement already satisfied: circlify in /opt/homebrew/anaconda3/lib/python3.9/site-packages (0.15.0)\r\n"
     ]
    }
   ],
   "source": [
    "!pip install import-ipynb\n",
    "!pip install seaborn\n",
    "!pip install circlify"
   ]
  },
  {
   "cell_type": "code",
   "execution_count": 15,
   "id": "815005bc",
   "metadata": {
    "scrolled": false
   },
   "outputs": [],
   "source": [
    "import numpy as np\n",
    "import pandas as pd\n",
    "from sklearn.feature_extraction.text import TfidfVectorizer\n",
    "from sklearn.metrics.pairwise import linear_kernel\n",
    "from sklearn.cluster import KMeans\n",
    "from sklearn.decomposition import PCA\n",
    "from sklearn.pipeline import Pipeline\n",
    "from sklearn.preprocessing import StandardScaler\n",
    "from scipy.spatial.distance import cdist"
   ]
  },
  {
   "cell_type": "code",
   "execution_count": 16,
   "id": "3f9faf28",
   "metadata": {},
   "outputs": [],
   "source": [
    "def PCA_algorithm(data): \n",
    "    num_datatypes = data.select_dtypes(np.number)\n",
    "\n",
    "    pca_pipeline = Pipeline([('scaler', StandardScaler()), ('PCA', PCA(n_components=2))])\n",
    "    song_embedding = pca_pipeline.fit_transform(num_datatypes)\n",
    "    return song_embedding"
   ]
  },
  {
   "cell_type": "code",
   "execution_count": 17,
   "id": "7300094e",
   "metadata": {},
   "outputs": [],
   "source": [
    "def KMeans_with_PCA_algorithm(song_embedding,n_clusters):\n",
    "    kmeans_pca = KMeans(n_clusters=n_clusters, init='k-means++', random_state=42)\n",
    "    label = kmeans_pca.fit(song_embedding)\n",
    "    centroids = kmeans_pca.cluster_centers_\n",
    "    return label, centroids"
   ]
  },
  {
   "cell_type": "code",
   "execution_count": 18,
   "id": "b5878b6d",
   "metadata": {},
   "outputs": [],
   "source": [
    "def filter_based_on_segment(df_segm_pca_kmeans,segment_val,field1,field2):    \n",
    "    #get list of songs with above song id\n",
    "    #print(df_segm_pca_kmeans[df_segm_pca_kmeans['Segment K-means PCA']==segment_val].values)\n",
    "    \n",
    "    filtered_data_per_segment = df_segm_pca_kmeans[df_segm_pca_kmeans['Segment K-means PCA']==segment_val][[\n",
    "        field1, field2 ,'com1','com2','Segment K-means PCA']]\n",
    "\n",
    "    #save to csv file\n",
    "    filtered_data_per_segment.to_csv('datasets/filtered_data_per_segment.csv')\n",
    "    return filtered_data_per_segment"
   ]
  },
  {
   "cell_type": "code",
   "execution_count": 19,
   "id": "c1628ecf",
   "metadata": {},
   "outputs": [],
   "source": [
    "def filter_based_on_cluster_centroid(kmeans_pca, filtered_data_per_segment, segment_val, tracks):   \n",
    "    #calculate distance based on cluster centroid\n",
    "    scaled_data = kmeans_pca.transform(filtered_data_per_segment[['com1', 'com2']])\n",
    "    scaled_song_center = kmeans_pca.transform(kmeans_pca.cluster_centers_[segment_val].reshape(1, -1))\n",
    "    distances = cdist(scaled_song_center, scaled_data, 'cosine')\n",
    "\n",
    "    #sort based on distance\n",
    "    index = list(np.argsort(distances)[0])\n",
    "    rec_songs = filtered_data_per_segment.iloc[index]\n",
    "\n",
    "    #recommend based on segment data\n",
    "    # rec_songs = rec_songs[~rec_songs['name'].isin(filtered_data_per_segment['name'])]\n",
    "    return rec_songs"
   ]
  },
  {
   "cell_type": "code",
   "execution_count": 20,
   "id": "3d08315a",
   "metadata": {},
   "outputs": [],
   "source": [
    "def GetInPut(user,df_artist):\n",
    "    inputArtist = pd.DataFrame(user)\n",
    "    #Filtering out the movies by title\n",
    "    Id = df_artist[df_artist['artist'].isin(inputArtist['artist'].tolist())]\n",
    "    #Then merging it so we can get the movieId. It's implicitly merging it by title.\n",
    "    inputArtist = pd.merge(Id, inputArtist)\n",
    "    #Dropping information we won't use from the input dataframe\n",
    "    #inputArtist = inputArtist.drop('year', 1)\n",
    "    return inputArtist"
   ]
  },
  {
   "cell_type": "code",
   "execution_count": 21,
   "id": "91e9e0a3",
   "metadata": {},
   "outputs": [],
   "source": [
    "def get_song_from_artist(artist, n_per_artist= 1):\n",
    "    data_for_songs = pd.read_csv(r\"datasets/data.csv\")\n",
    "\n",
    "    list_of_artists_songs = []\n",
    "    for i in range(len(data_for_songs)):\n",
    "        if artist in data_for_songs.loc[i, \"artists\"]:\n",
    "            list_of_artists_songs.append(data_for_songs.loc[i, [\"id\", \"artists\", \"name\", \"popularity\"]])\n",
    "\n",
    "    sorted_list_of_artists_songs = sorted(list_of_artists_songs, key=lambda d: d['popularity'], reverse=True)\n",
    "    sorted_list_of_songs_only = np.array(sorted_list_of_artists_songs)\n",
    "    unique_songs = np.unique(sorted_list_of_songs_only[:, 2])\n",
    "    return unique_songs[:n_per_artist]\n"
   ]
  },
  {
   "cell_type": "code",
   "execution_count": 22,
   "id": "e3d7713e",
   "metadata": {},
   "outputs": [],
   "source": [
    "def get_song_data(song, spotify_data):\n",
    "    \n",
    "    \"\"\"\n",
    "    Gets the song data for a specifi song. The song argument takes the form of a dictionary with \n",
    "    key-value pairs for the name and release year of the song.\n",
    "    \"\"\"\n",
    "    \n",
    "    try:\n",
    "        song_data = spotify_data[(spotify_data['name'] == song['name']) ].iloc[0]\n",
    "        return song_data\n",
    "    \n",
    "    except IndexError:\n",
    "        return find_song(song['name'])"
   ]
  },
  {
   "cell_type": "code",
   "execution_count": 23,
   "id": "7cfa7800",
   "metadata": {},
   "outputs": [],
   "source": [
    "def find_song(name):\n",
    "    import spotipy\n",
    "    from spotipy.oauth2 import SpotifyClientCredentials\n",
    "    from collections import defaultdict\n",
    "\n",
    "    sp = spotipy.Spotify(auth_manager=SpotifyClientCredentials(client_id=\"123wer4sf\",\n",
    "                                                               client_secret=\"wefrf852fd1s35s\"))\n",
    "\n",
    "    song_data = defaultdict()\n",
    "    results = sp.search(q= 'track: {}'.format(name), limit=1)\n",
    "    if results['tracks']['items'] == []:\n",
    "        return None\n",
    "\n",
    "    results = results['tracks']['items'][0]\n",
    "    track_id = results['id']\n",
    "    audio_features = sp.audio_features(track_id)[0]\n",
    "\n",
    "    song_data['name'] = [name]\n",
    "    song_data['explicit'] = [int(results['explicit'])]\n",
    "    song_data['duration_ms'] = [results['duration_ms']]\n",
    "    song_data['popularity'] = [results['popularity']]\n",
    "\n",
    "    for key, value in audio_features.items():\n",
    "        song_data[key] = value\n",
    "\n",
    "    return pd.DataFrame(song_data)\n"
   ]
  },
  {
   "cell_type": "code",
   "execution_count": 24,
   "id": "be89e664",
   "metadata": {},
   "outputs": [],
   "source": [
    "def circlify_vizualization(df_val):\n",
    "    import matplotlib.pyplot as plt\n",
    "    import pandas as pd\n",
    "    import circlify\n",
    "\n",
    "    df = pd.DataFrame({'Name': df_val,\n",
    "                       'Value': [1000, 500, 400, 200, 80, 50, 40, 25, 12, 1]})\n",
    "\n",
    "    df = df.sort_values('Value') \n",
    "    circles = circlify.circlify(df['Value'].tolist(),\n",
    "                                target_enclosure=circlify.Circle(x=0, y=0, r=1))\n",
    "\n",
    "    fig, ax = plt.subplots(figsize=(10, 9))\n",
    "\n",
    "    ax.set_title('Recommendation')\n",
    "    ax.axis('off')  \n",
    "\n",
    "    lim = max(max(abs(circle.x) + circle.r, abs(circle.y) + circle.r, )\n",
    "              for circle in circles)\n",
    "    ax.set_xlim(-lim, lim)\n",
    "    ax.set_ylim(-lim, lim)\n",
    "\n",
    "    labels = df['Name']  \n",
    "    colors = ['#ffc4c4','#a48465','#ffdead','#e7ce8c','#d5c9b6','#ffc4c4','#e9e3ce','#ffdead','#e7ce8c','#d5c9b6']\n",
    "    for circle, label, color in zip(circles, labels, colors):\n",
    "        x, y, r = circle\n",
    "        ax.add_patch(plt.Circle((x, y), r, linewidth=2, color=color))\n",
    "        ax.annotate(label, (x, y), va='center', ha='center', size=12)\n",
    "    plt.show()"
   ]
  },
  {
   "cell_type": "code",
   "execution_count": 25,
   "outputs": [],
   "source": [
    "def clusters_visualization_kmeans_with_pca(tracks, n_cluster=3):\n",
    "    import seaborn as sns\n",
    "    from matplotlib import pyplot as plt\n",
    "\n",
    "    song_embedding = PCA_algorithm(tracks)\n",
    "    kmeans_pca , centroids = KMeans_with_PCA_algorithm(song_embedding,n_cluster)\n",
    "\n",
    "    # #get Segment K-means PCA from song_id argument\n",
    "    df_segm_pca_kmeans = pd.concat([tracks.reset_index(drop=True), pd.DataFrame(song_embedding)],axis=1)\n",
    "    df_segm_pca_kmeans.columns.values[-2:] = ['com1','com2']\n",
    "    df_segm_pca_kmeans['Segment K-means PCA'] = kmeans_pca.labels_\n",
    "\n",
    "    plt.figure(figsize = (10,10))\n",
    "    sns.scatterplot(df_segm_pca_kmeans['com1'], df_segm_pca_kmeans['com2'],\n",
    "                    hue=kmeans_pca.labels_,\n",
    "                    palette='Set1',\n",
    "                    s=100, alpha=0.2).set_title('KMeans Clusters with PCA', fontsize=15)\n",
    "    plt.legend()\n",
    "    plt.ylabel('PC2')\n",
    "    plt.xlabel('PC1')\n",
    "    plt.show()"
   ],
   "metadata": {
    "collapsed": false
   }
  },
  {
   "cell_type": "code",
   "execution_count": 26,
   "outputs": [],
   "source": [
    "def clusters_visualization_kmeans_only(tracks, n_cluster=3):\n",
    "    from matplotlib import pyplot as plt\n",
    "\n",
    "    data = tracks[['valence', 'year', 'acousticness', 'danceability', 'duration_ms', 'energy', 'popularity']]\n",
    "    pca = PCA(2)\n",
    "\n",
    "    #Transform the data\n",
    "    df = pca.fit_transform(data)\n",
    "\n",
    "    #Import KMeans module\n",
    "    from sklearn.cluster import KMeans\n",
    "\n",
    "    #Initialize the class object\n",
    "    kmeans = KMeans(n_clusters=n_cluster)\n",
    "\n",
    "    #predict the labels of clusters.\n",
    "    label = kmeans.fit_predict(df)\n",
    "\n",
    "    #Getting unique labels\n",
    "    u_labels = np.unique(label)\n",
    "    plt.show()\n",
    "    #plotting the results:\n",
    "    for i in u_labels:\n",
    "        plt.scatter(df[label == i, 0], df[label == i, 1], label=i)\n",
    "    plt.legend()\n",
    "    plt.ylabel('PC2')\n",
    "    plt.xlabel('PC1')\n",
    "    plt.title(\"KMeans only clusters\")\n",
    "    plt.show()"
   ],
   "metadata": {
    "collapsed": false
   }
  },
  {
   "cell_type": "code",
   "execution_count": 26,
   "outputs": [],
   "source": [],
   "metadata": {
    "collapsed": false
   }
  }
 ],
 "metadata": {
  "kernelspec": {
   "display_name": "Python 3 (ipykernel)",
   "language": "python",
   "name": "python3"
  },
  "language_info": {
   "codemirror_mode": {
    "name": "ipython",
    "version": 3
   },
   "file_extension": ".py",
   "mimetype": "text/x-python",
   "name": "python",
   "nbconvert_exporter": "python",
   "pygments_lexer": "ipython3",
   "version": "3.9.13"
  }
 },
 "nbformat": 4,
 "nbformat_minor": 5
}
