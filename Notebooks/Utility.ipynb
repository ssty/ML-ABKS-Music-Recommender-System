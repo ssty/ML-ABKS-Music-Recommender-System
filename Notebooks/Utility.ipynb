{
 "cells": [
  {
   "cell_type": "code",
   "execution_count": 1,
   "id": "385c389a",
   "metadata": {
    "scrolled": true
   },
   "outputs": [],
   "source": [
    "#!pip install import-ipynb"
   ]
  },
  {
   "cell_type": "code",
   "execution_count": 2,
   "id": "815005bc",
   "metadata": {
    "scrolled": false
   },
   "outputs": [],
   "source": [
    "import numpy as np\n",
    "import pandas as pd\n",
    "from sklearn.feature_extraction.text import TfidfVectorizer\n",
    "from sklearn.metrics.pairwise import linear_kernel\n",
    "from sklearn.cluster import KMeans\n",
    "from sklearn.decomposition import PCA\n",
    "from sklearn.pipeline import Pipeline\n",
    "from sklearn.preprocessing import StandardScaler\n",
    "from scipy.spatial.distance import cdist"
   ]
  },
  {
   "cell_type": "code",
   "execution_count": 3,
   "id": "3f9faf28",
   "metadata": {},
   "outputs": [],
   "source": [
    "def PCA_algorithm(data): \n",
    "    num_datatypes = data.select_dtypes(np.number)\n",
    "\n",
    "    pca_pipeline = Pipeline([('scaler', StandardScaler()), ('PCA', PCA(n_components=2))])\n",
    "    song_embedding = pca_pipeline.fit_transform(num_datatypes)\n",
    "    return song_embedding"
   ]
  },
  {
   "cell_type": "code",
   "execution_count": 4,
   "id": "7300094e",
   "metadata": {},
   "outputs": [],
   "source": [
    "def KMeans_with_PCA_algorithm(song_embedding,n_clusters):\n",
    "    kmeans_pca = KMeans(n_clusters=n_clusters, init='k-means++', random_state=42)\n",
    "    label = kmeans_pca.fit(song_embedding)\n",
    "    centroids = kmeans_pca.cluster_centers_\n",
    "    clus(load_digits()).Kmeans(outout=\"add\").classify()\n",
    "    return label, centroids"
   ]
  },
  {
   "cell_type": "code",
   "execution_count": 5,
   "id": "b5878b6d",
   "metadata": {},
   "outputs": [],
   "source": [
    "def filter_based_on_segment(df_segm_pca_kmeans,segment_val,field1,field2):    \n",
    "    #get list of songs with above song id\n",
    "    #print(df_segm_pca_kmeans[df_segm_pca_kmeans['Segment K-means PCA']==segment_val].values)\n",
    "    \n",
    "    filtered_data_per_segment = df_segm_pca_kmeans[df_segm_pca_kmeans['Segment K-means PCA']==segment_val][[\n",
    "        field1, field2 ,'com1','com2','Segment K-means PCA']]\n",
    "\n",
    "    #save to csv file\n",
    "    filtered_data_per_segment.to_csv('datasets/filtered_data_per_segment.csv')\n",
    "    return filtered_data_per_segment"
   ]
  },
  {
   "cell_type": "code",
   "execution_count": 6,
   "id": "c1628ecf",
   "metadata": {},
   "outputs": [],
   "source": [
    "def filter_based_on_cluster_centroid(kmeans_pca, filtered_data_per_segment, segment_val, tracks):   \n",
    "    #calculate distance based on cluster centroid\n",
    "    scaled_data = kmeans_pca.transform(filtered_data_per_segment[['com1', 'com2']])\n",
    "    scaled_song_center = kmeans_pca.transform(kmeans_pca.cluster_centers_[segment_val].reshape(1, -1))\n",
    "    distances = cdist(scaled_song_center, scaled_data, 'cosine')\n",
    "\n",
    "    #sort based on distance\n",
    "    index = list(np.argsort(distances)[0])\n",
    "    rec_songs = filtered_data_per_segment.iloc[index]\n",
    "\n",
    "    #recommend based on segment data\n",
    "    # rec_songs = rec_songs[~rec_songs['name'].isin(filtered_data_per_segment['name'])]\n",
    "    return rec_songs"
   ]
  },
  {
   "cell_type": "code",
   "execution_count": 7,
   "id": "3d08315a",
   "metadata": {},
   "outputs": [],
   "source": [
    "def GetInPut(user,df_artist):\n",
    "    inputArtist = pd.DataFrame(user)\n",
    "    #Filtering out the movies by title\n",
    "    Id = df_artist[df_artist['artist'].isin(inputArtist['artist'].tolist())]\n",
    "    #Then merging it so we can get the movieId. It's implicitly merging it by title.\n",
    "    inputArtist = pd.merge(Id, inputArtist)\n",
    "    #Dropping information we won't use from the input dataframe\n",
    "    #inputArtist = inputArtist.drop('year', 1)\n",
    "    return inputArtist"
   ]
  },
  {
   "cell_type": "code",
   "execution_count": 8,
   "id": "91e9e0a3",
   "metadata": {},
   "outputs": [],
   "source": [
    "def get_song_from_artist(artist, n_per_artist= 1):\n",
    "    data_for_songs = pd.read_csv(r\"datasets/data.csv\")\n",
    "\n",
    "    list_of_artists_songs = []\n",
    "    for i in range(len(data_for_songs)):\n",
    "        if artist in data_for_songs.loc[i, \"artists\"]:\n",
    "            list_of_artists_songs.append(data_for_songs.loc[i, [\"id\", \"artists\", \"name\", \"popularity\"]])\n",
    "\n",
    "    sorted_list_of_artists_songs = sorted(list_of_artists_songs, key=lambda d: d['popularity'], reverse=True)\n",
    "    sorted_list_of_songs_only = np.array(sorted_list_of_artists_songs)\n",
    "    unique_songs = np.unique(sorted_list_of_songs_only[:, 2])\n",
    "    return unique_songs[:n_per_artist]\n"
   ]
  },
  {
   "cell_type": "code",
   "execution_count": 9,
   "id": "e3d7713e",
   "metadata": {},
   "outputs": [],
   "source": [
    "def get_song_data(song, spotify_data):\n",
    "    \n",
    "    \"\"\"\n",
    "    Gets the song data for a specifi song. The song argument takes the form of a dictionary with \n",
    "    key-value pairs for the name and release year of the song.\n",
    "    \"\"\"\n",
    "    \n",
    "    try:\n",
    "        song_data = spotify_data[(spotify_data['name'] == song['name']) ].iloc[0]\n",
    "        return song_data\n",
    "    \n",
    "    except IndexError:\n",
    "        return find_song(song['name'])"
   ]
  },
  {
   "cell_type": "code",
   "execution_count": 10,
   "id": "7cfa7800",
   "metadata": {},
   "outputs": [],
   "source": [
    "def find_song(name):\n",
    "    import spotipy\n",
    "    from spotipy.oauth2 import SpotifyClientCredentials\n",
    "    from collections import defaultdict\n",
    "\n",
    "    sp = spotipy.Spotify(auth_manager=SpotifyClientCredentials(client_id=\"123wer4sf\",\n",
    "                                                               client_secret=\"wefrf852fd1s35s\"))\n",
    "\n",
    "    song_data = defaultdict()\n",
    "    results = sp.search(q= 'track: {}'.format(name), limit=1)\n",
    "    if results['tracks']['items'] == []:\n",
    "        return None\n",
    "\n",
    "    results = results['tracks']['items'][0]\n",
    "    track_id = results['id']\n",
    "    audio_features = sp.audio_features(track_id)[0]\n",
    "\n",
    "    song_data['name'] = [name]\n",
    "    song_data['explicit'] = [int(results['explicit'])]\n",
    "    song_data['duration_ms'] = [results['duration_ms']]\n",
    "    song_data['popularity'] = [results['popularity']]\n",
    "\n",
    "    for key, value in audio_features.items():\n",
    "        song_data[key] = value\n",
    "\n",
    "    return pd.DataFrame(song_data)\n"
   ]
  },
  {
   "cell_type": "code",
   "execution_count": 13,
   "id": "be89e664",
   "metadata": {},
   "outputs": [],
   "source": [
    "def circlify_vizualization(df_val):\n",
    "    import matplotlib.pyplot as plt\n",
    "    import pandas as pd\n",
    "    import circlify\n",
    "    from matplotlib.offsetbox import AnnotationBbox\n",
    "\n",
    "    df = pd.DataFrame({'Name': df_val,\n",
    "                       'Value': [1000, 500, 400, 200, 80, 50, 40, 25, 12, 1]})\n",
    "\n",
    "    df = df.sort_values('Value') \n",
    "    circles = circlify.circlify(df['Value'].tolist(),\n",
    "                                target_enclosure=circlify.Circle(x=0, y=0, r=1))\n",
    "\n",
    "    fig, ax = plt.subplots(figsize=(10, 9))\n",
    "\n",
    "    ax.set_title('Song Recommendation')\n",
    "    ax.axis('off')  \n",
    "\n",
    "    lim = max(max(abs(circle.x) + circle.r, abs(circle.y) + circle.r, )\n",
    "              for circle in circles)\n",
    "    ax.set_xlim(-lim, lim)\n",
    "    ax.set_ylim(-lim, lim)\n",
    "\n",
    "    labels = df['Name']  \n",
    "    colors = ['#ffc4c4','#a48465','#ffdead','#e7ce8c','#d5c9b6','#ffc4c4','#e9e3ce','#ffdead','#e7ce8c','#d5c9b6']\n",
    "    for circle, label, color in zip(circles, labels, colors):\n",
    "        x, y, r = circle\n",
    "        ax.add_patch(plt.Circle((x, y), r, linewidth=2, color=color))\n",
    "        ax.annotate(label, (x, y), va='center', ha='center', size=12)\n",
    "    plt.show()\n",
    "    return plt"
   ]
  }
 ],
 "metadata": {
  "kernelspec": {
   "display_name": "Python 3 (ipykernel)",
   "language": "python",
   "name": "python3"
  },
  "language_info": {
   "codemirror_mode": {
    "name": "ipython",
    "version": 3
   },
   "file_extension": ".py",
   "mimetype": "text/x-python",
   "name": "python",
   "nbconvert_exporter": "python",
   "pygments_lexer": "ipython3",
   "version": "3.9.13"
  }
 },
 "nbformat": 4,
 "nbformat_minor": 5
}
